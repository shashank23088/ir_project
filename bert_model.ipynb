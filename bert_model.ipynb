{
 "cells": [
  {
   "cell_type": "code",
   "execution_count": 1,
   "id": "7300d111-6fe6-49dc-a4bd-00646cf6dd59",
   "metadata": {},
   "outputs": [],
   "source": [
    "import pandas as pd\n",
    "import numpy as np\n",
    "import matplotlib.pyplot as plt\n",
    "\n",
    "import os"
   ]
  },
  {
   "cell_type": "markdown",
   "id": "05be6c01-4e10-4e84-8b22-c37037ad05f0",
   "metadata": {},
   "source": [
    "# 1. Sentiment Analysis"
   ]
  },
  {
   "cell_type": "code",
   "execution_count": 2,
   "id": "d466ad51-a277-4952-a523-78c63d20dc5e",
   "metadata": {},
   "outputs": [
    {
     "name": "stderr",
     "output_type": "stream",
     "text": [
      "[nltk_data] Downloading package vader_lexicon to\n",
      "[nltk_data]     C:\\Users\\ankur\\AppData\\Roaming\\nltk_data...\n",
      "[nltk_data]   Package vader_lexicon is already up-to-date!\n"
     ]
    },
    {
     "name": "stdout",
     "output_type": "stream",
     "text": [
      "\n",
      "Getting sentiments for language: Hindi\n",
      "\n",
      "Analyzing Folder: sharechat_scraper/updated_tesseract/Hindi/5ZEBpp_Hindi/\n"
     ]
    },
    {
     "name": "stderr",
     "output_type": "stream",
     "text": [
      "Analyzing Sentiment:  25%|██████████████▊                                             | 21/85 [00:00<00:00, 202.84it/s]"
     ]
    },
    {
     "name": "stdout",
     "output_type": "stream",
     "text": [
      "35k0yrw.txt: {'neg': 0.039, 'neu': 0.888, 'pos': 0.073, 'compound': 0.7096}\n",
      "3vpzwb5.txt: {'neg': 0.105, 'neu': 0.789, 'pos': 0.107, 'compound': 0.0258}\n",
      "b1blz6Q.txt: {'neg': 0.0, 'neu': 1.0, 'pos': 0.0, 'compound': 0.0}\n",
      "gmwxj46.txt: {'neg': 0.279, 'neu': 0.721, 'pos': 0.0, 'compound': -0.4767}\n",
      "b1B3bvJ.txt: {'neg': 0.0, 'neu': 0.678, 'pos': 0.322, 'compound': 0.2263}\n",
      "3jj9l7j.txt: {'neg': 0.156, 'neu': 0.745, 'pos': 0.099, 'compound': -0.3612}\n",
      "gDBzeV6.txt: {'neg': 0.352, 'neu': 0.648, 'pos': 0.0, 'compound': -0.5859}\n",
      "3XkRkA3.txt: {'neg': 0.0, 'neu': 0.861, 'pos': 0.139, 'compound': 0.2732}\n",
      "bvQeN7DO.txt: {'neg': 0.0, 'neu': 1.0, 'pos': 0.0, 'compound': 0.0}\n",
      "grzb9N7J.txt: {'neg': 0.034, 'neu': 0.815, 'pos': 0.151, 'compound': 0.8689}\n",
      "gx9ddD1.txt: {'neg': 0.193, 'neu': 0.782, 'pos': 0.025, 'compound': -0.9657}\n",
      "grNG0D0Q.txt: {'neg': 0.102, 'neu': 0.831, 'pos': 0.067, 'compound': -0.2023}\n",
      "grzAr7yz.txt: {'neg': 0.0, 'neu': 1.0, 'pos': 0.0, 'compound': 0.0}\n",
      "gD196pA.txt: {'neg': 0.0, 'neu': 0.634, 'pos': 0.366, 'compound': 0.6369}\n",
      "rJ5xl37.txt: {'neg': 0.113, 'neu': 0.887, 'pos': 0.0, 'compound': -0.7269}\n",
      "gRxVWmz.txt: {'neg': 0.142, 'neu': 0.809, 'pos': 0.05, 'compound': -0.8402}\n",
      "g7l0m0J.txt: {'neg': 0.124, 'neu': 0.876, 'pos': 0.0, 'compound': -0.4767}\n",
      "rvaxyX3.txt: {'neg': 0.042, 'neu': 0.883, 'pos': 0.075, 'compound': 0.6022}\n",
      "greKlq91.txt: {'neg': 0.0, 'neu': 0.508, 'pos': 0.492, 'compound': 0.9652}\n",
      "gOQmQP7.txt: {'neg': 0.179, 'neu': 0.783, 'pos': 0.039, 'compound': -0.9961}\n",
      "gPjB0AQ.txt: {'neg': 0.0, 'neu': 1.0, 'pos': 0.0, 'compound': 0.0}\n",
      "bjOnXkO.txt: {'neg': 0.0, 'neu': 0.833, 'pos': 0.167, 'compound': 0.1027}\n",
      "3j4KWMX.txt: {'neg': 0.342, 'neu': 0.658, 'pos': 0.0, 'compound': -0.8074}\n",
      "gMnZ5Wb.txt: {'neg': 0.097, 'neu': 0.832, 'pos': 0.071, 'compound': -0.3612}\n",
      "gJmKBvb.txt: {'neg': 0.0, 'neu': 1.0, 'pos': 0.0, 'compound': 0.0}\n",
      "3a3x9bK.txt: {'neg': 0.336, 'neu': 0.664, 'pos': 0.0, 'compound': -0.7964}\n",
      "gRpvk7M.txt: {'neg': 0.438, 'neu': 0.562, 'pos': 0.0, 'compound': -0.5994}\n",
      "bB4BpwQ.txt: {'neg': 0.0, 'neu': 0.826, 'pos': 0.174, 'compound': 0.4215}\n",
      "gaBDDAM.txt: {'neg': 0.608, 'neu': 0.392, 'pos': 0.0, 'compound': -0.4767}\n",
      "grrm7E3J.txt: {'neg': 0.508, 'neu': 0.492, 'pos': 0.0, 'compound': -0.4767}\n",
      "gzrX8l1.txt: {'neg': 0.0, 'neu': 1.0, 'pos': 0.0, 'compound': 0.0}\n",
      "gP0NQvq.txt: {'neg': 0.0, 'neu': 1.0, 'pos': 0.0, 'compound': 0.0}\n",
      "bBpBENP.txt: {'neg': 0.0, 'neu': 1.0, 'pos': 0.0, 'compound': 0.0}\n"
     ]
    },
    {
     "name": "stderr",
     "output_type": "stream",
     "text": [
      "\r",
      "Analyzing Sentiment:  49%|█████████████████████████████▋                              | 42/85 [00:00<00:00, 192.54it/s]"
     ]
    },
    {
     "name": "stdout",
     "output_type": "stream",
     "text": [
      "bOwlZxP.txt: {'neg': 0.22, 'neu': 0.78, 'pos': 0.0, 'compound': -0.4767}\n"
     ]
    },
    {
     "name": "stderr",
     "output_type": "stream",
     "text": [
      "Analyzing Sentiment: 100%|████████████████████████████████████████████████████████████| 85/85 [00:00<00:00, 207.35it/s]"
     ]
    },
    {
     "name": "stdout",
     "output_type": "stream",
     "text": [
      "3kJpXmm.txt: {'neg': 0.193, 'neu': 0.647, 'pos': 0.161, 'compound': -0.0387}\n",
      "g0OmRG6.txt: {'neg': 0.0, 'neu': 0.656, 'pos': 0.344, 'compound': 0.2732}\n",
      "gagQpB7.txt: {'neg': 0.231, 'neu': 0.288, 'pos': 0.481, 'compound': 0.3818}\n",
      "bBrdvWO.txt: {'neg': 0.0, 'neu': 0.662, 'pos': 0.338, 'compound': 0.6249}\n",
      "gjwejQJ.txt: {'neg': 0.166, 'neu': 0.768, 'pos': 0.065, 'compound': -0.7906}\n",
      "gmy07XA.txt: {'neg': 0.322, 'neu': 0.678, 'pos': 0.0, 'compound': -0.5859}\n",
      "gDky3qA.txt: {'neg': 0.276, 'neu': 0.527, 'pos': 0.197, 'compound': -0.2373}\n",
      "bxJaQ6D.txt: {'neg': 0.0, 'neu': 0.714, 'pos': 0.286, 'compound': 0.6124}\n",
      "bm4AqyD.txt: {'neg': 0.0, 'neu': 1.0, 'pos': 0.0, 'compound': 0.0}\n",
      "rJD4Xl5.txt: {'neg': 0.0, 'neu': 0.803, 'pos': 0.197, 'compound': 0.4019}\n",
      "gj9PwJb.txt: {'neg': 0.0, 'neu': 0.505, 'pos': 0.495, 'compound': 0.9665}\n",
      "bOMpNM3.txt: {'neg': 0.0, 'neu': 1.0, 'pos': 0.0, 'compound': 0.0}\n",
      "3j86WBX.txt: {'neg': 0.058, 'neu': 0.8, 'pos': 0.142, 'compound': 0.6059}\n",
      "grrMp43q.txt: {'neg': 0.383, 'neu': 0.617, 'pos': 0.0, 'compound': -0.4767}\n",
      "rKXV1ww.txt: {'neg': 0.087, 'neu': 0.913, 'pos': 0.0, 'compound': -0.3566}\n",
      "gBEm0mQ.txt: {'neg': 0.0, 'neu': 1.0, 'pos': 0.0, 'compound': 0.0}\n",
      "grAnJnNb.txt: {'neg': 0.134, 'neu': 0.783, 'pos': 0.083, 'compound': -0.9758}\n",
      "rJmN6Md.txt: {'neg': 0.0, 'neu': 0.938, 'pos': 0.062, 'compound': 0.4019}\n",
      "brxk3Vy.txt: {'neg': 0.0, 'neu': 1.0, 'pos': 0.0, 'compound': 0.0}\n",
      "3ggjaly.txt: {'neg': 0.114, 'neu': 0.794, 'pos': 0.092, 'compound': -0.7658}\n",
      "bjRrMq3.txt: {'neg': 0.0, 'neu': 0.484, 'pos': 0.516, 'compound': 0.4939}\n",
      "grkR7Ggq.txt: {'neg': 0.256, 'neu': 0.665, 'pos': 0.079, 'compound': -0.6808}\n",
      "brlebQn.txt: {'neg': 0.085, 'neu': 0.673, 'pos': 0.243, 'compound': 0.807}\n",
      "grNd5ev1.txt: {'neg': 0.116, 'neu': 0.845, 'pos': 0.039, 'compound': -0.9382}\n",
      "bnxWKO3.txt: {'neg': 0.145, 'neu': 0.855, 'pos': 0.0, 'compound': -0.296}\n",
      "3vBZkQZ.txt: {'neg': 0.206, 'neu': 0.794, 'pos': 0.0, 'compound': -0.7579}\n",
      "g0DGbB1.txt: {'neg': 0.0, 'neu': 1.0, 'pos': 0.0, 'compound': 0.0}\n",
      "38ZdRBX.txt: {'neg': 0.112, 'neu': 0.79, 'pos': 0.098, 'compound': -0.5481}\n",
      "3A4BAO3.txt: {'neg': 0.0, 'neu': 0.96, 'pos': 0.04, 'compound': 0.0772}\n",
      "grz3GNVz.txt: {'neg': 0.156, 'neu': 0.844, 'pos': 0.0, 'compound': -0.8834}\n",
      "3g80E1y.txt: {'neg': 0.055, 'neu': 0.859, 'pos': 0.086, 'compound': 0.128}\n",
      "3QxwD03.txt: {'neg': 0.0, 'neu': 1.0, 'pos': 0.0, 'compound': 0.0}\n",
      "bR1PepD.txt: {'neg': 0.063, 'neu': 0.863, 'pos': 0.074, 'compound': 0.6718}\n"
     ]
    },
    {
     "name": "stderr",
     "output_type": "stream",
     "text": [
      "\n"
     ]
    },
    {
     "name": "stdout",
     "output_type": "stream",
     "text": [
      "Analyzing Folder: sharechat_scraper/updated_tesseract/Hindi/lew5Am_Hindi/\n"
     ]
    },
    {
     "name": "stderr",
     "output_type": "stream",
     "text": [
      "\r",
      "Analyzing Sentiment:   0%|                                                                      | 0/81 [00:00<?, ?it/s]"
     ]
    },
    {
     "name": "stdout",
     "output_type": "stream",
     "text": [
      "gryWgX5q.txt: {'neg': 0.762, 'neu': 0.238, 'pos': 0.0, 'compound': -0.4939}\n",
      "gJM9O57.txt: {'neg': 0.067, 'neu': 0.809, 'pos': 0.125, 'compound': 0.875}\n"
     ]
    },
    {
     "name": "stderr",
     "output_type": "stream",
     "text": [
      "\r",
      "Analyzing Sentiment:  23%|██████████████                                              | 19/81 [00:00<00:00, 181.09it/s]"
     ]
    },
    {
     "name": "stdout",
     "output_type": "stream",
     "text": [
      "bvORnplD.txt: {'neg': 0.0, 'neu': 1.0, 'pos': 0.0, 'compound': 0.0}\n",
      "grOEbA9e.txt: {'neg': 0.074, 'neu': 0.747, 'pos': 0.179, 'compound': 0.9921}\n",
      "grGz7lb7.txt: {'neg': 0.051, 'neu': 0.909, 'pos': 0.04, 'compound': -0.5859}\n",
      "grrqnGq7.txt: {'neg': 0.074, 'neu': 0.858, 'pos': 0.068, 'compound': -0.5733}\n",
      "bvGA3dmQ.txt: {'neg': 0.088, 'neu': 0.715, 'pos': 0.197, 'compound': 0.7878}\n",
      "grrrXnJQ.txt: {'neg': 0.0, 'neu': 1.0, 'pos': 0.0, 'compound': 0.0}\n",
      "r1Vx67bw.txt: {'neg': 0.091, 'neu': 0.798, 'pos': 0.11, 'compound': 0.128}\n",
      "gRMOPKq.txt: {'neg': 0.071, 'neu': 0.929, 'pos': 0.0, 'compound': -0.296}\n",
      "gaBzR9J.txt: {'neg': 0.102, 'neu': 0.898, 'pos': 0.0, 'compound': -0.6249}\n",
      "r1Www1ld.txt: {'neg': 0.0, 'neu': 0.852, 'pos': 0.148, 'compound': 0.6369}\n",
      "gryD4nWq.txt: {'neg': 0.0, 'neu': 1.0, 'pos': 0.0, 'compound': 0.0}\n",
      "grebq4je.txt: {'neg': 0.067, 'neu': 0.888, 'pos': 0.045, 'compound': -0.7219}\n",
      "grlEy7q7.txt: {'neg': 0.078, 'neu': 0.811, 'pos': 0.111, 'compound': 0.2732}\n",
      "grGzRZDQ.txt: {'neg': 0.056, 'neu': 0.858, 'pos': 0.086, 'compound': 0.8381}\n",
      "r1WAMq4B.txt: {'neg': 0.0, 'neu': 1.0, 'pos': 0.0, 'compound': 0.0}\n",
      "gBw4Vde.txt: {'neg': 0.0, 'neu': 1.0, 'pos': 0.0, 'compound': 0.0}\n",
      "bvm51AQD.txt: {'neg': 0.0, 'neu': 1.0, 'pos': 0.0, 'compound': 0.0}\n",
      "gO0OJzJ.txt: {'neg': 0.089, 'neu': 0.911, 'pos': 0.0, 'compound': -0.5423}\n",
      "bvyGW9GJ.txt: {'neg': 0.238, 'neu': 0.762, 'pos': 0.0, 'compound': -0.3612}\n",
      "gOxRmAb.txt: {'neg': 0.154, 'neu': 0.846, 'pos': 0.0, 'compound': -0.4767}\n"
     ]
    },
    {
     "name": "stderr",
     "output_type": "stream",
     "text": [
      "\r",
      "Analyzing Sentiment:  48%|████████████████████████████▉                               | 39/81 [00:00<00:00, 191.59it/s]"
     ]
    },
    {
     "name": "stdout",
     "output_type": "stream",
     "text": [
      "grNwla8e.txt: {'neg': 0.0, 'neu': 1.0, 'pos': 0.0, 'compound': 0.0}\n",
      "gmdbN5Q.txt: {'neg': 0.02, 'neu': 0.933, 'pos': 0.047, 'compound': 0.7572}\n",
      "bvmWQ911.txt: {'neg': 0.0, 'neu': 1.0, 'pos': 0.0, 'compound': 0.0}\n",
      "3NNdwPy3.txt: {'neg': 0.0, 'neu': 0.856, 'pos': 0.144, 'compound': 0.4939}\n",
      "r170y967.txt: {'neg': 0.0, 'neu': 0.732, 'pos': 0.268, 'compound': 0.5106}\n",
      "grkEQ8bA.txt: {'neg': 0.028, 'neu': 0.882, 'pos': 0.089, 'compound': 0.9423}\n",
      "grAg5dA6.txt: {'neg': 0.0, 'neu': 1.0, 'pos': 0.0, 'compound': 0.0}\n",
      "bvQW8PNP.txt: {'neg': 0.0, 'neu': 1.0, 'pos': 0.0, 'compound': 0.0}\n",
      "r1GXE3X1.txt: {'neg': 0.068, 'neu': 0.932, 'pos': 0.0, 'compound': -0.4404}\n",
      "bvyzOKja.txt: {'neg': 0.0, 'neu': 1.0, 'pos': 0.0, 'compound': 0.0}\n",
      "grlenryJ.txt: {'neg': 0.154, 'neu': 0.846, 'pos': 0.0, 'compound': -0.4767}\n"
     ]
    },
    {
     "name": "stderr",
     "output_type": "stream",
     "text": [
      "Analyzing Sentiment: 100%|████████████████████████████████████████████████████████████| 81/81 [00:00<00:00, 201.86it/s]"
     ]
    },
    {
     "name": "stdout",
     "output_type": "stream",
     "text": [
      "r1JrzJW3.txt: {'neg': 0.0, 'neu': 0.592, 'pos': 0.408, 'compound': 0.7845}\n",
      "grOpnvn1.txt: {'neg': 0.0, 'neu': 0.766, 'pos': 0.234, 'compound': 0.7269}\n",
      "bvWJrEzn.txt: {'neg': 0.0, 'neu': 1.0, 'pos': 0.0, 'compound': 0.0}\n",
      "grkl6bXz.txt: {'neg': 0.0, 'neu': 0.601, 'pos': 0.399, 'compound': 0.8074}\n",
      "bvyX5bXX.txt: {'neg': 0.445, 'neu': 0.365, 'pos': 0.19, 'compound': -0.5423}\n",
      "gryqNjlb.txt: {'neg': 0.064, 'neu': 0.855, 'pos': 0.081, 'compound': 0.1531}\n",
      "bvvyaJrJ.txt: {'neg': 0.042, 'neu': 0.872, 'pos': 0.087, 'compound': 0.5789}\n",
      "bvOjDdmy.txt: {'neg': 0.017, 'neu': 0.901, 'pos': 0.082, 'compound': 0.8126}\n",
      "bvQvPnkP.txt: {'neg': 0.0, 'neu': 1.0, 'pos': 0.0, 'compound': 0.0}\n"
     ]
    },
    {
     "name": "stderr",
     "output_type": "stream",
     "text": [
      "\n"
     ]
    },
    {
     "name": "stdout",
     "output_type": "stream",
     "text": [
      "Analyzing Folder: sharechat_scraper/updated_tesseract/Hindi/m6d09W_Hindi/\n"
     ]
    },
    {
     "name": "stderr",
     "output_type": "stream",
     "text": [
      "\r",
      "Analyzing Sentiment:   0%|                                                                      | 0/39 [00:00<?, ?it/s]"
     ]
    },
    {
     "name": "stdout",
     "output_type": "stream",
     "text": [
      "grGQJPne.txt: {'neg': 0.059, 'neu': 0.904, 'pos': 0.037, 'compound': -0.8481}\n",
      "grk0Vl37.txt: {'neg': 0.0, 'neu': 1.0, 'pos': 0.0, 'compound': 0.0}\n",
      "grO4xNve.txt: {'neg': 0.023, 'neu': 0.878, 'pos': 0.099, 'compound': 0.9821}\n",
      "gxV9wyb.txt: {'neg': 0.095, 'neu': 0.81, 'pos': 0.096, 'compound': 0.0076}\n",
      "gDvx5O7.txt: {'neg': 0.137, 'neu': 0.752, 'pos': 0.111, 'compound': -0.9073}\n",
      "gry1OqOq.txt: {'neg': 0.0, 'neu': 1.0, 'pos': 0.0, 'compound': 0.0}\n",
      "grlZMJWJ.txt: {'neg': 0.114, 'neu': 0.788, 'pos': 0.098, 'compound': -0.8743}\n",
      "grGO4RdA.txt: {'neg': 0.049, 'neu': 0.853, 'pos': 0.098, 'compound': 0.9349}\n",
      "grlDZGQz.txt: {'neg': 0.0, 'neu': 1.0, 'pos': 0.0, 'compound': 0.0}\n",
      "grG6w1G7.txt: {'neg': 0.134, 'neu': 0.784, 'pos': 0.082, 'compound': -0.9752}\n",
      "gr01ONZe.txt: {'neg': 0.04, 'neu': 0.901, 'pos': 0.059, 'compound': 0.7308}\n",
      "gmxxmne.txt: {'neg': 0.085, 'neu': 0.861, 'pos': 0.054, 'compound': -0.9094}\n",
      "grr6vkZA.txt: {'neg': 0.111, 'neu': 0.642, 'pos': 0.247, 'compound': 0.4877}\n",
      "grNrmkqQ.txt: {'neg': 0.0, 'neu': 1.0, 'pos': 0.0, 'compound': 0.0}\n",
      "grGA3Gbq.txt: {'neg': 0.127, 'neu': 0.785, 'pos': 0.089, 'compound': -0.9619}\n"
     ]
    },
    {
     "name": "stderr",
     "output_type": "stream",
     "text": [
      "\r",
      "Analyzing Sentiment:  46%|███████████████████████████▋                                | 18/39 [00:00<00:00, 171.90it/s]"
     ]
    },
    {
     "name": "stdout",
     "output_type": "stream",
     "text": [
      "gB5rPM7.txt: {'neg': 0.041, 'neu': 0.879, 'pos': 0.08, 'compound': 0.8994}\n",
      "grNxmmZ1.txt: {'neg': 0.0, 'neu': 0.916, 'pos': 0.084, 'compound': 0.1901}\n",
      "grNQjqqA.txt: {'neg': 0.104, 'neu': 0.866, 'pos': 0.03, 'compound': -0.9849}\n",
      "grzrOw0A.txt: {'neg': 0.155, 'neu': 0.669, 'pos': 0.176, 'compound': 0.8198}\n",
      "gjg9NWe.txt: {'neg': 0.0, 'neu': 0.818, 'pos': 0.182, 'compound': 0.4404}\n",
      "greGz3zJ.txt: {'neg': 0.116, 'neu': 0.626, 'pos': 0.258, 'compound': 0.4877}\n",
      "grGOlQVJ.txt: {'neg': 0.143, 'neu': 0.711, 'pos': 0.146, 'compound': 0.2681}\n",
      "3NQmy36K.txt: {'neg': 0.037, 'neu': 0.884, 'pos': 0.079, 'compound': 0.81}\n",
      "grlKN9V7.txt: {'neg': 0.024, 'neu': 0.855, 'pos': 0.121, 'compound': 0.8126}\n",
      "grAz04Pz.txt: {'neg': 0.0, 'neu': 0.873, 'pos': 0.127, 'compound': 0.1531}\n",
      "grO78lQ6.txt: {'neg': 0.09, 'neu': 0.84, 'pos': 0.07, 'compound': -0.8591}\n",
      "gJAy776.txt: {'neg': 0.112, 'neu': 0.84, 'pos': 0.048, 'compound': -0.9796}\n",
      "gxP03nJ.txt: {'neg': 0.073, 'neu': 0.846, 'pos': 0.081, 'compound': -0.2846}\n",
      "3NjdJ6nj.txt: {'neg': 0.0, 'neu': 1.0, 'pos': 0.0, 'compound': 0.0}\n",
      "g4d1DZz.txt: {'neg': 0.238, 'neu': 0.695, 'pos': 0.067, 'compound': -0.93}\n",
      "grzgndVM.txt: {'neg': 0.014, 'neu': 0.863, 'pos': 0.123, 'compound': 0.9764}"
     ]
    },
    {
     "name": "stderr",
     "output_type": "stream",
     "text": [
      "Analyzing Sentiment: 100%|████████████████████████████████████████████████████████████| 39/39 [00:00<00:00, 179.97it/s]\n"
     ]
    },
    {
     "name": "stdout",
     "output_type": "stream",
     "text": [
      "\n",
      "grOekykb.txt: {'neg': 0.135, 'neu': 0.674, 'pos': 0.192, 'compound': 0.4939}\n",
      "Analyzing Folder: sharechat_scraper/updated_tesseract/Hindi/VO6Zjy_Hindi/\n"
     ]
    },
    {
     "name": "stderr",
     "output_type": "stream",
     "text": [
      "\r",
      "Analyzing Sentiment:   0%|                                                                     | 0/410 [00:00<?, ?it/s]"
     ]
    },
    {
     "name": "stdout",
     "output_type": "stream",
     "text": [
      "4wAzE7Va.txt: {'neg': 0.0, 'neu': 0.776, 'pos': 0.224, 'compound': 0.3818}\n",
      "93DxNrZ4.txt: {'neg': 0.0, 'neu': 0.345, 'pos': 0.655, 'compound': 0.5859}\n",
      "B6EX5wR.txt: {'neg': 0.0, 'neu': 1.0, 'pos': 0.0, 'compound': 0.0}\n",
      "44NPlJQ.txt: {'neg': 0.0, 'neu': 0.813, 'pos': 0.187, 'compound': 0.7351}\n",
      "93GqMNDv.txt: {'neg': 0.057, 'neu': 0.859, 'pos': 0.084, 'compound': 0.2584}\n",
      "9daQ4b9.txt: {'neg': 0.0, 'neu': 1.0, 'pos': 0.0, 'compound': 0.0}\n",
      "9yNBMOy.txt: {'neg': 0.0, 'neu': 0.974, 'pos': 0.026, 'compound': 0.4019}\n",
      "5JqNpAB.txt: {'neg': 0.061, 'neu': 0.939, 'pos': 0.0, 'compound': -0.34}\n",
      "4wGVyzb8.txt: {'neg': 0.0, 'neu': 1.0, 'pos': 0.0, 'compound': 0.0}\n",
      "4bv8DO3.txt: {'neg': 0.0, 'neu': 1.0, 'pos': 0.0, 'compound': 0.0}\n",
      "Br6rRrR.txt: {'neg': 0.0, 'neu': 1.0, 'pos': 0.0, 'compound': 0.0}\n",
      "4QJ5a7v.txt: {'neg': 0.0, 'neu': 1.0, 'pos': 0.0, 'compound': 0.0}\n",
      "931PDPnM.txt: {'neg': 0.0, 'neu': 1.0, 'pos': 0.0, 'compound': 0.0}\n"
     ]
    },
    {
     "name": "stderr",
     "output_type": "stream",
     "text": [
      "\r",
      "Analyzing Sentiment:   6%|███▋                                                       | 26/410 [00:00<00:01, 228.08it/s]"
     ]
    },
    {
     "name": "stdout",
     "output_type": "stream",
     "text": [
      "40KB951.txt: {'neg': 0.0, 'neu': 1.0, 'pos': 0.0, 'compound': 0.0}\n",
      "4O7n3QG.txt: {'neg': 0.184, 'neu': 0.629, 'pos': 0.187, 'compound': 0.0258}\n",
      "440rQ5a.txt: {'neg': 0.0, 'neu': 0.75, 'pos': 0.25, 'compound': 0.7184}\n",
      "939naO39.txt: {'neg': 0.0, 'neu': 0.693, 'pos': 0.307, 'compound': 0.4767}\n",
      "4BwX8a1.txt: {'neg': 0.0, 'neu': 1.0, 'pos': 0.0, 'compound': 0.0}\n",
      "93D4qQrN.txt: {'neg': 0.178, 'neu': 0.63, 'pos': 0.193, 'compound': 0.0679}\n",
      "RP3d07D0.txt: {'neg': 0.262, 'neu': 0.637, 'pos': 0.101, 'compound': -0.9875}\n",
      "4w8mpE87.txt: {'neg': 0.0, 'neu': 1.0, 'pos': 0.0, 'compound': 0.0}\n",
      "93al6EvQ.txt: {'neg': 0.305, 'neu': 0.542, 'pos': 0.153, 'compound': -0.4728}\n",
      "4XRqMAG.txt: {'neg': 0.0, 'neu': 1.0, 'pos': 0.0, 'compound': 0.0}\n",
      "4Dx7NXB.txt: {'neg': 0.0, 'neu': 1.0, 'pos': 0.0, 'compound': 0.0}\n",
      "4wZx0kM1.txt: {'neg': 0.0, 'neu': 1.0, 'pos': 0.0, 'compound': 0.0}\n",
      "4wRj5qMG.txt: {'neg': 0.0, 'neu': 0.652, 'pos': 0.348, 'compound': 0.4939}\n"
     ]
    },
    {
     "name": "stderr",
     "output_type": "stream",
     "text": [
      "\r",
      "Analyzing Sentiment:  12%|███████▎                                                   | 51/410 [00:00<00:01, 228.18it/s]"
     ]
    },
    {
     "name": "stdout",
     "output_type": "stream",
     "text": [
      "4n7l68D.txt: {'neg': 0.321, 'neu': 0.679, 'pos': 0.0, 'compound': -0.6369}\n",
      "4Ndedn8.txt: {'neg': 0.538, 'neu': 0.462, 'pos': 0.0, 'compound': -0.3612}\n",
      "9ZE77QM.txt: {'neg': 0.106, 'neu': 0.894, 'pos': 0.0, 'compound': -0.8591}\n",
      "9xxddZQ.txt: {'neg': 0.0, 'neu': 1.0, 'pos': 0.0, 'compound': 0.0}\n",
      "Ny9J6mAp.txt: {'neg': 0.0, 'neu': 1.0, 'pos': 0.0, 'compound': 0.0}\n",
      "9394bvNa.txt: {'neg': 0.0, 'neu': 0.921, 'pos': 0.079, 'compound': 0.2846}\n",
      "9rqr3EX.txt: {'neg': 0.051, 'neu': 0.886, 'pos': 0.063, 'compound': 0.128}\n",
      "4wNDWZD3.txt: {'neg': 0.0, 'neu': 1.0, 'pos': 0.0, 'compound': 0.0}\n",
      "5KaeRAJ.txt: {'neg': 0.302, 'neu': 0.698, 'pos': 0.0, 'compound': -0.7574}\n",
      "9e5ZPwQ.txt: {'neg': 0.0, 'neu': 0.9, 'pos': 0.1, 'compound': 0.4404}\n"
     ]
    },
    {
     "name": "stderr",
     "output_type": "stream",
     "text": [
      "\r",
      "Analyzing Sentiment:  18%|██████████▋                                                | 74/410 [00:00<00:01, 225.40it/s]"
     ]
    },
    {
     "name": "stdout",
     "output_type": "stream",
     "text": [
      "4Djbrd1.txt: {'neg': 0.148, 'neu': 0.565, 'pos': 0.288, 'compound': 0.4069}\n",
      "93wg1bgN.txt: {'neg': 0.0, 'neu': 1.0, 'pos': 0.0, 'compound': 0.0}\n",
      "4wqxpXxa.txt: {'neg': 0.0, 'neu': 1.0, 'pos': 0.0, 'compound': 0.0}\n",
      "4wA71DDD.txt: {'neg': 0.128, 'neu': 0.872, 'pos': 0.0, 'compound': -0.6908}\n",
      "4w8An7VB.txt: {'neg': 0.0, 'neu': 1.0, 'pos': 0.0, 'compound': 0.0}\n",
      "5aqElxEN.txt: {'neg': 0.171, 'neu': 0.829, 'pos': 0.0, 'compound': -0.7506}\n",
      "4DW1b3v.txt: {'neg': 0.0, 'neu': 1.0, 'pos': 0.0, 'compound': 0.0}\n"
     ]
    },
    {
     "name": "stderr",
     "output_type": "stream",
     "text": [
      "\r",
      "Analyzing Sentiment:  24%|█████████████▉                                             | 97/410 [00:00<00:01, 216.99it/s]"
     ]
    },
    {
     "name": "stdout",
     "output_type": "stream",
     "text": [
      "4kGm6r7.txt: {'neg': 0.0, 'neu': 0.366, 'pos': 0.634, 'compound': 0.6369}\n",
      "4DVQnJB.txt: {'neg': 0.0, 'neu': 1.0, 'pos': 0.0, 'compound': 0.0}\n",
      "B0qPGvEM.txt: {'neg': 0.0, 'neu': 0.562, 'pos': 0.438, 'compound': 0.7783}\n",
      "46w9aja.txt: {'neg': 0.011, 'neu': 0.856, 'pos': 0.134, 'compound': 0.9806}\n",
      "9Jd4KeX.txt: {'neg': 0.0, 'neu': 0.745, 'pos': 0.255, 'compound': 0.34}\n",
      "9xQrv1N.txt: {'neg': 0.056, 'neu': 0.701, 'pos': 0.243, 'compound': 0.6542}\n",
      "4w7VEnbD.txt: {'neg': 0.0, 'neu': 0.924, 'pos': 0.076, 'compound': 0.3182}\n"
     ]
    },
    {
     "name": "stderr",
     "output_type": "stream",
     "text": [
      "\r",
      "Analyzing Sentiment:  29%|████████████████▊                                         | 119/410 [00:00<00:01, 210.36it/s]"
     ]
    },
    {
     "name": "stdout",
     "output_type": "stream",
     "text": [
      "4byd4V1.txt: {'neg': 0.444, 'neu': 0.556, 'pos': 0.0, 'compound': -0.34}\n",
      "9y1GQ9N.txt: {'neg': 0.0, 'neu': 0.549, 'pos': 0.451, 'compound': 0.802}\n",
      "9b7Om4X.txt: {'neg': 0.0, 'neu': 1.0, 'pos': 0.0, 'compound': 0.0}\n",
      "939mJB1a.txt: {'neg': 0.0, 'neu': 0.836, 'pos': 0.164, 'compound': 0.5423}\n",
      "4wz5PMxV.txt: {'neg': 0.233, 'neu': 0.588, 'pos': 0.179, 'compound': -0.4588}\n",
      "4BZkqmQ.txt: {'neg': 0.0, 'neu': 0.556, 'pos': 0.444, 'compound': 0.34}\n",
      "4zKgqA1.txt: {'neg': 0.0, 'neu': 0.0, 'pos': 1.0, 'compound': 0.34}\n",
      "gJQBeA7.txt: {'neg': 0.035, 'neu': 0.908, 'pos': 0.057, 'compound': 0.7509}\n"
     ]
    },
    {
     "name": "stderr",
     "output_type": "stream",
     "text": [
      "Analyzing Sentiment:  40%|███████████████████████                                   | 163/410 [00:00<00:01, 210.98it/s]"
     ]
    },
    {
     "name": "stdout",
     "output_type": "stream",
     "text": [
      "4wANv6Z1.txt: {'neg': 0.0, 'neu': 1.0, 'pos': 0.0, 'compound': 0.0}\n",
      "9KrJvGQ.txt: {'neg': 0.0, 'neu': 0.906, 'pos': 0.094, 'compound': 0.3612}\n",
      "9v05lj0.txt: {'neg': 0.0, 'neu': 1.0, 'pos': 0.0, 'compound': 0.0}\n",
      "4wz6Pav7.txt: {'neg': 0.031, 'neu': 0.739, 'pos': 0.229, 'compound': 0.8307}\n",
      "4w8KX7Q8.txt: {'neg': 0.0, 'neu': 0.755, 'pos': 0.245, 'compound': 0.0772}\n",
      "4wza7q4Q.txt: {'neg': 0.126, 'neu': 0.874, 'pos': 0.0, 'compound': -0.0772}\n",
      "4VDB06Q.txt: {'neg': 0.0, 'neu': 0.827, 'pos': 0.173, 'compound': 0.3182}\n",
      "9b8vnJz.txt: {'neg': 0.05, 'neu': 0.821, 'pos': 0.128, 'compound': 0.9922}\n",
      "93GmaK0a.txt: {'neg': 0.078, 'neu': 0.816, 'pos': 0.106, 'compound': 0.2023}\n"
     ]
    },
    {
     "name": "stderr",
     "output_type": "stream",
     "text": [
      "\r",
      "Analyzing Sentiment:  45%|██████████████████████████▏                               | 185/410 [00:00<00:01, 207.07it/s]"
     ]
    },
    {
     "name": "stdout",
     "output_type": "stream",
     "text": [
      "gxbJPBe.txt: {'neg': 0.062, 'neu': 0.856, 'pos': 0.082, 'compound': 0.6652}\n",
      "4ByPNy8.txt: {'neg': 0.0, 'neu': 1.0, 'pos': 0.0, 'compound': 0.0}\n",
      "4WPbd43.txt: {'neg': 0.024, 'neu': 0.877, 'pos': 0.099, 'compound': 0.8126}\n",
      "9zdVaQv.txt: {'neg': 0.0, 'neu': 1.0, 'pos': 0.0, 'compound': 0.0}\n",
      "grenGOJ6.txt: {'neg': 0.03, 'neu': 0.926, 'pos': 0.044, 'compound': -0.2263}\n",
      "mDGAGaV.txt: {'neg': 0.151, 'neu': 0.672, 'pos': 0.176, 'compound': -0.1027}\n",
      "9O6vnXX.txt: {'neg': 0.058, 'neu': 0.942, 'pos': 0.0, 'compound': -0.1531}\n"
     ]
    },
    {
     "name": "stderr",
     "output_type": "stream",
     "text": [
      "\r",
      "Analyzing Sentiment:  51%|█████████████████████████████▍                            | 208/410 [00:00<00:00, 206.94it/s]"
     ]
    },
    {
     "name": "stdout",
     "output_type": "stream",
     "text": [
      "dM0wPgD.txt: {'neg': 0.341, 'neu': 0.659, 'pos': 0.0, 'compound': -0.561}\n",
      "933yXlJ0.txt: {'neg': 0.0, 'neu': 0.62, 'pos': 0.38, 'compound': 0.8481}\n",
      "4zG4Dqa.txt: {'neg': 0.0, 'neu': 1.0, 'pos': 0.0, 'compound': 0.0}\n",
      "gW6Vjgb.txt: {'neg': 0.095, 'neu': 0.815, 'pos': 0.09, 'compound': -0.8126}\n",
      "40QvlA3.txt: {'neg': 0.066, 'neu': 0.864, 'pos': 0.071, 'compound': -0.0783}\n",
      "4Oxzv0B.txt: {'neg': 0.0, 'neu': 1.0, 'pos': 0.0, 'compound': 0.0}\n",
      "93qdMljX.txt: {'neg': 0.0, 'neu': 1.0, 'pos': 0.0, 'compound': 0.0}\n",
      "4wNdmNl3.txt: {'neg': 0.0, 'neu': 0.776, 'pos': 0.224, 'compound': 0.3818}\n",
      "57ed98N.txt: {'neg': 0.323, 'neu': 0.677, 'pos': 0.0, 'compound': -0.9682}\n",
      "4wz10yBa.txt: {'neg': 0.0, 'neu': 1.0, 'pos': 0.0, 'compound': 0.0}\n"
     ]
    },
    {
     "name": "stderr",
     "output_type": "stream",
     "text": [
      "\r",
      "Analyzing Sentiment:  57%|████████████████████████████████▉                         | 233/410 [00:01<00:00, 216.12it/s]"
     ]
    },
    {
     "name": "stdout",
     "output_type": "stream",
     "text": [
      "4Dkzey3.txt: {'neg': 0.3, 'neu': 0.7, 'pos': 0.0, 'compound': -0.4588}\n",
      "9VblBKy.txt: {'neg': 0.067, 'neu': 0.637, 'pos': 0.296, 'compound': 0.936}\n",
      "4W51R83.txt: {'neg': 0.0, 'neu': 1.0, 'pos': 0.0, 'compound': 0.0}\n",
      "4wR0dk03.txt: {'neg': 0.0, 'neu': 1.0, 'pos': 0.0, 'compound': 0.0}\n",
      "4zlVbbB.txt: {'neg': 0.0, 'neu': 1.0, 'pos': 0.0, 'compound': 0.0}\n",
      "97Nyw4a.txt: {'neg': 0.0, 'neu': 0.795, 'pos': 0.205, 'compound': 0.5994}\n",
      "93DnJzWN.txt: {'neg': 0.076, 'neu': 0.786, 'pos': 0.138, 'compound': 0.886}\n",
      "93DJpGmy.txt: {'neg': 0.424, 'neu': 0.405, 'pos': 0.171, 'compound': -0.5615}\n",
      "grzRVZzz.txt: {'neg': 0.058, 'neu': 0.942, 'pos': 0.0, 'compound': -0.0286}\n",
      "97jgPka.txt: {'neg': 0.0, 'neu': 1.0, 'pos': 0.0, 'compound': 0.0}\n",
      "4wAvG55G.txt: {'neg': 0.0, 'neu': 1.0, 'pos': 0.0, 'compound': 0.0}\n",
      "4xMeB3v.txt: {'neg': 0.0, 'neu': 0.806, 'pos': 0.194, 'compound': 0.7882}\n",
      "93aVglDQ.txt: {'neg': 0.285, 'neu': 0.362, 'pos': 0.353, 'compound': 0.128}\n",
      "4aJxJjG.txt: {'neg': 0.017, 'neu': 0.983, 'pos': 0.0, 'compound': -0.2732}\n",
      "9KBkV64.txt: {'neg': 0.0, 'neu': 1.0, 'pos': 0.0, 'compound': 0.0}\n",
      "r16lvMZb.txt: {'neg': 0.122, 'neu': 0.608, 'pos': 0.271, 'compound': 0.4019}\n",
      "4B1RjlV.txt: {'neg': 0.0, 'neu': 1.0, 'pos': 0.0, 'compound': 0.0}\n",
      "4xPZpn8.txt: {'neg': 0.148, 'neu': 0.775, 'pos': 0.077, 'compound': -0.7717}\n"
     ]
    },
    {
     "name": "stderr",
     "output_type": "stream",
     "text": [
      "Analyzing Sentiment:  74%|██████████████████████████████████████████▊               | 303/410 [00:01<00:00, 212.39it/s]"
     ]
    },
    {
     "name": "stdout",
     "output_type": "stream",
     "text": [
      "4wzvmG7D.txt: {'neg': 0.15, 'neu': 0.75, 'pos': 0.1, 'compound': -0.3818}\n",
      "GJG0njb.txt: {'neg': 0.0, 'neu': 0.908, 'pos': 0.092, 'compound': 0.6908}\n",
      "4wzRZjjv.txt: {'neg': 0.0, 'neu': 0.71, 'pos': 0.29, 'compound': 0.8126}\n",
      "46A8OV8.txt: {'neg': 0.0, 'neu': 1.0, 'pos': 0.0, 'compound': 0.0}\n",
      "4z55vB8.txt: {'neg': 0.126, 'neu': 0.824, 'pos': 0.05, 'compound': -0.714}\n",
      "9eQ0VE4.txt: {'neg': 0.0, 'neu': 1.0, 'pos': 0.0, 'compound': 0.0}\n",
      "93Z6yQQX.txt: {'neg': 0.0, 'neu': 0.619, 'pos': 0.381, 'compound': 0.8229}\n",
      "4wR8wx6a.txt: {'neg': 0.0, 'neu': 1.0, 'pos': 0.0, 'compound': 0.0}\n",
      "9e3DxEv.txt: {'neg': 1.0, 'neu': 0.0, 'pos': 0.0, 'compound': -0.5574}\n",
      "4xjRnbv.txt: {'neg': 0.0, 'neu': 1.0, 'pos': 0.0, 'compound': 0.0}\n",
      "4NXeElG.txt: {'neg': 0.079, 'neu': 0.921, 'pos': 0.0, 'compound': -0.2023}\n",
      "4prxZ6B.txt: {'neg': 0.0, 'neu': 0.855, 'pos': 0.145, 'compound': 0.8807}\n",
      "4zDX6nv.txt: {'neg': 0.688, 'neu': 0.312, 'pos': 0.0, 'compound': -0.296}\n",
      "44Ad8yQ.txt: {'neg': 0.0, 'neu': 1.0, 'pos': 0.0, 'compound': 0.0}\n",
      "931d9pwa.txt: {'neg': 0.063, 'neu': 0.799, 'pos': 0.138, 'compound': 0.9618}\n",
      "4aW1ZBv.txt: {'neg': 0.057, 'neu': 0.798, 'pos': 0.145, 'compound': 0.8624}\n",
      "4N5ZJRV.txt: {'neg': 0.104, 'neu': 0.737, 'pos': 0.159, 'compound': 0.5927}\n",
      "KV5jwd1.txt: {'neg': 0.0, 'neu': 0.517, 'pos': 0.483, 'compound': 0.6808}\n",
      "9bXyZQ9.txt: {'neg': 0.0, 'neu': 0.613, 'pos': 0.387, 'compound': 0.8584}\n"
     ]
    },
    {
     "name": "stderr",
     "output_type": "stream",
     "text": [
      "Analyzing Sentiment:  85%|█████████████████████████████████████████████████         | 347/410 [00:01<00:00, 211.95it/s]"
     ]
    },
    {
     "name": "stdout",
     "output_type": "stream",
     "text": [
      "4bQZRl7.txt: {'neg': 0.0, 'neu': 1.0, 'pos': 0.0, 'compound': 0.0}\n",
      "93mGxdnX.txt: {'neg': 0.0, 'neu': 0.748, 'pos': 0.252, 'compound': 0.4019}\n",
      "9zPjAKy.txt: {'neg': 0.0, 'neu': 0.865, 'pos': 0.135, 'compound': 0.9169}\n",
      "4wR7BQ38.txt: {'neg': 0.0, 'neu': 1.0, 'pos': 0.0, 'compound': 0.0}\n",
      "40OqQda.txt: {'neg': 0.118, 'neu': 0.695, 'pos': 0.187, 'compound': 0.3182}\n",
      "4XPK6vG.txt: {'neg': 0.0, 'neu': 0.68, 'pos': 0.32, 'compound': 0.5106}\n",
      "93awar7z.txt: {'neg': 0.0, 'neu': 0.741, 'pos': 0.259, 'compound': 0.5423}\n",
      "4NGNAa1.txt: {'neg': 0.0, 'neu': 0.72, 'pos': 0.28, 'compound': 0.5423}\n",
      "g4vbMDe.txt: {'neg': 0.028, 'neu': 0.921, 'pos': 0.051, 'compound': 0.0772}\n",
      "5aNqpgyp.txt: {'neg': 0.0, 'neu': 1.0, 'pos': 0.0, 'compound': 0.0}\n",
      "9ZeaxMQ.txt: {'neg': 0.0, 'neu': 0.442, 'pos': 0.558, 'compound': 0.9118}\n",
      "9J3eVzM.txt: {'neg': 0.103, 'neu': 0.69, 'pos': 0.207, 'compound': 0.7089}\n",
      "9ylggRv.txt: {'neg': 0.0, 'neu': 1.0, 'pos': 0.0, 'compound': 0.0}\n",
      "5aN79vW7.txt: {'neg': 0.583, 'neu': 0.417, 'pos': 0.0, 'compound': -0.4939}\n",
      "gjwdxmJ.txt: {'neg': 0.04, 'neu': 0.908, 'pos': 0.052, 'compound': 0.1655}\n",
      "4wwX5gVQ.txt: {'neg': 0.674, 'neu': 0.326, 'pos': 0.0, 'compound': -0.7351}\n",
      "gDJy1lz.txt: {'neg': 0.09, 'neu': 0.83, 'pos': 0.08, 'compound': -0.7638}\n",
      "gmNXAVb.txt: {'neg': 0.029, 'neu': 0.687, 'pos': 0.284, 'compound': 0.9839}\n",
      "40vQeqD.txt: {'neg': 0.0, 'neu': 1.0, 'pos': 0.0, 'compound': 0.0}\n"
     ]
    },
    {
     "name": "stderr",
     "output_type": "stream",
     "text": [
      "Analyzing Sentiment:  95%|███████████████████████████████████████████████████████▏  | 390/410 [00:01<00:00, 202.81it/s]"
     ]
    },
    {
     "name": "stdout",
     "output_type": "stream",
     "text": [
      "93mq6KV9.txt: {'neg': 0.0, 'neu': 0.774, 'pos': 0.226, 'compound': 0.5859}\n",
      "9klmpy0.txt: {'neg': 0.0, 'neu': 0.696, 'pos': 0.304, 'compound': 0.8722}\n",
      "4wq308J3.txt: {'neg': 0.151, 'neu': 0.849, 'pos': 0.0, 'compound': -0.5994}\n",
      "4w8pabxB.txt: {'neg': 0.103, 'neu': 0.845, 'pos': 0.052, 'compound': -0.2732}\n",
      "KyEROR3g.txt: {'neg': 0.0, 'neu': 1.0, 'pos': 0.0, 'compound': 0.0}\n",
      "4w8OBkA7.txt: {'neg': 0.36, 'neu': 0.337, 'pos': 0.303, 'compound': -0.128}\n",
      "93qZ1rgy.txt: {'neg': 0.182, 'neu': 0.619, 'pos': 0.199, 'compound': -0.3339}\n",
      "4wlxg1QB.txt: {'neg': 0.352, 'neu': 0.549, 'pos': 0.099, 'compound': -0.8481}\n",
      "By48GBV.txt: {'neg': 0.0, 'neu': 0.774, 'pos': 0.226, 'compound': 0.4215}\n",
      "g9lKlZe.txt: {'neg': 0.119, 'neu': 0.758, 'pos': 0.123, 'compound': 0.0}\n",
      "93meaWrX.txt: {'neg': 0.0, 'neu': 0.707, 'pos': 0.293, 'compound': 0.4404}\n",
      "5Jr9qNK.txt: {'neg': 0.072, 'neu': 0.87, 'pos': 0.057, 'compound': -0.1235}\n",
      "5AODD7k.txt: {'neg': 0.0, 'neu': 1.0, 'pos': 0.0, 'compound': 0.0}\n",
      "45V7JXQ.txt: {'neg': 0.241, 'neu': 0.759, 'pos': 0.0, 'compound': -0.6597}\n",
      "4wGkGy5V.txt: {'neg': 0.0, 'neu': 1.0, 'pos': 0.0, 'compound': 0.0}\n",
      "93NJqeBM.txt: {'neg': 0.688, 'neu': 0.312, 'pos': 0.0, 'compound': -0.296}\n",
      "4bry0Xv.txt: {'neg': 0.256, 'neu': 0.744, 'pos': 0.0, 'compound': -0.4767}\n",
      "46D8lVv.txt: {'neg': 0.0, 'neu': 1.0, 'pos': 0.0, 'compound': 0.0}\n"
     ]
    },
    {
     "name": "stderr",
     "output_type": "stream",
     "text": [
      "Analyzing Sentiment: 100%|██████████████████████████████████████████████████████████| 410/410 [00:01<00:00, 211.43it/s]\n"
     ]
    },
    {
     "name": "stdout",
     "output_type": "stream",
     "text": [
      "4DEpMW1.txt: {'neg': 0.0, 'neu': 0.891, 'pos': 0.109, 'compound': 0.0258}\n",
      "Analyzing Folder: sharechat_scraper/updated_tesseract/Hindi/VO6ZVy_Hindi/\n"
     ]
    },
    {
     "name": "stderr",
     "output_type": "stream",
     "text": [
      "Analyzing Sentiment:  35%|█████████████████████▎                                      | 22/62 [00:00<00:00, 199.44it/s]"
     ]
    },
    {
     "name": "stdout",
     "output_type": "stream",
     "text": [
      "9b8ql9y.txt: {'neg': 0.047, 'neu': 0.915, 'pos': 0.038, 'compound': -0.1531}\n",
      "9zEnV3X.txt: {'neg': 0.0, 'neu': 1.0, 'pos': 0.0, 'compound': 0.0}\n",
      "9dABPma.txt: {'neg': 0.0, 'neu': 1.0, 'pos': 0.0, 'compound': 0.0}\n",
      "9dkPGn0.txt: {'neg': 0.028, 'neu': 0.818, 'pos': 0.154, 'compound': 0.9643}\n",
      "9rX8OZQ.txt: {'neg': 0.536, 'neu': 0.464, 'pos': 0.0, 'compound': -0.9325}\n",
      "gmvb0JA.txt: {'neg': 0.0, 'neu': 1.0, 'pos': 0.0, 'compound': 0.0}\n",
      "9Qr8r00.txt: {'neg': 0.09, 'neu': 0.804, 'pos': 0.106, 'compound': 0.3818}\n",
      "3NOQr5VK.txt: {'neg': 0.0, 'neu': 1.0, 'pos': 0.0, 'compound': 0.0}\n",
      "933bdKOy.txt: {'neg': 0.0, 'neu': 1.0, 'pos': 0.0, 'compound': 0.0}\n",
      "9334MADQ.txt: {'neg': 0.091, 'neu': 0.854, 'pos': 0.055, 'compound': -0.2263}\n",
      "9kNwpkz.txt: {'neg': 0.0, 'neu': 0.743, 'pos': 0.257, 'compound': 0.5423}\n",
      "gxaWv0e.txt: {'neg': 0.0, 'neu': 0.9, 'pos': 0.1, 'compound': 0.4404}\n",
      "BzjXbRR.txt: {'neg': 0.0, 'neu': 0.909, 'pos': 0.091, 'compound': 0.1027}\n",
      "9eP1j49.txt: {'neg': 0.0, 'neu': 0.404, 'pos': 0.596, 'compound': 0.7096}\n",
      "931QnwzM.txt: {'neg': 0.0, 'neu': 1.0, 'pos': 0.0, 'compound': 0.0}\n",
      "9NMApry.txt: {'neg': 0.0, 'neu': 1.0, 'pos': 0.0, 'compound': 0.0}\n",
      "93a9p87M.txt: {'neg': 0.0, 'neu': 0.977, 'pos': 0.023, 'compound': 0.1531}\n",
      "93wlp5QN.txt: {'neg': 0.02, 'neu': 0.797, 'pos': 0.183, 'compound': 0.9531}\n",
      "4wGERwxv.txt: {'neg': 0.0, 'neu': 0.876, 'pos': 0.124, 'compound': 0.34}\n",
      "NyEZKm74.txt: {'neg': 0.0, 'neu': 0.649, 'pos': 0.351, 'compound': 0.4019}\n",
      "9O7eZqM.txt: {'neg': 0.025, 'neu': 0.921, 'pos': 0.053, 'compound': 0.4833}\n",
      "93DrVOaN.txt: {'neg': 0.145, 'neu': 0.799, 'pos': 0.056, 'compound': -0.6249}\n",
      "3nw8Okm.txt: {'neg': 0.0, 'neu': 0.791, 'pos': 0.209, 'compound': 0.7003}\n",
      "931yJAdN.txt: {'neg': 0.123, 'neu': 0.805, 'pos': 0.072, 'compound': -0.1779}\n",
      "9xp4OrN.txt: {'neg': 0.0, 'neu': 0.773, 'pos': 0.227, 'compound': 0.8442}\n",
      "9xRNm3z.txt: {'neg': 0.156, 'neu': 0.844, 'pos': 0.0, 'compound': -0.2846}\n"
     ]
    },
    {
     "name": "stderr",
     "output_type": "stream",
     "text": [
      "\r",
      "Analyzing Sentiment:  69%|█████████████████████████████████████████▌                  | 43/62 [00:00<00:00, 200.15it/s]"
     ]
    },
    {
     "name": "stdout",
     "output_type": "stream",
     "text": [
      "93a5eBJy.txt: {'neg': 0.083, 'neu': 0.917, 'pos': 0.0, 'compound': -0.25}\n",
      "9z0Zer0.txt: {'neg': 0.0, 'neu': 1.0, 'pos': 0.0, 'compound': 0.0}\n",
      "9gqnZz9.txt: {'neg': 0.092, 'neu': 0.708, 'pos': 0.2, 'compound': 0.3818}\n",
      "933WEaqM.txt: {'neg': 0.0, 'neu': 1.0, 'pos': 0.0, 'compound': 0.0}\n",
      "93wGwwAM.txt: {'neg': 0.24, 'neu': 0.632, 'pos': 0.128, 'compound': -0.872}\n"
     ]
    },
    {
     "name": "stderr",
     "output_type": "stream",
     "text": [
      "Analyzing Sentiment: 100%|████████████████████████████████████████████████████████████| 62/62 [00:00<00:00, 195.23it/s]\n"
     ]
    },
    {
     "name": "stdout",
     "output_type": "stream",
     "text": [
      "3NOGXgw3.txt: {'neg': 0.08, 'neu': 0.92, 'pos': 0.0, 'compound': -0.2732}\n",
      "93ZA1OXM.txt: {'neg': 0.0, 'neu': 0.894, 'pos': 0.106, 'compound': 0.5859}\n",
      "9V8PPV4.txt: {'neg': 0.13, 'neu': 0.725, 'pos': 0.145, 'compound': 0.0772}\n",
      "9d9mQr4.txt: {'neg': 0.0, 'neu': 0.828, 'pos': 0.172, 'compound': 0.6597}\n",
      "93DDElby.txt: {'neg': 0.0, 'neu': 1.0, 'pos': 0.0, 'compound': 0.0}\n",
      "93wrr9Oy.txt: {'neg': 0.0, 'neu': 0.847, 'pos': 0.153, 'compound': 0.3818}\n",
      "KGEdJaw.txt: {'neg': 0.0, 'neu': 0.92, 'pos': 0.08, 'compound': 0.2732}\n",
      "3NZ1b4Om.txt: {'neg': 0.0, 'neu': 0.69, 'pos': 0.31, 'compound': 0.6597}\n",
      "3NDlnKb5.txt: {'neg': 0.102, 'neu': 0.763, 'pos': 0.135, 'compound': 0.5994}\n",
      "93mg3AP0.txt: {'neg': 0.524, 'neu': 0.476, 'pos': 0.0, 'compound': -0.296}\n",
      "9eV5k1z.txt: {'neg': 0.046, 'neu': 0.886, 'pos': 0.068, 'compound': 0.6597}\n",
      "\n",
      "Making csv for actual label insertion....\n",
      "actual label csv successfully saved!\n",
      "\n",
      "\n",
      "Getting sentiments for language: Bengali\n",
      "\n",
      "Analyzing Folder: sharechat_scraper/updated_tesseract/Bengali/5ZEBpp_Bengali/\n"
     ]
    },
    {
     "name": "stderr",
     "output_type": "stream",
     "text": [
      "\r",
      "Analyzing Sentiment:   0%|                                                                      | 0/52 [00:00<?, ?it/s]"
     ]
    },
    {
     "name": "stdout",
     "output_type": "stream",
     "text": [
      "35k0yrw.txt: {'neg': 0.039, 'neu': 0.888, 'pos': 0.073, 'compound': 0.7096}\n",
      "3vpzwb5.txt: {'neg': 0.067, 'neu': 0.817, 'pos': 0.116, 'compound': 0.3182}\n",
      "b1blz6Q.txt: {'neg': 0.0, 'neu': 1.0, 'pos': 0.0, 'compound': 0.0}\n",
      "b1B3bvJ.txt: {'neg': 0.0, 'neu': 1.0, 'pos': 0.0, 'compound': 0.0}\n",
      "3jj9l7j.txt: {'neg': 0.156, 'neu': 0.745, 'pos': 0.099, 'compound': -0.3612}\n",
      "3XkRkA3.txt: {'neg': 0.0, 'neu': 1.0, 'pos': 0.0, 'compound': 0.0}\n",
      "bvQeN7DO.txt: {'neg': 0.0, 'neu': 1.0, 'pos': 0.0, 'compound': 0.0}\n",
      "rj3E3K5.txt: {'neg': 0.079, 'neu': 0.816, 'pos': 0.105, 'compound': 0.3612}\n",
      "rJ5xl37.txt: {'neg': 0.095, 'neu': 0.905, 'pos': 0.0, 'compound': -0.7269}\n",
      "rvaxyX3.txt: {'neg': 0.037, 'neu': 0.879, 'pos': 0.083, 'compound': 0.7203}\n",
      "be1BBzy.txt: {'neg': 0.0, 'neu': 1.0, 'pos': 0.0, 'compound': 0.0}\n",
      "rBzlwD3.txt: {'neg': 0.0, 'neu': 1.0, 'pos': 0.0, 'compound': 0.0}\n",
      "bjOnXkO.txt: {'neg': 0.0, 'neu': 0.833, 'pos': 0.167, 'compound': 0.1027}\n",
      "3j4KWMX.txt: {'neg': 0.195, 'neu': 0.805, 'pos': 0.0, 'compound': -0.5574}\n",
      "3a3x9bK.txt: {'neg': 0.0, 'neu': 1.0, 'pos': 0.0, 'compound': 0.0}\n",
      "gRpvk7M.txt: {'neg': 0.438, 'neu': 0.562, 'pos': 0.0, 'compound': -0.5994}\n",
      "bB4BpwQ.txt: {'neg': 0.0, 'neu': 0.826, 'pos': 0.174, 'compound': 0.4215}\n"
     ]
    },
    {
     "name": "stderr",
     "output_type": "stream",
     "text": [
      "\r",
      "Analyzing Sentiment:  42%|█████████████████████████▍                                  | 22/52 [00:00<00:00, 209.88it/s]"
     ]
    },
    {
     "name": "stdout",
     "output_type": "stream",
     "text": [
      "bBpBENP.txt: {'neg': 0.0, 'neu': 1.0, 'pos': 0.0, 'compound': 0.0}\n",
      "bOwlZxP.txt: {'neg': 0.22, 'neu': 0.78, 'pos': 0.0, 'compound': -0.4767}\n",
      "3kJpXmm.txt: {'neg': 0.193, 'neu': 0.647, 'pos': 0.161, 'compound': -0.0387}\n",
      "bBrdvWO.txt: {'neg': 0.0, 'neu': 0.662, 'pos': 0.338, 'compound': 0.6249}\n",
      "bgnnVnP.txt: {'neg': 0.134, 'neu': 0.743, 'pos': 0.123, 'compound': -0.0772}\n",
      "bgj1ZB3.txt: {'neg': 0.145, 'neu': 0.65, 'pos': 0.205, 'compound': 0.3103}\n",
      "bxJaQ6D.txt: {'neg': 0.0, 'neu': 1.0, 'pos': 0.0, 'compound': 0.0}\n",
      "bm4AqyD.txt: {'neg': 0.0, 'neu': 1.0, 'pos': 0.0, 'compound': 0.0}\n",
      "bPdNeJQ.txt: {'neg': 0.088, 'neu': 0.815, 'pos': 0.097, 'compound': 0.3506}\n",
      "rJD4Xl5.txt: {'neg': 0.0, 'neu': 0.803, 'pos': 0.197, 'compound': 0.4019}\n",
      "bOMpNM3.txt: {'neg': 0.145, 'neu': 0.855, 'pos': 0.0, 'compound': -0.296}\n",
      "3j86WBX.txt: {'neg': 0.058, 'neu': 0.8, 'pos': 0.142, 'compound': 0.6059}\n",
      "grrMp43q.txt: {'neg': 0.383, 'neu': 0.617, 'pos': 0.0, 'compound': -0.4767}\n",
      "rKXV1ww.txt: {'neg': 0.087, 'neu': 0.913, 'pos': 0.0, 'compound': -0.3566}\n",
      "rJmN6Md.txt: {'neg': 0.0, 'neu': 0.915, 'pos': 0.085, 'compound': 0.4019}\n"
     ]
    },
    {
     "name": "stderr",
     "output_type": "stream",
     "text": [
      "\r",
      "Analyzing Sentiment:  83%|█████████████████████████████████████████████████▌          | 43/52 [00:00<00:00, 206.16it/s]"
     ]
    },
    {
     "name": "stdout",
     "output_type": "stream",
     "text": [
      "brxk3Vy.txt: {'neg': 0.0, 'neu': 1.0, 'pos': 0.0, 'compound': 0.0}\n",
      "3ggjaly.txt: {'neg': 0.104, 'neu': 0.836, 'pos': 0.059, 'compound': -0.8625}\n",
      "bjRrMq3.txt: {'neg': 0.0, 'neu': 0.484, 'pos': 0.516, 'compound': 0.4939}\n",
      "brlebQn.txt: {'neg': 0.093, 'neu': 0.691, 'pos': 0.217, 'compound': 0.6361}\n",
      "bnxWKO3.txt: {'neg': 0.145, 'neu': 0.855, 'pos': 0.0, 'compound': -0.296}\n",
      "3vBZkQZ.txt: {'neg': 0.206, 'neu': 0.794, 'pos': 0.0, 'compound': -0.7579}\n",
      "beAy6Ga.txt: {'neg': 0.096, 'neu': 0.835, 'pos': 0.069, 'compound': -0.3612}\n",
      "bVv6wVD.txt: {'neg': 0.0, 'neu': 1.0, 'pos': 0.0, 'compound': 0.0}\n",
      "38ZdRBX.txt: {'neg': 0.109, 'neu': 0.787, 'pos': 0.104, 'compound': -0.4963}\n",
      "3A4BAO3.txt: {'neg': 0.0, 'neu': 0.96, 'pos': 0.04, 'compound': 0.0772}\n"
     ]
    },
    {
     "name": "stderr",
     "output_type": "stream",
     "text": [
      "Analyzing Sentiment: 100%|████████████████████████████████████████████████████████████| 52/52 [00:00<00:00, 201.47it/s]\n"
     ]
    },
    {
     "name": "stdout",
     "output_type": "stream",
     "text": [
      "3g80E1y.txt: {'neg': 0.055, 'neu': 0.859, 'pos': 0.086, 'compound': 0.128}\n",
      "3QxwD03.txt: {'neg': 0.0, 'neu': 1.0, 'pos': 0.0, 'compound': 0.0}\n",
      "bR1PepD.txt: {'neg': 0.063, 'neu': 0.863, 'pos': 0.074, 'compound': 0.6718}\n",
      "Analyzing Folder: sharechat_scraper/updated_tesseract/Bengali/lew5Am_Bengali/\n"
     ]
    },
    {
     "name": "stderr",
     "output_type": "stream",
     "text": [
      "\r",
      "Analyzing Sentiment:   0%|                                                                     | 0/130 [00:00<?, ?it/s]"
     ]
    },
    {
     "name": "stdout",
     "output_type": "stream",
     "text": [
      "gaXB35z.txt: {'neg': 0.096, 'neu': 0.815, 'pos': 0.09, 'compound': -0.4497}\n",
      "gryWgX5q.txt: {'neg': 0.762, 'neu': 0.238, 'pos': 0.0, 'compound': -0.4939}\n",
      "gJM9O57.txt: {'neg': 0.067, 'neu': 0.809, 'pos': 0.125, 'compound': 0.875}\n",
      "bvORnplD.txt: {'neg': 0.0, 'neu': 1.0, 'pos': 0.0, 'compound': 0.0}\n"
     ]
    },
    {
     "name": "stderr",
     "output_type": "stream",
     "text": [
      "\r",
      "Analyzing Sentiment:  15%|█████████                                                  | 20/130 [00:00<00:00, 191.94it/s]"
     ]
    },
    {
     "name": "stdout",
     "output_type": "stream",
     "text": [
      "gxzRr31.txt: {'neg': 0.096, 'neu': 0.846, 'pos': 0.058, 'compound': -0.4404}\n",
      "grOEbA9e.txt: {'neg': 0.074, 'neu': 0.747, 'pos': 0.179, 'compound': 0.9921}\n",
      "grGz7lb7.txt: {'neg': 0.029, 'neu': 0.91, 'pos': 0.062, 'compound': 0.8156}\n",
      "grrqnGq7.txt: {'neg': 0.084, 'neu': 0.847, 'pos': 0.069, 'compound': -0.7438}\n",
      "bvGA3dmQ.txt: {'neg': 0.088, 'neu': 0.715, 'pos': 0.197, 'compound': 0.7878}\n",
      "grrrXnJQ.txt: {'neg': 0.0, 'neu': 1.0, 'pos': 0.0, 'compound': 0.0}\n",
      "grbw05M1.txt: {'neg': 0.08, 'neu': 0.691, 'pos': 0.229, 'compound': 0.6249}\n",
      "r1Vx67bw.txt: {'neg': 0.091, 'neu': 0.798, 'pos': 0.11, 'compound': 0.128}\n",
      "gRMOPKq.txt: {'neg': 0.071, 'neu': 0.929, 'pos': 0.0, 'compound': -0.296}\n",
      "gaBzR9J.txt: {'neg': 0.108, 'neu': 0.892, 'pos': 0.0, 'compound': -0.6249}\n",
      "r1Www1ld.txt: {'neg': 0.0, 'neu': 0.852, 'pos': 0.148, 'compound': 0.6369}\n",
      "g4Bxl1e.txt: {'neg': 0.098, 'neu': 0.788, 'pos': 0.114, 'compound': 0.7131}\n",
      "gryD4nWq.txt: {'neg': 0.0, 'neu': 1.0, 'pos': 0.0, 'compound': 0.0}\n",
      "grebq4je.txt: {'neg': 0.067, 'neu': 0.888, 'pos': 0.045, 'compound': -0.7219}\n",
      "bvNQw6ea.txt: {'neg': 0.048, 'neu': 0.843, 'pos': 0.109, 'compound': 0.9308}\n",
      "grlEy7q7.txt: {'neg': 0.087, 'neu': 0.8, 'pos': 0.113, 'compound': 0.2023}\n",
      "gRNaMOb.txt: {'neg': 0.032, 'neu': 0.968, 'pos': 0.0, 'compound': -0.1139}\n",
      "grGzRZDQ.txt: {'neg': 0.056, 'neu': 0.858, 'pos': 0.086, 'compound': 0.8381}\n"
     ]
    },
    {
     "name": "stderr",
     "output_type": "stream",
     "text": [
      "\r",
      "Analyzing Sentiment:  33%|███████████████████▌                                       | 43/130 [00:00<00:00, 198.02it/s]"
     ]
    },
    {
     "name": "stdout",
     "output_type": "stream",
     "text": [
      "grGl8kbM.txt: {'neg': 0.193, 'neu': 0.807, 'pos': 0.0, 'compound': -0.9274}\n",
      "r1WAMq4B.txt: {'neg': 0.0, 'neu': 1.0, 'pos': 0.0, 'compound': 0.0}\n",
      "bvm51AQD.txt: {'neg': 0.0, 'neu': 1.0, 'pos': 0.0, 'compound': 0.0}\n",
      "33Aa5Qn.txt: {'neg': 0.0, 'neu': 1.0, 'pos': 0.0, 'compound': 0.0}\n",
      "gRNklXM.txt: {'neg': 0.142, 'neu': 0.733, 'pos': 0.125, 'compound': -0.1027}\n",
      "gO0OJzJ.txt: {'neg': 0.089, 'neu': 0.911, 'pos': 0.0, 'compound': -0.5423}\n",
      "bDXlPgP.txt: {'neg': 0.0, 'neu': 1.0, 'pos': 0.0, 'compound': 0.0}\n",
      "bvyGW9GJ.txt: {'neg': 0.238, 'neu': 0.762, 'pos': 0.0, 'compound': -0.3612}\n",
      "gOxRmAb.txt: {'neg': 0.154, 'neu': 0.846, 'pos': 0.0, 'compound': -0.4767}\n",
      "bvNDym1a.txt: {'neg': 0.0, 'neu': 0.759, 'pos': 0.241, 'compound': 0.4215}\n",
      "grNwla8e.txt: {'neg': 0.0, 'neu': 1.0, 'pos': 0.0, 'compound': 0.0}\n",
      "bvmWQ911.txt: {'neg': 0.0, 'neu': 1.0, 'pos': 0.0, 'compound': 0.0}\n",
      "3NNdwPy3.txt: {'neg': 0.0, 'neu': 0.856, 'pos': 0.144, 'compound': 0.4939}\n",
      "bKpDMB3.txt: {'neg': 0.096, 'neu': 0.786, 'pos': 0.118, 'compound': 0.128}\n",
      "r170y967.txt: {'neg': 0.0, 'neu': 0.763, 'pos': 0.237, 'compound': 0.4215}\n",
      "gDyPyP1.txt: {'neg': 0.0, 'neu': 1.0, 'pos': 0.0, 'compound': 0.0}\n"
     ]
    },
    {
     "name": "stderr",
     "output_type": "stream",
     "text": [
      "\r",
      "Analyzing Sentiment:  52%|██████████████████████████████▊                            | 68/130 [00:00<00:00, 207.40it/s]"
     ]
    },
    {
     "name": "stdout",
     "output_type": "stream",
     "text": [
      "grAJ94zz.txt: {'neg': 0.06, 'neu': 0.801, 'pos': 0.139, 'compound': 0.4118}\n",
      "bz64lqP.txt: {'neg': 0.0, 'neu': 0.928, 'pos': 0.072, 'compound': 0.1027}\n",
      "rayd1yE.txt: {'neg': 0.0, 'neu': 0.923, 'pos': 0.077, 'compound': 0.2732}\n",
      "grkEQ8bA.txt: {'neg': 0.03, 'neu': 0.882, 'pos': 0.088, 'compound': 0.9399}\n",
      "grAg5dA6.txt: {'neg': 0.0, 'neu': 1.0, 'pos': 0.0, 'compound': 0.0}\n",
      "bvQW8PNP.txt: {'neg': 0.0, 'neu': 1.0, 'pos': 0.0, 'compound': 0.0}\n",
      "r1GXE3X1.txt: {'neg': 0.068, 'neu': 0.932, 'pos': 0.0, 'compound': -0.4404}\n",
      "bZpzQ8a.txt: {'neg': 0.0, 'neu': 1.0, 'pos': 0.0, 'compound': 0.0}\n",
      "gxbA8g1.txt: {'neg': 0.025, 'neu': 0.883, 'pos': 0.092, 'compound': 0.9688}\n",
      "bvyzOKja.txt: {'neg': 0.0, 'neu': 1.0, 'pos': 0.0, 'compound': 0.0}\n",
      "grlenryJ.txt: {'neg': 0.171, 'neu': 0.829, 'pos': 0.0, 'compound': -0.4767}\n",
      "ra1001B.txt: {'neg': 0.068, 'neu': 0.801, 'pos': 0.132, 'compound': 0.7316}\n",
      "37DqMWn.txt: {'neg': 0.0, 'neu': 0.522, 'pos': 0.478, 'compound': 0.6705}\n",
      "r80kpbb.txt: {'neg': 0.0, 'neu': 1.0, 'pos': 0.0, 'compound': 0.0}\n",
      "r1JrzJW3.txt: {'neg': 0.0, 'neu': 0.543, 'pos': 0.457, 'compound': 0.7096}"
     ]
    },
    {
     "name": "stderr",
     "output_type": "stream",
     "text": [
      "\r",
      "Analyzing Sentiment:  69%|████████████████████████████████████████▊                  | 90/130 [00:00<00:00, 206.28it/s]"
     ]
    },
    {
     "name": "stdout",
     "output_type": "stream",
     "text": [
      "\n",
      "bZrlw11.txt: {'neg': 0.104, 'neu': 0.896, 'pos': 0.0, 'compound': -0.296}\n",
      "rabxQED.txt: {'neg': 0.0, 'neu': 1.0, 'pos': 0.0, 'compound': 0.0}\n",
      "grOpnvn1.txt: {'neg': 0.0, 'neu': 0.766, 'pos': 0.234, 'compound': 0.7269}\n",
      "gX3vQWA.txt: {'neg': 0.691, 'neu': 0.309, 'pos': 0.0, 'compound': -0.7717}\n",
      "bvWJrEzn.txt: {'neg': 0.0, 'neu': 1.0, 'pos': 0.0, 'compound': 0.0}\n"
     ]
    },
    {
     "name": "stderr",
     "output_type": "stream",
     "text": [
      "Analyzing Sentiment: 100%|██████████████████████████████████████████████████████████| 130/130 [00:00<00:00, 210.36it/s]\n"
     ]
    },
    {
     "name": "stdout",
     "output_type": "stream",
     "text": [
      "grkl6bXz.txt: {'neg': 0.0, 'neu': 0.542, 'pos': 0.458, 'compound': 0.8074}\n",
      "bvyX5bXX.txt: {'neg': 0.445, 'neu': 0.365, 'pos': 0.19, 'compound': -0.5423}\n",
      "gryqNjlb.txt: {'neg': 0.065, 'neu': 0.853, 'pos': 0.082, 'compound': 0.1531}\n",
      "rnndvgd.txt: {'neg': 0.22, 'neu': 0.563, 'pos': 0.217, 'compound': -0.0276}\n",
      "bvvyaJrJ.txt: {'neg': 0.042, 'neu': 0.872, 'pos': 0.087, 'compound': 0.5789}\n",
      "bkZlxa1.txt: {'neg': 0.0, 'neu': 1.0, 'pos': 0.0, 'compound': 0.0}\n",
      "bvvjjdnn.txt: {'neg': 0.0, 'neu': 0.625, 'pos': 0.375, 'compound': 0.34}\n",
      "bvOjDdmy.txt: {'neg': 0.017, 'neu': 0.901, 'pos': 0.082, 'compound': 0.8126}\n",
      "bvQvPnkP.txt: {'neg': 0.0, 'neu': 1.0, 'pos': 0.0, 'compound': 0.0}\n",
      "grl3Z9bQ.txt: {'neg': 0.0, 'neu': 1.0, 'pos': 0.0, 'compound': 0.0}\n",
      "Analyzing Folder: sharechat_scraper/updated_tesseract/Bengali/m6d09W_Bengali/\n"
     ]
    },
    {
     "name": "stderr",
     "output_type": "stream",
     "text": [
      "\r",
      "Analyzing Sentiment:   0%|                                                                      | 0/94 [00:00<?, ?it/s]"
     ]
    },
    {
     "name": "stdout",
     "output_type": "stream",
     "text": [
      "g00VXzq.txt: {'neg': 0.0, 'neu': 1.0, 'pos': 0.0, 'compound': 0.0}"
     ]
    },
    {
     "name": "stderr",
     "output_type": "stream",
     "text": [
      "\r",
      "Analyzing Sentiment:  19%|███████████▍                                                | 18/94 [00:00<00:00, 178.84it/s]"
     ]
    },
    {
     "name": "stdout",
     "output_type": "stream",
     "text": [
      "\n",
      "grzaNp0A.txt: {'neg': 0.0, 'neu': 0.837, 'pos': 0.163, 'compound': 0.5106}\n",
      "gmxag8q.txt: {'neg': 0.0, 'neu': 0.714, 'pos': 0.286, 'compound': 0.8625}\n",
      "gWKgn6z.txt: {'neg': 0.0, 'neu': 0.849, 'pos': 0.151, 'compound': 0.6808}\n",
      "gWn3K61.txt: {'neg': 0.0, 'neu': 0.946, 'pos': 0.054, 'compound': 0.2732}\n",
      "grAJM1X1.txt: {'neg': 0.014, 'neu': 0.836, 'pos': 0.15, 'compound': 0.9578}\n",
      "grNygeNz.txt: {'neg': 0.129, 'neu': 0.871, 'pos': 0.0, 'compound': -0.5994}\n",
      "gXXJzG1.txt: {'neg': 0.128, 'neu': 0.872, 'pos': 0.0, 'compound': -0.296}\n",
      "grk0Vl37.txt: {'neg': 0.0, 'neu': 1.0, 'pos': 0.0, 'compound': 0.0}\n",
      "grbky0DM.txt: {'neg': 0.0, 'neu': 0.815, 'pos': 0.185, 'compound': 0.6408}\n",
      "grrwvN7z.txt: {'neg': 0.246, 'neu': 0.754, 'pos': 0.0, 'compound': -0.2411}\n",
      "gDvx5O7.txt: {'neg': 0.137, 'neu': 0.752, 'pos': 0.111, 'compound': -0.9073}\n",
      "g9ApGdA.txt: {'neg': 0.128, 'neu': 0.872, 'pos': 0.0, 'compound': -0.296}\n",
      "gry1OqOq.txt: {'neg': 0.0, 'neu': 1.0, 'pos': 0.0, 'compound': 0.0}\n",
      "grAbvBve.txt: {'neg': 0.0, 'neu': 1.0, 'pos': 0.0, 'compound': 0.0}\n",
      "gxRX1eb.txt: {'neg': 0.104, 'neu': 0.827, 'pos': 0.069, 'compound': -0.891}\n",
      "grlZMJWJ.txt: {'neg': 0.105, 'neu': 0.803, 'pos': 0.092, 'compound': -0.8088}\n",
      "gmAZQ0q.txt: {'neg': 0.053, 'neu': 0.947, 'pos': 0.0, 'compound': -0.0772}\n",
      "grrnppXe.txt: {'neg': 0.0, 'neu': 0.765, 'pos': 0.235, 'compound': 0.4728}\n",
      "gJKvPBJ.txt: {'neg': 0.051, 'neu': 0.749, 'pos': 0.2, 'compound': 0.8979}\n",
      "grlDZGQz.txt: {'neg': 0.0, 'neu': 1.0, 'pos': 0.0, 'compound': 0.0}\n",
      "gznMDGb.txt: {'neg': 0.191, 'neu': 0.522, 'pos': 0.287, 'compound': 0.2732}\n",
      "g4O16r6.txt: {'neg': 0.0, 'neu': 0.943, 'pos': 0.057, 'compound': 0.2732}\n",
      "gJWDwwQ.txt: {'neg': 0.0, 'neu': 0.738, 'pos': 0.262, 'compound': 0.4927}\n",
      "gdrP4wJ.txt: {'neg': 0.101, 'neu': 0.817, 'pos': 0.083, 'compound': -0.9336}\n",
      "gr0XjVOb.txt: {'neg': 0.0, 'neu': 0.745, 'pos': 0.255, 'compound': 0.9136}\n",
      "grynXbN1.txt: {'neg': 0.057, 'neu': 0.859, 'pos': 0.083, 'compound': 0.25}\n",
      "gRxp441.txt: {'neg': 0.053, 'neu': 0.947, 'pos': 0.0, 'compound': -0.0772}\n",
      "gmxxmne.txt: {'neg': 0.085, 'neu': 0.862, 'pos': 0.054, 'compound': -0.9094}\n",
      "grla89le.txt: {'neg': 0.0, 'neu': 0.923, 'pos': 0.077, 'compound': 0.2732}\n"
     ]
    },
    {
     "name": "stderr",
     "output_type": "stream",
     "text": [
      "\r",
      "Analyzing Sentiment:  40%|████████████████████████▎                                   | 38/94 [00:00<00:00, 188.46it/s]"
     ]
    },
    {
     "name": "stdout",
     "output_type": "stream",
     "text": [
      "g7p85De.txt: {'neg': 0.0, 'neu': 1.0, 'pos': 0.0, 'compound': 0.0}\n",
      "g4pZrEq.txt: {'neg': 0.0, 'neu': 1.0, 'pos': 0.0, 'compound': 0.0}\n",
      "g4VMDG1.txt: {'neg': 0.139, 'neu': 0.861, 'pos': 0.0, 'compound': -0.2732}\n",
      "grr6vkZA.txt: {'neg': 0.111, 'neu': 0.642, 'pos': 0.247, 'compound': 0.4877}\n",
      "grA4Zzez.txt: {'neg': 0.0, 'neu': 1.0, 'pos': 0.0, 'compound': 0.0}\n",
      "gpwNEkM.txt: {'neg': 0.0, 'neu': 1.0, 'pos': 0.0, 'compound': 0.0}\n",
      "grG9XJlA.txt: {'neg': 0.0, 'neu': 1.0, 'pos': 0.0, 'compound': 0.0}\n",
      "gxXWZNM.txt: {'neg': 0.0, 'neu': 1.0, 'pos': 0.0, 'compound': 0.0}\n",
      "gRPWyeM.txt: {'neg': 0.067, 'neu': 0.838, 'pos': 0.095, 'compound': 0.8716}\n"
     ]
    },
    {
     "name": "stderr",
     "output_type": "stream",
     "text": [
      "Analyzing Sentiment:  86%|███████████████████████████████████████████████████▋        | 81/94 [00:00<00:00, 194.67it/s]"
     ]
    },
    {
     "name": "stdout",
     "output_type": "stream",
     "text": [
      "gxvxmXM.txt: {'neg': 0.102, 'neu': 0.801, 'pos': 0.097, 'compound': -0.4184}\n",
      "gB5rPM7.txt: {'neg': 0.044, 'neu': 0.913, 'pos': 0.043, 'compound': -0.3421}\n",
      "ggXkpW7.txt: {'neg': 0.083, 'neu': 0.827, 'pos': 0.09, 'compound': 0.0516}\n",
      "g0jXV9A.txt: {'neg': 0.0, 'neu': 1.0, 'pos': 0.0, 'compound': 0.0}\n",
      "ggKdb1b.txt: {'neg': 0.0, 'neu': 0.48, 'pos': 0.52, 'compound': 0.9657}\n",
      "grr7bjRJ.txt: {'neg': 0.247, 'neu': 0.753, 'pos': 0.0, 'compound': -0.3182}\n",
      "greGz3zJ.txt: {'neg': 0.113, 'neu': 0.649, 'pos': 0.238, 'compound': 0.4404}\n",
      "g0x4E4z.txt: {'neg': 0.0, 'neu': 1.0, 'pos': 0.0, 'compound': 0.0}\n",
      "grl3nKwb.txt: {'neg': 0.094, 'neu': 0.773, 'pos': 0.133, 'compound': 0.2263}\n",
      "grAREQWQ.txt: {'neg': 0.115, 'neu': 0.822, 'pos': 0.063, 'compound': -0.6369}\n",
      "grk033Q6.txt: {'neg': 0.153, 'neu': 0.847, 'pos': 0.0, 'compound': -0.631}\n",
      "grNEO7lA.txt: {'neg': 0.281, 'neu': 0.719, 'pos': 0.0, 'compound': -0.6666}\n",
      "grGOlQVJ.txt: {'neg': 0.143, 'neu': 0.711, 'pos': 0.146, 'compound': 0.2681}\n",
      "g7wkZaA.txt: {'neg': 0.011, 'neu': 0.847, 'pos': 0.142, 'compound': 0.969}\n",
      "grAkXq16.txt: {'neg': 0.027, 'neu': 0.852, 'pos': 0.121, 'compound': 0.9865}\n",
      "grOZzEqq.txt: {'neg': 0.0, 'neu': 1.0, 'pos': 0.0, 'compound': 0.0}\n",
      "gaqa9k1.txt: {'neg': 0.0, 'neu': 1.0, 'pos': 0.0, 'compound': 0.0}\n",
      "gB9npXe.txt: {'neg': 0.0, 'neu': 0.906, 'pos': 0.094, 'compound': 0.4019}\n",
      "gPG3ylQ.txt: {'neg': 0.0, 'neu': 1.0, 'pos': 0.0, 'compound': 0.0}\n",
      "ggXegq7.txt: {'neg': 0.048, 'neu': 0.848, 'pos': 0.103, 'compound': 0.9735}\n",
      "gRGO767.txt: {'neg': 0.0, 'neu': 0.956, 'pos': 0.044, 'compound': 0.25}\n",
      "grbBkkg6.txt: {'neg': 0.0, 'neu': 1.0, 'pos': 0.0, 'compound': 0.0}\n",
      "grbzERrq.txt: {'neg': 0.103, 'neu': 0.828, 'pos': 0.069, 'compound': -0.9419}\n",
      "gpxaZRz.txt: {'neg': 0.069, 'neu': 0.853, 'pos': 0.078, 'compound': 0.4767}\n",
      "ggpddWQ.txt: {'neg': 0.202, 'neu': 0.798, 'pos': 0.0, 'compound': -0.8225}\n",
      "grO78lQ6.txt: {'neg': 0.09, 'neu': 0.84, 'pos': 0.07, 'compound': -0.8591}\n",
      "g9BAqE1.txt: {'neg': 0.0, 'neu': 1.0, 'pos': 0.0, 'compound': 0.0}\n",
      "g4gOjXz.txt: {'neg': 0.0, 'neu': 1.0, 'pos': 0.0, 'compound': 0.0}\n",
      "gqlBBr7.txt: {'neg': 0.0, 'neu': 0.526, 'pos': 0.474, 'compound': 0.4019}\n",
      "gJAy776.txt: {'neg': 0.112, 'neu': 0.84, 'pos': 0.048, 'compound': -0.9796}\n",
      "gxP03nJ.txt: {'neg': 0.089, 'neu': 0.816, 'pos': 0.096, 'compound': -0.3291}\n",
      "gr085r9e.txt: {'neg': 0.0, 'neu': 0.613, 'pos': 0.387, 'compound': 0.8945}\n",
      "gdlrwk1.txt: {'neg': 0.0, 'neu': 1.0, 'pos': 0.0, 'compound': 0.0}\n",
      "gO4Aam1.txt: {'neg': 0.0, 'neu': 1.0, 'pos': 0.0, 'compound': 0.0}\n",
      "gdzJWdJ.txt: {'neg': 0.171, 'neu': 0.829, 'pos': 0.0, 'compound': -0.5423}\n",
      "ga0rNR6.txt: {'neg': 0.0, 'neu': 1.0, 'pos': 0.0, 'compound': 0.0}\n",
      "g4d1DZz.txt: {'neg': 0.238, 'neu': 0.695, 'pos': 0.067, 'compound': -0.93}\n",
      "grzgndVM.txt: {'neg': 0.008, 'neu': 0.887, 'pos': 0.105, 'compound': 0.969}\n",
      "gjbdwdM.txt: {'neg': 0.117, 'neu': 0.809, 'pos': 0.074, 'compound': -0.3182}\n"
     ]
    },
    {
     "name": "stderr",
     "output_type": "stream",
     "text": [
      "Analyzing Sentiment: 100%|████████████████████████████████████████████████████████████| 94/94 [00:00<00:00, 194.83it/s]\n"
     ]
    },
    {
     "name": "stdout",
     "output_type": "stream",
     "text": [
      "Analyzing Folder: sharechat_scraper/updated_tesseract/Bengali/VO6Zjy_Bengali/\n"
     ]
    },
    {
     "name": "stderr",
     "output_type": "stream",
     "text": [
      "Analyzing Sentiment:   9%|█████▎                                                     | 21/232 [00:00<00:01, 191.82it/s]"
     ]
    },
    {
     "name": "stdout",
     "output_type": "stream",
     "text": [
      "4wAzE7Va.txt: {'neg': 0.0, 'neu': 0.776, 'pos': 0.224, 'compound': 0.3818}\n",
      "B6EX5wR.txt: {'neg': 0.0, 'neu': 1.0, 'pos': 0.0, 'compound': 0.0}\n",
      "g0ZDZdb.txt: {'neg': 0.105, 'neu': 0.832, 'pos': 0.064, 'compound': -0.9638}\n",
      "44NPlJQ.txt: {'neg': 0.0, 'neu': 0.813, 'pos': 0.187, 'compound': 0.7351}\n",
      "5JqNpAB.txt: {'neg': 0.0, 'neu': 0.941, 'pos': 0.059, 'compound': 0.34}\n",
      "Br6rRrR.txt: {'neg': 0.0, 'neu': 1.0, 'pos': 0.0, 'compound': 0.0}\n",
      "40KB951.txt: {'neg': 0.0, 'neu': 1.0, 'pos': 0.0, 'compound': 0.0}\n",
      "939naO39.txt: {'neg': 0.0, 'neu': 0.721, 'pos': 0.279, 'compound': 0.4767}\n",
      "4BwX8a1.txt: {'neg': 0.0, 'neu': 1.0, 'pos': 0.0, 'compound': 0.0}\n",
      "gj69b86.txt: {'neg': 0.054, 'neu': 0.862, 'pos': 0.084, 'compound': 0.8685}\n",
      "4XRqMAG.txt: {'neg': 0.0, 'neu': 1.0, 'pos': 0.0, 'compound': 0.0}\n",
      "4Dx7NXB.txt: {'neg': 0.0, 'neu': 1.0, 'pos': 0.0, 'compound': 0.0}\n",
      "4Ndedn8.txt: {'neg': 0.589, 'neu': 0.411, 'pos': 0.0, 'compound': -0.5106}\n",
      "9ZE77QM.txt: {'neg': 0.106, 'neu': 0.894, 'pos': 0.0, 'compound': -0.8591}\n",
      "Ny9J6mAp.txt: {'neg': 0.0, 'neu': 1.0, 'pos': 0.0, 'compound': 0.0}\n",
      "5KaeRAJ.txt: {'neg': 0.302, 'neu': 0.698, 'pos': 0.0, 'compound': -0.7574}\n"
     ]
    },
    {
     "name": "stderr",
     "output_type": "stream",
     "text": [
      "\r",
      "Analyzing Sentiment:  18%|██████████▋                                                | 42/232 [00:00<00:00, 201.45it/s]"
     ]
    },
    {
     "name": "stdout",
     "output_type": "stream",
     "text": [
      "9e5ZPwQ.txt: {'neg': 0.0, 'neu': 0.704, 'pos': 0.296, 'compound': 0.8588}\n",
      "4Djbrd1.txt: {'neg': 0.148, 'neu': 0.565, 'pos': 0.288, 'compound': 0.4069}\n",
      "4wqxpXxa.txt: {'neg': 0.0, 'neu': 1.0, 'pos': 0.0, 'compound': 0.0}\n",
      "4w8An7VB.txt: {'neg': 0.0, 'neu': 1.0, 'pos': 0.0, 'compound': 0.0}\n",
      "5aqElxEN.txt: {'neg': 0.0, 'neu': 1.0, 'pos': 0.0, 'compound': 0.0}\n",
      "grzVG0mq.txt: {'neg': 0.093, 'neu': 0.629, 'pos': 0.278, 'compound': 0.7351}\n",
      "4DW1b3v.txt: {'neg': 0.0, 'neu': 1.0, 'pos': 0.0, 'compound': 0.0}\n",
      "4kGm6r7.txt: {'neg': 0.0, 'neu': 0.366, 'pos': 0.634, 'compound': 0.6369}\n",
      "46w9aja.txt: {'neg': 0.011, 'neu': 0.856, 'pos': 0.134, 'compound': 0.9806}\n",
      "9Jd4KeX.txt: {'neg': 0.0, 'neu': 0.745, 'pos': 0.255, 'compound': 0.34}\n"
     ]
    },
    {
     "name": "stderr",
     "output_type": "stream",
     "text": [
      "\r",
      "Analyzing Sentiment:  29%|█████████████████                                          | 67/232 [00:00<00:00, 210.76it/s]"
     ]
    },
    {
     "name": "stdout",
     "output_type": "stream",
     "text": [
      "9xQrv1N.txt: {'neg': 0.043, 'neu': 0.644, 'pos': 0.313, 'compound': 0.8316}\n",
      "4byd4V1.txt: {'neg': 0.444, 'neu': 0.556, 'pos': 0.0, 'compound': -0.34}\n",
      "9b7Om4X.txt: {'neg': 0.0, 'neu': 1.0, 'pos': 0.0, 'compound': 0.0}\n",
      "939mJB1a.txt: {'neg': 0.0, 'neu': 0.836, 'pos': 0.164, 'compound': 0.5423}\n",
      "4zKgqA1.txt: {'neg': 0.0, 'neu': 0.0, 'pos': 1.0, 'compound': 0.34}\n",
      "gJQBeA7.txt: {'neg': 0.035, 'neu': 0.909, 'pos': 0.056, 'compound': 0.7509}\n",
      "9v05lj0.txt: {'neg': 0.0, 'neu': 1.0, 'pos': 0.0, 'compound': 0.0}\n",
      "4wz6Pav7.txt: {'neg': 0.031, 'neu': 0.739, 'pos': 0.229, 'compound': 0.8307}\n",
      "4w8KX7Q8.txt: {'neg': 0.0, 'neu': 0.755, 'pos': 0.245, 'compound': 0.0772}"
     ]
    },
    {
     "name": "stderr",
     "output_type": "stream",
     "text": [
      "\r",
      "Analyzing Sentiment:  39%|███████████████████████▏                                   | 91/232 [00:00<00:00, 217.11it/s]"
     ]
    },
    {
     "name": "stdout",
     "output_type": "stream",
     "text": [
      "\n",
      "4VDB06Q.txt: {'neg': 0.0, 'neu': 0.827, 'pos': 0.173, 'compound': 0.3182}\n",
      "9b8vnJz.txt: {'neg': 0.05, 'neu': 0.821, 'pos': 0.129, 'compound': 0.9922}\n",
      "93GmaK0a.txt: {'neg': 0.078, 'neu': 0.816, 'pos': 0.106, 'compound': 0.2023}\n",
      "grGnk356.txt: {'neg': 0.0, 'neu': 0.938, 'pos': 0.062, 'compound': 0.2732}\n",
      "4ByPNy8.txt: {'neg': 0.0, 'neu': 1.0, 'pos': 0.0, 'compound': 0.0}\n",
      "grenGOJ6.txt: {'neg': 0.03, 'neu': 0.926, 'pos': 0.044, 'compound': -0.2263}\n",
      "dM0wPgD.txt: {'neg': 0.341, 'neu': 0.659, 'pos': 0.0, 'compound': -0.561}\n"
     ]
    },
    {
     "name": "stderr",
     "output_type": "stream",
     "text": [
      "\r",
      "Analyzing Sentiment:  50%|████████████████████████████▊                             | 115/232 [00:00<00:00, 216.69it/s]"
     ]
    },
    {
     "name": "stdout",
     "output_type": "stream",
     "text": [
      "4zG4Dqa.txt: {'neg': 0.0, 'neu': 1.0, 'pos': 0.0, 'compound': 0.0}\n",
      "4wNdmNl3.txt: {'neg': 0.0, 'neu': 0.776, 'pos': 0.224, 'compound': 0.3818}\n",
      "9VblBKy.txt: {'neg': 0.067, 'neu': 0.637, 'pos': 0.296, 'compound': 0.936}\n",
      "97Nyw4a.txt: {'neg': 0.0, 'neu': 0.795, 'pos': 0.205, 'compound': 0.5994}\n",
      "93DnJzWN.txt: {'neg': 0.076, 'neu': 0.787, 'pos': 0.137, 'compound': 0.886}\n",
      "97jgPka.txt: {'neg': 0.0, 'neu': 1.0, 'pos': 0.0, 'compound': 0.0}\n",
      "4xMeB3v.txt: {'neg': 0.0, 'neu': 0.806, 'pos': 0.194, 'compound': 0.7882}\n",
      "4aJxJjG.txt: {'neg': 0.017, 'neu': 0.983, 'pos': 0.0, 'compound': -0.2732}\n"
     ]
    },
    {
     "name": "stderr",
     "output_type": "stream",
     "text": [
      "\r",
      "Analyzing Sentiment:  60%|██████████████████████████████████▊                       | 139/232 [00:00<00:00, 216.48it/s]"
     ]
    },
    {
     "name": "stdout",
     "output_type": "stream",
     "text": [
      "4B1RjlV.txt: {'neg': 0.0, 'neu': 1.0, 'pos': 0.0, 'compound': 0.0}\n",
      "GJG0njb.txt: {'neg': 0.0, 'neu': 0.908, 'pos': 0.092, 'compound': 0.6908}\n",
      "gXBJxAQ.txt: {'neg': 0.0, 'neu': 0.793, 'pos': 0.207, 'compound': 0.5256}\n",
      "9eQ0VE4.txt: {'neg': 0.0, 'neu': 1.0, 'pos': 0.0, 'compound': 0.0}\n"
     ]
    },
    {
     "name": "stderr",
     "output_type": "stream",
     "text": [
      "Analyzing Sentiment:  79%|██████████████████████████████████████████████            | 184/232 [00:00<00:00, 200.92it/s]"
     ]
    },
    {
     "name": "stdout",
     "output_type": "stream",
     "text": [
      "9e3DxEv.txt: {'neg': 1.0, 'neu': 0.0, 'pos': 0.0, 'compound': -0.5574}\n",
      "4NXeElG.txt: {'neg': 0.079, 'neu': 0.921, 'pos': 0.0, 'compound': -0.2023}\n",
      "4prxZ6B.txt: {'neg': 0.0, 'neu': 0.855, 'pos': 0.145, 'compound': 0.8807}\n",
      "4zDX6nv.txt: {'neg': 0.688, 'neu': 0.312, 'pos': 0.0, 'compound': -0.296}\n",
      "44Ad8yQ.txt: {'neg': 0.0, 'neu': 1.0, 'pos': 0.0, 'compound': 0.0}\n",
      "9bXyZQ9.txt: {'neg': 0.0, 'neu': 0.613, 'pos': 0.387, 'compound': 0.8584}\n",
      "93mGxdnX.txt: {'neg': 0.0, 'neu': 0.748, 'pos': 0.252, 'compound': 0.4019}\n",
      "4NGNAa1.txt: {'neg': 0.0, 'neu': 0.774, 'pos': 0.226, 'compound': 0.5423}\n",
      "g4vbMDe.txt: {'neg': 0.028, 'neu': 0.921, 'pos': 0.051, 'compound': 0.0772}\n",
      "5aNqpgyp.txt: {'neg': 0.0, 'neu': 1.0, 'pos': 0.0, 'compound': 0.0}\n",
      "9ZeaxMQ.txt: {'neg': 0.0, 'neu': 0.442, 'pos': 0.558, 'compound': 0.9118}\n",
      "9ylggRv.txt: {'neg': 0.0, 'neu': 0.909, 'pos': 0.091, 'compound': 0.4019}\n",
      "5aN79vW7.txt: {'neg': 0.583, 'neu': 0.417, 'pos': 0.0, 'compound': -0.4939}\n",
      "gjwdxmJ.txt: {'neg': 0.041, 'neu': 0.906, 'pos': 0.053, 'compound': 0.1655}\n",
      "4wwX5gVQ.txt: {'neg': 0.674, 'neu': 0.326, 'pos': 0.0, 'compound': -0.7351}\n"
     ]
    },
    {
     "name": "stderr",
     "output_type": "stream",
     "text": [
      "\r",
      "Analyzing Sentiment:  88%|███████████████████████████████████████████████████▎      | 205/232 [00:01<00:00, 179.80it/s]"
     ]
    },
    {
     "name": "stdout",
     "output_type": "stream",
     "text": [
      "gmNXAVb.txt: {'neg': 0.029, 'neu': 0.687, 'pos': 0.284, 'compound': 0.9839}\n",
      "40vQeqD.txt: {'neg': 0.0, 'neu': 1.0, 'pos': 0.0, 'compound': 0.0}\n"
     ]
    },
    {
     "name": "stderr",
     "output_type": "stream",
     "text": [
      "Analyzing Sentiment: 100%|██████████████████████████████████████████████████████████| 232/232 [00:01<00:00, 197.32it/s]\n"
     ]
    },
    {
     "name": "stdout",
     "output_type": "stream",
     "text": [
      "93mq6KV9.txt: {'neg': 0.0, 'neu': 0.774, 'pos': 0.226, 'compound': 0.5859}\n",
      "KyEROR3g.txt: {'neg': 0.0, 'neu': 1.0, 'pos': 0.0, 'compound': 0.0}\n",
      "4wlxg1QB.txt: {'neg': 0.352, 'neu': 0.549, 'pos': 0.099, 'compound': -0.8481}\n",
      "By48GBV.txt: {'neg': 0.0, 'neu': 0.909, 'pos': 0.091, 'compound': 0.0772}\n",
      "g9lKlZe.txt: {'neg': 0.119, 'neu': 0.758, 'pos': 0.123, 'compound': 0.0}\n",
      "93meaWrX.txt: {'neg': 0.0, 'neu': 0.707, 'pos': 0.293, 'compound': 0.4404}\n",
      "gDzyPAA.txt: {'neg': 0.036, 'neu': 0.901, 'pos': 0.063, 'compound': 0.82}\n",
      "45V7JXQ.txt: {'neg': 0.241, 'neu': 0.759, 'pos': 0.0, 'compound': -0.6597}\n",
      "Analyzing Folder: sharechat_scraper/updated_tesseract/Bengali/VO6ZVy_Bengali/\n"
     ]
    },
    {
     "name": "stderr",
     "output_type": "stream",
     "text": [
      "\r",
      "Analyzing Sentiment:   0%|                                                                      | 0/62 [00:00<?, ?it/s]"
     ]
    },
    {
     "name": "stdout",
     "output_type": "stream",
     "text": [
      "9b8ql9y.txt: {'neg': 0.047, 'neu': 0.915, 'pos': 0.038, 'compound': -0.1531}\n",
      "9zEnV3X.txt: {'neg': 0.0, 'neu': 1.0, 'pos': 0.0, 'compound': 0.0}\n",
      "9dABPma.txt: {'neg': 0.0, 'neu': 1.0, 'pos': 0.0, 'compound': 0.0}\n",
      "9dkPGn0.txt: {'neg': 0.028, 'neu': 0.818, 'pos': 0.154, 'compound': 0.9643}\n",
      "9rX8OZQ.txt: {'neg': 0.536, 'neu': 0.464, 'pos': 0.0, 'compound': -0.9325}\n",
      "gmvb0JA.txt: {'neg': 0.0, 'neu': 1.0, 'pos': 0.0, 'compound': 0.0}\n",
      "9Qr8r00.txt: {'neg': 0.09, 'neu': 0.804, 'pos': 0.106, 'compound': 0.3818}\n",
      "3NOQr5VK.txt: {'neg': 0.0, 'neu': 1.0, 'pos': 0.0, 'compound': 0.0}\n",
      "933bdKOy.txt: {'neg': 0.0, 'neu': 1.0, 'pos': 0.0, 'compound': 0.0}\n",
      "9334MADQ.txt: {'neg': 0.027, 'neu': 0.943, 'pos': 0.03, 'compound': 0.0772}\n",
      "9kNwpkz.txt: {'neg': 0.0, 'neu': 0.743, 'pos': 0.257, 'compound': 0.5423}\n",
      "gxaWv0e.txt: {'neg': 0.079, 'neu': 0.788, 'pos': 0.133, 'compound': 0.3621}\n"
     ]
    },
    {
     "name": "stderr",
     "output_type": "stream",
     "text": [
      "\r",
      "Analyzing Sentiment:  29%|█████████████████▍                                          | 18/62 [00:00<00:00, 167.09it/s]"
     ]
    },
    {
     "name": "stdout",
     "output_type": "stream",
     "text": [
      "BzjXbRR.txt: {'neg': 0.0, 'neu': 0.909, 'pos': 0.091, 'compound': 0.1027}\n",
      "9eP1j49.txt: {'neg': 0.0, 'neu': 0.404, 'pos': 0.596, 'compound': 0.7096}\n",
      "931QnwzM.txt: {'neg': 0.0, 'neu': 0.88, 'pos': 0.12, 'compound': 0.6249}\n",
      "9NMApry.txt: {'neg': 0.0, 'neu': 1.0, 'pos': 0.0, 'compound': 0.0}\n",
      "93a9p87M.txt: {'neg': 0.0, 'neu': 0.977, 'pos': 0.023, 'compound': 0.1531}\n",
      "93wlp5QN.txt: {'neg': 0.02, 'neu': 0.797, 'pos': 0.183, 'compound': 0.9531}\n",
      "4wGERwxv.txt: {'neg': 0.0, 'neu': 0.876, 'pos': 0.124, 'compound': 0.34}\n",
      "NyEZKm74.txt: {'neg': 0.0, 'neu': 0.649, 'pos': 0.351, 'compound': 0.4019}\n",
      "9O7eZqM.txt: {'neg': 0.0, 'neu': 1.0, 'pos': 0.0, 'compound': 0.0}\n",
      "93DrVOaN.txt: {'neg': 0.145, 'neu': 0.799, 'pos': 0.056, 'compound': -0.6249}\n",
      "3nw8Okm.txt: {'neg': 0.0, 'neu': 0.849, 'pos': 0.151, 'compound': 0.6249}\n",
      "931yJAdN.txt: {'neg': 0.123, 'neu': 0.805, 'pos': 0.072, 'compound': -0.1779}\n"
     ]
    },
    {
     "name": "stderr",
     "output_type": "stream",
     "text": [
      "\r",
      "Analyzing Sentiment:  61%|████████████████████████████████████▊                       | 38/62 [00:00<00:00, 171.51it/s]"
     ]
    },
    {
     "name": "stdout",
     "output_type": "stream",
     "text": [
      "9xp4OrN.txt: {'neg': 0.0, 'neu': 0.755, 'pos': 0.245, 'compound': 0.8442}\n",
      "9xRNm3z.txt: {'neg': 0.156, 'neu': 0.844, 'pos': 0.0, 'compound': -0.2846}\n",
      "93a5eBJy.txt: {'neg': 0.083, 'neu': 0.917, 'pos': 0.0, 'compound': -0.25}\n",
      "9z0Zer0.txt: {'neg': 0.0, 'neu': 1.0, 'pos': 0.0, 'compound': 0.0}\n",
      "9gqnZz9.txt: {'neg': 0.092, 'neu': 0.708, 'pos': 0.2, 'compound': 0.3818}\n",
      "933WEaqM.txt: {'neg': 0.0, 'neu': 1.0, 'pos': 0.0, 'compound': 0.0}\n"
     ]
    },
    {
     "name": "stderr",
     "output_type": "stream",
     "text": [
      "\r",
      "Analyzing Sentiment:  94%|████████████████████████████████████████████████████████▏   | 58/62 [00:00<00:00, 173.31it/s]"
     ]
    },
    {
     "name": "stdout",
     "output_type": "stream",
     "text": [
      "93wGwwAM.txt: {'neg': 0.24, 'neu': 0.632, 'pos': 0.128, 'compound': -0.872}\n",
      "3NOGXgw3.txt: {'neg': 0.08, 'neu': 0.92, 'pos': 0.0, 'compound': -0.2732}\n",
      "93ZA1OXM.txt: {'neg': 0.0, 'neu': 0.868, 'pos': 0.132, 'compound': 0.5859}\n",
      "9V8PPV4.txt: {'neg': 0.13, 'neu': 0.725, 'pos': 0.145, 'compound': 0.0772}\n",
      "9d9mQr4.txt: {'neg': 0.0, 'neu': 0.828, 'pos': 0.172, 'compound': 0.6597}\n",
      "93DDElby.txt: {'neg': 0.0, 'neu': 1.0, 'pos': 0.0, 'compound': 0.0}\n",
      "93wrr9Oy.txt: {'neg': 0.0, 'neu': 0.847, 'pos': 0.153, 'compound': 0.3818}\n",
      "KGEdJaw.txt: {'neg': 0.0, 'neu': 0.92, 'pos': 0.08, 'compound': 0.2732}\n",
      "3NZ1b4Om.txt: {'neg': 0.0, 'neu': 0.69, 'pos': 0.31, 'compound': 0.6597}\n",
      "3NDlnKb5.txt: {'neg': 0.102, 'neu': 0.763, 'pos': 0.135, 'compound': 0.5994}\n",
      "93mg3AP0.txt: {'neg': 0.524, 'neu': 0.476, 'pos': 0.0, 'compound': -0.296}\n"
     ]
    },
    {
     "name": "stderr",
     "output_type": "stream",
     "text": [
      "Analyzing Sentiment: 100%|████████████████████████████████████████████████████████████| 62/62 [00:00<00:00, 169.85it/s]\n"
     ]
    },
    {
     "name": "stdout",
     "output_type": "stream",
     "text": [
      "9eV5k1z.txt: {'neg': 0.037, 'neu': 0.894, 'pos': 0.069, 'compound': 0.7579}\n",
      "\n",
      "Making csv for actual label insertion....\n",
      "actual label csv successfully saved!\n",
      "\n",
      "\n",
      "Getting sentiments for language: Punjabi\n",
      "\n",
      "Analyzing Folder: sharechat_scraper/updated_tesseract/Punjabi/5ZEBpp_Punjabi/\n"
     ]
    },
    {
     "name": "stderr",
     "output_type": "stream",
     "text": [
      "\r",
      "Analyzing Sentiment:   0%|                                                                      | 0/52 [00:00<?, ?it/s]"
     ]
    },
    {
     "name": "stdout",
     "output_type": "stream",
     "text": [
      "35k0yrw.txt: {'neg': 0.041, 'neu': 0.881, 'pos': 0.078, 'compound': 0.7096}\n",
      "3vpzwb5.txt: {'neg': 0.0, 'neu': 0.863, 'pos': 0.137, 'compound': 0.4019}\n",
      "b1blz6Q.txt: {'neg': 0.0, 'neu': 1.0, 'pos': 0.0, 'compound': 0.0}\n",
      "b1B3bvJ.txt: {'neg': 0.0, 'neu': 0.435, 'pos': 0.565, 'compound': 0.5994}\n",
      "3jj9l7j.txt: {'neg': 0.149, 'neu': 0.693, 'pos': 0.158, 'compound': 0.1027}\n",
      "3XkRkA3.txt: {'neg': 0.0, 'neu': 1.0, 'pos': 0.0, 'compound': 0.0}\n",
      "bvQeN7DO.txt: {'neg': 0.0, 'neu': 1.0, 'pos': 0.0, 'compound': 0.0}\n",
      "rj3E3K5.txt: {'neg': 0.16, 'neu': 0.84, 'pos': 0.0, 'compound': -0.6249}\n",
      "rJ5xl37.txt: {'neg': 0.105, 'neu': 0.895, 'pos': 0.0, 'compound': -0.7269}\n",
      "rvaxyX3.txt: {'neg': 0.039, 'neu': 0.875, 'pos': 0.087, 'compound': 0.7203}\n"
     ]
    },
    {
     "name": "stderr",
     "output_type": "stream",
     "text": [
      "\r",
      "Analyzing Sentiment:  37%|█████████████████████▉                                      | 19/52 [00:00<00:00, 174.67it/s]"
     ]
    },
    {
     "name": "stdout",
     "output_type": "stream",
     "text": [
      "be1BBzy.txt: {'neg': 0.0, 'neu': 1.0, 'pos': 0.0, 'compound': 0.0}\n",
      "rBzlwD3.txt: {'neg': 0.0, 'neu': 1.0, 'pos': 0.0, 'compound': 0.0}\n",
      "bjOnXkO.txt: {'neg': 0.457, 'neu': 0.543, 'pos': 0.0, 'compound': -0.7096}\n",
      "3j4KWMX.txt: {'neg': 0.103, 'neu': 0.897, 'pos': 0.0, 'compound': -0.34}\n",
      "3a3x9bK.txt: {'neg': 0.0, 'neu': 0.731, 'pos': 0.269, 'compound': 0.582}\n",
      "gRpvk7M.txt: {'neg': 0.0, 'neu': 1.0, 'pos': 0.0, 'compound': 0.0}\n",
      "bB4BpwQ.txt: {'neg': 0.0, 'neu': 1.0, 'pos': 0.0, 'compound': 0.0}\n",
      "bBpBENP.txt: {'neg': 0.0, 'neu': 1.0, 'pos': 0.0, 'compound': 0.0}\n",
      "bOwlZxP.txt: {'neg': 0.279, 'neu': 0.721, 'pos': 0.0, 'compound': -0.4767}\n",
      "3kJpXmm.txt: {'neg': 0.236, 'neu': 0.764, 'pos': 0.0, 'compound': -0.5615}\n",
      "bBrdvWO.txt: {'neg': 0.0, 'neu': 0.564, 'pos': 0.436, 'compound': 0.4754}\n",
      "bgnnVnP.txt: {'neg': 0.0, 'neu': 1.0, 'pos': 0.0, 'compound': 0.0}\n",
      "bgj1ZB3.txt: {'neg': 0.271, 'neu': 0.685, 'pos': 0.045, 'compound': -0.9349}\n",
      "bxJaQ6D.txt: {'neg': 0.184, 'neu': 0.816, 'pos': 0.0, 'compound': -0.3089}\n"
     ]
    },
    {
     "name": "stderr",
     "output_type": "stream",
     "text": [
      "\r",
      "Analyzing Sentiment:  77%|██████████████████████████████████████████████▏             | 40/52 [00:00<00:00, 184.74it/s]"
     ]
    },
    {
     "name": "stdout",
     "output_type": "stream",
     "text": [
      "bPdNeJQ.txt: {'neg': 0.072, 'neu': 0.835, 'pos': 0.092, 'compound': 0.765}\n",
      "rJD4Xl5.txt: {'neg': 0.0, 'neu': 1.0, 'pos': 0.0, 'compound': 0.0}\n",
      "bOMpNM3.txt: {'neg': 0.155, 'neu': 0.845, 'pos': 0.0, 'compound': -0.296}\n",
      "3j86WBX.txt: {'neg': 0.202, 'neu': 0.655, 'pos': 0.143, 'compound': -0.6705}\n",
      "grrMp43q.txt: {'neg': 0.383, 'neu': 0.617, 'pos': 0.0, 'compound': -0.4767}\n",
      "rKXV1ww.txt: {'neg': 0.0, 'neu': 1.0, 'pos': 0.0, 'compound': 0.0}\n",
      "rJmN6Md.txt: {'neg': 0.0, 'neu': 1.0, 'pos': 0.0, 'compound': 0.0}\n",
      "brxk3Vy.txt: {'neg': 0.0, 'neu': 1.0, 'pos': 0.0, 'compound': 0.0}\n",
      "3ggjaly.txt: {'neg': 0.104, 'neu': 0.787, 'pos': 0.109, 'compound': 0.5555}\n",
      "brlebQn.txt: {'neg': 0.105, 'neu': 0.649, 'pos': 0.246, 'compound': 0.6361}\n",
      "bnxWKO3.txt: {'neg': 0.0, 'neu': 1.0, 'pos': 0.0, 'compound': 0.0}\n",
      "3vBZkQZ.txt: {'neg': 0.162, 'neu': 0.838, 'pos': 0.0, 'compound': -0.4767}\n",
      "beAy6Ga.txt: {'neg': 0.099, 'neu': 0.829, 'pos': 0.072, 'compound': -0.3612}\n",
      "bVv6wVD.txt: {'neg': 0.097, 'neu': 0.903, 'pos': 0.0, 'compound': -0.1027}\n",
      "38ZdRBX.txt: {'neg': 0.073, 'neu': 0.823, 'pos': 0.103, 'compound': 0.8935}\n",
      "3A4BAO3.txt: {'neg': 0.0, 'neu': 1.0, 'pos': 0.0, 'compound': 0.0}\n",
      "3g80E1y.txt: {'neg': 0.106, 'neu': 0.773, 'pos': 0.121, 'compound': 0.0772}\n",
      "3QxwD03.txt: {'neg': 0.0, 'neu': 1.0, 'pos': 0.0, 'compound': 0.0}\n"
     ]
    },
    {
     "name": "stderr",
     "output_type": "stream",
     "text": [
      "Analyzing Sentiment: 100%|████████████████████████████████████████████████████████████| 52/52 [00:00<00:00, 175.94it/s]\n"
     ]
    },
    {
     "name": "stdout",
     "output_type": "stream",
     "text": [
      "bR1PepD.txt: {'neg': 0.06, 'neu': 0.868, 'pos': 0.072, 'compound': 0.7351}\n",
      "Analyzing Folder: sharechat_scraper/updated_tesseract/Punjabi/lew5Am_Punjabi/\n"
     ]
    },
    {
     "name": "stderr",
     "output_type": "stream",
     "text": [
      "Analyzing Sentiment:  39%|███████████████████████▎                                    | 21/54 [00:00<00:00, 189.73it/s]"
     ]
    },
    {
     "name": "stdout",
     "output_type": "stream",
     "text": [
      "gryQ7lk6.txt: {'neg': 0.0, 'neu': 0.844, 'pos': 0.156, 'compound': 0.743}\n",
      "gM70Wbb.txt: {'neg': 0.0, 'neu': 0.838, 'pos': 0.162, 'compound': 0.4019}\n",
      "gdMBAb7.txt: {'neg': 0.115, 'neu': 0.833, 'pos': 0.052, 'compound': -0.4215}\n",
      "gJM9O57.txt: {'neg': 0.066, 'neu': 0.811, 'pos': 0.123, 'compound': 0.875}\n",
      "gxzRr31.txt: {'neg': 0.042, 'neu': 0.884, 'pos': 0.074, 'compound': 0.7783}\n",
      "gryAxjzq.txt: {'neg': 0.0, 'neu': 0.867, 'pos': 0.133, 'compound': 0.1531}\n",
      "gryaBXaA.txt: {'neg': 0.227, 'neu': 0.773, 'pos': 0.0, 'compound': -0.5096}\n",
      "gBgvB06.txt: {'neg': 0.021, 'neu': 0.853, 'pos': 0.125, 'compound': 0.8316}\n",
      "gB0qQlA.txt: {'neg': 0.214, 'neu': 0.485, 'pos': 0.301, 'compound': 0.2263}\n",
      "gBKXqkJ.txt: {'neg': 0.0, 'neu': 1.0, 'pos': 0.0, 'compound': 0.0}\n",
      "grbw05M1.txt: {'neg': 0.083, 'neu': 0.679, 'pos': 0.238, 'compound': 0.6249}\n",
      "gRMOPKq.txt: {'neg': 0.074, 'neu': 0.926, 'pos': 0.0, 'compound': -0.296}\n",
      "g4Bxl1e.txt: {'neg': 0.092, 'neu': 0.788, 'pos': 0.12, 'compound': 0.8813}\n",
      "gre7xOPz.txt: {'neg': 0.0, 'neu': 0.848, 'pos': 0.152, 'compound': 0.5267}\n",
      "gWJE3ke.txt: {'neg': 0.0, 'neu': 1.0, 'pos': 0.0, 'compound': 0.0}\n",
      "gxDQDEb.txt: {'neg': 0.103, 'neu': 0.758, 'pos': 0.139, 'compound': 0.8085}\n",
      "grGl8kbM.txt: {'neg': 0.102, 'neu': 0.898, 'pos': 0.0, 'compound': -0.7096}\n",
      "gzbDyPQ.txt: {'neg': 0.0, 'neu': 1.0, 'pos': 0.0, 'compound': 0.0}\n",
      "gjNKgA1.txt: {'neg': 0.094, 'neu': 0.837, 'pos': 0.069, 'compound': -0.8262}\n",
      "g0wp4dQ.txt: {'neg': 0.0, 'neu': 0.779, 'pos': 0.221, 'compound': 0.7964}\n",
      "gr0qM4gz.txt: {'neg': 0.021, 'neu': 0.853, 'pos': 0.125, 'compound': 0.8316}\n",
      "gaM48P6.txt: {'neg': 0.279, 'neu': 0.615, 'pos': 0.106, 'compound': -0.4767}\n",
      "gOxRmAb.txt: {'neg': 0.237, 'neu': 0.763, 'pos': 0.0, 'compound': -0.4767}\n",
      "gWnzDBz.txt: {'neg': 0.0, 'neu': 1.0, 'pos': 0.0, 'compound': 0.0}\n",
      "gg999x7.txt: {'neg': 0.0, 'neu': 1.0, 'pos': 0.0, 'compound': 0.0}\n",
      "gxnGd6q.txt: {'neg': 0.183, 'neu': 0.473, 'pos': 0.343, 'compound': 0.4019}\n",
      "gxbA8g1.txt: {'neg': 0.029, 'neu': 0.874, 'pos': 0.097, 'compound': 0.9645}\n",
      "grNq6ayz.txt: {'neg': 0.023, 'neu': 0.977, 'pos': 0.0, 'compound': -0.2023}\n",
      "greMEmae.txt: {'neg': 0.081, 'neu': 0.715, 'pos': 0.204, 'compound': 0.5346}\n",
      "gq0gVa1.txt: {'neg': 0.0, 'neu': 0.915, 'pos': 0.085, 'compound': 0.4767}\n",
      "grlenryJ.txt: {'neg': 0.0, 'neu': 1.0, 'pos': 0.0, 'compound': 0.0}\n"
     ]
    },
    {
     "name": "stderr",
     "output_type": "stream",
     "text": [
      "Analyzing Sentiment: 100%|████████████████████████████████████████████████████████████| 54/54 [00:00<00:00, 193.56it/s]\n"
     ]
    },
    {
     "name": "stdout",
     "output_type": "stream",
     "text": [
      "grNJvrNe.txt: {'neg': 0.12, 'neu': 0.749, 'pos': 0.131, 'compound': -0.4511}\n",
      "grkeEwD7.txt: {'neg': 0.0, 'neu': 1.0, 'pos': 0.0, 'compound': 0.0}\n",
      "gdD4Wk6.txt: {'neg': 0.0, 'neu': 1.0, 'pos': 0.0, 'compound': 0.0}\n",
      "gryy917b.txt: {'neg': 0.0, 'neu': 1.0, 'pos': 0.0, 'compound': 0.0}\n",
      "grOxVyWe.txt: {'neg': 0.079, 'neu': 0.837, 'pos': 0.084, 'compound': 0.0382}\n",
      "gjxz6mz.txt: {'neg': 0.0, 'neu': 1.0, 'pos': 0.0, 'compound': 0.0}\n",
      "gO40rWA.txt: {'neg': 0.0, 'neu': 1.0, 'pos': 0.0, 'compound': 0.0}\n",
      "gr03z9lz.txt: {'neg': 0.0, 'neu': 0.805, 'pos': 0.195, 'compound': 0.5267}\n",
      "grzbl8Nz.txt: {'neg': 0.22, 'neu': 0.78, 'pos': 0.0, 'compound': -0.4767}\n",
      "Analyzing Folder: sharechat_scraper/updated_tesseract/Punjabi/m6d09W_Punjabi/\n"
     ]
    },
    {
     "name": "stderr",
     "output_type": "stream",
     "text": [
      "\r",
      "Analyzing Sentiment:   0%|                                                                     | 0/139 [00:00<?, ?it/s]"
     ]
    },
    {
     "name": "stdout",
     "output_type": "stream",
     "text": [
      "gWRmeyM.txt: {'neg': 0.091, 'neu': 0.802, 'pos': 0.107, 'compound': 0.8084}\n",
      "gryBbK3M.txt: {'neg': 0.688, 'neu': 0.312, 'pos': 0.0, 'compound': -0.296}\n",
      "gX6GXW6.txt: {'neg': 0.208, 'neu': 0.792, 'pos': 0.0, 'compound': -0.6124}\n",
      "grb709Rz.txt: {'neg': 0.0, 'neu': 0.912, 'pos': 0.088, 'compound': 0.9571}\n",
      "3NNOA1OZ.txt: {'neg': 0.092, 'neu': 0.862, 'pos': 0.047, 'compound': -0.9787}\n",
      "gXXJzG1.txt: {'neg': 0.0, 'neu': 1.0, 'pos': 0.0, 'compound': 0.0}\n",
      "grGQJPne.txt: {'neg': 0.04, 'neu': 0.912, 'pos': 0.048, 'compound': 0.34}\n",
      "grO4xNve.txt: {'neg': 0.033, 'neu': 0.863, 'pos': 0.104, 'compound': 0.9773}\n",
      "g77nzqJ.txt: {'neg': 0.0, 'neu': 0.939, 'pos': 0.061, 'compound': 0.1779}\n",
      "3Q971El.txt: {'neg': 0.136, 'neu': 0.864, 'pos': 0.0, 'compound': -0.4588}\n",
      "gxD5Mb1.txt: {'neg': 0.051, 'neu': 0.883, 'pos': 0.066, 'compound': -0.0065}\n",
      "rMe4DaE.txt: {'neg': 0.0, 'neu': 1.0, 'pos': 0.0, 'compound': 0.0}\n",
      "gRGgZrb.txt: {'neg': 0.0, 'neu': 1.0, 'pos': 0.0, 'compound': 0.0}\n",
      "gJbk8G6.txt: {'neg': 0.058, 'neu': 0.665, 'pos': 0.277, 'compound': 0.8817}\n"
     ]
    },
    {
     "name": "stderr",
     "output_type": "stream",
     "text": [
      "\r",
      "Analyzing Sentiment:  15%|████████▉                                                  | 21/139 [00:00<00:00, 186.72it/s]"
     ]
    },
    {
     "name": "stdout",
     "output_type": "stream",
     "text": [
      "gDvx5O7.txt: {'neg': 0.117, 'neu': 0.784, 'pos': 0.099, 'compound': -0.6705}\n",
      "g9ApGdA.txt: {'neg': 0.0, 'neu': 1.0, 'pos': 0.0, 'compound': 0.0}\n",
      "gry1OqOq.txt: {'neg': 0.0, 'neu': 1.0, 'pos': 0.0, 'compound': 0.0}\n",
      "gxRX1eb.txt: {'neg': 0.107, 'neu': 0.832, 'pos': 0.061, 'compound': -0.9337}\n",
      "g91kly1.txt: {'neg': 0.0, 'neu': 1.0, 'pos': 0.0, 'compound': 0.0}\n",
      "g7kKOg7.txt: {'neg': 0.014, 'neu': 0.934, 'pos': 0.053, 'compound': 0.9465}\n",
      "grlZMJWJ.txt: {'neg': 0.072, 'neu': 0.859, 'pos': 0.069, 'compound': 0.3475}\n",
      "grywav1M.txt: {'neg': 0.0, 'neu': 0.935, 'pos': 0.065, 'compound': 0.6908}\n",
      "grGO4RdA.txt: {'neg': 0.04, 'neu': 0.85, 'pos': 0.11, 'compound': 0.9719}\n",
      "3NDj4N8m.txt: {'neg': 0.007, 'neu': 0.88, 'pos': 0.113, 'compound': 0.992}\n",
      "grlDZGQz.txt: {'neg': 0.0, 'neu': 1.0, 'pos': 0.0, 'compound': 0.0}\n",
      "grG6w1G7.txt: {'neg': 0.071, 'neu': 0.836, 'pos': 0.093, 'compound': 0.9287}\n",
      "gznMDGb.txt: {'neg': 0.0, 'neu': 0.377, 'pos': 0.623, 'compound': 0.5106}\n",
      "ggvZGbq.txt: {'neg': 0.061, 'neu': 0.837, 'pos': 0.101, 'compound': 0.7941}\n"
     ]
    },
    {
     "name": "stderr",
     "output_type": "stream",
     "text": [
      "\r",
      "Analyzing Sentiment:  29%|████████████████▉                                          | 40/139 [00:00<00:00, 171.25it/s]"
     ]
    },
    {
     "name": "stdout",
     "output_type": "stream",
     "text": [
      "3NNpeE75.txt: {'neg': 0.074, 'neu': 0.844, 'pos': 0.082, 'compound': -0.4767}\n",
      "grrRvZwz.txt: {'neg': 0.053, 'neu': 0.85, 'pos': 0.097, 'compound': 0.9308}\n",
      "gP6glEb.txt: {'neg': 0.021, 'neu': 0.858, 'pos': 0.121, 'compound': 0.9879}\n",
      "gWpg69Q.txt: {'neg': 0.266, 'neu': 0.734, 'pos': 0.0, 'compound': -0.8225}\n",
      "g1rM9yA.txt: {'neg': 0.0, 'neu': 0.769, 'pos': 0.231, 'compound': 0.5106}\n",
      "gJ5dk5z.txt: {'neg': 0.0, 'neu': 0.925, 'pos': 0.075, 'compound': 0.9493}\n",
      "gr01ONZe.txt: {'neg': 0.037, 'neu': 0.91, 'pos': 0.053, 'compound': 0.7428}\n",
      "gBEbVR1.txt: {'neg': 0.08, 'neu': 0.788, 'pos': 0.132, 'compound': 0.97}\n",
      "grrmmvgM.txt: {'neg': 0.044, 'neu': 0.898, 'pos': 0.058, 'compound': -0.1901}\n",
      "gmxxmne.txt: {'neg': 0.069, 'neu': 0.871, 'pos': 0.06, 'compound': -0.7582}\n",
      "g7p85De.txt: {'neg': 0.0, 'neu': 0.854, 'pos': 0.146, 'compound': 0.4404}\n",
      "grybEJ97.txt: {'neg': 0.027, 'neu': 0.883, 'pos': 0.09, 'compound': 0.9711}\n",
      "gOr5V8z.txt: {'neg': 0.056, 'neu': 0.817, 'pos': 0.126, 'compound': 0.9674}\n",
      "bRQD8ja.txt: {'neg': 0.0, 'neu': 1.0, 'pos': 0.0, 'compound': 0.0}\n",
      "g4pZrEq.txt: {'neg': 0.0, 'neu': 1.0, 'pos': 0.0, 'compound': 0.0}\n",
      "grr6vkZA.txt: {'neg': 0.122, 'neu': 0.609, 'pos': 0.27, 'compound': 0.4877}\n",
      "gagJzn7.txt: {'neg': 0.0, 'neu': 0.847, 'pos': 0.153, 'compound': 0.4019}\n"
     ]
    },
    {
     "name": "stderr",
     "output_type": "stream",
     "text": [
      "\r",
      "Analyzing Sentiment:  43%|█████████████████████████▍                                 | 60/139 [00:00<00:00, 169.44it/s]"
     ]
    },
    {
     "name": "stdout",
     "output_type": "stream",
     "text": [
      "grkXMVnM.txt: {'neg': 0.032, 'neu': 0.843, 'pos': 0.125, 'compound': 0.9833}\n",
      "gxvxmXM.txt: {'neg': 0.095, 'neu': 0.808, 'pos': 0.097, 'compound': 0.4983}\n",
      "grGA3Gbq.txt: {'neg': 0.104, 'neu': 0.763, 'pos': 0.132, 'compound': 0.9536}\n",
      "gPn7bBA.txt: {'neg': 0.021, 'neu': 0.869, 'pos': 0.11, 'compound': 0.9859}\n",
      "gB5rPM7.txt: {'neg': 0.04, 'neu': 0.903, 'pos': 0.057, 'compound': 0.6041}\n",
      "gJ9q1nz.txt: {'neg': 0.0, 'neu': 1.0, 'pos': 0.0, 'compound': 0.0}\n",
      "grNxmmZ1.txt: {'neg': 0.2, 'neu': 0.8, 'pos': 0.0, 'compound': -0.128}\n",
      "3v9p1qX.txt: {'neg': 0.069, 'neu': 0.755, 'pos': 0.176, 'compound': 0.9865}\n",
      "grNQjqqA.txt: {'neg': 0.119, 'neu': 0.853, 'pos': 0.028, 'compound': -0.9894}\n",
      "33vbBd3.txt: {'neg': 0.0, 'neu': 0.862, 'pos': 0.138, 'compound': 0.6486}\n",
      "grzrOw0A.txt: {'neg': 0.161, 'neu': 0.671, 'pos': 0.169, 'compound': 0.5852}\n",
      "3eny4nX.txt: {'neg': 0.022, 'neu': 0.87, 'pos': 0.108, 'compound': 0.9819}\n"
     ]
    },
    {
     "name": "stderr",
     "output_type": "stream",
     "text": [
      "\r",
      "Analyzing Sentiment:  56%|█████████████████████████████████                          | 78/139 [00:00<00:00, 164.82it/s]"
     ]
    },
    {
     "name": "stdout",
     "output_type": "stream",
     "text": [
      "grrdmkkq.txt: {'neg': 0.018, 'neu': 0.904, 'pos': 0.078, 'compound': 0.9508}\n",
      "grAdWGk7.txt: {'neg': 0.047, 'neu': 0.862, 'pos': 0.091, 'compound': 0.9013}\n",
      "greGz3zJ.txt: {'neg': 0.122, 'neu': 0.609, 'pos': 0.27, 'compound': 0.4877}\n",
      "3gEzEJ5.txt: {'neg': 0.088, 'neu': 0.804, 'pos': 0.108, 'compound': 0.8478}\n",
      "gdEAQv1.txt: {'neg': 0.0, 'neu': 1.0, 'pos': 0.0, 'compound': 0.0}\n",
      "g735KWz.txt: {'neg': 0.123, 'neu': 0.783, 'pos': 0.094, 'compound': -0.9572}\n",
      "gPRzR9A.txt: {'neg': 0.066, 'neu': 0.878, 'pos': 0.055, 'compound': -0.8033}\n",
      "gpXN6kJ.txt: {'neg': 0.052, 'neu': 0.857, 'pos': 0.091, 'compound': 0.9282}\n",
      "grGOlQVJ.txt: {'neg': 0.143, 'neu': 0.711, 'pos': 0.146, 'compound': 0.2681}\n",
      "bRy5J8a.txt: {'neg': 0.0, 'neu': 1.0, 'pos': 0.0, 'compound': 0.0}\n",
      "gryvkJ0e.txt: {'neg': 0.0, 'neu': 1.0, 'pos': 0.0, 'compound': 0.0}\n",
      "g7AlGvJ.txt: {'neg': 0.089, 'neu': 0.717, 'pos': 0.195, 'compound': 0.4767}\n",
      "gJpE997.txt: {'neg': 0.0, 'neu': 1.0, 'pos': 0.0, 'compound': 0.0}\n",
      "3m4aZDm.txt: {'neg': 0.0, 'neu': 1.0, 'pos': 0.0, 'compound': 0.0}\n"
     ]
    },
    {
     "name": "stderr",
     "output_type": "stream",
     "text": [
      "\r",
      "Analyzing Sentiment:  68%|████████████████████████████████████████▎                  | 95/139 [00:00<00:00, 165.54it/s]"
     ]
    },
    {
     "name": "stdout",
     "output_type": "stream",
     "text": [
      "gplBGbA.txt: {'neg': 0.109, 'neu': 0.794, 'pos': 0.097, 'compound': -0.9041}\n",
      "3NQmy36K.txt: {'neg': 0.049, 'neu': 0.862, 'pos': 0.089, 'compound': 0.7935}\n",
      "g0VbzKe.txt: {'neg': 0.074, 'neu': 0.871, 'pos': 0.054, 'compound': -0.6249}\n",
      "g05wW0z.txt: {'neg': 0.0, 'neu': 0.885, 'pos': 0.115, 'compound': 0.802}\n",
      "g9MOVqb.txt: {'neg': 0.032, 'neu': 0.851, 'pos': 0.118, 'compound': 0.9775}\n",
      "ggXegq7.txt: {'neg': 0.057, 'neu': 0.879, 'pos': 0.064, 'compound': 0.32}\n",
      "bRG9MmD.txt: {'neg': 0.0, 'neu': 0.889, 'pos': 0.111, 'compound': 0.8126}\n",
      "gO710e1.txt: {'neg': 0.05, 'neu': 0.885, 'pos': 0.066, 'compound': 0.8746}\n",
      "grlKN9V7.txt: {'neg': 0.025, 'neu': 0.84, 'pos': 0.135, 'compound': 0.8591}\n",
      "gRGO767.txt: {'neg': 0.0, 'neu': 1.0, 'pos': 0.0, 'compound': 0.0}\n",
      "gOyR9MA.txt: {'neg': 0.103, 'neu': 0.784, 'pos': 0.113, 'compound': 0.2168}\n",
      "grbzERrq.txt: {'neg': 0.099, 'neu': 0.83, 'pos': 0.07, 'compound': -0.9355}\n",
      "gppRVl1.txt: {'neg': 0.0, 'neu': 0.787, 'pos': 0.213, 'compound': 0.875}\n",
      "gpxaZRz.txt: {'neg': 0.07, 'neu': 0.81, 'pos': 0.121, 'compound': 0.9673}\n"
     ]
    },
    {
     "name": "stderr",
     "output_type": "stream",
     "text": [
      "\r",
      "Analyzing Sentiment:  81%|███████████████████████████████████████████████▏          | 113/139 [00:00<00:00, 165.54it/s]"
     ]
    },
    {
     "name": "stdout",
     "output_type": "stream",
     "text": [
      "gWKgZn6.txt: {'neg': 0.0, 'neu': 1.0, 'pos': 0.0, 'compound': 0.0}\n",
      "gDQzbOq.txt: {'neg': 0.0, 'neu': 1.0, 'pos': 0.0, 'compound': 0.0}\n",
      "gO68axq.txt: {'neg': 0.074, 'neu': 0.832, 'pos': 0.094, 'compound': 0.1734}\n",
      "grO78lQ6.txt: {'neg': 0.08, 'neu': 0.853, 'pos': 0.067, 'compound': -0.6917}\n",
      "grAab8Kb.txt: {'neg': 0.037, 'neu': 0.921, 'pos': 0.042, 'compound': -0.1308}\n",
      "g4gOjXz.txt: {'neg': 0.0, 'neu': 1.0, 'pos': 0.0, 'compound': 0.0}\n",
      "g0drzBb.txt: {'neg': 0.367, 'neu': 0.633, 'pos': 0.0, 'compound': -0.1877}\n",
      "gJAy776.txt: {'neg': 0.115, 'neu': 0.812, 'pos': 0.073, 'compound': -0.9721}\n",
      "gxP03nJ.txt: {'neg': 0.075, 'neu': 0.819, 'pos': 0.105, 'compound': 0.8481}\n",
      "3NjdJ6nj.txt: {'neg': 0.0, 'neu': 1.0, 'pos': 0.0, 'compound': 0.0}\n",
      "gX9wDjA.txt: {'neg': 0.013, 'neu': 0.971, 'pos': 0.016, 'compound': 0.1531}\n",
      "gPvxKkb.txt: {'neg': 0.0, 'neu': 0.928, 'pos': 0.072, 'compound': 0.9477}\n",
      "g47GrEA.txt: {'neg': 0.025, 'neu': 0.884, 'pos': 0.091, 'compound': 0.9694}\n",
      "bR9ya13.txt: {'neg': 0.126, 'neu': 0.794, 'pos': 0.079, 'compound': -0.25}\n"
     ]
    },
    {
     "name": "stderr",
     "output_type": "stream",
     "text": [
      "Analyzing Sentiment: 100%|██████████████████████████████████████████████████████████| 139/139 [00:00<00:00, 169.76it/s]\n"
     ]
    },
    {
     "name": "stdout",
     "output_type": "stream",
     "text": [
      "gan0bv1.txt: {'neg': 0.0, 'neu': 0.771, 'pos': 0.229, 'compound': 0.8481}\n",
      "g4d1DZz.txt: {'neg': 0.275, 'neu': 0.681, 'pos': 0.044, 'compound': -0.91}\n",
      "grzgndVM.txt: {'neg': 0.036, 'neu': 0.803, 'pos': 0.161, 'compound': 0.9818}\n",
      "gRyx7Ve.txt: {'neg': 0.052, 'neu': 0.87, 'pos': 0.078, 'compound': 0.8678}\n",
      "3Q3lDEw.txt: {'neg': 0.084, 'neu': 0.81, 'pos': 0.106, 'compound': 0.5833}\n",
      "gadbxWq.txt: {'neg': 0.0, 'neu': 1.0, 'pos': 0.0, 'compound': 0.0}\n",
      "grOekykb.txt: {'neg': 0.426, 'neu': 0.574, 'pos': 0.0, 'compound': -0.6369}\n",
      "Analyzing Folder: sharechat_scraper/updated_tesseract/Punjabi/VO6Zjy_Punjabi/\n"
     ]
    },
    {
     "name": "stderr",
     "output_type": "stream",
     "text": [
      "Analyzing Sentiment:  18%|██████████▋                                                | 42/232 [00:00<00:00, 198.16it/s]"
     ]
    },
    {
     "name": "stdout",
     "output_type": "stream",
     "text": [
      "g0ZDZdb.txt: {'neg': 0.116, 'neu': 0.818, 'pos': 0.066, 'compound': -0.9766}\n",
      "44NPlJQ.txt: {'neg': 0.0, 'neu': 0.763, 'pos': 0.237, 'compound': 0.7351}\n",
      "5JqNpAB.txt: {'neg': 0.0, 'neu': 1.0, 'pos': 0.0, 'compound': 0.0}\n",
      "Br6rRrR.txt: {'neg': 0.0, 'neu': 1.0, 'pos': 0.0, 'compound': 0.0}\n",
      "939naO39.txt: {'neg': 0.0, 'neu': 0.721, 'pos': 0.279, 'compound': 0.4767}\n",
      "4XRqMAG.txt: {'neg': 0.0, 'neu': 1.0, 'pos': 0.0, 'compound': 0.0}\n",
      "9ZE77QM.txt: {'neg': 0.0, 'neu': 1.0, 'pos': 0.0, 'compound': 0.0}\n",
      "Ny9J6mAp.txt: {'neg': 0.0, 'neu': 0.889, 'pos': 0.111, 'compound': 0.3612}\n",
      "5KaeRAJ.txt: {'neg': 0.307, 'neu': 0.693, 'pos': 0.0, 'compound': -0.4767}\n",
      "9e5ZPwQ.txt: {'neg': 0.0, 'neu': 0.926, 'pos': 0.074, 'compound': 0.25}\n",
      "4Djbrd1.txt: {'neg': 0.188, 'neu': 0.602, 'pos': 0.211, 'compound': 0.0772}\n",
      "4wqxpXxa.txt: {'neg': 0.0, 'neu': 1.0, 'pos': 0.0, 'compound': 0.0}\n",
      "5aqElxEN.txt: {'neg': 0.372, 'neu': 0.628, 'pos': 0.0, 'compound': -0.8271}\n",
      "grzVG0mq.txt: {'neg': 0.104, 'neu': 0.673, 'pos': 0.222, 'compound': 0.5423}\n",
      "4DW1b3v.txt: {'neg': 0.0, 'neu': 1.0, 'pos': 0.0, 'compound': 0.0}\n"
     ]
    },
    {
     "name": "stderr",
     "output_type": "stream",
     "text": [
      "Analyzing Sentiment:  36%|█████████████████████                                      | 83/232 [00:00<00:00, 189.22it/s]"
     ]
    },
    {
     "name": "stdout",
     "output_type": "stream",
     "text": [
      "4kGm6r7.txt: {'neg': 0.0, 'neu': 0.58, 'pos': 0.42, 'compound': 0.4404}\n",
      "46w9aja.txt: {'neg': 0.0, 'neu': 0.868, 'pos': 0.132, 'compound': 0.9776}\n",
      "9xQrv1N.txt: {'neg': 0.121, 'neu': 0.652, 'pos': 0.227, 'compound': 0.5267}\n",
      "4byd4V1.txt: {'neg': 0.0, 'neu': 1.0, 'pos': 0.0, 'compound': 0.0}\n",
      "939mJB1a.txt: {'neg': 0.0, 'neu': 0.885, 'pos': 0.115, 'compound': 0.296}\n",
      "gJQBeA7.txt: {'neg': 0.041, 'neu': 0.883, 'pos': 0.076, 'compound': 0.9292}\n"
     ]
    },
    {
     "name": "stderr",
     "output_type": "stream",
     "text": [
      "\r",
      "Analyzing Sentiment:  44%|█████████████████████████▊                                | 103/232 [00:00<00:00, 189.92it/s]"
     ]
    },
    {
     "name": "stdout",
     "output_type": "stream",
     "text": [
      "4wz6Pav7.txt: {'neg': 0.043, 'neu': 0.957, 'pos': 0.0, 'compound': -0.0572}\n",
      "4w8KX7Q8.txt: {'neg': 0.0, 'neu': 1.0, 'pos': 0.0, 'compound': 0.0}\n",
      "4VDB06Q.txt: {'neg': 0.152, 'neu': 0.649, 'pos': 0.199, 'compound': 0.0258}\n",
      "9b8vnJz.txt: {'neg': 0.051, 'neu': 0.821, 'pos': 0.128, 'compound': 0.9919}\n",
      "93GmaK0a.txt: {'neg': 0.0, 'neu': 0.864, 'pos': 0.136, 'compound': 0.4588}\n",
      "grGnk356.txt: {'neg': 0.0, 'neu': 0.906, 'pos': 0.094, 'compound': 0.4939}\n",
      "4ByPNy8.txt: {'neg': 0.0, 'neu': 1.0, 'pos': 0.0, 'compound': 0.0}\n",
      "grenGOJ6.txt: {'neg': 0.0, 'neu': 0.954, 'pos': 0.046, 'compound': 0.5719}\n"
     ]
    },
    {
     "name": "stderr",
     "output_type": "stream",
     "text": [
      "\r",
      "Analyzing Sentiment:  54%|███████████████████████████████▌                          | 126/232 [00:00<00:00, 198.39it/s]"
     ]
    },
    {
     "name": "stdout",
     "output_type": "stream",
     "text": [
      "dM0wPgD.txt: {'neg': 0.341, 'neu': 0.659, 'pos': 0.0, 'compound': -0.561}\n",
      "4zG4Dqa.txt: {'neg': 0.0, 'neu': 1.0, 'pos': 0.0, 'compound': 0.0}\n",
      "9VblBKy.txt: {'neg': 0.021, 'neu': 0.643, 'pos': 0.335, 'compound': 0.9524}\n",
      "97Nyw4a.txt: {'neg': 0.0, 'neu': 0.786, 'pos': 0.214, 'compound': 0.5994}\n",
      "93DnJzWN.txt: {'neg': 0.062, 'neu': 0.8, 'pos': 0.138, 'compound': 0.9274}\n",
      "4xMeB3v.txt: {'neg': 0.0, 'neu': 0.845, 'pos': 0.155, 'compound': 0.5106}\n",
      "4aJxJjG.txt: {'neg': 0.0, 'neu': 1.0, 'pos': 0.0, 'compound': 0.0}\n",
      "GJG0njb.txt: {'neg': 0.0, 'neu': 0.932, 'pos': 0.068, 'compound': 0.4767}\n"
     ]
    },
    {
     "name": "stderr",
     "output_type": "stream",
     "text": [
      "\r",
      "Analyzing Sentiment:  64%|█████████████████████████████████████                     | 148/232 [00:00<00:00, 202.29it/s]"
     ]
    },
    {
     "name": "stdout",
     "output_type": "stream",
     "text": [
      "gXBJxAQ.txt: {'neg': 0.0, 'neu': 0.78, 'pos': 0.22, 'compound': 0.5256}\n"
     ]
    },
    {
     "name": "stderr",
     "output_type": "stream",
     "text": [
      "\r",
      "Analyzing Sentiment:  73%|██████████████████████████████████████████▎               | 169/232 [00:00<00:00, 201.24it/s]"
     ]
    },
    {
     "name": "stdout",
     "output_type": "stream",
     "text": [
      "4wGeK8N1.txt: {'neg': 0.0, 'neu': 0.0, 'pos': 1.0, 'compound': 0.3612}\n",
      "4NXeElG.txt: {'neg': 0.141, 'neu': 0.859, 'pos': 0.0, 'compound': -0.2023}\n",
      "4prxZ6B.txt: {'neg': 0.0, 'neu': 0.777, 'pos': 0.223, 'compound': 0.9337}\n",
      "44Ad8yQ.txt: {'neg': 0.0, 'neu': 1.0, 'pos': 0.0, 'compound': 0.0}\n",
      "9bXyZQ9.txt: {'neg': 0.0, 'neu': 0.537, 'pos': 0.463, 'compound': 0.8584}\n",
      "93mGxdnX.txt: {'neg': 0.0, 'neu': 0.707, 'pos': 0.293, 'compound': 0.4404}\n",
      "4NGNAa1.txt: {'neg': 0.0, 'neu': 1.0, 'pos': 0.0, 'compound': 0.0}\n"
     ]
    },
    {
     "name": "stderr",
     "output_type": "stream",
     "text": [
      "\r",
      "Analyzing Sentiment:  82%|███████████████████████████████████████████████▌          | 190/232 [00:00<00:00, 195.32it/s]"
     ]
    },
    {
     "name": "stdout",
     "output_type": "stream",
     "text": [
      "g4vbMDe.txt: {'neg': 0.028, 'neu': 0.921, 'pos': 0.051, 'compound': 0.0772}\n",
      "9ZeaxMQ.txt: {'neg': 0.0, 'neu': 0.417, 'pos': 0.583, 'compound': 0.9118}\n",
      "9ylggRv.txt: {'neg': 0.0, 'neu': 0.899, 'pos': 0.101, 'compound': 0.4019}\n",
      "gjwdxmJ.txt: {'neg': 0.065, 'neu': 0.879, 'pos': 0.056, 'compound': -0.3182}\n",
      "4wwX5gVQ.txt: {'neg': 0.674, 'neu': 0.326, 'pos': 0.0, 'compound': -0.7351}\n",
      "93mq6KV9.txt: {'neg': 0.0, 'neu': 1.0, 'pos': 0.0, 'compound': 0.0}\n"
     ]
    },
    {
     "name": "stderr",
     "output_type": "stream",
     "text": [
      "Analyzing Sentiment: 100%|██████████████████████████████████████████████████████████| 232/232 [00:01<00:00, 194.56it/s]\n"
     ]
    },
    {
     "name": "stdout",
     "output_type": "stream",
     "text": [
      "KyEROR3g.txt: {'neg': 0.0, 'neu': 0.814, 'pos': 0.186, 'compound': 0.4939}\n",
      "4wlxg1QB.txt: {'neg': 0.0, 'neu': 1.0, 'pos': 0.0, 'compound': 0.0}\n",
      "By48GBV.txt: {'neg': 0.0, 'neu': 1.0, 'pos': 0.0, 'compound': 0.0}\n",
      "g9lKlZe.txt: {'neg': 0.109, 'neu': 0.764, 'pos': 0.127, 'compound': 0.664}\n",
      "93meaWrX.txt: {'neg': 0.0, 'neu': 0.707, 'pos': 0.293, 'compound': 0.4404}\n",
      "gDzyPAA.txt: {'neg': 0.036, 'neu': 0.908, 'pos': 0.056, 'compound': 0.6755}\n",
      "45V7JXQ.txt: {'neg': 0.403, 'neu': 0.597, 'pos': 0.0, 'compound': -0.6597}\n",
      "Analyzing Folder: sharechat_scraper/updated_tesseract/Punjabi/VO6ZVy_Punjabi/\n"
     ]
    },
    {
     "name": "stderr",
     "output_type": "stream",
     "text": [
      "\r",
      "Analyzing Sentiment:   0%|                                                                      | 0/62 [00:00<?, ?it/s]"
     ]
    },
    {
     "name": "stdout",
     "output_type": "stream",
     "text": [
      "9b8ql9y.txt: {'neg': 0.073, 'neu': 0.927, 'pos': 0.0, 'compound': -0.296}\n",
      "9zEnV3X.txt: {'neg': 0.0, 'neu': 1.0, 'pos': 0.0, 'compound': 0.0}\n",
      "9dkPGn0.txt: {'neg': 0.0, 'neu': 0.924, 'pos': 0.076, 'compound': 0.6597}\n",
      "9rX8OZQ.txt: {'neg': 0.768, 'neu': 0.232, 'pos': 0.0, 'compound': -0.9224}\n",
      "gmvb0JA.txt: {'neg': 0.0, 'neu': 1.0, 'pos': 0.0, 'compound': 0.0}\n",
      "9Qr8r00.txt: {'neg': 0.09, 'neu': 0.804, 'pos': 0.106, 'compound': 0.3818}\n",
      "3NOQr5VK.txt: {'neg': 0.0, 'neu': 1.0, 'pos': 0.0, 'compound': 0.0}\n",
      "933bdKOy.txt: {'neg': 0.0, 'neu': 1.0, 'pos': 0.0, 'compound': 0.0}\n",
      "9kNwpkz.txt: {'neg': 0.0, 'neu': 0.455, 'pos': 0.545, 'compound': 0.3818}\n",
      "gxaWv0e.txt: {'neg': 0.0, 'neu': 0.884, 'pos': 0.116, 'compound': 0.4404}\n",
      "BzjXbRR.txt: {'neg': 0.306, 'neu': 0.694, 'pos': 0.0, 'compound': -0.296}\n",
      "9eP1j49.txt: {'neg': 0.0, 'neu': 0.337, 'pos': 0.663, 'compound': 0.7096}\n",
      "931QnwzM.txt: {'neg': 0.0, 'neu': 1.0, 'pos': 0.0, 'compound': 0.0}\n"
     ]
    },
    {
     "name": "stderr",
     "output_type": "stream",
     "text": [
      "\r",
      "Analyzing Sentiment:  37%|██████████████████████▎                                     | 23/62 [00:00<00:00, 207.24it/s]"
     ]
    },
    {
     "name": "stdout",
     "output_type": "stream",
     "text": [
      "9NMApry.txt: {'neg': 0.0, 'neu': 1.0, 'pos': 0.0, 'compound': 0.0}\n",
      "93a9p87M.txt: {'neg': 1.0, 'neu': 0.0, 'pos': 0.0, 'compound': -0.296}\n",
      "93wlp5QN.txt: {'neg': 0.027, 'neu': 0.835, 'pos': 0.137, 'compound': 0.8316}\n",
      "4wGERwxv.txt: {'neg': 0.0, 'neu': 1.0, 'pos': 0.0, 'compound': 0.0}\n",
      "NyEZKm74.txt: {'neg': 0.0, 'neu': 0.597, 'pos': 0.403, 'compound': 0.4019}\n",
      "9O7eZqM.txt: {'neg': 0.474, 'neu': 0.526, 'pos': 0.0, 'compound': -0.2023}\n",
      "3nw8Okm.txt: {'neg': 0.0, 'neu': 0.728, 'pos': 0.272, 'compound': 0.6249}\n",
      "931yJAdN.txt: {'neg': 0.13, 'neu': 0.794, 'pos': 0.076, 'compound': -0.1779}\n",
      "9xp4OrN.txt: {'neg': 0.0, 'neu': 0.664, 'pos': 0.336, 'compound': 0.8442}\n",
      "9xRNm3z.txt: {'neg': 0.303, 'neu': 0.697, 'pos': 0.0, 'compound': -0.8834}\n",
      "93a5eBJy.txt: {'neg': 0.427, 'neu': 0.573, 'pos': 0.0, 'compound': -0.6908}\n"
     ]
    },
    {
     "name": "stderr",
     "output_type": "stream",
     "text": [
      "\r",
      "Analyzing Sentiment:  71%|██████████████████████████████████████████▌                 | 44/62 [00:00<00:00, 199.37it/s]"
     ]
    },
    {
     "name": "stdout",
     "output_type": "stream",
     "text": [
      "9gqnZz9.txt: {'neg': 0.092, 'neu': 0.708, 'pos': 0.2, 'compound': 0.3818}\n",
      "933WEaqM.txt: {'neg': 0.0, 'neu': 0.825, 'pos': 0.175, 'compound': 0.5574}\n",
      "93wGwwAM.txt: {'neg': 0.179, 'neu': 0.679, 'pos': 0.142, 'compound': -0.3818}\n",
      "3NOGXgw3.txt: {'neg': 0.0, 'neu': 1.0, 'pos': 0.0, 'compound': 0.0}\n",
      "93ZA1OXM.txt: {'neg': 0.0, 'neu': 0.774, 'pos': 0.226, 'compound': 0.5859}\n",
      "9V8PPV4.txt: {'neg': 0.0, 'neu': 1.0, 'pos': 0.0, 'compound': 0.0}\n",
      "9d9mQr4.txt: {'neg': 0.0, 'neu': 0.822, 'pos': 0.178, 'compound': 0.6597}\n",
      "93DDElby.txt: {'neg': 0.0, 'neu': 1.0, 'pos': 0.0, 'compound': 0.0}\n",
      "93wrr9Oy.txt: {'neg': 0.0, 'neu': 1.0, 'pos': 0.0, 'compound': 0.0}\n",
      "KGEdJaw.txt: {'neg': 0.0, 'neu': 0.147, 'pos': 0.853, 'compound': 0.7003}\n"
     ]
    },
    {
     "name": "stderr",
     "output_type": "stream",
     "text": [
      "\r",
      "Analyzing Sentiment: 100%|████████████████████████████████████████████████████████████| 62/62 [00:00<00:00, 199.43it/s]"
     ]
    },
    {
     "name": "stdout",
     "output_type": "stream",
     "text": [
      "3NZ1b4Om.txt: {'neg': 0.0, 'neu': 0.597, 'pos': 0.403, 'compound': 0.4019}\n",
      "3NDlnKb5.txt: {'neg': 0.06, 'neu': 0.743, 'pos': 0.198, 'compound': 0.9524}\n",
      "93mg3AP0.txt: {'neg': 0.0, 'neu': 1.0, 'pos': 0.0, 'compound': 0.0}\n",
      "9eV5k1z.txt: {'neg': 0.056, 'neu': 0.86, 'pos': 0.084, 'compound': 0.5994}\n",
      "\n",
      "Making csv for actual label insertion....\n",
      "actual label csv successfully saved!\n",
      "\n"
     ]
    },
    {
     "name": "stderr",
     "output_type": "stream",
     "text": [
      "\n"
     ]
    }
   ],
   "source": [
    "import os\n",
    "import pickle\n",
    "import pandas as pd\n",
    "from tqdm import tqdm\n",
    "from constants import languages\n",
    "\n",
    "import nltk\n",
    "from nltk.sentiment import SentimentIntensityAnalyzer\n",
    "\n",
    "nltk.download('vader_lexicon')\n",
    "\n",
    "\n",
    "for lang in languages:\n",
    "\n",
    "    print()\n",
    "    print(f\"Getting sentiments for language: {lang}\")\n",
    "    print()\n",
    "\n",
    "    with open(f\"translations/translations_{lang}.pickle\", \"rb\") as file:\n",
    "        translations = pickle.load(file)\n",
    "\n",
    "    new_translations = {}\n",
    "    actual_labels_df = pd.DataFrame(columns = [\"file\", \"text\", \"label\"])\n",
    "    file_locs = []\n",
    "    texts = []\n",
    "    for folder, files in translations.items():\n",
    "        new_translations[folder] = {}\n",
    "        print(f\"Analyzing Folder: {folder}\")\n",
    "        for filename, sentence in tqdm(files.items(), desc = \"Analyzing Sentiment\"):\n",
    "            if sentence[\"translation\"] is not None:\n",
    "                sid = SentimentIntensityAnalyzer()\n",
    "                sentiment_scores = sid.polarity_scores(sentence[\"translation\"])\n",
    "                if not (sentiment_scores[\"pos\"] == 0 and sentiment_scores[\"neu\"] == 0 and sentiment_scores[\"neg\"] == 0):\n",
    "                    new_translations[folder][filename] = {}\n",
    "                    new_translations[folder][filename][\"scores\"] = sentiment_scores\n",
    "                    print(f\"{filename}: {sentiment_scores}\")\n",
    "\n",
    "                    # actual labels csv making\n",
    "                    file_locs.append(f\"{folder}{filename}\")\n",
    "                    texts.append(sentence[\"translation\"])\n",
    "\n",
    "\n",
    "    print()\n",
    "    print(f\"Making csv for actual label insertion....\")\n",
    "    actual_labels_df[\"file\"] = file_locs\n",
    "    actual_labels_df[\"text\"] = texts\n",
    "    actual_labels_df.to_csv(f\"actual_labels/actual_labels_{lang}.csv\")\n",
    "    print(f\"actual label csv successfully saved!\")\n",
    "    print()\n",
    "\n",
    "    with open(f\"sentiments/sentiments_{lang}.pickle\", \"wb\") as file:\n",
    "        pickle.dump(new_translations, file)"
   ]
  },
  {
   "cell_type": "code",
   "execution_count": 3,
   "id": "113dc212",
   "metadata": {},
   "outputs": [
    {
     "name": "stdout",
     "output_type": "stream",
     "text": [
      "Processing Folder: sharechat_scraper/updated_tesseract/Hindi/5ZEBpp_Hindi/\n"
     ]
    },
    {
     "name": "stderr",
     "output_type": "stream",
     "text": [
      "Calculating Average Sentiment Scores: 100%|██████████████████████████████████████████| 67/67 [00:00<00:00, 1646.45it/s]\n"
     ]
    },
    {
     "name": "stdout",
     "output_type": "stream",
     "text": [
      "\n",
      "Successfully saved leader_sentiment_scores/Arvind_Kejrival_Hindi.csv!\n",
      "\n",
      "***************************************\n",
      "Leader: Arvind_Kejrival\n",
      "Avg. Positive Score: 0.08336508188492717\n",
      "Avg. Neutral Score: 0.15773617803556453\n",
      "Avg. Negative Score: 0.04384975301624818\n",
      "Overall Leader Sentiment: Neutral\n",
      "***************************************\n",
      "\n",
      "Processing Folder: sharechat_scraper/updated_tesseract/Hindi/lew5Am_Hindi/\n"
     ]
    },
    {
     "name": "stderr",
     "output_type": "stream",
     "text": [
      "Calculating Average Sentiment Scores: 100%|██████████████████████████████████████████| 42/42 [00:00<00:00, 1976.00it/s]\n"
     ]
    },
    {
     "name": "stdout",
     "output_type": "stream",
     "text": [
      "\n",
      "Successfully saved leader_sentiment_scores/Rahul_Gandhi_Hindi.csv!\n",
      "\n",
      "***************************************\n",
      "Leader: Rahul_Gandhi\n",
      "Avg. Positive Score: 0.11697279681856033\n",
      "Avg. Neutral Score: 0.12917495906321455\n",
      "Avg. Negative Score: 0.09407011577800871\n",
      "Overall Leader Sentiment: Neutral\n",
      "***************************************\n",
      "\n",
      "Processing Folder: sharechat_scraper/updated_tesseract/Hindi/m6d09W_Hindi/\n"
     ]
    },
    {
     "name": "stderr",
     "output_type": "stream",
     "text": [
      "Calculating Average Sentiment Scores: 100%|██████████████████████████████████████████| 32/32 [00:00<00:00, 3321.89it/s]\n"
     ]
    },
    {
     "name": "stdout",
     "output_type": "stream",
     "text": [
      "\n",
      "Successfully saved leader_sentiment_scores/Narendra_Modi_Hindi.csv!\n",
      "\n",
      "***************************************\n",
      "Leader: Narendra_Modi\n",
      "Avg. Positive Score: 0.03726195940732947\n",
      "Avg. Neutral Score: 0.044061137965813305\n",
      "Avg. Negative Score: 0.041130115030788485\n",
      "Overall Leader Sentiment: Neutral\n",
      "***************************************\n",
      "\n",
      "Processing Folder: sharechat_scraper/updated_tesseract/Hindi/VO6Zjy_Hindi/\n"
     ]
    },
    {
     "name": "stderr",
     "output_type": "stream",
     "text": [
      "Calculating Average Sentiment Scores: 100%|█████████████████████████████████████████| 159/159 [00:00<00:00, 887.48it/s]\n"
     ]
    },
    {
     "name": "stdout",
     "output_type": "stream",
     "text": [
      "\n",
      "Successfully saved leader_sentiment_scores/Akhilesh_Yadav_Hindi.csv!\n",
      "\n",
      "***************************************\n",
      "Leader: Akhilesh_Yadav\n",
      "Avg. Positive Score: 0.13422357218052045\n",
      "Avg. Neutral Score: 0.11627878435398661\n",
      "Avg. Negative Score: 0.08061377823309478\n",
      "Overall Leader Sentiment: Positive\n",
      "***************************************\n",
      "\n",
      "Processing Folder: sharechat_scraper/updated_tesseract/Hindi/VO6ZVy_Hindi/\n"
     ]
    },
    {
     "name": "stderr",
     "output_type": "stream",
     "text": [
      "Calculating Average Sentiment Scores: 100%|██████████████████████████████████████████| 42/42 [00:00<00:00, 3258.92it/s]\n"
     ]
    },
    {
     "name": "stdout",
     "output_type": "stream",
     "text": [
      "\n",
      "Successfully saved leader_sentiment_scores/Asaduddin_Owaisi_Hindi.csv!\n",
      "\n",
      "***************************************\n",
      "Leader: Asaduddin_Owaisi\n",
      "Avg. Positive Score: 0.13101298987981078\n",
      "Avg. Neutral Score: 0.1814969152376378\n",
      "Avg. Negative Score: 0.1120920733255045\n",
      "Overall Leader Sentiment: Neutral\n",
      "***************************************\n",
      "\n",
      "Processing Folder: sharechat_scraper/updated_tesseract/Bengali/5ZEBpp_Bengali/\n"
     ]
    },
    {
     "name": "stderr",
     "output_type": "stream",
     "text": [
      "Calculating Average Sentiment Scores: 100%|██████████████████████████████████████████| 45/45 [00:00<00:00, 1562.03it/s]\n"
     ]
    },
    {
     "name": "stdout",
     "output_type": "stream",
     "text": [
      "\n",
      "Successfully saved leader_sentiment_scores/Arvind_Kejrival_Bengali.csv!\n",
      "\n",
      "***************************************\n",
      "Leader: Arvind_Kejrival\n",
      "Avg. Positive Score: 0.09192789919068632\n",
      "Avg. Neutral Score: 0.22083987352960566\n",
      "Avg. Negative Score: 0.053362474170403504\n",
      "Overall Leader Sentiment: Neutral\n",
      "***************************************\n",
      "\n",
      "Processing Folder: sharechat_scraper/updated_tesseract/Bengali/lew5Am_Bengali/\n"
     ]
    },
    {
     "name": "stderr",
     "output_type": "stream",
     "text": [
      "Calculating Average Sentiment Scores: 100%|██████████████████████████████████████████| 68/68 [00:00<00:00, 1919.40it/s]\n"
     ]
    },
    {
     "name": "stdout",
     "output_type": "stream",
     "text": [
      "\n",
      "Successfully saved leader_sentiment_scores/Rahul_Gandhi_Bengali.csv!\n",
      "\n",
      "***************************************\n",
      "Leader: Rahul_Gandhi\n",
      "Avg. Positive Score: 0.07275363821818985\n",
      "Avg. Neutral Score: 0.0752367756904052\n",
      "Avg. Negative Score: 0.07732006518944533\n",
      "Overall Leader Sentiment: Negative\n",
      "***************************************\n",
      "\n",
      "Processing Folder: sharechat_scraper/updated_tesseract/Bengali/m6d09W_Bengali/\n"
     ]
    },
    {
     "name": "stderr",
     "output_type": "stream",
     "text": [
      "Calculating Average Sentiment Scores: 100%|██████████████████████████████████████████| 78/78 [00:00<00:00, 1313.10it/s]\n"
     ]
    },
    {
     "name": "stdout",
     "output_type": "stream",
     "text": [
      "\n",
      "Successfully saved leader_sentiment_scores/Narendra_Modi_Bengali.csv!\n",
      "\n",
      "***************************************\n",
      "Leader: Narendra_Modi\n",
      "Avg. Positive Score: 0.04044130327745751\n",
      "Avg. Neutral Score: 0.025509828859486678\n",
      "Avg. Negative Score: 0.019219784094979233\n",
      "Overall Leader Sentiment: Positive\n",
      "***************************************\n",
      "\n",
      "Processing Folder: sharechat_scraper/updated_tesseract/Bengali/VO6Zjy_Bengali/\n"
     ]
    },
    {
     "name": "stderr",
     "output_type": "stream",
     "text": [
      "Calculating Average Sentiment Scores: 100%|██████████████████████████████████████████| 79/79 [00:00<00:00, 1304.63it/s]\n"
     ]
    },
    {
     "name": "stdout",
     "output_type": "stream",
     "text": [
      "\n",
      "Successfully saved leader_sentiment_scores/Akhilesh_Yadav_Bengali.csv!\n",
      "\n",
      "***************************************\n",
      "Leader: Akhilesh_Yadav\n",
      "Avg. Positive Score: 0.14834867617804598\n",
      "Avg. Neutral Score: 0.1886580418980798\n",
      "Avg. Negative Score: 0.09916133826509145\n",
      "Overall Leader Sentiment: Neutral\n",
      "***************************************\n",
      "\n",
      "Processing Folder: sharechat_scraper/updated_tesseract/Bengali/VO6ZVy_Bengali/\n"
     ]
    },
    {
     "name": "stderr",
     "output_type": "stream",
     "text": [
      "Calculating Average Sentiment Scores: 100%|██████████████████████████████████████████| 42/42 [00:00<00:00, 2765.21it/s]\n"
     ]
    },
    {
     "name": "stdout",
     "output_type": "stream",
     "text": [
      "\n",
      "Successfully saved leader_sentiment_scores/Asaduddin_Owaisi_Bengali.csv!\n",
      "\n",
      "***************************************\n",
      "Leader: Asaduddin_Owaisi\n",
      "Avg. Positive Score: 0.1306004623542617\n",
      "Avg. Neutral Score: 0.1826325099186941\n",
      "Avg. Negative Score: 0.10929603918891033\n",
      "Overall Leader Sentiment: Neutral\n",
      "***************************************\n",
      "\n",
      "Processing Folder: sharechat_scraper/updated_tesseract/Punjabi/5ZEBpp_Punjabi/\n"
     ]
    },
    {
     "name": "stderr",
     "output_type": "stream",
     "text": [
      "Calculating Average Sentiment Scores: 100%|██████████████████████████████████████████| 43/43 [00:00<00:00, 1593.45it/s]\n"
     ]
    },
    {
     "name": "stdout",
     "output_type": "stream",
     "text": [
      "\n",
      "Successfully saved leader_sentiment_scores/Arvind_Kejrival_Punjabi.csv!\n",
      "\n",
      "***************************************\n",
      "Leader: Arvind_Kejrival\n",
      "Avg. Positive Score: 0.05246958380184603\n",
      "Avg. Neutral Score: 0.24420797194321722\n",
      "Avg. Negative Score: 0.049637471352537835\n",
      "Overall Leader Sentiment: Neutral\n",
      "***************************************\n",
      "\n",
      "Processing Folder: sharechat_scraper/updated_tesseract/Punjabi/lew5Am_Punjabi/\n"
     ]
    },
    {
     "name": "stderr",
     "output_type": "stream",
     "text": [
      "Calculating Average Sentiment Scores: 100%|██████████████████████████████████████████| 40/40 [00:00<00:00, 1721.34it/s]\n"
     ]
    },
    {
     "name": "stdout",
     "output_type": "stream",
     "text": [
      "\n",
      "Successfully saved leader_sentiment_scores/Rahul_Gandhi_Punjabi.csv!\n",
      "\n",
      "***************************************\n",
      "Leader: Rahul_Gandhi\n",
      "Avg. Positive Score: 0.20230899488894147\n",
      "Avg. Neutral Score: 0.2775389496405802\n",
      "Avg. Negative Score: 0.204894487761165\n",
      "Overall Leader Sentiment: Neutral\n",
      "***************************************\n",
      "\n",
      "Processing Folder: sharechat_scraper/updated_tesseract/Punjabi/m6d09W_Punjabi/\n"
     ]
    },
    {
     "name": "stderr",
     "output_type": "stream",
     "text": [
      "Calculating Average Sentiment Scores: 100%|████████████████████████████████████████| 106/106 [00:00<00:00, 1447.14it/s]\n"
     ]
    },
    {
     "name": "stdout",
     "output_type": "stream",
     "text": [
      "\n",
      "Successfully saved leader_sentiment_scores/Narendra_Modi_Punjabi.csv!\n",
      "\n",
      "***************************************\n",
      "Leader: Narendra_Modi\n",
      "Avg. Positive Score: 0.01303930686766406\n",
      "Avg. Neutral Score: 0.03618453978424147\n",
      "Avg. Negative Score: 0.017473936190441644\n",
      "Overall Leader Sentiment: Neutral\n",
      "***************************************\n",
      "\n",
      "Processing Folder: sharechat_scraper/updated_tesseract/Punjabi/VO6Zjy_Punjabi/\n"
     ]
    },
    {
     "name": "stderr",
     "output_type": "stream",
     "text": [
      "Calculating Average Sentiment Scores: 100%|██████████████████████████████████████████| 58/58 [00:00<00:00, 1094.94it/s]\n"
     ]
    },
    {
     "name": "stdout",
     "output_type": "stream",
     "text": [
      "\n",
      "Successfully saved leader_sentiment_scores/Akhilesh_Yadav_Punjabi.csv!\n",
      "\n",
      "***************************************\n",
      "Leader: Akhilesh_Yadav\n",
      "Avg. Positive Score: 0.14492171377261573\n",
      "Avg. Neutral Score: 0.3848450954210411\n",
      "Avg. Negative Score: 0.10109170252677878\n",
      "Overall Leader Sentiment: Neutral\n",
      "***************************************\n",
      "\n",
      "Processing Folder: sharechat_scraper/updated_tesseract/Punjabi/VO6ZVy_Punjabi/\n"
     ]
    },
    {
     "name": "stderr",
     "output_type": "stream",
     "text": [
      "Calculating Average Sentiment Scores: 100%|██████████████████████████████████████████| 38/38 [00:00<00:00, 2566.07it/s]"
     ]
    },
    {
     "name": "stdout",
     "output_type": "stream",
     "text": [
      "\n",
      "Successfully saved leader_sentiment_scores/Asaduddin_Owaisi_Punjabi.csv!\n",
      "\n",
      "***************************************\n",
      "Leader: Asaduddin_Owaisi\n",
      "Avg. Positive Score: 0.1597063052532407\n",
      "Avg. Neutral Score: 0.19600656524366597\n",
      "Avg. Negative Score: 0.09507620291811203\n",
      "Overall Leader Sentiment: Neutral\n",
      "***************************************\n",
      "\n"
     ]
    },
    {
     "name": "stderr",
     "output_type": "stream",
     "text": [
      "\n"
     ]
    }
   ],
   "source": []
  },
  {
   "cell_type": "code",
   "execution_count": 4,
   "id": "ef851970",
   "metadata": {},
   "outputs": [
    {
     "name": "stdout",
     "output_type": "stream",
     "text": [
      "\n",
      "Getting sentiments for language: Hindi\n",
      "\n",
      "Analyzing Folder: sharechat_scraper/updated_tesseract/Hindi/5ZEBpp_Hindi/\n"
     ]
    },
    {
     "name": "stderr",
     "output_type": "stream",
     "text": [
      "Analyzing Sentiment:   1%|▋                                                             | 1/85 [00:00<00:24,  3.43it/s]"
     ]
    },
    {
     "name": "stdout",
     "output_type": "stream",
     "text": [
      "35k0yrw.txt: -1 (score: 0.04995190352201462)\n"
     ]
    },
    {
     "name": "stderr",
     "output_type": "stream",
     "text": [
      "\r",
      "Analyzing Sentiment:   2%|█▍                                                            | 2/85 [00:00<00:24,  3.35it/s]"
     ]
    },
    {
     "name": "stdout",
     "output_type": "stream",
     "text": [
      "3vpzwb5.txt: -1 (score: 0.16867709159851074)\n"
     ]
    },
    {
     "name": "stderr",
     "output_type": "stream",
     "text": [
      "\r",
      "Analyzing Sentiment:   4%|██▏                                                           | 3/85 [00:00<00:24,  3.32it/s]"
     ]
    },
    {
     "name": "stdout",
     "output_type": "stream",
     "text": [
      "b1blz6Q.txt: -1 (score: 0.02566596120595932)\n",
      "Warning: Empty translation for grA4qZve.txt\n"
     ]
    },
    {
     "name": "stderr",
     "output_type": "stream",
     "text": [
      "\r",
      "Analyzing Sentiment:   6%|███▋                                                          | 5/85 [00:01<00:17,  4.60it/s]"
     ]
    },
    {
     "name": "stdout",
     "output_type": "stream",
     "text": [
      "gmwxj46.txt: -1 (score: 0.05142388492822647)\n"
     ]
    },
    {
     "name": "stderr",
     "output_type": "stream",
     "text": [
      "\r",
      "Analyzing Sentiment:   7%|████▍                                                         | 6/85 [00:01<00:19,  4.04it/s]"
     ]
    },
    {
     "name": "stdout",
     "output_type": "stream",
     "text": [
      "b1B3bvJ.txt: 1 (score: 0.9976431727409363)\n",
      "Warning: Empty translation for dxEJv1y.txt\n"
     ]
    },
    {
     "name": "stderr",
     "output_type": "stream",
     "text": [
      "\r",
      "Analyzing Sentiment:   9%|█████▊                                                        | 8/85 [00:01<00:16,  4.81it/s]"
     ]
    },
    {
     "name": "stdout",
     "output_type": "stream",
     "text": [
      "3jj9l7j.txt: -1 (score: 0.002685625571757555)\n"
     ]
    },
    {
     "name": "stderr",
     "output_type": "stream",
     "text": [
      "\r",
      "Analyzing Sentiment:  11%|██████▌                                                       | 9/85 [00:02<00:18,  4.22it/s]"
     ]
    },
    {
     "name": "stdout",
     "output_type": "stream",
     "text": [
      "gDBzeV6.txt: -1 (score: 0.0005986816249787807)\n"
     ]
    },
    {
     "name": "stderr",
     "output_type": "stream",
     "text": [
      "\r",
      "Analyzing Sentiment:  12%|███████▏                                                     | 10/85 [00:02<00:19,  3.88it/s]"
     ]
    },
    {
     "name": "stdout",
     "output_type": "stream",
     "text": [
      "3XkRkA3.txt: -1 (score: 0.005017387215048075)\n"
     ]
    },
    {
     "name": "stderr",
     "output_type": "stream",
     "text": [
      "\r",
      "Analyzing Sentiment:  13%|███████▉                                                     | 11/85 [00:02<00:21,  3.52it/s]"
     ]
    },
    {
     "name": "stdout",
     "output_type": "stream",
     "text": [
      "bvQeN7DO.txt: -1 (score: 0.0008746542735025287)\n"
     ]
    },
    {
     "name": "stderr",
     "output_type": "stream",
     "text": [
      "\r",
      "Analyzing Sentiment:  14%|████████▌                                                    | 12/85 [00:03<00:21,  3.43it/s]"
     ]
    },
    {
     "name": "stdout",
     "output_type": "stream",
     "text": [
      "grzb9N7J.txt: 1 (score: 0.9936885237693787)\n"
     ]
    },
    {
     "name": "stderr",
     "output_type": "stream",
     "text": [
      "\r",
      "Analyzing Sentiment:  15%|█████████▎                                                   | 13/85 [00:03<00:21,  3.34it/s]"
     ]
    },
    {
     "name": "stdout",
     "output_type": "stream",
     "text": [
      "gx9ddD1.txt: -1 (score: 0.005503706634044647)\n"
     ]
    },
    {
     "name": "stderr",
     "output_type": "stream",
     "text": [
      "\r",
      "Analyzing Sentiment:  16%|██████████                                                   | 14/85 [00:03<00:21,  3.23it/s]"
     ]
    },
    {
     "name": "stdout",
     "output_type": "stream",
     "text": [
      "grNG0D0Q.txt: -1 (score: 0.005557559430599213)\n"
     ]
    },
    {
     "name": "stderr",
     "output_type": "stream",
     "text": [
      "\r",
      "Analyzing Sentiment:  18%|██████████▊                                                  | 15/85 [00:04<00:22,  3.15it/s]"
     ]
    },
    {
     "name": "stdout",
     "output_type": "stream",
     "text": [
      "grzAr7yz.txt: -1 (score: 0.007502076216042042)\n"
     ]
    },
    {
     "name": "stderr",
     "output_type": "stream",
     "text": [
      "\r",
      "Analyzing Sentiment:  19%|███████████▍                                                 | 16/85 [00:04<00:22,  3.09it/s]"
     ]
    },
    {
     "name": "stdout",
     "output_type": "stream",
     "text": [
      "gD196pA.txt: 1 (score: 0.9993532299995422)\n",
      "Warning: Empty translation for grrerg3e.txt\n"
     ]
    },
    {
     "name": "stderr",
     "output_type": "stream",
     "text": [
      "\r",
      "Analyzing Sentiment:  21%|████████████▉                                                | 18/85 [00:04<00:17,  3.88it/s]"
     ]
    },
    {
     "name": "stdout",
     "output_type": "stream",
     "text": [
      "rJ5xl37.txt: -1 (score: 0.009459503926336765)\n"
     ]
    },
    {
     "name": "stderr",
     "output_type": "stream",
     "text": [
      "\r",
      "Analyzing Sentiment:  22%|█████████████▋                                               | 19/85 [00:05<00:17,  3.67it/s]"
     ]
    },
    {
     "name": "stdout",
     "output_type": "stream",
     "text": [
      "gRxVWmz.txt: -1 (score: 0.017102854326367378)\n"
     ]
    },
    {
     "name": "stderr",
     "output_type": "stream",
     "text": [
      "\r",
      "Analyzing Sentiment:  24%|██████████████▎                                              | 20/85 [00:05<00:18,  3.50it/s]"
     ]
    },
    {
     "name": "stdout",
     "output_type": "stream",
     "text": [
      "g7l0m0J.txt: 1 (score: 0.9859844446182251)\n"
     ]
    },
    {
     "name": "stderr",
     "output_type": "stream",
     "text": [
      "\r",
      "Analyzing Sentiment:  25%|███████████████                                              | 21/85 [00:05<00:18,  3.45it/s]"
     ]
    },
    {
     "name": "stdout",
     "output_type": "stream",
     "text": [
      "rvaxyX3.txt: 1 (score: 0.9903396964073181)\n"
     ]
    },
    {
     "name": "stderr",
     "output_type": "stream",
     "text": [
      "\r",
      "Analyzing Sentiment:  26%|███████████████▊                                             | 22/85 [00:06<00:19,  3.30it/s]"
     ]
    },
    {
     "name": "stdout",
     "output_type": "stream",
     "text": [
      "greKlq91.txt: 1 (score: 0.9997653365135193)\n",
      "Warning: Empty translation for rRRVmz1.txt\n"
     ]
    },
    {
     "name": "stderr",
     "output_type": "stream",
     "text": [
      "\r",
      "Analyzing Sentiment:  28%|█████████████████▏                                           | 24/85 [00:06<00:13,  4.60it/s]"
     ]
    },
    {
     "name": "stdout",
     "output_type": "stream",
     "text": [
      "gOQmQP7.txt: -1 (score: 0.0018034247914329171)\n"
     ]
    },
    {
     "name": "stderr",
     "output_type": "stream",
     "text": [
      "\r",
      "Analyzing Sentiment:  29%|█████████████████▉                                           | 25/85 [00:06<00:14,  4.26it/s]"
     ]
    },
    {
     "name": "stdout",
     "output_type": "stream",
     "text": [
      "gPjB0AQ.txt: 1 (score: 0.8865140080451965)\n"
     ]
    },
    {
     "name": "stderr",
     "output_type": "stream",
     "text": [
      "\r",
      "Analyzing Sentiment:  31%|██████████████████▋                                          | 26/85 [00:06<00:15,  3.82it/s]"
     ]
    },
    {
     "name": "stdout",
     "output_type": "stream",
     "text": [
      "bjOnXkO.txt: 1 (score: 0.9946170449256897)\n"
     ]
    },
    {
     "name": "stderr",
     "output_type": "stream",
     "text": [
      "\r",
      "Analyzing Sentiment:  32%|███████████████████▍                                         | 27/85 [00:07<00:16,  3.45it/s]"
     ]
    },
    {
     "name": "stdout",
     "output_type": "stream",
     "text": [
      "3j4KWMX.txt: -1 (score: 0.011220443062484264)\n"
     ]
    },
    {
     "name": "stderr",
     "output_type": "stream",
     "text": [
      "\r",
      "Analyzing Sentiment:  33%|████████████████████                                         | 28/85 [00:07<00:17,  3.31it/s]"
     ]
    },
    {
     "name": "stdout",
     "output_type": "stream",
     "text": [
      "gMnZ5Wb.txt: -1 (score: 0.024639779701828957)\n",
      "Warning: Empty translation for gXM8kQb.txt\n",
      "Warning: Empty translation for dWbB67N.txt\n",
      "Warning: Empty translation for gxEX4KQ.txt\n"
     ]
    },
    {
     "name": "stderr",
     "output_type": "stream",
     "text": [
      "\r",
      "Analyzing Sentiment:  38%|██████████████████████▉                                      | 32/85 [00:08<00:09,  5.74it/s]"
     ]
    },
    {
     "name": "stdout",
     "output_type": "stream",
     "text": [
      "gJmKBvb.txt: 1 (score: 0.9828304052352905)\n",
      "Warning: Empty translation for grOmRM7A.txt\n"
     ]
    },
    {
     "name": "stderr",
     "output_type": "stream",
     "text": [
      "\r",
      "Analyzing Sentiment:  40%|████████████████████████▍                                    | 34/85 [00:08<00:09,  5.64it/s]"
     ]
    },
    {
     "name": "stdout",
     "output_type": "stream",
     "text": [
      "3a3x9bK.txt: -1 (score: 0.03890331834554672)\n"
     ]
    },
    {
     "name": "stderr",
     "output_type": "stream",
     "text": [
      "\r",
      "Analyzing Sentiment:  41%|█████████████████████████                                    | 35/85 [00:08<00:10,  4.77it/s]"
     ]
    },
    {
     "name": "stdout",
     "output_type": "stream",
     "text": [
      "gRpvk7M.txt: -1 (score: 0.07082626968622208)\n"
     ]
    },
    {
     "name": "stderr",
     "output_type": "stream",
     "text": [
      "\r",
      "Analyzing Sentiment:  42%|█████████████████████████▊                                   | 36/85 [00:09<00:11,  4.19it/s]"
     ]
    },
    {
     "name": "stdout",
     "output_type": "stream",
     "text": [
      "bB4BpwQ.txt: -1 (score: 0.00046216766349971294)\n"
     ]
    },
    {
     "name": "stderr",
     "output_type": "stream",
     "text": [
      "\r",
      "Analyzing Sentiment:  44%|██████████████████████████▌                                  | 37/85 [00:09<00:12,  3.77it/s]"
     ]
    },
    {
     "name": "stdout",
     "output_type": "stream",
     "text": [
      "gaBDDAM.txt: 0 (score: 0.30933547019958496)\n"
     ]
    },
    {
     "name": "stderr",
     "output_type": "stream",
     "text": [
      "\r",
      "Analyzing Sentiment:  45%|███████████████████████████▎                                 | 38/85 [00:09<00:13,  3.44it/s]"
     ]
    },
    {
     "name": "stdout",
     "output_type": "stream",
     "text": [
      "grrm7E3J.txt: -1 (score: 0.024977654218673706)\n"
     ]
    },
    {
     "name": "stderr",
     "output_type": "stream",
     "text": [
      "\r",
      "Analyzing Sentiment:  46%|███████████████████████████▉                                 | 39/85 [00:10<00:13,  3.36it/s]"
     ]
    },
    {
     "name": "stdout",
     "output_type": "stream",
     "text": [
      "gzrX8l1.txt: -1 (score: 0.04009771719574928)\n"
     ]
    },
    {
     "name": "stderr",
     "output_type": "stream",
     "text": [
      "\r",
      "Analyzing Sentiment:  47%|████████████████████████████▋                                | 40/85 [00:10<00:14,  3.14it/s]"
     ]
    },
    {
     "name": "stdout",
     "output_type": "stream",
     "text": [
      "gP0NQvq.txt: 1 (score: 0.9921140670776367)\n"
     ]
    },
    {
     "name": "stderr",
     "output_type": "stream",
     "text": [
      "\r",
      "Analyzing Sentiment:  48%|█████████████████████████████▍                               | 41/85 [00:10<00:14,  3.11it/s]"
     ]
    },
    {
     "name": "stdout",
     "output_type": "stream",
     "text": [
      "bBpBENP.txt: 1 (score: 0.9983190894126892)\n"
     ]
    },
    {
     "name": "stderr",
     "output_type": "stream",
     "text": [
      "\r",
      "Analyzing Sentiment:  49%|██████████████████████████████▏                              | 42/85 [00:11<00:14,  3.01it/s]"
     ]
    },
    {
     "name": "stdout",
     "output_type": "stream",
     "text": [
      "bOwlZxP.txt: -1 (score: 0.0702495127916336)\n"
     ]
    },
    {
     "name": "stderr",
     "output_type": "stream",
     "text": [
      "\r",
      "Analyzing Sentiment:  51%|██████████████████████████████▊                              | 43/85 [00:11<00:13,  3.04it/s]"
     ]
    },
    {
     "name": "stdout",
     "output_type": "stream",
     "text": [
      "3kJpXmm.txt: -1 (score: 0.00647095637395978)\n"
     ]
    },
    {
     "name": "stderr",
     "output_type": "stream",
     "text": [
      "\r",
      "Analyzing Sentiment:  52%|███████████████████████████████▌                             | 44/85 [00:11<00:13,  3.10it/s]"
     ]
    },
    {
     "name": "stdout",
     "output_type": "stream",
     "text": [
      "g0OmRG6.txt: 1 (score: 0.9954639077186584)\n",
      "Warning: Empty translation for gX90neM.txt\n"
     ]
    },
    {
     "name": "stderr",
     "output_type": "stream",
     "text": [
      "\r",
      "Analyzing Sentiment:  54%|█████████████████████████████████                            | 46/85 [00:12<00:09,  3.91it/s]"
     ]
    },
    {
     "name": "stdout",
     "output_type": "stream",
     "text": [
      "gagQpB7.txt: -1 (score: 0.08012750744819641)\n"
     ]
    },
    {
     "name": "stderr",
     "output_type": "stream",
     "text": [
      "\r",
      "Analyzing Sentiment:  55%|█████████████████████████████████▋                           | 47/85 [00:12<00:10,  3.62it/s]"
     ]
    },
    {
     "name": "stdout",
     "output_type": "stream",
     "text": [
      "bBrdvWO.txt: 1 (score: 0.9993392825126648)\n"
     ]
    },
    {
     "name": "stderr",
     "output_type": "stream",
     "text": [
      "\r",
      "Analyzing Sentiment:  56%|██████████████████████████████████▍                          | 48/85 [00:12<00:10,  3.49it/s]"
     ]
    },
    {
     "name": "stdout",
     "output_type": "stream",
     "text": [
      "gjwejQJ.txt: -1 (score: 0.01851380057632923)\n"
     ]
    },
    {
     "name": "stderr",
     "output_type": "stream",
     "text": [
      "\r",
      "Analyzing Sentiment:  58%|███████████████████████████████████▏                         | 49/85 [00:13<00:11,  3.27it/s]"
     ]
    },
    {
     "name": "stdout",
     "output_type": "stream",
     "text": [
      "gmy07XA.txt: -1 (score: 0.0004456442839000374)\n",
      "Warning: Empty translation for g037vgJ.txt\n"
     ]
    },
    {
     "name": "stderr",
     "output_type": "stream",
     "text": [
      "\r",
      "Analyzing Sentiment:  60%|████████████████████████████████████▌                        | 51/85 [00:13<00:08,  4.11it/s]"
     ]
    },
    {
     "name": "stdout",
     "output_type": "stream",
     "text": [
      "gDky3qA.txt: -1 (score: 0.03997854143381119)\n",
      "Warning: Empty translation for gdvO0xJ.txt\n",
      "Warning: Empty translation for g7enknQ.txt\n"
     ]
    },
    {
     "name": "stderr",
     "output_type": "stream",
     "text": [
      "\r",
      "Analyzing Sentiment:  64%|██████████████████████████████████████▊                      | 54/85 [00:13<00:05,  5.62it/s]"
     ]
    },
    {
     "name": "stdout",
     "output_type": "stream",
     "text": [
      "bxJaQ6D.txt: 1 (score: 0.9925058484077454)\n"
     ]
    },
    {
     "name": "stderr",
     "output_type": "stream",
     "text": [
      "\r",
      "Analyzing Sentiment:  65%|███████████████████████████████████████▍                     | 55/85 [00:14<00:06,  4.80it/s]"
     ]
    },
    {
     "name": "stdout",
     "output_type": "stream",
     "text": [
      "bm4AqyD.txt: -1 (score: 0.14306817948818207)\n",
      "Warning: Empty translation for grGlb991.txt\n",
      "Warning: Empty translation for gj1D0le.txt\n"
     ]
    },
    {
     "name": "stderr",
     "output_type": "stream",
     "text": [
      "\r",
      "Analyzing Sentiment:  68%|█████████████████████████████████████████▌                   | 58/85 [00:14<00:04,  6.00it/s]"
     ]
    },
    {
     "name": "stdout",
     "output_type": "stream",
     "text": [
      "rJD4Xl5.txt: 1 (score: 0.9987179040908813)\n"
     ]
    },
    {
     "name": "stderr",
     "output_type": "stream",
     "text": [
      "\r",
      "Analyzing Sentiment:  69%|██████████████████████████████████████████▎                  | 59/85 [00:14<00:05,  5.11it/s]"
     ]
    },
    {
     "name": "stdout",
     "output_type": "stream",
     "text": [
      "gj9PwJb.txt: 1 (score: 0.9998045563697815)\n"
     ]
    },
    {
     "name": "stderr",
     "output_type": "stream",
     "text": [
      "\r",
      "Analyzing Sentiment:  71%|███████████████████████████████████████████                  | 60/85 [00:15<00:05,  4.49it/s]"
     ]
    },
    {
     "name": "stdout",
     "output_type": "stream",
     "text": [
      "bOMpNM3.txt: -1 (score: 0.00024864438455551863)\n"
     ]
    },
    {
     "name": "stderr",
     "output_type": "stream",
     "text": [
      "\r",
      "Analyzing Sentiment:  72%|███████████████████████████████████████████▊                 | 61/85 [00:15<00:05,  4.07it/s]"
     ]
    },
    {
     "name": "stdout",
     "output_type": "stream",
     "text": [
      "3j86WBX.txt: -1 (score: 0.01219413336366415)\n",
      "Warning: Empty translation for gjK5QQA.txt\n"
     ]
    },
    {
     "name": "stderr",
     "output_type": "stream",
     "text": [
      "\r",
      "Analyzing Sentiment:  74%|█████████████████████████████████████████████▏               | 63/85 [00:15<00:04,  4.65it/s]"
     ]
    },
    {
     "name": "stdout",
     "output_type": "stream",
     "text": [
      "grrMp43q.txt: -1 (score: 0.0002072891074931249)\n"
     ]
    },
    {
     "name": "stderr",
     "output_type": "stream",
     "text": [
      "\r",
      "Analyzing Sentiment:  75%|█████████████████████████████████████████████▉               | 64/85 [00:16<00:04,  4.23it/s]"
     ]
    },
    {
     "name": "stdout",
     "output_type": "stream",
     "text": [
      "rKXV1ww.txt: -1 (score: 0.011977599002420902)\n"
     ]
    },
    {
     "name": "stderr",
     "output_type": "stream",
     "text": [
      "\r",
      "Analyzing Sentiment:  76%|██████████████████████████████████████████████▋              | 65/85 [00:16<00:05,  3.89it/s]"
     ]
    },
    {
     "name": "stdout",
     "output_type": "stream",
     "text": [
      "gBEm0mQ.txt: -1 (score: 0.04988737031817436)\n",
      "Warning: Empty translation for rGdKAQd.txt\n"
     ]
    },
    {
     "name": "stderr",
     "output_type": "stream",
     "text": [
      "\r",
      "Analyzing Sentiment:  79%|████████████████████████████████████████████████             | 67/85 [00:16<00:03,  5.04it/s]"
     ]
    },
    {
     "name": "stdout",
     "output_type": "stream",
     "text": [
      "grAnJnNb.txt: -1 (score: 0.0032425743993371725)\n"
     ]
    },
    {
     "name": "stderr",
     "output_type": "stream",
     "text": [
      "\r",
      "Analyzing Sentiment:  80%|████████████████████████████████████████████████▊            | 68/85 [00:17<00:03,  4.47it/s]"
     ]
    },
    {
     "name": "stdout",
     "output_type": "stream",
     "text": [
      "rJmN6Md.txt: -1 (score: 0.1962493509054184)\n"
     ]
    },
    {
     "name": "stderr",
     "output_type": "stream",
     "text": [
      "\r",
      "Analyzing Sentiment:  81%|█████████████████████████████████████████████████▌           | 69/85 [00:17<00:03,  4.05it/s]"
     ]
    },
    {
     "name": "stdout",
     "output_type": "stream",
     "text": [
      "brxk3Vy.txt: 1 (score: 0.9997032284736633)\n"
     ]
    },
    {
     "name": "stderr",
     "output_type": "stream",
     "text": [
      "\r",
      "Analyzing Sentiment:  82%|██████████████████████████████████████████████████▏          | 70/85 [00:17<00:03,  4.12it/s]"
     ]
    },
    {
     "name": "stdout",
     "output_type": "stream",
     "text": [
      "3ggjaly.txt: -1 (score: 0.0017672122921794653)\n"
     ]
    },
    {
     "name": "stderr",
     "output_type": "stream",
     "text": [
      "\r",
      "Analyzing Sentiment:  84%|██████████████████████████████████████████████████▉          | 71/85 [00:17<00:03,  3.71it/s]"
     ]
    },
    {
     "name": "stdout",
     "output_type": "stream",
     "text": [
      "bjRrMq3.txt: 1 (score: 0.9977266192436218)\n"
     ]
    },
    {
     "name": "stderr",
     "output_type": "stream",
     "text": [
      "\r",
      "Analyzing Sentiment:  85%|███████████████████████████████████████████████████▋         | 72/85 [00:18<00:03,  3.45it/s]"
     ]
    },
    {
     "name": "stdout",
     "output_type": "stream",
     "text": [
      "grkR7Ggq.txt: -1 (score: 0.0020481834653764963)\n"
     ]
    },
    {
     "name": "stderr",
     "output_type": "stream",
     "text": [
      "\r",
      "Analyzing Sentiment:  86%|████████████████████████████████████████████████████▍        | 73/85 [00:18<00:03,  3.39it/s]"
     ]
    },
    {
     "name": "stdout",
     "output_type": "stream",
     "text": [
      "brlebQn.txt: 1 (score: 0.9752311706542969)\n"
     ]
    },
    {
     "name": "stderr",
     "output_type": "stream",
     "text": [
      "\r",
      "Analyzing Sentiment:  87%|█████████████████████████████████████████████████████        | 74/85 [00:18<00:03,  3.52it/s]"
     ]
    },
    {
     "name": "stdout",
     "output_type": "stream",
     "text": [
      "grNd5ev1.txt: -1 (score: 0.016255339607596397)\n"
     ]
    },
    {
     "name": "stderr",
     "output_type": "stream",
     "text": [
      "\r",
      "Analyzing Sentiment:  88%|█████████████████████████████████████████████████████▊       | 75/85 [00:19<00:03,  3.26it/s]"
     ]
    },
    {
     "name": "stdout",
     "output_type": "stream",
     "text": [
      "bnxWKO3.txt: -1 (score: 0.013269666582345963)\n",
      "Warning: Empty translation for 3PAnKam.txt\n"
     ]
    },
    {
     "name": "stderr",
     "output_type": "stream",
     "text": [
      "\r",
      "Analyzing Sentiment:  91%|███████████████████████████████████████████████████████▎     | 77/85 [00:19<00:01,  4.12it/s]"
     ]
    },
    {
     "name": "stdout",
     "output_type": "stream",
     "text": [
      "3vBZkQZ.txt: 1 (score: 0.8907873034477234)\n"
     ]
    },
    {
     "name": "stderr",
     "output_type": "stream",
     "text": [
      "\r",
      "Analyzing Sentiment:  92%|███████████████████████████████████████████████████████▉     | 78/85 [00:19<00:01,  3.70it/s]"
     ]
    },
    {
     "name": "stdout",
     "output_type": "stream",
     "text": [
      "g0DGbB1.txt: 1 (score: 0.9708179831504822)\n"
     ]
    },
    {
     "name": "stderr",
     "output_type": "stream",
     "text": [
      "\r",
      "Analyzing Sentiment:  93%|████████████████████████████████████████████████████████▋    | 79/85 [00:20<00:01,  3.85it/s]"
     ]
    },
    {
     "name": "stdout",
     "output_type": "stream",
     "text": [
      "38ZdRBX.txt: -1 (score: 0.006034920923411846)\n"
     ]
    },
    {
     "name": "stderr",
     "output_type": "stream",
     "text": [
      "\r",
      "Analyzing Sentiment:  94%|█████████████████████████████████████████████████████████▍   | 80/85 [00:20<00:01,  3.62it/s]"
     ]
    },
    {
     "name": "stdout",
     "output_type": "stream",
     "text": [
      "3A4BAO3.txt: -1 (score: 0.006791520398110151)\n"
     ]
    },
    {
     "name": "stderr",
     "output_type": "stream",
     "text": [
      "\r",
      "Analyzing Sentiment:  95%|██████████████████████████████████████████████████████████▏  | 81/85 [00:20<00:01,  3.45it/s]"
     ]
    },
    {
     "name": "stdout",
     "output_type": "stream",
     "text": [
      "grz3GNVz.txt: -1 (score: 0.03705102577805519)\n",
      "Warning: Empty translation for gB94arM.txt\n"
     ]
    },
    {
     "name": "stderr",
     "output_type": "stream",
     "text": [
      "\r",
      "Analyzing Sentiment:  98%|███████████████████████████████████████████████████████████▌ | 83/85 [00:21<00:00,  4.21it/s]"
     ]
    },
    {
     "name": "stdout",
     "output_type": "stream",
     "text": [
      "3g80E1y.txt: 1 (score: 0.6533691883087158)\n"
     ]
    },
    {
     "name": "stderr",
     "output_type": "stream",
     "text": [
      "\r",
      "Analyzing Sentiment:  99%|████████████████████████████████████████████████████████████▎| 84/85 [00:21<00:00,  3.78it/s]"
     ]
    },
    {
     "name": "stdout",
     "output_type": "stream",
     "text": [
      "3QxwD03.txt: 1 (score: 0.7025443911552429)\n"
     ]
    },
    {
     "name": "stderr",
     "output_type": "stream",
     "text": [
      "Analyzing Sentiment: 100%|█████████████████████████████████████████████████████████████| 85/85 [00:21<00:00,  3.92it/s]\n"
     ]
    },
    {
     "name": "stdout",
     "output_type": "stream",
     "text": [
      "bR1PepD.txt: 1 (score: 0.9658485651016235)\n",
      "Analyzing Folder: sharechat_scraper/updated_tesseract/Hindi/lew5Am_Hindi/\n"
     ]
    },
    {
     "name": "stderr",
     "output_type": "stream",
     "text": [
      "\r",
      "Analyzing Sentiment:   0%|                                                                      | 0/81 [00:00<?, ?it/s]"
     ]
    },
    {
     "name": "stdout",
     "output_type": "stream",
     "text": [
      "Warning: Empty translation for 3Nw3J0am.txt\n"
     ]
    },
    {
     "name": "stderr",
     "output_type": "stream",
     "text": [
      "\r",
      "Analyzing Sentiment:   2%|█▌                                                            | 2/81 [00:00<00:13,  6.07it/s]"
     ]
    },
    {
     "name": "stdout",
     "output_type": "stream",
     "text": [
      "gryWgX5q.txt: -1 (score: 0.0003817439719568938)\n"
     ]
    },
    {
     "name": "stderr",
     "output_type": "stream",
     "text": [
      "\r",
      "Analyzing Sentiment:   4%|██▎                                                           | 3/81 [00:00<00:16,  4.62it/s]"
     ]
    },
    {
     "name": "stdout",
     "output_type": "stream",
     "text": [
      "gJM9O57.txt: -1 (score: 0.07237271964550018)\n",
      "Warning: Empty translation for bvvZgdrO.txt\n"
     ]
    },
    {
     "name": "stderr",
     "output_type": "stream",
     "text": [
      "\r",
      "Analyzing Sentiment:   6%|███▊                                                          | 5/81 [00:00<00:14,  5.13it/s]"
     ]
    },
    {
     "name": "stdout",
     "output_type": "stream",
     "text": [
      "bvORnplD.txt: 1 (score: 0.9998181462287903)\n",
      "Warning: Empty translation for bvmRk0lO.txt\n"
     ]
    },
    {
     "name": "stderr",
     "output_type": "stream",
     "text": [
      "\r",
      "Analyzing Sentiment:   9%|█████▎                                                        | 7/81 [00:01<00:11,  6.26it/s]"
     ]
    },
    {
     "name": "stdout",
     "output_type": "stream",
     "text": [
      "grOEbA9e.txt: -1 (score: 0.01591099053621292)\n"
     ]
    },
    {
     "name": "stderr",
     "output_type": "stream",
     "text": [
      "\r",
      "Analyzing Sentiment:  10%|██████                                                        | 8/81 [00:01<00:13,  5.55it/s]"
     ]
    },
    {
     "name": "stdout",
     "output_type": "stream",
     "text": [
      "grGz7lb7.txt: -1 (score: 0.024622419849038124)\n"
     ]
    },
    {
     "name": "stderr",
     "output_type": "stream",
     "text": [
      "\r",
      "Analyzing Sentiment:  11%|██████▉                                                       | 9/81 [00:01<00:14,  4.89it/s]"
     ]
    },
    {
     "name": "stdout",
     "output_type": "stream",
     "text": [
      "grrqnGq7.txt: 1 (score: 0.7953734397888184)\n",
      "Warning: Empty translation for bvOprA3Q.txt\n",
      "Warning: Empty translation for bv7Pg5A1.txt\n"
     ]
    },
    {
     "name": "stderr",
     "output_type": "stream",
     "text": [
      "\r",
      "Analyzing Sentiment:  15%|█████████                                                    | 12/81 [00:02<00:10,  6.30it/s]"
     ]
    },
    {
     "name": "stdout",
     "output_type": "stream",
     "text": [
      "bvGA3dmQ.txt: 1 (score: 0.9993265867233276)\n"
     ]
    },
    {
     "name": "stderr",
     "output_type": "stream",
     "text": [
      "\r",
      "Analyzing Sentiment:  16%|█████████▊                                                   | 13/81 [00:02<00:13,  5.08it/s]"
     ]
    },
    {
     "name": "stdout",
     "output_type": "stream",
     "text": [
      "grrrXnJQ.txt: 1 (score: 0.8484159111976624)\n",
      "Warning: Empty translation for bvvkEQZD.txt\n",
      "Warning: Empty translation for bvQPvlrX.txt\n",
      "Warning: Empty translation for r144MrE1.txt\n"
     ]
    },
    {
     "name": "stderr",
     "output_type": "stream",
     "text": [
      "\r",
      "Analyzing Sentiment:  21%|████████████▊                                                | 17/81 [00:02<00:08,  7.26it/s]"
     ]
    },
    {
     "name": "stdout",
     "output_type": "stream",
     "text": [
      "r1Vx67bw.txt: -1 (score: 0.027608726173639297)\n"
     ]
    },
    {
     "name": "stderr",
     "output_type": "stream",
     "text": [
      "\r",
      "Analyzing Sentiment:  22%|█████████████▌                                               | 18/81 [00:03<00:10,  5.80it/s]"
     ]
    },
    {
     "name": "stdout",
     "output_type": "stream",
     "text": [
      "gRMOPKq.txt: -1 (score: 0.05884501338005066)\n"
     ]
    },
    {
     "name": "stderr",
     "output_type": "stream",
     "text": [
      "\r",
      "Analyzing Sentiment:  23%|██████████████▎                                              | 19/81 [00:03<00:12,  5.02it/s]"
     ]
    },
    {
     "name": "stdout",
     "output_type": "stream",
     "text": [
      "gaBzR9J.txt: -1 (score: 0.023047128692269325)\n"
     ]
    },
    {
     "name": "stderr",
     "output_type": "stream",
     "text": [
      "\r",
      "Analyzing Sentiment:  25%|███████████████                                              | 20/81 [00:03<00:14,  4.25it/s]"
     ]
    },
    {
     "name": "stdout",
     "output_type": "stream",
     "text": [
      "r1Www1ld.txt: 1 (score: 0.9686673879623413)\n",
      "Warning: Empty translation for bvQjQ4KX.txt\n"
     ]
    },
    {
     "name": "stderr",
     "output_type": "stream",
     "text": [
      "\r",
      "Analyzing Sentiment:  27%|████████████████▌                                            | 22/81 [00:04<00:12,  4.66it/s]"
     ]
    },
    {
     "name": "stdout",
     "output_type": "stream",
     "text": [
      "gryD4nWq.txt: 1 (score: 0.6229794025421143)\n",
      "Warning: Empty translation for g9r0997.txt\n",
      "Warning: Empty translation for RPPPkbWA.txt\n"
     ]
    },
    {
     "name": "stderr",
     "output_type": "stream",
     "text": [
      "\r",
      "Analyzing Sentiment:  31%|██████████████████▊                                          | 25/81 [00:04<00:08,  6.55it/s]"
     ]
    },
    {
     "name": "stdout",
     "output_type": "stream",
     "text": [
      "grebq4je.txt: -1 (score: 0.019841257482767105)\n"
     ]
    },
    {
     "name": "stderr",
     "output_type": "stream",
     "text": [
      "\r",
      "Analyzing Sentiment:  32%|███████████████████▌                                         | 26/81 [00:04<00:10,  5.41it/s]"
     ]
    },
    {
     "name": "stdout",
     "output_type": "stream",
     "text": [
      "grlEy7q7.txt: 1 (score: 0.9779800176620483)\n"
     ]
    },
    {
     "name": "stderr",
     "output_type": "stream",
     "text": [
      "\r",
      "Analyzing Sentiment:  33%|████████████████████▎                                        | 27/81 [00:04<00:10,  5.07it/s]"
     ]
    },
    {
     "name": "stdout",
     "output_type": "stream",
     "text": [
      "grGzRZDQ.txt: -1 (score: 0.015820009633898735)\n"
     ]
    },
    {
     "name": "stderr",
     "output_type": "stream",
     "text": [
      "\r",
      "Analyzing Sentiment:  35%|█████████████████████                                        | 28/81 [00:05<00:12,  4.39it/s]"
     ]
    },
    {
     "name": "stdout",
     "output_type": "stream",
     "text": [
      "r1WAMq4B.txt: 1 (score: 0.9948961138725281)\n"
     ]
    },
    {
     "name": "stderr",
     "output_type": "stream",
     "text": [
      "\r",
      "Analyzing Sentiment:  36%|█████████████████████▊                                       | 29/81 [00:05<00:13,  3.89it/s]"
     ]
    },
    {
     "name": "stdout",
     "output_type": "stream",
     "text": [
      "gBw4Vde.txt: 1 (score: 0.9052404761314392)\n",
      "Warning: Empty translation for grzx4KMA.txt\n"
     ]
    },
    {
     "name": "stderr",
     "output_type": "stream",
     "text": [
      "\r",
      "Analyzing Sentiment:  38%|███████████████████████▎                                     | 31/81 [00:05<00:10,  4.55it/s]"
     ]
    },
    {
     "name": "stdout",
     "output_type": "stream",
     "text": [
      "bvm51AQD.txt: -1 (score: 0.007620225660502911)\n",
      "Warning: Empty translation for bvy9yvpP.txt\n",
      "Warning: Empty translation for bvGBBQ71.txt\n"
     ]
    },
    {
     "name": "stderr",
     "output_type": "stream",
     "text": [
      "\r",
      "Analyzing Sentiment:  42%|█████████████████████████▌                                   | 34/81 [00:06<00:08,  5.85it/s]"
     ]
    },
    {
     "name": "stdout",
     "output_type": "stream",
     "text": [
      "gO0OJzJ.txt: -1 (score: 0.008625793270766735)\n",
      "Warning: Empty translation for bv7jDXvX.txt\n"
     ]
    },
    {
     "name": "stderr",
     "output_type": "stream",
     "text": [
      "\r",
      "Analyzing Sentiment:  44%|███████████████████████████                                  | 36/81 [00:06<00:07,  5.87it/s]"
     ]
    },
    {
     "name": "stdout",
     "output_type": "stream",
     "text": [
      "bvyGW9GJ.txt: 1 (score: 0.9990866184234619)\n"
     ]
    },
    {
     "name": "stderr",
     "output_type": "stream",
     "text": [
      "\r",
      "Analyzing Sentiment:  46%|███████████████████████████▊                                 | 37/81 [00:07<00:08,  5.05it/s]"
     ]
    },
    {
     "name": "stdout",
     "output_type": "stream",
     "text": [
      "gOxRmAb.txt: -1 (score: 0.039492566138505936)\n",
      "Warning: Empty translation for bvQ5qJx1.txt\n"
     ]
    },
    {
     "name": "stderr",
     "output_type": "stream",
     "text": [
      "\r",
      "Analyzing Sentiment:  48%|█████████████████████████████▎                               | 39/81 [00:07<00:07,  5.28it/s]"
     ]
    },
    {
     "name": "stdout",
     "output_type": "stream",
     "text": [
      "grNwla8e.txt: 1 (score: 0.9829997420310974)\n"
     ]
    },
    {
     "name": "stderr",
     "output_type": "stream",
     "text": [
      "\r",
      "Analyzing Sentiment:  49%|██████████████████████████████                               | 40/81 [00:07<00:08,  4.93it/s]"
     ]
    },
    {
     "name": "stdout",
     "output_type": "stream",
     "text": [
      "gmdbN5Q.txt: -1 (score: 0.008222345262765884)\n"
     ]
    },
    {
     "name": "stderr",
     "output_type": "stream",
     "text": [
      "\r",
      "Analyzing Sentiment:  51%|██████████████████████████████▉                              | 41/81 [00:07<00:09,  4.19it/s]"
     ]
    },
    {
     "name": "stdout",
     "output_type": "stream",
     "text": [
      "bvmWQ911.txt: -1 (score: 0.02627076953649521)\n",
      "Warning: Empty translation for bv98b79n.txt\n"
     ]
    },
    {
     "name": "stderr",
     "output_type": "stream",
     "text": [
      "\r",
      "Analyzing Sentiment:  53%|████████████████████████████████▍                            | 43/81 [00:08<00:08,  4.67it/s]"
     ]
    },
    {
     "name": "stdout",
     "output_type": "stream",
     "text": [
      "3NNdwPy3.txt: -1 (score: 0.011014770716428757)\n",
      "Warning: Empty translation for grkBJd6M.txt\n"
     ]
    },
    {
     "name": "stderr",
     "output_type": "stream",
     "text": [
      "\r",
      "Analyzing Sentiment:  56%|█████████████████████████████████▉                           | 45/81 [00:08<00:07,  4.98it/s]"
     ]
    },
    {
     "name": "stdout",
     "output_type": "stream",
     "text": [
      "r170y967.txt: 1 (score: 0.9992388486862183)\n"
     ]
    },
    {
     "name": "stderr",
     "output_type": "stream",
     "text": [
      "\r",
      "Analyzing Sentiment:  57%|██████████████████████████████████▋                          | 46/81 [00:08<00:07,  4.72it/s]"
     ]
    },
    {
     "name": "stdout",
     "output_type": "stream",
     "text": [
      "grkEQ8bA.txt: -1 (score: 0.023675812408328056)\n"
     ]
    },
    {
     "name": "stderr",
     "output_type": "stream",
     "text": [
      "\r",
      "Analyzing Sentiment:  58%|███████████████████████████████████▍                         | 47/81 [00:09<00:08,  4.05it/s]"
     ]
    },
    {
     "name": "stdout",
     "output_type": "stream",
     "text": [
      "grAg5dA6.txt: 1 (score: 0.9766115546226501)\n"
     ]
    },
    {
     "name": "stderr",
     "output_type": "stream",
     "text": [
      "\r",
      "Analyzing Sentiment:  59%|████████████████████████████████████▏                        | 48/81 [00:09<00:09,  3.62it/s]"
     ]
    },
    {
     "name": "stdout",
     "output_type": "stream",
     "text": [
      "bvQW8PNP.txt: 0 (score: 0.5307609438896179)\n"
     ]
    },
    {
     "name": "stderr",
     "output_type": "stream",
     "text": [
      "\r",
      "Analyzing Sentiment:  60%|████████████████████████████████████▉                        | 49/81 [00:10<00:09,  3.42it/s]"
     ]
    },
    {
     "name": "stdout",
     "output_type": "stream",
     "text": [
      "r1GXE3X1.txt: -1 (score: 0.0006007524207234383)\n",
      "Warning: Empty translation for bvOnlgk1.txt\n",
      "Warning: Empty translation for bvyOKeDQ.txt\n"
     ]
    },
    {
     "name": "stderr",
     "output_type": "stream",
     "text": [
      "\r",
      "Analyzing Sentiment:  64%|███████████████████████████████████████▏                     | 52/81 [00:10<00:05,  4.97it/s]"
     ]
    },
    {
     "name": "stdout",
     "output_type": "stream",
     "text": [
      "bvyzOKja.txt: -1 (score: 0.0050776065327227116)\n"
     ]
    },
    {
     "name": "stderr",
     "output_type": "stream",
     "text": [
      "\r",
      "Analyzing Sentiment:  65%|███████████████████████████████████████▉                     | 53/81 [00:10<00:06,  4.28it/s]"
     ]
    },
    {
     "name": "stdout",
     "output_type": "stream",
     "text": [
      "grlenryJ.txt: -1 (score: 0.026349369436502457)\n",
      "Warning: Empty translation for bv7aakXQ.txt\n",
      "Warning: Empty translation for bvvNwPeO.txt\n",
      "Warning: Empty translation for r11lWNZB.txt\n"
     ]
    },
    {
     "name": "stderr",
     "output_type": "stream",
     "text": [
      "\r",
      "Analyzing Sentiment:  70%|██████████████████████████████████████████▉                  | 57/81 [00:11<00:03,  6.31it/s]"
     ]
    },
    {
     "name": "stdout",
     "output_type": "stream",
     "text": [
      "r1JrzJW3.txt: 1 (score: 0.9998555183410645)\n",
      "Warning: Empty translation for bvvd60xJ.txt\n",
      "Warning: Empty translation for bvQjmnAa.txt\n",
      "Warning: Empty translation for bvy667ry.txt\n",
      "Warning: Empty translation for bvmy3n0O.txt\n",
      "Warning: Empty translation for r1GP77r1.txt\n"
     ]
    },
    {
     "name": "stderr",
     "output_type": "stream",
     "text": [
      "\r",
      "Analyzing Sentiment:  78%|███████████████████████████████████████████████▍             | 63/81 [00:11<00:01,  9.50it/s]"
     ]
    },
    {
     "name": "stdout",
     "output_type": "stream",
     "text": [
      "grOpnvn1.txt: 1 (score: 0.9909138679504395)\n",
      "Warning: Empty translation for gre0V4kb.txt\n",
      "Warning: Empty translation for bvGV85kD.txt\n",
      "Warning: Empty translation for 3NwW5d35.txt\n",
      "Warning: Empty translation for bvWVy5g1.txt\n"
     ]
    },
    {
     "name": "stderr",
     "output_type": "stream",
     "text": [
      "\r",
      "Analyzing Sentiment:  84%|███████████████████████████████████████████████████▏         | 68/81 [00:11<00:01, 10.73it/s]"
     ]
    },
    {
     "name": "stdout",
     "output_type": "stream",
     "text": [
      "bvWJrEzn.txt: 1 (score: 0.987550675868988)\n",
      "Warning: Empty translation for bv7vJVaJ.txt\n",
      "Warning: Empty translation for bv7Adz9Q.txt\n",
      "Warning: Empty translation for bvynOBKa.txt\n"
     ]
    },
    {
     "name": "stderr",
     "output_type": "stream",
     "text": [
      "\r",
      "Analyzing Sentiment:  89%|██████████████████████████████████████████████████████▏      | 72/81 [00:12<00:00, 10.75it/s]"
     ]
    },
    {
     "name": "stdout",
     "output_type": "stream",
     "text": [
      "grkl6bXz.txt: -1 (score: 0.10912644863128662)\n",
      "bvyX5bXX.txt: -1 (score: 0.005981960333883762)\n"
     ]
    },
    {
     "name": "stderr",
     "output_type": "stream",
     "text": [
      "\r",
      "Analyzing Sentiment:  91%|███████████████████████████████████████████████████████▋     | 74/81 [00:12<00:00,  7.14it/s]"
     ]
    },
    {
     "name": "stdout",
     "output_type": "stream",
     "text": [
      "gryqNjlb.txt: -1 (score: 0.03171345219016075)\n"
     ]
    },
    {
     "name": "stderr",
     "output_type": "stream",
     "text": [
      "\r",
      "Analyzing Sentiment:  93%|████████████████████████████████████████████████████████▍    | 75/81 [00:13<00:00,  6.26it/s]"
     ]
    },
    {
     "name": "stdout",
     "output_type": "stream",
     "text": [
      "bvvyaJrJ.txt: -1 (score: 0.0017419278156012297)\n",
      "Warning: Empty translation for bRJXdx1.txt\n",
      "Warning: Empty translation for bvmVpma1.txt\n"
     ]
    },
    {
     "name": "stderr",
     "output_type": "stream",
     "text": [
      "\r",
      "Analyzing Sentiment:  96%|██████████████████████████████████████████████████████████▋  | 78/81 [00:13<00:00,  6.90it/s]"
     ]
    },
    {
     "name": "stdout",
     "output_type": "stream",
     "text": [
      "bvOjDdmy.txt: 1 (score: 0.9984251260757446)\n"
     ]
    },
    {
     "name": "stderr",
     "output_type": "stream",
     "text": [
      "Analyzing Sentiment: 100%|█████████████████████████████████████████████████████████████| 81/81 [00:13<00:00,  5.82it/s]\n"
     ]
    },
    {
     "name": "stdout",
     "output_type": "stream",
     "text": [
      "bvQvPnkP.txt: 1 (score: 0.7449946999549866)\n",
      "Warning: Empty translation for bvQZNa03.txt\n",
      "Warning: Empty translation for bvvzKxl3.txt\n",
      "Analyzing Folder: sharechat_scraper/updated_tesseract/Hindi/m6d09W_Hindi/\n"
     ]
    },
    {
     "name": "stderr",
     "output_type": "stream",
     "text": [
      "\r",
      "Analyzing Sentiment:   0%|                                                                      | 0/39 [00:00<?, ?it/s]"
     ]
    },
    {
     "name": "stdout",
     "output_type": "stream",
     "text": [
      "Warning: Empty translation for grrGD14J.txt\n"
     ]
    },
    {
     "name": "stderr",
     "output_type": "stream",
     "text": [
      "\r",
      "Analyzing Sentiment:   5%|███▏                                                          | 2/39 [00:00<00:04,  8.14it/s]"
     ]
    },
    {
     "name": "stdout",
     "output_type": "stream",
     "text": [
      "grGQJPne.txt: -1 (score: 0.008563131093978882)\n"
     ]
    },
    {
     "name": "stderr",
     "output_type": "stream",
     "text": [
      "\r",
      "Analyzing Sentiment:   8%|████▊                                                         | 3/39 [00:00<00:07,  4.59it/s]"
     ]
    },
    {
     "name": "stdout",
     "output_type": "stream",
     "text": [
      "grk0Vl37.txt: 1 (score: 0.8467831611633301)\n"
     ]
    },
    {
     "name": "stderr",
     "output_type": "stream",
     "text": [
      "\r",
      "Analyzing Sentiment:  10%|██████▎                                                       | 4/39 [00:00<00:07,  4.45it/s]"
     ]
    },
    {
     "name": "stdout",
     "output_type": "stream",
     "text": [
      "grO4xNve.txt: -1 (score: 0.030462004244327545)\n"
     ]
    },
    {
     "name": "stderr",
     "output_type": "stream",
     "text": [
      "\r",
      "Analyzing Sentiment:  13%|███████▉                                                      | 5/39 [00:01<00:08,  3.80it/s]"
     ]
    },
    {
     "name": "stdout",
     "output_type": "stream",
     "text": [
      "gxV9wyb.txt: -1 (score: 0.01168136578053236)\n"
     ]
    },
    {
     "name": "stderr",
     "output_type": "stream",
     "text": [
      "\r",
      "Analyzing Sentiment:  15%|█████████▌                                                    | 6/39 [00:01<00:08,  3.96it/s]"
     ]
    },
    {
     "name": "stdout",
     "output_type": "stream",
     "text": [
      "gDvx5O7.txt: -1 (score: 0.0026791223790496588)\n"
     ]
    },
    {
     "name": "stderr",
     "output_type": "stream",
     "text": [
      "\r",
      "Analyzing Sentiment:  18%|███████████▏                                                  | 7/39 [00:01<00:09,  3.47it/s]"
     ]
    },
    {
     "name": "stdout",
     "output_type": "stream",
     "text": [
      "gry1OqOq.txt: 1 (score: 0.9865146279335022)\n"
     ]
    },
    {
     "name": "stderr",
     "output_type": "stream",
     "text": [
      "\r",
      "Analyzing Sentiment:  21%|████████████▋                                                 | 8/39 [00:01<00:08,  3.74it/s]"
     ]
    },
    {
     "name": "stdout",
     "output_type": "stream",
     "text": [
      "grlZMJWJ.txt: -1 (score: 0.01453540287911892)\n"
     ]
    },
    {
     "name": "stderr",
     "output_type": "stream",
     "text": [
      "\r",
      "Analyzing Sentiment:  23%|██████████████▎                                               | 9/39 [00:02<00:07,  3.91it/s]"
     ]
    },
    {
     "name": "stdout",
     "output_type": "stream",
     "text": [
      "grGO4RdA.txt: -1 (score: 0.04609236121177673)\n"
     ]
    },
    {
     "name": "stderr",
     "output_type": "stream",
     "text": [
      "\r",
      "Analyzing Sentiment:  26%|███████████████▋                                             | 10/39 [00:02<00:08,  3.49it/s]"
     ]
    },
    {
     "name": "stdout",
     "output_type": "stream",
     "text": [
      "grlDZGQz.txt: -1 (score: 0.033340007066726685)\n"
     ]
    },
    {
     "name": "stderr",
     "output_type": "stream",
     "text": [
      "\r",
      "Analyzing Sentiment:  28%|█████████████████▏                                           | 11/39 [00:02<00:07,  3.75it/s]"
     ]
    },
    {
     "name": "stdout",
     "output_type": "stream",
     "text": [
      "grG6w1G7.txt: -1 (score: 0.015678830444812775)\n",
      "Warning: Empty translation for gr0aWJdQ.txt\n"
     ]
    },
    {
     "name": "stderr",
     "output_type": "stream",
     "text": [
      "\r",
      "Analyzing Sentiment:  33%|████████████████████▎                                        | 13/39 [00:03<00:05,  5.13it/s]"
     ]
    },
    {
     "name": "stdout",
     "output_type": "stream",
     "text": [
      "gr01ONZe.txt: -1 (score: 0.02034616656601429)\n"
     ]
    },
    {
     "name": "stderr",
     "output_type": "stream",
     "text": [
      "\r",
      "Analyzing Sentiment:  36%|█████████████████████▉                                       | 14/39 [00:03<00:05,  4.89it/s]"
     ]
    },
    {
     "name": "stdout",
     "output_type": "stream",
     "text": [
      "gmxxmne.txt: -1 (score: 0.0020871516317129135)\n"
     ]
    },
    {
     "name": "stderr",
     "output_type": "stream",
     "text": [
      "\r",
      "Analyzing Sentiment:  38%|███████████████████████▍                                     | 15/39 [00:03<00:05,  4.09it/s]"
     ]
    },
    {
     "name": "stdout",
     "output_type": "stream",
     "text": [
      "grr6vkZA.txt: 1 (score: 0.9736324548721313)\n"
     ]
    },
    {
     "name": "stderr",
     "output_type": "stream",
     "text": [
      "\r",
      "Analyzing Sentiment:  41%|█████████████████████████                                    | 16/39 [00:03<00:06,  3.61it/s]"
     ]
    },
    {
     "name": "stdout",
     "output_type": "stream",
     "text": [
      "grNrmkqQ.txt: 1 (score: 0.9304661154747009)\n"
     ]
    },
    {
     "name": "stderr",
     "output_type": "stream",
     "text": [
      "\r",
      "Analyzing Sentiment:  44%|██████████████████████████▌                                  | 17/39 [00:04<00:05,  3.82it/s]"
     ]
    },
    {
     "name": "stdout",
     "output_type": "stream",
     "text": [
      "grGA3Gbq.txt: -1 (score: 0.004500940907746553)\n"
     ]
    },
    {
     "name": "stderr",
     "output_type": "stream",
     "text": [
      "\r",
      "Analyzing Sentiment:  46%|████████████████████████████▏                                | 18/39 [00:04<00:05,  3.87it/s]"
     ]
    },
    {
     "name": "stdout",
     "output_type": "stream",
     "text": [
      "gB5rPM7.txt: 1 (score: 0.9913992881774902)\n"
     ]
    },
    {
     "name": "stderr",
     "output_type": "stream",
     "text": [
      "\r",
      "Analyzing Sentiment:  49%|█████████████████████████████▋                               | 19/39 [00:04<00:05,  3.46it/s]"
     ]
    },
    {
     "name": "stdout",
     "output_type": "stream",
     "text": [
      "grNxmmZ1.txt: -1 (score: 0.0018005591118708253)\n"
     ]
    },
    {
     "name": "stderr",
     "output_type": "stream",
     "text": [
      "\r",
      "Analyzing Sentiment:  51%|███████████████████████████████▎                             | 20/39 [00:05<00:05,  3.66it/s]"
     ]
    },
    {
     "name": "stdout",
     "output_type": "stream",
     "text": [
      "grNQjqqA.txt: -1 (score: 0.011389496736228466)\n"
     ]
    },
    {
     "name": "stderr",
     "output_type": "stream",
     "text": [
      "\r",
      "Analyzing Sentiment:  54%|████████████████████████████████▊                            | 21/39 [00:05<00:04,  3.78it/s]"
     ]
    },
    {
     "name": "stdout",
     "output_type": "stream",
     "text": [
      "grzrOw0A.txt: -1 (score: 0.0038501990493386984)\n"
     ]
    },
    {
     "name": "stderr",
     "output_type": "stream",
     "text": [
      "\r",
      "Analyzing Sentiment:  56%|██████████████████████████████████▍                          | 22/39 [00:05<00:04,  3.41it/s]"
     ]
    },
    {
     "name": "stdout",
     "output_type": "stream",
     "text": [
      "gjg9NWe.txt: 1 (score: 0.9992161989212036)\n",
      "Warning: Empty translation for grzDWea6.txt\n"
     ]
    },
    {
     "name": "stderr",
     "output_type": "stream",
     "text": [
      "\r",
      "Analyzing Sentiment:  62%|█████████████████████████████████████▌                       | 24/39 [00:05<00:03,  4.18it/s]"
     ]
    },
    {
     "name": "stdout",
     "output_type": "stream",
     "text": [
      "greGz3zJ.txt: 0 (score: 0.40478038787841797)\n",
      "Warning: Empty translation for grOZ0qDA.txt\n"
     ]
    },
    {
     "name": "stderr",
     "output_type": "stream",
     "text": [
      "\r",
      "Analyzing Sentiment:  67%|████████████████████████████████████████▋                    | 26/39 [00:06<00:02,  4.66it/s]"
     ]
    },
    {
     "name": "stdout",
     "output_type": "stream",
     "text": [
      "grGOlQVJ.txt: -1 (score: 0.06266807019710541)\n"
     ]
    },
    {
     "name": "stderr",
     "output_type": "stream",
     "text": [
      "\r",
      "Analyzing Sentiment:  69%|██████████████████████████████████████████▏                  | 27/39 [00:06<00:02,  4.45it/s]"
     ]
    },
    {
     "name": "stdout",
     "output_type": "stream",
     "text": [
      "3NQmy36K.txt: 1 (score: 0.8012090921401978)\n",
      "Warning: Empty translation for grz9AxbQ.txt\n"
     ]
    },
    {
     "name": "stderr",
     "output_type": "stream",
     "text": [
      "\r",
      "Analyzing Sentiment:  74%|█████████████████████████████████████████████▎               | 29/39 [00:06<00:02,  4.98it/s]"
     ]
    },
    {
     "name": "stdout",
     "output_type": "stream",
     "text": [
      "grlKN9V7.txt: -1 (score: 0.2423539161682129)\n"
     ]
    },
    {
     "name": "stderr",
     "output_type": "stream",
     "text": [
      "Analyzing Sentiment:  79%|████████████████████████████████████████████████▍            | 31/39 [00:07<00:01,  4.39it/s]"
     ]
    },
    {
     "name": "stdout",
     "output_type": "stream",
     "text": [
      "grAz04Pz.txt: 1 (score: 0.994191586971283)\n",
      "grO78lQ6.txt: -1 (score: 0.002128051361069083)\n",
      "Warning: Empty translation for grzy1x7z.txt\n"
     ]
    },
    {
     "name": "stderr",
     "output_type": "stream",
     "text": [
      "\r",
      "Analyzing Sentiment:  85%|███████████████████████████████████████████████████▌         | 33/39 [00:07<00:01,  5.47it/s]"
     ]
    },
    {
     "name": "stdout",
     "output_type": "stream",
     "text": [
      "gJAy776.txt: -1 (score: 0.0047683110460639)\n"
     ]
    },
    {
     "name": "stderr",
     "output_type": "stream",
     "text": [
      "\r",
      "Analyzing Sentiment:  87%|█████████████████████████████████████████████████████▏       | 34/39 [00:08<00:01,  4.95it/s]"
     ]
    },
    {
     "name": "stdout",
     "output_type": "stream",
     "text": [
      "gxP03nJ.txt: -1 (score: 0.008357707411050797)\n"
     ]
    },
    {
     "name": "stderr",
     "output_type": "stream",
     "text": [
      "\r",
      "Analyzing Sentiment:  90%|██████████████████████████████████████████████████████▋      | 35/39 [00:08<00:00,  4.24it/s]"
     ]
    },
    {
     "name": "stdout",
     "output_type": "stream",
     "text": [
      "3NjdJ6nj.txt: 0 (score: 0.4851590394973755)\n"
     ]
    },
    {
     "name": "stderr",
     "output_type": "stream",
     "text": [
      "\r",
      "Analyzing Sentiment:  92%|████████████████████████████████████████████████████████▎    | 36/39 [00:08<00:00,  3.84it/s]"
     ]
    },
    {
     "name": "stdout",
     "output_type": "stream",
     "text": [
      "g4d1DZz.txt: 1 (score: 0.9863656759262085)\n"
     ]
    },
    {
     "name": "stderr",
     "output_type": "stream",
     "text": [
      "\r",
      "Analyzing Sentiment:  95%|█████████████████████████████████████████████████████████▊   | 37/39 [00:08<00:00,  3.74it/s]"
     ]
    },
    {
     "name": "stdout",
     "output_type": "stream",
     "text": [
      "grzgndVM.txt: 1 (score: 0.9987426400184631)\n",
      "Warning: Empty translation for g7JeMGM.txt\n"
     ]
    },
    {
     "name": "stderr",
     "output_type": "stream",
     "text": [
      "Analyzing Sentiment: 100%|█████████████████████████████████████████████████████████████| 39/39 [00:09<00:00,  4.19it/s]\n"
     ]
    },
    {
     "name": "stdout",
     "output_type": "stream",
     "text": [
      "grOekykb.txt: -1 (score: 0.00933004543185234)\n",
      "Analyzing Folder: sharechat_scraper/updated_tesseract/Hindi/VO6Zjy_Hindi/\n"
     ]
    },
    {
     "name": "stderr",
     "output_type": "stream",
     "text": [
      "\r",
      "Analyzing Sentiment:   0%|                                                                     | 0/410 [00:00<?, ?it/s]"
     ]
    },
    {
     "name": "stdout",
     "output_type": "stream",
     "text": [
      "Warning: Empty translation for 4wRQx6AG.txt\n",
      "Warning: Empty translation for 9ZzK7pX.txt\n",
      "Warning: Empty translation for BXrDDRO.txt\n"
     ]
    },
    {
     "name": "stderr",
     "output_type": "stream",
     "text": [
      "\r",
      "Analyzing Sentiment:   1%|▌                                                            | 4/410 [00:00<00:36, 11.07it/s]"
     ]
    },
    {
     "name": "stdout",
     "output_type": "stream",
     "text": [
      "4wAzE7Va.txt: -1 (score: 0.20819999277591705)\n"
     ]
    },
    {
     "name": "stderr",
     "output_type": "stream",
     "text": [
      "\r",
      "Analyzing Sentiment:   1%|▉                                                            | 6/410 [00:00<00:49,  8.17it/s]"
     ]
    },
    {
     "name": "stdout",
     "output_type": "stream",
     "text": [
      "93DxNrZ4.txt: 1 (score: 0.9948633313179016)\n",
      "Warning: Empty translation for 4awRV8G.txt\n",
      "Warning: Empty translation for 93Zx4Knz.txt\n",
      "Warning: Empty translation for 4w1AxRDQ.txt\n"
     ]
    },
    {
     "name": "stderr",
     "output_type": "stream",
     "text": [
      "\r",
      "Analyzing Sentiment:   2%|█▎                                                           | 9/410 [00:01<00:48,  8.30it/s]"
     ]
    },
    {
     "name": "stdout",
     "output_type": "stream",
     "text": [
      "B6EX5wR.txt: 0 (score: 0.5178428292274475)\n",
      "Warning: Empty translation for 3kGr9Xy.txt\n"
     ]
    },
    {
     "name": "stderr",
     "output_type": "stream",
     "text": [
      "\r",
      "Analyzing Sentiment:   3%|█▌                                                          | 11/410 [00:01<00:54,  7.35it/s]"
     ]
    },
    {
     "name": "stdout",
     "output_type": "stream",
     "text": [
      "44NPlJQ.txt: 1 (score: 0.9941866397857666)\n"
     ]
    },
    {
     "name": "stderr",
     "output_type": "stream",
     "text": [
      "\r",
      "Analyzing Sentiment:   3%|█▊                                                          | 12/410 [00:01<01:10,  5.68it/s]"
     ]
    },
    {
     "name": "stdout",
     "output_type": "stream",
     "text": [
      "93GqMNDv.txt: 1 (score: 0.9802526235580444)\n"
     ]
    },
    {
     "name": "stderr",
     "output_type": "stream",
     "text": [
      "\r",
      "Analyzing Sentiment:   3%|█▉                                                          | 13/410 [00:02<01:23,  4.78it/s]"
     ]
    },
    {
     "name": "stdout",
     "output_type": "stream",
     "text": [
      "9daQ4b9.txt: -1 (score: 0.0036448126193135977)\n",
      "Warning: Empty translation for 931RjDP4.txt\n"
     ]
    },
    {
     "name": "stderr",
     "output_type": "stream",
     "text": [
      "\r",
      "Analyzing Sentiment:   4%|██▏                                                         | 15/410 [00:02<01:12,  5.46it/s]"
     ]
    },
    {
     "name": "stdout",
     "output_type": "stream",
     "text": [
      "9yNBMOy.txt: -1 (score: 0.0074426112696528435)\n"
     ]
    },
    {
     "name": "stderr",
     "output_type": "stream",
     "text": [
      "\r",
      "Analyzing Sentiment:   4%|██▎                                                         | 16/410 [00:02<01:25,  4.59it/s]"
     ]
    },
    {
     "name": "stdout",
     "output_type": "stream",
     "text": [
      "5JqNpAB.txt: -1 (score: 0.006167351733893156)\n",
      "Warning: Empty translation for 93Zmr4g4.txt\n"
     ]
    },
    {
     "name": "stderr",
     "output_type": "stream",
     "text": [
      "\r",
      "Analyzing Sentiment:   4%|██▋                                                         | 18/410 [00:03<01:18,  4.99it/s]"
     ]
    },
    {
     "name": "stdout",
     "output_type": "stream",
     "text": [
      "4wGVyzb8.txt: -1 (score: 0.023429645225405693)\n",
      "Warning: Empty translation for 4zre9pG.txt\n"
     ]
    },
    {
     "name": "stderr",
     "output_type": "stream",
     "text": [
      "\r",
      "Analyzing Sentiment:   5%|██▉                                                         | 20/410 [00:03<01:14,  5.25it/s]"
     ]
    },
    {
     "name": "stdout",
     "output_type": "stream",
     "text": [
      "4bv8DO3.txt: -1 (score: 0.09380672872066498)\n"
     ]
    },
    {
     "name": "stderr",
     "output_type": "stream",
     "text": [
      "\r",
      "Analyzing Sentiment:   5%|███                                                         | 21/410 [00:03<01:26,  4.49it/s]"
     ]
    },
    {
     "name": "stdout",
     "output_type": "stream",
     "text": [
      "Br6rRrR.txt: 1 (score: 0.9333189129829407)\n",
      "Warning: Empty translation for 4Xy5lN7.txt\n"
     ]
    },
    {
     "name": "stderr",
     "output_type": "stream",
     "text": [
      "\r",
      "Analyzing Sentiment:   6%|███▎                                                        | 23/410 [00:04<01:20,  4.81it/s]"
     ]
    },
    {
     "name": "stdout",
     "output_type": "stream",
     "text": [
      "4QJ5a7v.txt: 1 (score: 0.9996412992477417)\n"
     ]
    },
    {
     "name": "stderr",
     "output_type": "stream",
     "text": [
      "\r",
      "Analyzing Sentiment:   6%|███▌                                                        | 24/410 [00:04<01:31,  4.22it/s]"
     ]
    },
    {
     "name": "stdout",
     "output_type": "stream",
     "text": [
      "931PDPnM.txt: -1 (score: 0.03620026633143425)\n",
      "Warning: Empty translation for 9vKr9z0.txt\n",
      "Warning: Empty translation for NjrwKrX.txt\n"
     ]
    },
    {
     "name": "stderr",
     "output_type": "stream",
     "text": [
      "\r",
      "Analyzing Sentiment:   7%|███▉                                                        | 27/410 [00:04<01:10,  5.46it/s]"
     ]
    },
    {
     "name": "stdout",
     "output_type": "stream",
     "text": [
      "40KB951.txt: 0 (score: 0.5178428292274475)\n",
      "Warning: Empty translation for 4k9jN53.txt\n",
      "Warning: Empty translation for 4ww8Ol0B.txt\n"
     ]
    },
    {
     "name": "stderr",
     "output_type": "stream",
     "text": [
      "\r",
      "Analyzing Sentiment:   7%|████▍                                                       | 30/410 [00:05<00:57,  6.59it/s]"
     ]
    },
    {
     "name": "stdout",
     "output_type": "stream",
     "text": [
      "4O7n3QG.txt: 1 (score: 0.9990077614784241)\n",
      "Warning: Empty translation for 9QrgMl9.txt\n",
      "Warning: Empty translation for 9QnWaez.txt\n",
      "Warning: Empty translation for 933zpqm0.txt\n",
      "Warning: Empty translation for 9yPkgGM.txt\n",
      "Warning: Empty translation for 9ed0DG4.txt\n"
     ]
    },
    {
     "name": "stderr",
     "output_type": "stream",
     "text": [
      "\r",
      "Analyzing Sentiment:   9%|█████▎                                                      | 36/410 [00:05<00:38,  9.77it/s]"
     ]
    },
    {
     "name": "stdout",
     "output_type": "stream",
     "text": [
      "440rQ5a.txt: 1 (score: 0.9996910095214844)\n"
     ]
    },
    {
     "name": "stderr",
     "output_type": "stream",
     "text": [
      "\r",
      "Analyzing Sentiment:   9%|█████▍                                                      | 37/410 [00:05<00:49,  7.58it/s]"
     ]
    },
    {
     "name": "stdout",
     "output_type": "stream",
     "text": [
      "939naO39.txt: 1 (score: 0.9928348064422607)\n",
      "Warning: Empty translation for 931APEKX.txt\n",
      "Warning: Empty translation for 45JlRQ1.txt\n"
     ]
    },
    {
     "name": "stderr",
     "output_type": "stream",
     "text": [
      "\r",
      "Analyzing Sentiment:  10%|█████▊                                                      | 40/410 [00:06<00:46,  7.93it/s]"
     ]
    },
    {
     "name": "stdout",
     "output_type": "stream",
     "text": [
      "4BwX8a1.txt: 1 (score: 0.955603837966919)\n"
     ]
    },
    {
     "name": "stderr",
     "output_type": "stream",
     "text": [
      "\r",
      "Analyzing Sentiment:  10%|██████                                                      | 41/410 [00:06<00:58,  6.32it/s]"
     ]
    },
    {
     "name": "stdout",
     "output_type": "stream",
     "text": [
      "93D4qQrN.txt: -1 (score: 0.22917814552783966)\n"
     ]
    },
    {
     "name": "stderr",
     "output_type": "stream",
     "text": [
      "\r",
      "Analyzing Sentiment:  10%|██████▏                                                     | 42/410 [00:06<01:07,  5.43it/s]"
     ]
    },
    {
     "name": "stdout",
     "output_type": "stream",
     "text": [
      "RP3d07D0.txt: -1 (score: 0.009897212497889996)\n"
     ]
    },
    {
     "name": "stderr",
     "output_type": "stream",
     "text": [
      "\r",
      "Analyzing Sentiment:  10%|██████▎                                                     | 43/410 [00:07<01:20,  4.55it/s]"
     ]
    },
    {
     "name": "stdout",
     "output_type": "stream",
     "text": [
      "4w8mpE87.txt: -1 (score: 0.008903254754841328)\n",
      "Warning: Empty translation for 4kgV147.txt\n"
     ]
    },
    {
     "name": "stderr",
     "output_type": "stream",
     "text": [
      "\r",
      "Analyzing Sentiment:  11%|██████▌                                                     | 45/410 [00:07<01:15,  4.84it/s]"
     ]
    },
    {
     "name": "stdout",
     "output_type": "stream",
     "text": [
      "93al6EvQ.txt: -1 (score: 0.0038181340787559748)\n"
     ]
    },
    {
     "name": "stderr",
     "output_type": "stream",
     "text": [
      "\r",
      "Analyzing Sentiment:  11%|██████▋                                                     | 46/410 [00:07<01:25,  4.26it/s]"
     ]
    },
    {
     "name": "stdout",
     "output_type": "stream",
     "text": [
      "4XRqMAG.txt: -1 (score: 0.06825370341539383)\n",
      "Warning: Empty translation for B0QAE0KJ.txt\n",
      "Warning: Empty translation for 1Jvr886.txt\n"
     ]
    },
    {
     "name": "stderr",
     "output_type": "stream",
     "text": [
      "\r",
      "Analyzing Sentiment:  12%|███████▏                                                    | 49/410 [00:08<01:06,  5.45it/s]"
     ]
    },
    {
     "name": "stdout",
     "output_type": "stream",
     "text": [
      "4Dx7NXB.txt: 0 (score: 0.44549354910850525)\n"
     ]
    },
    {
     "name": "stderr",
     "output_type": "stream",
     "text": [
      "\r",
      "Analyzing Sentiment:  12%|███████▎                                                    | 50/410 [00:08<01:17,  4.66it/s]"
     ]
    },
    {
     "name": "stdout",
     "output_type": "stream",
     "text": [
      "4wZx0kM1.txt: -1 (score: 0.03029385581612587)\n"
     ]
    },
    {
     "name": "stderr",
     "output_type": "stream",
     "text": [
      "\r",
      "Analyzing Sentiment:  12%|███████▍                                                    | 51/410 [00:09<01:28,  4.04it/s]"
     ]
    },
    {
     "name": "stdout",
     "output_type": "stream",
     "text": [
      "4wRj5qMG.txt: 1 (score: 0.9889248013496399)\n",
      "Warning: Empty translation for 93m08vny.txt\n"
     ]
    },
    {
     "name": "stderr",
     "output_type": "stream",
     "text": [
      "\r",
      "Analyzing Sentiment:  13%|███████▊                                                    | 53/410 [00:09<01:17,  4.60it/s]"
     ]
    },
    {
     "name": "stdout",
     "output_type": "stream",
     "text": [
      "4n7l68D.txt: -1 (score: 0.032935839146375656)\n",
      "Warning: Empty translation for 5a9NGvb4.txt\n",
      "Warning: Empty translation for 9rmxe74.txt\n",
      "Warning: Empty translation for 4XGkqpG.txt\n",
      "Warning: Empty translation for 44EdNNG.txt\n"
     ]
    },
    {
     "name": "stderr",
     "output_type": "stream",
     "text": [
      "\r",
      "Analyzing Sentiment:  14%|████████▍                                                   | 58/410 [00:09<00:47,  7.45it/s]"
     ]
    },
    {
     "name": "stdout",
     "output_type": "stream",
     "text": [
      "4Ndedn8.txt: -1 (score: 0.0032755860593169928)\n",
      "Warning: Empty translation for 4w70j9kv.txt\n",
      "Warning: Empty translation for 5aQ8BadK.txt\n"
     ]
    },
    {
     "name": "stderr",
     "output_type": "stream",
     "text": [
      "\r",
      "Analyzing Sentiment:  15%|████████▉                                                   | 61/410 [00:10<00:43,  7.94it/s]"
     ]
    },
    {
     "name": "stdout",
     "output_type": "stream",
     "text": [
      "9ZE77QM.txt: -1 (score: 0.0065008350647985935)\n"
     ]
    },
    {
     "name": "stderr",
     "output_type": "stream",
     "text": [
      "\r",
      "Analyzing Sentiment:  15%|█████████                                                   | 62/410 [00:10<00:54,  6.36it/s]"
     ]
    },
    {
     "name": "stdout",
     "output_type": "stream",
     "text": [
      "9xxddZQ.txt: 1 (score: 0.8980465531349182)\n"
     ]
    },
    {
     "name": "stderr",
     "output_type": "stream",
     "text": [
      "\r",
      "Analyzing Sentiment:  15%|█████████▏                                                  | 63/410 [00:10<01:06,  5.24it/s]"
     ]
    },
    {
     "name": "stdout",
     "output_type": "stream",
     "text": [
      "Ny9J6mAp.txt: -1 (score: 0.0015235570026561618)\n"
     ]
    },
    {
     "name": "stderr",
     "output_type": "stream",
     "text": [
      "\r",
      "Analyzing Sentiment:  16%|█████████▎                                                  | 64/410 [00:11<01:15,  4.56it/s]"
     ]
    },
    {
     "name": "stdout",
     "output_type": "stream",
     "text": [
      "9394bvNa.txt: -1 (score: 0.11299239099025726)\n"
     ]
    },
    {
     "name": "stderr",
     "output_type": "stream",
     "text": [
      "\r",
      "Analyzing Sentiment:  16%|█████████▌                                                  | 65/410 [00:11<01:24,  4.09it/s]"
     ]
    },
    {
     "name": "stdout",
     "output_type": "stream",
     "text": [
      "9rqr3EX.txt: -1 (score: 0.002127652522176504)\n",
      "Warning: Empty translation for 9Xk4vjM.txt\n",
      "Warning: Empty translation for ded1W6b.txt\n",
      "Warning: Empty translation for B47E8xV.txt\n",
      "Warning: Empty translation for 4WPRrbG.txt\n",
      "Warning: Empty translation for 9e937xa.txt\n",
      "Warning: Empty translation for JqEqa6Z.txt\n"
     ]
    },
    {
     "name": "stderr",
     "output_type": "stream",
     "text": [
      "\r",
      "Analyzing Sentiment:  18%|██████████▌                                                 | 72/410 [00:11<00:38,  8.70it/s]"
     ]
    },
    {
     "name": "stdout",
     "output_type": "stream",
     "text": [
      "4wNDWZD3.txt: -1 (score: 0.0040546501986682415)\n"
     ]
    },
    {
     "name": "stderr",
     "output_type": "stream",
     "text": [
      "\r",
      "Analyzing Sentiment:  18%|██████████▋                                                 | 73/410 [00:12<00:48,  6.93it/s]"
     ]
    },
    {
     "name": "stdout",
     "output_type": "stream",
     "text": [
      "5KaeRAJ.txt: -1 (score: 0.009072205983102322)\n"
     ]
    },
    {
     "name": "stderr",
     "output_type": "stream",
     "text": [
      "\r",
      "Analyzing Sentiment:  18%|██████████▊                                                 | 74/410 [00:12<00:58,  5.71it/s]"
     ]
    },
    {
     "name": "stdout",
     "output_type": "stream",
     "text": [
      "9e5ZPwQ.txt: 1 (score: 0.6191542744636536)\n",
      "Warning: Empty translation for 4wR8MWW7.txt\n"
     ]
    },
    {
     "name": "stderr",
     "output_type": "stream",
     "text": [
      "\r",
      "Analyzing Sentiment:  19%|███████████                                                 | 76/410 [00:12<00:59,  5.66it/s]"
     ]
    },
    {
     "name": "stdout",
     "output_type": "stream",
     "text": [
      "4Djbrd1.txt: -1 (score: 0.005709636025130749)\n"
     ]
    },
    {
     "name": "stderr",
     "output_type": "stream",
     "text": [
      "\r",
      "Analyzing Sentiment:  19%|███████████▎                                                | 77/410 [00:13<01:09,  4.80it/s]"
     ]
    },
    {
     "name": "stdout",
     "output_type": "stream",
     "text": [
      "93wg1bgN.txt: -1 (score: 0.015125812031328678)\n",
      "Warning: Empty translation for 9vDz03y.txt\n",
      "Warning: Empty translation for BPPva1O.txt\n",
      "Warning: Empty translation for 4BmzmBG.txt\n"
     ]
    },
    {
     "name": "stderr",
     "output_type": "stream",
     "text": [
      "\r",
      "Analyzing Sentiment:  20%|███████████▊                                                | 81/410 [00:13<00:49,  6.64it/s]"
     ]
    },
    {
     "name": "stdout",
     "output_type": "stream",
     "text": [
      "4wqxpXxa.txt: 1 (score: 0.9833534955978394)\n",
      "Warning: Empty translation for B0RPkmGM.txt\n"
     ]
    },
    {
     "name": "stderr",
     "output_type": "stream",
     "text": [
      "\r",
      "Analyzing Sentiment:  20%|████████████▏                                               | 83/410 [00:14<00:51,  6.34it/s]"
     ]
    },
    {
     "name": "stdout",
     "output_type": "stream",
     "text": [
      "4wA71DDD.txt: -1 (score: 0.0037590209394693375)\n",
      "Warning: Empty translation for 4Nxkx5V.txt\n",
      "Warning: Empty translation for 4VQe4B3.txt\n"
     ]
    },
    {
     "name": "stderr",
     "output_type": "stream",
     "text": [
      "\r",
      "Analyzing Sentiment:  21%|████████████▌                                               | 86/410 [00:14<00:46,  6.91it/s]"
     ]
    },
    {
     "name": "stdout",
     "output_type": "stream",
     "text": [
      "4w8An7VB.txt: -1 (score: 0.005503823980689049)\n",
      "Warning: Empty translation for dJXnRnb.txt\n",
      "Warning: Empty translation for 93Zp9a5X.txt\n",
      "Warning: Empty translation for 46PBbJD.txt\n"
     ]
    },
    {
     "name": "stderr",
     "output_type": "stream",
     "text": [
      "\r",
      "Analyzing Sentiment:  22%|█████████████▏                                              | 90/410 [00:14<00:39,  8.19it/s]"
     ]
    },
    {
     "name": "stdout",
     "output_type": "stream",
     "text": [
      "5aqElxEN.txt: -1 (score: 0.013465607538819313)\n",
      "Warning: Empty translation for 5xkbJ7K.txt\n",
      "Warning: Empty translation for 4pqz1K8.txt\n",
      "Warning: Empty translation for 9k7MgDQ.txt\n",
      "Warning: Empty translation for 98yw990.txt\n"
     ]
    },
    {
     "name": "stderr",
     "output_type": "stream",
     "text": [
      "\r",
      "Analyzing Sentiment:  23%|█████████████▉                                              | 95/410 [00:15<00:30, 10.18it/s]"
     ]
    },
    {
     "name": "stdout",
     "output_type": "stream",
     "text": [
      "4DW1b3v.txt: -1 (score: 0.002797055523842573)\n",
      "Warning: Empty translation for BmbyQde.txt\n",
      "Warning: Empty translation for 9KWvgM9.txt\n"
     ]
    },
    {
     "name": "stderr",
     "output_type": "stream",
     "text": [
      "\r",
      "Analyzing Sentiment:  24%|██████████████▎                                             | 98/410 [00:15<00:32,  9.46it/s]"
     ]
    },
    {
     "name": "stdout",
     "output_type": "stream",
     "text": [
      "4kGm6r7.txt: 1 (score: 0.9996334314346313)\n"
     ]
    },
    {
     "name": "stderr",
     "output_type": "stream",
     "text": [
      "\r",
      "Analyzing Sentiment:  24%|██████████████▍                                             | 99/410 [00:15<00:41,  7.43it/s]"
     ]
    },
    {
     "name": "stdout",
     "output_type": "stream",
     "text": [
      "4DVQnJB.txt: -1 (score: 0.04825570061802864)\n",
      "Warning: Empty translation for N04V5qe.txt\n",
      "Warning: Empty translation for 4w8zR01a.txt\n",
      "Warning: Empty translation for 9g06MX0.txt\n",
      "Warning: Empty translation for 45xGJ18.txt\n",
      "Warning: Empty translation for 9KMzdp4.txt\n"
     ]
    },
    {
     "name": "stderr",
     "output_type": "stream",
     "text": [
      "\r",
      "Analyzing Sentiment:  26%|███████████████                                            | 105/410 [00:16<00:29, 10.26it/s]"
     ]
    },
    {
     "name": "stdout",
     "output_type": "stream",
     "text": [
      "B0qPGvEM.txt: 1 (score: 0.9998819828033447)\n",
      "Warning: Empty translation for JJW7aMV.txt\n"
     ]
    },
    {
     "name": "stderr",
     "output_type": "stream",
     "text": [
      "\r",
      "Analyzing Sentiment:  26%|███████████████▍                                           | 107/410 [00:16<00:30,  9.88it/s]"
     ]
    },
    {
     "name": "stdout",
     "output_type": "stream",
     "text": [
      "46w9aja.txt: -1 (score: 0.0024157657753676176)\n",
      "Warning: Empty translation for B4PnOnM.txt\n"
     ]
    },
    {
     "name": "stderr",
     "output_type": "stream",
     "text": [
      "\r",
      "Analyzing Sentiment:  27%|███████████████▋                                           | 109/410 [00:16<00:35,  8.48it/s]"
     ]
    },
    {
     "name": "stdout",
     "output_type": "stream",
     "text": [
      "9Jd4KeX.txt: -1 (score: 0.01856299489736557)\n",
      "Warning: Empty translation for 4wqJAgZ8.txt\n"
     ]
    },
    {
     "name": "stderr",
     "output_type": "stream",
     "text": [
      "\r",
      "Analyzing Sentiment:  27%|███████████████▉                                           | 111/410 [00:17<00:39,  7.63it/s]"
     ]
    },
    {
     "name": "stdout",
     "output_type": "stream",
     "text": [
      "9xQrv1N.txt: 1 (score: 0.9982810020446777)\n",
      "Warning: Empty translation for 46k9WX1.txt\n"
     ]
    },
    {
     "name": "stderr",
     "output_type": "stream",
     "text": [
      "\r",
      "Analyzing Sentiment:  28%|████████████████▎                                          | 113/410 [00:17<00:42,  6.98it/s]"
     ]
    },
    {
     "name": "stdout",
     "output_type": "stream",
     "text": [
      "4w7VEnbD.txt: -1 (score: 0.0291807372123003)\n",
      "Warning: Empty translation for KrbyPXE.txt\n",
      "Warning: Empty translation for 44PREla.txt\n",
      "Warning: Empty translation for 4xrllb7.txt\n",
      "Warning: Empty translation for 4wZvVyAG.txt\n",
      "Warning: Empty translation for 9QXE5wv.txt\n",
      "Warning: Empty translation for 9x76qG4.txt\n"
     ]
    },
    {
     "name": "stderr",
     "output_type": "stream",
     "text": [
      "\r",
      "Analyzing Sentiment:  29%|█████████████████▎                                         | 120/410 [00:17<00:27, 10.73it/s]"
     ]
    },
    {
     "name": "stdout",
     "output_type": "stream",
     "text": [
      "4byd4V1.txt: -1 (score: 0.024812912568449974)\n",
      "Warning: Empty translation for 4wzOmNQ1.txt\n"
     ]
    },
    {
     "name": "stderr",
     "output_type": "stream",
     "text": [
      "\r",
      "Analyzing Sentiment:  30%|█████████████████▌                                         | 122/410 [00:18<00:31,  9.20it/s]"
     ]
    },
    {
     "name": "stdout",
     "output_type": "stream",
     "text": [
      "9y1GQ9N.txt: 1 (score: 0.9995412826538086)\n",
      "Warning: Empty translation for 93m4GD9N.txt\n",
      "Warning: Empty translation for 4zPDQZD.txt\n"
     ]
    },
    {
     "name": "stderr",
     "output_type": "stream",
     "text": [
      "\r",
      "Analyzing Sentiment:  30%|█████████████████▉                                         | 125/410 [00:18<00:32,  8.78it/s]"
     ]
    },
    {
     "name": "stdout",
     "output_type": "stream",
     "text": [
      "9b7Om4X.txt: 1 (score: 0.9939098358154297)\n",
      "Warning: Empty translation for 93w9r9DQ.txt\n"
     ]
    },
    {
     "name": "stderr",
     "output_type": "stream",
     "text": [
      "\r",
      "Analyzing Sentiment:  31%|██████████████████▎                                        | 127/410 [00:18<00:36,  7.85it/s]"
     ]
    },
    {
     "name": "stdout",
     "output_type": "stream",
     "text": [
      "939mJB1a.txt: -1 (score: 0.020810455083847046)\n"
     ]
    },
    {
     "name": "stderr",
     "output_type": "stream",
     "text": [
      "\r",
      "Analyzing Sentiment:  31%|██████████████████▍                                        | 128/410 [00:19<00:43,  6.55it/s]"
     ]
    },
    {
     "name": "stdout",
     "output_type": "stream",
     "text": [
      "4wz5PMxV.txt: 1 (score: 0.999610960483551)\n",
      "Warning: Empty translation for 4wAKKVeD.txt\n"
     ]
    },
    {
     "name": "stderr",
     "output_type": "stream",
     "text": [
      "\r",
      "Analyzing Sentiment:  32%|██████████████████▋                                        | 130/410 [00:19<00:45,  6.16it/s]"
     ]
    },
    {
     "name": "stdout",
     "output_type": "stream",
     "text": [
      "4BZkqmQ.txt: -1 (score: 0.02680819295346737)\n"
     ]
    },
    {
     "name": "stderr",
     "output_type": "stream",
     "text": [
      "\r",
      "Analyzing Sentiment:  32%|██████████████████▊                                        | 131/410 [00:19<00:53,  5.17it/s]"
     ]
    },
    {
     "name": "stdout",
     "output_type": "stream",
     "text": [
      "4zKgqA1.txt: -1 (score: 0.11381123214960098)\n",
      "Warning: Empty translation for gmNBPbq.txt\n",
      "Warning: Empty translation for 4596Dwa.txt\n",
      "Warning: Empty translation for 9bmAp4v.txt\n",
      "Warning: Empty translation for 933lWvdQ.txt\n",
      "Warning: Empty translation for 4BjwjZG.txt\n",
      "Warning: Empty translation for 9v44bR0.txt\n"
     ]
    },
    {
     "name": "stderr",
     "output_type": "stream",
     "text": [
      "\r",
      "Analyzing Sentiment:  34%|███████████████████▊                                       | 138/410 [00:20<00:25, 10.68it/s]"
     ]
    },
    {
     "name": "stdout",
     "output_type": "stream",
     "text": [
      "gJQBeA7.txt: -1 (score: 0.0032332560513168573)\n",
      "Warning: Empty translation for B3xBjdO.txt\n"
     ]
    },
    {
     "name": "stderr",
     "output_type": "stream",
     "text": [
      "\r",
      "Analyzing Sentiment:  34%|████████████████████▏                                      | 140/410 [00:20<00:29,  9.09it/s]"
     ]
    },
    {
     "name": "stdout",
     "output_type": "stream",
     "text": [
      "4wANv6Z1.txt: -1 (score: 0.21494212746620178)\n",
      "9KrJvGQ.txt: -1 (score: 0.0426667295396328)\n"
     ]
    },
    {
     "name": "stderr",
     "output_type": "stream",
     "text": [
      "\r",
      "Analyzing Sentiment:  35%|████████████████████▍                                      | 142/410 [00:21<00:44,  6.01it/s]"
     ]
    },
    {
     "name": "stdout",
     "output_type": "stream",
     "text": [
      "9v05lj0.txt: 1 (score: 0.9981718063354492)\n",
      "Warning: Empty translation for 4a18jJB.txt\n"
     ]
    },
    {
     "name": "stderr",
     "output_type": "stream",
     "text": [
      "\r",
      "Analyzing Sentiment:  35%|████████████████████▋                                      | 144/410 [00:21<00:44,  5.95it/s]"
     ]
    },
    {
     "name": "stdout",
     "output_type": "stream",
     "text": [
      "4wz6Pav7.txt: -1 (score: 0.008842932060360909)\n",
      "Warning: Empty translation for 93ZayBMM.txt\n",
      "Warning: Empty translation for 4kjEbZ7.txt\n"
     ]
    },
    {
     "name": "stderr",
     "output_type": "stream",
     "text": [
      "\r",
      "Analyzing Sentiment:  36%|█████████████████████▏                                     | 147/410 [00:21<00:39,  6.65it/s]"
     ]
    },
    {
     "name": "stdout",
     "output_type": "stream",
     "text": [
      "4w8KX7Q8.txt: -1 (score: 0.004179274197667837)\n",
      "Warning: Empty translation for NyZmXGOD.txt\n"
     ]
    },
    {
     "name": "stderr",
     "output_type": "stream",
     "text": [
      "\r",
      "Analyzing Sentiment:  36%|█████████████████████▍                                     | 149/410 [00:22<00:41,  6.28it/s]"
     ]
    },
    {
     "name": "stdout",
     "output_type": "stream",
     "text": [
      "4wza7q4Q.txt: -1 (score: 0.08377059549093246)\n",
      "Warning: Empty translation for 5JEEVVM.txt\n",
      "Warning: Empty translation for 98pzjpy.txt\n",
      "Warning: Empty translation for 4w85X3eV.txt\n",
      "Warning: Empty translation for 9vMZg00.txt\n",
      "Warning: Empty translation for 4w8v3Gd1.txt\n"
     ]
    },
    {
     "name": "stderr",
     "output_type": "stream",
     "text": [
      "\r",
      "Analyzing Sentiment:  38%|██████████████████████▎                                    | 155/410 [00:22<00:27,  9.37it/s]"
     ]
    },
    {
     "name": "stdout",
     "output_type": "stream",
     "text": [
      "4VDB06Q.txt: -1 (score: 0.009492569603025913)\n",
      "Warning: Empty translation for B9kGpJN.txt\n"
     ]
    },
    {
     "name": "stderr",
     "output_type": "stream",
     "text": [
      "\r",
      "Analyzing Sentiment:  38%|██████████████████████▌                                    | 157/410 [00:22<00:27,  9.25it/s]"
     ]
    },
    {
     "name": "stdout",
     "output_type": "stream",
     "text": [
      "9b8vnJz.txt: 1 (score: 0.9851579070091248)\n",
      "Warning: Empty translation for 9drjJ7M.txt\n",
      "Warning: Empty translation for 5rl1kkk.txt\n",
      "Warning: Empty translation for AbPzeAJW.txt\n"
     ]
    },
    {
     "name": "stderr",
     "output_type": "stream",
     "text": [
      "\r",
      "Analyzing Sentiment:  39%|███████████████████████▏                                   | 161/410 [00:23<00:25,  9.83it/s]"
     ]
    },
    {
     "name": "stdout",
     "output_type": "stream",
     "text": [
      "93GmaK0a.txt: 1 (score: 0.9891374707221985)\n",
      "Warning: Empty translation for 4Bnkz33.txt\n",
      "Warning: Empty translation for 9vappNz.txt\n",
      "Warning: Empty translation for 93155Oly.txt\n"
     ]
    },
    {
     "name": "stderr",
     "output_type": "stream",
     "text": [
      "\r",
      "Analyzing Sentiment:  40%|███████████████████████▋                                   | 165/410 [00:23<00:21, 11.25it/s]"
     ]
    },
    {
     "name": "stdout",
     "output_type": "stream",
     "text": [
      "gxbJPBe.txt: -1 (score: 0.00203772378154099)\n",
      "Warning: Empty translation for 9Krb88X.txt\n"
     ]
    },
    {
     "name": "stderr",
     "output_type": "stream",
     "text": [
      "\r",
      "Analyzing Sentiment:  41%|████████████████████████                                   | 167/410 [00:23<00:25,  9.62it/s]"
     ]
    },
    {
     "name": "stdout",
     "output_type": "stream",
     "text": [
      "4ByPNy8.txt: 1 (score: 0.9748238921165466)\n"
     ]
    },
    {
     "name": "stderr",
     "output_type": "stream",
     "text": [
      "\r",
      "Analyzing Sentiment:  41%|████████████████████████▎                                  | 169/410 [00:24<00:28,  8.61it/s]"
     ]
    },
    {
     "name": "stdout",
     "output_type": "stream",
     "text": [
      "4WPbd43.txt: 1 (score: 0.9993016719818115)\n",
      "Warning: Empty translation for 4w7bWxP1.txt\n"
     ]
    },
    {
     "name": "stderr",
     "output_type": "stream",
     "text": [
      "\r",
      "Analyzing Sentiment:  41%|████████████████████████▍                                  | 170/410 [00:24<00:35,  6.73it/s]"
     ]
    },
    {
     "name": "stdout",
     "output_type": "stream",
     "text": [
      "9zdVaQv.txt: 1 (score: 0.8062565326690674)\n",
      "Warning: Empty translation for 9xOBQJ9.txt\n"
     ]
    },
    {
     "name": "stderr",
     "output_type": "stream",
     "text": [
      "\r",
      "Analyzing Sentiment:  42%|████████████████████████▊                                  | 172/410 [00:24<00:36,  6.56it/s]"
     ]
    },
    {
     "name": "stdout",
     "output_type": "stream",
     "text": [
      "grenGOJ6.txt: 0 (score: 0.33682048320770264)\n"
     ]
    },
    {
     "name": "stderr",
     "output_type": "stream",
     "text": [
      "\r",
      "Analyzing Sentiment:  42%|████████████████████████▉                                  | 173/410 [00:25<00:44,  5.29it/s]"
     ]
    },
    {
     "name": "stdout",
     "output_type": "stream",
     "text": [
      "mDGAGaV.txt: 0 (score: 0.2532738149166107)\n",
      "Warning: Empty translation for 4wqAQvAv.txt\n"
     ]
    },
    {
     "name": "stderr",
     "output_type": "stream",
     "text": [
      "\r",
      "Analyzing Sentiment:  43%|█████████████████████████▏                                 | 175/410 [00:25<00:43,  5.38it/s]"
     ]
    },
    {
     "name": "stdout",
     "output_type": "stream",
     "text": [
      "9O6vnXX.txt: 1 (score: 0.9751389026641846)\n",
      "Warning: Empty translation for BPlepwd.txt\n",
      "Warning: Empty translation for 4nR5r7Q.txt\n",
      "Warning: Empty translation for 93GqZgN4.txt\n",
      "Warning: Empty translation for 44VWP8Q.txt\n",
      "Warning: Empty translation for 4Ov9M6D.txt\n",
      "Warning: Empty translation for 4NwElQ7.txt\n",
      "Warning: Empty translation for ma7zkJ1.txt\n",
      "Warning: Empty translation for 4w1x94lQ.txt\n",
      "Warning: Empty translation for 5Ra46Ak.txt\n",
      "Warning: Empty translation for 4BKe6ba.txt\n",
      "Warning: Empty translation for 9bRqGkN.txt\n"
     ]
    },
    {
     "name": "stderr",
     "output_type": "stream",
     "text": [
      "\r",
      "Analyzing Sentiment:  46%|██████████████████████████▉                                | 187/410 [00:25<00:15, 14.17it/s]"
     ]
    },
    {
     "name": "stdout",
     "output_type": "stream",
     "text": [
      "dM0wPgD.txt: -1 (score: 0.0011405172990635037)\n",
      "Warning: Empty translation for 9XjkMGv.txt\n"
     ]
    },
    {
     "name": "stderr",
     "output_type": "stream",
     "text": [
      "\r",
      "Analyzing Sentiment:  46%|███████████████████████████▏                               | 189/410 [00:26<00:18, 11.78it/s]"
     ]
    },
    {
     "name": "stdout",
     "output_type": "stream",
     "text": [
      "933yXlJ0.txt: 1 (score: 0.9699746966362)\n",
      "Warning: Empty translation for BdmnPOR.txt\n"
     ]
    },
    {
     "name": "stderr",
     "output_type": "stream",
     "text": [
      "\r",
      "Analyzing Sentiment:  47%|███████████████████████████▍                               | 191/410 [00:26<00:22,  9.69it/s]"
     ]
    },
    {
     "name": "stdout",
     "output_type": "stream",
     "text": [
      "4zG4Dqa.txt: 1 (score: 0.9923344254493713)\n",
      "Warning: Empty translation for 93qRjq09.txt\n",
      "Warning: Empty translation for 4WZdrqv.txt\n",
      "Warning: Empty translation for JERdqPm.txt\n",
      "Warning: Empty translation for JZ4MMwX6.txt\n",
      "Warning: Empty translation for GkvNgr5.txt\n",
      "Warning: Empty translation for Bpw6QeJ.txt\n"
     ]
    },
    {
     "name": "stderr",
     "output_type": "stream",
     "text": [
      "\r",
      "Analyzing Sentiment:  48%|████████████████████████████▍                              | 198/410 [00:26<00:14, 14.22it/s]"
     ]
    },
    {
     "name": "stdout",
     "output_type": "stream",
     "text": [
      "gW6Vjgb.txt: -1 (score: 0.0011476556537672877)\n"
     ]
    },
    {
     "name": "stderr",
     "output_type": "stream",
     "text": [
      "\r",
      "Analyzing Sentiment:  49%|████████████████████████████▊                              | 200/410 [00:27<00:17, 12.06it/s]"
     ]
    },
    {
     "name": "stdout",
     "output_type": "stream",
     "text": [
      "40QvlA3.txt: 0 (score: 0.5235129594802856)\n",
      "Warning: Empty translation for 931yrZ9N.txt\n",
      "Warning: Empty translation for 40G15x1.txt\n"
     ]
    },
    {
     "name": "stderr",
     "output_type": "stream",
     "text": [
      "\r",
      "Analyzing Sentiment:  49%|█████████████████████████████                              | 202/410 [00:27<00:21,  9.83it/s]"
     ]
    },
    {
     "name": "stdout",
     "output_type": "stream",
     "text": [
      "4Oxzv0B.txt: 0 (score: 0.5957629680633545)\n",
      "93qdMljX.txt: 0 (score: 0.276328980922699)\n"
     ]
    },
    {
     "name": "stderr",
     "output_type": "stream",
     "text": [
      "\r",
      "Analyzing Sentiment:  50%|█████████████████████████████▎                             | 204/410 [00:28<00:32,  6.41it/s]"
     ]
    },
    {
     "name": "stdout",
     "output_type": "stream",
     "text": [
      "4wNdmNl3.txt: -1 (score: 0.20819999277591705)\n",
      "Warning: Empty translation for 4wReJvQ3.txt\n"
     ]
    },
    {
     "name": "stderr",
     "output_type": "stream",
     "text": [
      "\r",
      "Analyzing Sentiment:  50%|█████████████████████████████▋                             | 206/410 [00:28<00:32,  6.20it/s]"
     ]
    },
    {
     "name": "stdout",
     "output_type": "stream",
     "text": [
      "57ed98N.txt: -1 (score: 0.0008504692814312875)\n",
      "Warning: Empty translation for BryjJyw.txt\n"
     ]
    },
    {
     "name": "stderr",
     "output_type": "stream",
     "text": [
      "\r",
      "Analyzing Sentiment:  51%|█████████████████████████████▉                             | 208/410 [00:28<00:33,  6.02it/s]"
     ]
    },
    {
     "name": "stdout",
     "output_type": "stream",
     "text": [
      "4wz10yBa.txt: 1 (score: 0.9436866641044617)\n"
     ]
    },
    {
     "name": "stderr",
     "output_type": "stream",
     "text": [
      "\r",
      "Analyzing Sentiment:  51%|██████████████████████████████                             | 209/410 [00:29<00:39,  5.07it/s]"
     ]
    },
    {
     "name": "stdout",
     "output_type": "stream",
     "text": [
      "4Dkzey3.txt: -1 (score: 0.0031244875863194466)\n"
     ]
    },
    {
     "name": "stderr",
     "output_type": "stream",
     "text": [
      "\r",
      "Analyzing Sentiment:  51%|██████████████████████████████▏                            | 210/410 [00:29<00:44,  4.49it/s]"
     ]
    },
    {
     "name": "stdout",
     "output_type": "stream",
     "text": [
      "9VblBKy.txt: 0 (score: 0.5624455213546753)\n"
     ]
    },
    {
     "name": "stderr",
     "output_type": "stream",
     "text": [
      "\r",
      "Analyzing Sentiment:  51%|██████████████████████████████▎                            | 211/410 [00:30<00:48,  4.10it/s]"
     ]
    },
    {
     "name": "stdout",
     "output_type": "stream",
     "text": [
      "4W51R83.txt: -1 (score: 0.04674661532044411)\n",
      "Warning: Empty translation for 93GPa8R0.txt\n",
      "Warning: Empty translation for 4wzO0ew8.txt\n"
     ]
    },
    {
     "name": "stderr",
     "output_type": "stream",
     "text": [
      "\r",
      "Analyzing Sentiment:  52%|██████████████████████████████▊                            | 214/410 [00:30<00:36,  5.37it/s]"
     ]
    },
    {
     "name": "stdout",
     "output_type": "stream",
     "text": [
      "4wR0dk03.txt: 1 (score: 0.9748238921165466)\n",
      "Warning: Empty translation for 4wzamKAa.txt\n"
     ]
    },
    {
     "name": "stderr",
     "output_type": "stream",
     "text": [
      "\r",
      "Analyzing Sentiment:  53%|███████████████████████████████                            | 216/410 [00:30<00:35,  5.47it/s]"
     ]
    },
    {
     "name": "stdout",
     "output_type": "stream",
     "text": [
      "4zlVbbB.txt: -1 (score: 0.009184516966342926)\n",
      "Warning: Empty translation for 9yZj05X.txt\n",
      "Warning: Empty translation for 978W0jX.txt\n",
      "Warning: Empty translation for 4wRZveBB.txt\n",
      "Warning: Empty translation for 4wZd1n71.txt\n",
      "Warning: Empty translation for wKV3GnwX.txt\n"
     ]
    },
    {
     "name": "stderr",
     "output_type": "stream",
     "text": [
      "\r",
      "Analyzing Sentiment:  54%|███████████████████████████████▉                           | 222/410 [00:31<00:21,  8.89it/s]"
     ]
    },
    {
     "name": "stdout",
     "output_type": "stream",
     "text": [
      "97Nyw4a.txt: 1 (score: 0.9995723366737366)\n",
      "Warning: Empty translation for 45zjA7D.txt\n"
     ]
    },
    {
     "name": "stderr",
     "output_type": "stream",
     "text": [
      "\r",
      "Analyzing Sentiment:  55%|████████████████████████████████▏                          | 224/410 [00:31<00:22,  8.18it/s]"
     ]
    },
    {
     "name": "stdout",
     "output_type": "stream",
     "text": [
      "93DnJzWN.txt: -1 (score: 0.050584450364112854)\n",
      "Warning: Empty translation for BneWwNd.txt\n",
      "Warning: Empty translation for 9Z4vQv0.txt\n",
      "Warning: Empty translation for 933DKMD9.txt\n"
     ]
    },
    {
     "name": "stderr",
     "output_type": "stream",
     "text": [
      "\r",
      "Analyzing Sentiment:  56%|████████████████████████████████▊                          | 228/410 [00:31<00:20,  9.01it/s]"
     ]
    },
    {
     "name": "stdout",
     "output_type": "stream",
     "text": [
      "93DJpGmy.txt: -1 (score: 0.0011590520152822137)\n",
      "Warning: Empty translation for 4XmvbR8.txt\n"
     ]
    },
    {
     "name": "stderr",
     "output_type": "stream",
     "text": [
      "\r",
      "Analyzing Sentiment:  56%|█████████████████████████████████                          | 230/410 [00:32<00:22,  7.97it/s]"
     ]
    },
    {
     "name": "stdout",
     "output_type": "stream",
     "text": [
      "grzRVZzz.txt: 1 (score: 0.7595438957214355)\n",
      "Warning: Empty translation for 9l9D9dz.txt\n",
      "Warning: Empty translation for 9Xpmvm9.txt\n",
      "Warning: Empty translation for 4Oj1a88.txt\n"
     ]
    },
    {
     "name": "stderr",
     "output_type": "stream",
     "text": [
      "\r",
      "Analyzing Sentiment:  57%|█████████████████████████████████▋                         | 234/410 [00:32<00:20,  8.79it/s]"
     ]
    },
    {
     "name": "stdout",
     "output_type": "stream",
     "text": [
      "97jgPka.txt: 1 (score: 0.9511094093322754)\n",
      "Warning: Empty translation for 4wRplPZD.txt\n"
     ]
    },
    {
     "name": "stderr",
     "output_type": "stream",
     "text": [
      "\r",
      "Analyzing Sentiment:  58%|█████████████████████████████████▉                         | 236/410 [00:32<00:22,  7.79it/s]"
     ]
    },
    {
     "name": "stdout",
     "output_type": "stream",
     "text": [
      "4wAvG55G.txt: -1 (score: 0.21494212746620178)\n"
     ]
    },
    {
     "name": "stderr",
     "output_type": "stream",
     "text": [
      "\r",
      "Analyzing Sentiment:  58%|██████████████████████████████████                         | 237/410 [00:33<00:27,  6.30it/s]"
     ]
    },
    {
     "name": "stdout",
     "output_type": "stream",
     "text": [
      "4xMeB3v.txt: -1 (score: 0.001922252238728106)\n",
      "Warning: Empty translation for 44pRkKG.txt\n",
      "Warning: Empty translation for 46aDnJ8.txt\n",
      "Warning: Empty translation for 939B7lGQ.txt\n"
     ]
    },
    {
     "name": "stderr",
     "output_type": "stream",
     "text": [
      "\r",
      "Analyzing Sentiment:  59%|██████████████████████████████████▋                        | 241/410 [00:33<00:21,  7.79it/s]"
     ]
    },
    {
     "name": "stdout",
     "output_type": "stream",
     "text": [
      "93aVglDQ.txt: -1 (score: 0.01816188357770443)\n",
      "Warning: Empty translation for 44P56la.txt\n",
      "Warning: Empty translation for 4D59bgG.txt\n",
      "Warning: Empty translation for 4w7NzJjD.txt\n",
      "Warning: Empty translation for 93DpeJ4z.txt\n"
     ]
    },
    {
     "name": "stderr",
     "output_type": "stream",
     "text": [
      "\r",
      "Analyzing Sentiment:  60%|███████████████████████████████████▍                       | 246/410 [00:33<00:15, 10.38it/s]"
     ]
    },
    {
     "name": "stdout",
     "output_type": "stream",
     "text": [
      "4aJxJjG.txt: -1 (score: 0.01377042941749096)\n",
      "Warning: Empty translation for 4O39waD.txt\n"
     ]
    },
    {
     "name": "stderr",
     "output_type": "stream",
     "text": [
      "\r",
      "Analyzing Sentiment:  60%|███████████████████████████████████▋                       | 248/410 [00:34<00:17,  9.06it/s]"
     ]
    },
    {
     "name": "stdout",
     "output_type": "stream",
     "text": [
      "9KBkV64.txt: 1 (score: 0.8550841212272644)\n",
      "Warning: Empty translation for 44rG6yB.txt\n",
      "Warning: Empty translation for BMeEDNN.txt\n",
      "Warning: Empty translation for 4wz1W7bD.txt\n",
      "Warning: Empty translation for 9O3xWey.txt\n"
     ]
    },
    {
     "name": "stderr",
     "output_type": "stream",
     "text": [
      "\r",
      "Analyzing Sentiment:  62%|████████████████████████████████████▍                      | 253/410 [00:34<00:14, 10.72it/s]"
     ]
    },
    {
     "name": "stdout",
     "output_type": "stream",
     "text": [
      "r16lvMZb.txt: -1 (score: 0.0038605460431426764)\n",
      "Warning: Empty translation for 4Wxnwk3.txt\n",
      "Warning: Empty translation for 9Nn3lk9.txt\n"
     ]
    },
    {
     "name": "stderr",
     "output_type": "stream",
     "text": [
      "\r",
      "Analyzing Sentiment:  62%|████████████████████████████████████▊                      | 256/410 [00:34<00:15,  9.88it/s]"
     ]
    },
    {
     "name": "stdout",
     "output_type": "stream",
     "text": [
      "4B1RjlV.txt: 1 (score: 0.9930310845375061)\n",
      "Warning: Empty translation for 9yVzw8N.txt\n"
     ]
    },
    {
     "name": "stderr",
     "output_type": "stream",
     "text": [
      "\r",
      "Analyzing Sentiment:  63%|█████████████████████████████████████▏                     | 258/410 [00:35<00:16,  9.01it/s]"
     ]
    },
    {
     "name": "stdout",
     "output_type": "stream",
     "text": [
      "4xPZpn8.txt: -1 (score: 0.012356404215097427)\n"
     ]
    },
    {
     "name": "stderr",
     "output_type": "stream",
     "text": [
      "\r",
      "Analyzing Sentiment:  63%|█████████████████████████████████████▎                     | 259/410 [00:35<00:20,  7.28it/s]"
     ]
    },
    {
     "name": "stdout",
     "output_type": "stream",
     "text": [
      "4wzvmG7D.txt: 1 (score: 0.9939339756965637)\n",
      "Warning: Empty translation for 4wqwn68G.txt\n"
     ]
    },
    {
     "name": "stderr",
     "output_type": "stream",
     "text": [
      "\r",
      "Analyzing Sentiment:  64%|█████████████████████████████████████▌                     | 261/410 [00:35<00:21,  6.82it/s]"
     ]
    },
    {
     "name": "stdout",
     "output_type": "stream",
     "text": [
      "GJG0njb.txt: -1 (score: 0.00622963160276413)\n",
      "Warning: Empty translation for BVvypvN.txt\n"
     ]
    },
    {
     "name": "stderr",
     "output_type": "stream",
     "text": [
      "\r",
      "Analyzing Sentiment:  64%|█████████████████████████████████████▊                     | 263/410 [00:36<00:21,  6.70it/s]"
     ]
    },
    {
     "name": "stdout",
     "output_type": "stream",
     "text": [
      "4wzRZjjv.txt: 1 (score: 0.9697486758232117)\n",
      "Warning: Empty translation for 4OV3mwG.txt\n",
      "Warning: Empty translation for 9xPW1Rz.txt\n",
      "Warning: Empty translation for wMPvb9P.txt\n"
     ]
    },
    {
     "name": "stderr",
     "output_type": "stream",
     "text": [
      "\r",
      "Analyzing Sentiment:  65%|██████████████████████████████████████▍                    | 267/410 [00:36<00:17,  8.27it/s]"
     ]
    },
    {
     "name": "stdout",
     "output_type": "stream",
     "text": [
      "46A8OV8.txt: 1 (score: 0.9692367911338806)\n",
      "Warning: Empty translation for 4wAKwMw3.txt\n",
      "Warning: Empty translation for B0JRa9pO.txt\n"
     ]
    },
    {
     "name": "stderr",
     "output_type": "stream",
     "text": [
      "\r",
      "Analyzing Sentiment:  66%|██████████████████████████████████████▊                    | 270/410 [00:36<00:16,  8.64it/s]"
     ]
    },
    {
     "name": "stdout",
     "output_type": "stream",
     "text": [
      "4z55vB8.txt: -1 (score: 0.010812428779900074)\n",
      "Warning: Empty translation for 56bXAAA.txt\n",
      "Warning: Empty translation for BzxP7mO.txt\n"
     ]
    },
    {
     "name": "stderr",
     "output_type": "stream",
     "text": [
      "\r",
      "Analyzing Sentiment:  67%|███████████████████████████████████████▎                   | 273/410 [00:37<00:15,  8.62it/s]"
     ]
    },
    {
     "name": "stdout",
     "output_type": "stream",
     "text": [
      "9eQ0VE4.txt: 1 (score: 0.9845512509346008)\n",
      "Warning: Empty translation for 939pd3nX.txt\n",
      "Warning: Empty translation for 4B1KnlB.txt\n",
      "Warning: Empty translation for 93m7lwr9.txt\n",
      "Warning: Empty translation for 4benpRQ.txt\n"
     ]
    },
    {
     "name": "stderr",
     "output_type": "stream",
     "text": [
      "\r",
      "Analyzing Sentiment:  68%|████████████████████████████████████████                   | 278/410 [00:37<00:12, 10.69it/s]"
     ]
    },
    {
     "name": "stdout",
     "output_type": "stream",
     "text": [
      "93Z6yQQX.txt: 1 (score: 0.9968053102493286)\n"
     ]
    },
    {
     "name": "stderr",
     "output_type": "stream",
     "text": [
      "\r",
      "Analyzing Sentiment:  68%|████████████████████████████████████████▎                  | 280/410 [00:37<00:14,  9.06it/s]"
     ]
    },
    {
     "name": "stdout",
     "output_type": "stream",
     "text": [
      "4wGeK8N1.txt: 0 (score: 0.30294403433799744)\n",
      "Warning: Empty translation for 4WvmDVV.txt\n",
      "Warning: Empty translation for 4bzjbKB.txt\n"
     ]
    },
    {
     "name": "stderr",
     "output_type": "stream",
     "text": [
      "\r",
      "Analyzing Sentiment:  69%|████████████████████████████████████████▌                  | 282/410 [00:38<00:16,  7.98it/s]"
     ]
    },
    {
     "name": "stdout",
     "output_type": "stream",
     "text": [
      "4wR8wx6a.txt: 1 (score: 0.9919459223747253)\n",
      "Warning: Empty translation for 4V1bERv.txt\n"
     ]
    },
    {
     "name": "stderr",
     "output_type": "stream",
     "text": [
      "\r",
      "Analyzing Sentiment:  69%|████████████████████████████████████████▊                  | 284/410 [00:38<00:17,  7.21it/s]"
     ]
    },
    {
     "name": "stdout",
     "output_type": "stream",
     "text": [
      "9e3DxEv.txt: -1 (score: 0.0010860974434763193)\n"
     ]
    },
    {
     "name": "stderr",
     "output_type": "stream",
     "text": [
      "\r",
      "Analyzing Sentiment:  70%|█████████████████████████████████████████                  | 285/410 [00:38<00:21,  5.91it/s]"
     ]
    },
    {
     "name": "stdout",
     "output_type": "stream",
     "text": [
      "4xjRnbv.txt: 1 (score: 0.6058074235916138)\n"
     ]
    },
    {
     "name": "stderr",
     "output_type": "stream",
     "text": [
      "\r",
      "Analyzing Sentiment:  70%|█████████████████████████████████████████▏                 | 286/410 [00:39<00:24,  4.97it/s]"
     ]
    },
    {
     "name": "stdout",
     "output_type": "stream",
     "text": [
      "4NXeElG.txt: -1 (score: 0.09171466529369354)\n",
      "Warning: Empty translation for 939VpBEv.txt\n"
     ]
    },
    {
     "name": "stderr",
     "output_type": "stream",
     "text": [
      "\r",
      "Analyzing Sentiment:  70%|█████████████████████████████████████████▍                 | 288/410 [00:39<00:22,  5.41it/s]"
     ]
    },
    {
     "name": "stdout",
     "output_type": "stream",
     "text": [
      "4prxZ6B.txt: 1 (score: 0.9926919341087341)\n"
     ]
    },
    {
     "name": "stderr",
     "output_type": "stream",
     "text": [
      "\r",
      "Analyzing Sentiment:  70%|█████████████████████████████████████████▌                 | 289/410 [00:39<00:26,  4.59it/s]"
     ]
    },
    {
     "name": "stdout",
     "output_type": "stream",
     "text": [
      "4zDX6nv.txt: -1 (score: 0.18041010200977325)\n",
      "Warning: Empty translation for 4wRvdPxG.txt\n"
     ]
    },
    {
     "name": "stderr",
     "output_type": "stream",
     "text": [
      "\r",
      "Analyzing Sentiment:  71%|█████████████████████████████████████████▉                 | 291/410 [00:40<00:23,  5.04it/s]"
     ]
    },
    {
     "name": "stdout",
     "output_type": "stream",
     "text": [
      "44Ad8yQ.txt: -1 (score: 0.011097579263150692)\n",
      "Warning: Empty translation for 4w8AQ8av.txt\n",
      "Warning: Empty translation for 4zebe0Q.txt\n",
      "Warning: Empty translation for 4pPvbRB.txt\n"
     ]
    },
    {
     "name": "stderr",
     "output_type": "stream",
     "text": [
      "\r",
      "Analyzing Sentiment:  72%|██████████████████████████████████████████▍                | 295/410 [00:40<00:14,  7.79it/s]"
     ]
    },
    {
     "name": "stdout",
     "output_type": "stream",
     "text": [
      "931d9pwa.txt: -1 (score: 0.013894032686948776)\n"
     ]
    },
    {
     "name": "stderr",
     "output_type": "stream",
     "text": [
      "\r",
      "Analyzing Sentiment:  72%|██████████████████████████████████████████▌                | 296/410 [00:40<00:17,  6.38it/s]"
     ]
    },
    {
     "name": "stdout",
     "output_type": "stream",
     "text": [
      "4aW1ZBv.txt: -1 (score: 0.008217508904635906)\n"
     ]
    },
    {
     "name": "stderr",
     "output_type": "stream",
     "text": [
      "\r",
      "Analyzing Sentiment:  72%|██████████████████████████████████████████▋                | 297/410 [00:41<00:20,  5.42it/s]"
     ]
    },
    {
     "name": "stdout",
     "output_type": "stream",
     "text": [
      "4N5ZJRV.txt: 1 (score: 0.8885107040405273)\n",
      "Warning: Empty translation for 4DDjxDa.txt\n",
      "Warning: Empty translation for 4wZ30Wq3.txt\n",
      "Warning: Empty translation for 93anvM4N.txt\n",
      "Warning: Empty translation for 93mr4bra.txt\n"
     ]
    },
    {
     "name": "stderr",
     "output_type": "stream",
     "text": [
      "\r",
      "Analyzing Sentiment:  74%|███████████████████████████████████████████▍               | 302/410 [00:41<00:12,  8.48it/s]"
     ]
    },
    {
     "name": "stdout",
     "output_type": "stream",
     "text": [
      "KV5jwd1.txt: 1 (score: 0.9675816893577576)\n"
     ]
    },
    {
     "name": "stderr",
     "output_type": "stream",
     "text": [
      "\r",
      "Analyzing Sentiment:  74%|███████████████████████████████████████████▌               | 303/410 [00:41<00:15,  6.82it/s]"
     ]
    },
    {
     "name": "stdout",
     "output_type": "stream",
     "text": [
      "9bXyZQ9.txt: 1 (score: 0.9991204142570496)\n",
      "Warning: Empty translation for 97Mvl3y.txt\n",
      "Warning: Empty translation for 46WqOOV.txt\n",
      "Warning: Empty translation for 939yavkQ.txt\n",
      "Warning: Empty translation for 93ZNNGnN.txt\n",
      "Warning: Empty translation for 4mOBBm8.txt\n",
      "Warning: Empty translation for N4B9q6E.txt\n"
     ]
    },
    {
     "name": "stderr",
     "output_type": "stream",
     "text": [
      "\r",
      "Analyzing Sentiment:  76%|████████████████████████████████████████████▌              | 310/410 [00:42<00:08, 11.12it/s]"
     ]
    },
    {
     "name": "stdout",
     "output_type": "stream",
     "text": [
      "4bQZRl7.txt: 1 (score: 0.6591137647628784)\n",
      "Warning: Empty translation for 98WRyDa.txt\n"
     ]
    },
    {
     "name": "stderr",
     "output_type": "stream",
     "text": [
      "\r",
      "Analyzing Sentiment:  76%|████████████████████████████████████████████▉              | 312/410 [00:42<00:10,  9.54it/s]"
     ]
    },
    {
     "name": "stdout",
     "output_type": "stream",
     "text": [
      "93mGxdnX.txt: 1 (score: 0.8832859396934509)\n"
     ]
    },
    {
     "name": "stderr",
     "output_type": "stream",
     "text": [
      "\r",
      "Analyzing Sentiment:  76%|█████████████████████████████████████████████              | 313/410 [00:42<00:12,  7.67it/s]"
     ]
    },
    {
     "name": "stdout",
     "output_type": "stream",
     "text": [
      "9zPjAKy.txt: 1 (score: 0.9462510347366333)\n",
      "Warning: Empty translation for KdZkbEJ.txt\n",
      "Warning: Empty translation for 4wGekmj8.txt\n"
     ]
    },
    {
     "name": "stderr",
     "output_type": "stream",
     "text": [
      "\r",
      "Analyzing Sentiment:  77%|█████████████████████████████████████████████▍             | 316/410 [00:43<00:11,  7.98it/s]"
     ]
    },
    {
     "name": "stdout",
     "output_type": "stream",
     "text": [
      "4wR7BQ38.txt: 1 (score: 0.8012851476669312)\n"
     ]
    },
    {
     "name": "stderr",
     "output_type": "stream",
     "text": [
      "\r",
      "Analyzing Sentiment:  77%|█████████████████████████████████████████████▌             | 317/410 [00:43<00:14,  6.37it/s]"
     ]
    },
    {
     "name": "stdout",
     "output_type": "stream",
     "text": [
      "40OqQda.txt: 1 (score: 0.9841821789741516)\n"
     ]
    },
    {
     "name": "stderr",
     "output_type": "stream",
     "text": [
      "\r",
      "Analyzing Sentiment:  78%|█████████████████████████████████████████████▊             | 318/410 [00:43<00:17,  5.29it/s]"
     ]
    },
    {
     "name": "stdout",
     "output_type": "stream",
     "text": [
      "4XPK6vG.txt: -1 (score: 0.027682717889547348)\n"
     ]
    },
    {
     "name": "stderr",
     "output_type": "stream",
     "text": [
      "\r",
      "Analyzing Sentiment:  78%|█████████████████████████████████████████████▉             | 319/410 [00:44<00:19,  4.60it/s]"
     ]
    },
    {
     "name": "stdout",
     "output_type": "stream",
     "text": [
      "93awar7z.txt: 1 (score: 0.9576399326324463)\n",
      "Warning: Empty translation for 93mbeqna.txt\n",
      "Warning: Empty translation for 9NrZ9k9.txt\n",
      "Warning: Empty translation for 4wZkDvn8.txt\n"
     ]
    },
    {
     "name": "stderr",
     "output_type": "stream",
     "text": [
      "\r",
      "Analyzing Sentiment:  79%|██████████████████████████████████████████████▍            | 323/410 [00:44<00:12,  6.72it/s]"
     ]
    },
    {
     "name": "stdout",
     "output_type": "stream",
     "text": [
      "4NGNAa1.txt: -1 (score: 0.005061964970082045)\n",
      "Warning: Empty translation for 4apOqeV.txt\n",
      "Warning: Empty translation for AJQKZjW.txt\n",
      "Warning: Empty translation for 4wl1RlpV.txt\n",
      "Warning: Empty translation for JOP6RrZ.txt\n",
      "Warning: Empty translation for 9ZG7d5Q.txt\n",
      "Warning: Empty translation for 4DajEOV.txt\n",
      "Warning: Empty translation for BOmRwaM.txt\n",
      "Warning: Empty translation for 93DzVdry.txt\n",
      "Warning: Empty translation for 4w74ejKa.txt\n"
     ]
    },
    {
     "name": "stderr",
     "output_type": "stream",
     "text": [
      "\r",
      "Analyzing Sentiment:  81%|███████████████████████████████████████████████▉           | 333/410 [00:44<00:05, 13.61it/s]"
     ]
    },
    {
     "name": "stdout",
     "output_type": "stream",
     "text": [
      "g4vbMDe.txt: -1 (score: 0.007696361280977726)\n",
      "Warning: Empty translation for 931REX54.txt\n",
      "Warning: Empty translation for K0Z5y5w.txt\n"
     ]
    },
    {
     "name": "stderr",
     "output_type": "stream",
     "text": [
      "\r",
      "Analyzing Sentiment:  82%|████████████████████████████████████████████████▎          | 336/410 [00:45<00:06, 11.85it/s]"
     ]
    },
    {
     "name": "stdout",
     "output_type": "stream",
     "text": [
      "5aNqpgyp.txt: 1 (score: 0.9935258626937866)\n",
      "Warning: Empty translation for 4VVd1w1.txt\n"
     ]
    },
    {
     "name": "stderr",
     "output_type": "stream",
     "text": [
      "\r",
      "Analyzing Sentiment:  82%|████████████████████████████████████████████████▋          | 338/410 [00:45<00:07, 10.19it/s]"
     ]
    },
    {
     "name": "stdout",
     "output_type": "stream",
     "text": [
      "9ZeaxMQ.txt: 1 (score: 0.954016923904419)\n"
     ]
    },
    {
     "name": "stderr",
     "output_type": "stream",
     "text": [
      "\r",
      "Analyzing Sentiment:  83%|████████████████████████████████████████████████▉          | 340/410 [00:45<00:07,  9.02it/s]"
     ]
    },
    {
     "name": "stdout",
     "output_type": "stream",
     "text": [
      "9J3eVzM.txt: 1 (score: 0.9947779178619385)\n",
      "Warning: Empty translation for 9yvdWgM.txt\n",
      "Warning: Empty translation for B0DzWJnJ.txt\n"
     ]
    },
    {
     "name": "stderr",
     "output_type": "stream",
     "text": [
      "\r",
      "Analyzing Sentiment:  83%|█████████████████████████████████████████████████▏         | 342/410 [00:46<00:08,  8.12it/s]"
     ]
    },
    {
     "name": "stdout",
     "output_type": "stream",
     "text": [
      "9ylggRv.txt: 1 (score: 0.8260095715522766)\n",
      "Warning: Empty translation for 4BlrzD8.txt\n",
      "Warning: Empty translation for 44NN0yV.txt\n"
     ]
    },
    {
     "name": "stderr",
     "output_type": "stream",
     "text": [
      "\r",
      "Analyzing Sentiment:  84%|█████████████████████████████████████████████████▋         | 345/410 [00:46<00:07,  8.44it/s]"
     ]
    },
    {
     "name": "stdout",
     "output_type": "stream",
     "text": [
      "5aN79vW7.txt: -1 (score: 0.028010273352265358)\n",
      "Warning: Empty translation for 4jB9WVV.txt\n",
      "Warning: Empty translation for 93a3q58M.txt\n"
     ]
    },
    {
     "name": "stderr",
     "output_type": "stream",
     "text": [
      "\r",
      "Analyzing Sentiment:  85%|██████████████████████████████████████████████████         | 348/410 [00:46<00:06,  9.46it/s]"
     ]
    },
    {
     "name": "stdout",
     "output_type": "stream",
     "text": [
      "gjwdxmJ.txt: -1 (score: 0.010871472768485546)\n"
     ]
    },
    {
     "name": "stderr",
     "output_type": "stream",
     "text": [
      "\r",
      "Analyzing Sentiment:  85%|██████████████████████████████████████████████████▏        | 349/410 [00:47<00:08,  7.31it/s]"
     ]
    },
    {
     "name": "stdout",
     "output_type": "stream",
     "text": [
      "4wwX5gVQ.txt: -1 (score: 0.01867331936955452)\n",
      "Warning: Empty translation for 9gNP0Jz.txt\n"
     ]
    },
    {
     "name": "stderr",
     "output_type": "stream",
     "text": [
      "\r",
      "Analyzing Sentiment:  86%|██████████████████████████████████████████████████▌        | 351/410 [00:47<00:07,  7.74it/s]"
     ]
    },
    {
     "name": "stdout",
     "output_type": "stream",
     "text": [
      "gDJy1lz.txt: -1 (score: 0.019113318994641304)\n",
      "Warning: Empty translation for 93ZbBg70.txt\n",
      "Warning: Empty translation for 9KdlwJa.txt\n",
      "Warning: Empty translation for 9X3rrRv.txt\n"
     ]
    },
    {
     "name": "stderr",
     "output_type": "stream",
     "text": [
      "\r",
      "Analyzing Sentiment:  87%|███████████████████████████████████████████████████        | 355/410 [00:47<00:05,  9.55it/s]"
     ]
    },
    {
     "name": "stdout",
     "output_type": "stream",
     "text": [
      "gmNXAVb.txt: 1 (score: 0.9555401802062988)\n",
      "Warning: Empty translation for 9NGPwPa.txt\n"
     ]
    },
    {
     "name": "stderr",
     "output_type": "stream",
     "text": [
      "\r",
      "Analyzing Sentiment:  87%|███████████████████████████████████████████████████▎       | 357/410 [00:47<00:06,  8.27it/s]"
     ]
    },
    {
     "name": "stdout",
     "output_type": "stream",
     "text": [
      "40vQeqD.txt: 1 (score: 0.7839849591255188)\n",
      "Warning: Empty translation for 4ODDKW7.txt\n",
      "Warning: Empty translation for 9gDGXn4.txt\n",
      "Warning: Empty translation for 4BjVe3D.txt\n"
     ]
    },
    {
     "name": "stderr",
     "output_type": "stream",
     "text": [
      "\r",
      "Analyzing Sentiment:  88%|███████████████████████████████████████████████████▉       | 361/410 [00:48<00:05,  9.30it/s]"
     ]
    },
    {
     "name": "stdout",
     "output_type": "stream",
     "text": [
      "93mq6KV9.txt: 1 (score: 0.9843777418136597)\n",
      "Warning: Empty translation for B0R1z80d.txt\n"
     ]
    },
    {
     "name": "stderr",
     "output_type": "stream",
     "text": [
      "\r",
      "Analyzing Sentiment:  89%|████████████████████████████████████████████████████▏      | 363/410 [00:48<00:05,  8.40it/s]"
     ]
    },
    {
     "name": "stdout",
     "output_type": "stream",
     "text": [
      "9klmpy0.txt: 1 (score: 0.9966457486152649)\n",
      "Warning: Empty translation for 5a9OdZ3J.txt\n"
     ]
    },
    {
     "name": "stderr",
     "output_type": "stream",
     "text": [
      "\r",
      "Analyzing Sentiment:  89%|████████████████████████████████████████████████████▌      | 365/410 [00:49<00:06,  7.43it/s]"
     ]
    },
    {
     "name": "stdout",
     "output_type": "stream",
     "text": [
      "4wq308J3.txt: -1 (score: 0.01622171886265278)\n"
     ]
    },
    {
     "name": "stderr",
     "output_type": "stream",
     "text": [
      "\r",
      "Analyzing Sentiment:  89%|████████████████████████████████████████████████████▋      | 366/410 [00:49<00:07,  6.01it/s]"
     ]
    },
    {
     "name": "stdout",
     "output_type": "stream",
     "text": [
      "4w8pabxB.txt: -1 (score: 0.11599381268024445)\n"
     ]
    },
    {
     "name": "stderr",
     "output_type": "stream",
     "text": [
      "\r",
      "Analyzing Sentiment:  90%|████████████████████████████████████████████████████▊      | 367/410 [00:49<00:08,  4.98it/s]"
     ]
    },
    {
     "name": "stdout",
     "output_type": "stream",
     "text": [
      "KyEROR3g.txt: 1 (score: 0.9772413969039917)\n",
      "Warning: Empty translation for 4bBeaEQ.txt\n",
      "Warning: Empty translation for 46EZJa7.txt\n",
      "Warning: Empty translation for 939vgmk9.txt\n"
     ]
    },
    {
     "name": "stderr",
     "output_type": "stream",
     "text": [
      "\r",
      "Analyzing Sentiment:  90%|█████████████████████████████████████████████████████▍     | 371/410 [00:50<00:05,  7.00it/s]"
     ]
    },
    {
     "name": "stdout",
     "output_type": "stream",
     "text": [
      "4w8OBkA7.txt: -1 (score: 0.051410939544439316)\n"
     ]
    },
    {
     "name": "stderr",
     "output_type": "stream",
     "text": [
      "\r",
      "Analyzing Sentiment:  91%|█████████████████████████████████████████████████████▌     | 372/410 [00:50<00:06,  5.71it/s]"
     ]
    },
    {
     "name": "stdout",
     "output_type": "stream",
     "text": [
      "93qZ1rgy.txt: 1 (score: 0.910915195941925)\n",
      "Warning: Empty translation for 98QXjEz.txt\n",
      "Warning: Empty translation for 4wlx77Pa.txt\n"
     ]
    },
    {
     "name": "stderr",
     "output_type": "stream",
     "text": [
      "\r",
      "Analyzing Sentiment:  91%|█████████████████████████████████████████████████████▉     | 375/410 [00:50<00:05,  6.67it/s]"
     ]
    },
    {
     "name": "stdout",
     "output_type": "stream",
     "text": [
      "4wlxg1QB.txt: -1 (score: 0.0020253402180969715)\n"
     ]
    },
    {
     "name": "stderr",
     "output_type": "stream",
     "text": [
      "\r",
      "Analyzing Sentiment:  92%|██████████████████████████████████████████████████████     | 376/410 [00:51<00:06,  5.41it/s]"
     ]
    },
    {
     "name": "stdout",
     "output_type": "stream",
     "text": [
      "By48GBV.txt: -1 (score: 0.0028327745385468006)\n",
      "Warning: Empty translation for daz0568.txt\n",
      "Warning: Empty translation for 939r1zm4.txt\n"
     ]
    },
    {
     "name": "stderr",
     "output_type": "stream",
     "text": [
      "\r",
      "Analyzing Sentiment:  92%|██████████████████████████████████████████████████████▌    | 379/410 [00:51<00:04,  6.75it/s]"
     ]
    },
    {
     "name": "stdout",
     "output_type": "stream",
     "text": [
      "g9lKlZe.txt: -1 (score: 0.0013448853278532624)\n",
      "Warning: Empty translation for 9XMjKk4.txt\n",
      "Warning: Empty translation for 4Vk8vn1.txt\n"
     ]
    },
    {
     "name": "stderr",
     "output_type": "stream",
     "text": [
      "\r",
      "Analyzing Sentiment:  93%|██████████████████████████████████████████████████████▉    | 382/410 [00:51<00:03,  7.33it/s]"
     ]
    },
    {
     "name": "stdout",
     "output_type": "stream",
     "text": [
      "93meaWrX.txt: -1 (score: 0.02383556216955185)\n",
      "Warning: Empty translation for 4wAEDGX7.txt\n"
     ]
    },
    {
     "name": "stderr",
     "output_type": "stream",
     "text": [
      "\r",
      "Analyzing Sentiment:  94%|███████████████████████████████████████████████████████▎   | 384/410 [00:52<00:03,  7.00it/s]"
     ]
    },
    {
     "name": "stdout",
     "output_type": "stream",
     "text": [
      "5Jr9qNK.txt: -1 (score: 0.00272864056751132)\n",
      "Warning: Empty translation for Nyym9agD.txt\n"
     ]
    },
    {
     "name": "stderr",
     "output_type": "stream",
     "text": [
      "\r",
      "Analyzing Sentiment:  94%|███████████████████████████████████████████████████████▌   | 386/410 [00:52<00:03,  6.70it/s]"
     ]
    },
    {
     "name": "stdout",
     "output_type": "stream",
     "text": [
      "5AODD7k.txt: 0 (score: 0.4562439024448395)\n",
      "Warning: Empty translation for 4zQJW08.txt\n"
     ]
    },
    {
     "name": "stderr",
     "output_type": "stream",
     "text": [
      "\r",
      "Analyzing Sentiment:  95%|███████████████████████████████████████████████████████▊   | 388/410 [00:52<00:03,  6.29it/s]"
     ]
    },
    {
     "name": "stdout",
     "output_type": "stream",
     "text": [
      "93wkN0DM.txt: 0 (score: 0.30294403433799744)\n",
      "Warning: Empty translation for 9l9Mary.txt\n",
      "Warning: Empty translation for BBqXV4w.txt\n",
      "Warning: Empty translation for 9d8E0GX.txt\n",
      "Warning: Empty translation for BOJn39d.txt\n",
      "Warning: Empty translation for 98GOde0.txt\n",
      "Warning: Empty translation for 4wl7d9ya.txt\n",
      "Warning: Empty translation for 4wl37P68.txt\n",
      "Warning: Empty translation for KAAdARb.txt\n",
      "Warning: Empty translation for 931KZE54.txt\n",
      "Warning: Empty translation for 4ww8nrMB.txt\n"
     ]
    },
    {
     "name": "stderr",
     "output_type": "stream",
     "text": [
      "\r",
      "Analyzing Sentiment:  97%|█████████████████████████████████████████████████████████▍ | 399/410 [00:53<00:00, 14.02it/s]"
     ]
    },
    {
     "name": "stdout",
     "output_type": "stream",
     "text": [
      "45V7JXQ.txt: -1 (score: 0.014650322496891022)\n",
      "Warning: Empty translation for 4w7nvaAV.txt\n"
     ]
    },
    {
     "name": "stderr",
     "output_type": "stream",
     "text": [
      "\r",
      "Analyzing Sentiment:  98%|█████████████████████████████████████████████████████████▋ | 401/410 [00:53<00:00, 11.19it/s]"
     ]
    },
    {
     "name": "stdout",
     "output_type": "stream",
     "text": [
      "4wGkGy5V.txt: 1 (score: 0.927475094795227)\n",
      "93NJqeBM.txt: -1 (score: 0.183535635471344)\n"
     ]
    },
    {
     "name": "stderr",
     "output_type": "stream",
     "text": [
      "\r",
      "Analyzing Sentiment:  98%|█████████████████████████████████████████████████████████▉ | 403/410 [00:54<00:00,  7.48it/s]"
     ]
    },
    {
     "name": "stdout",
     "output_type": "stream",
     "text": [
      "4bry0Xv.txt: 1 (score: 0.9912934899330139)\n"
     ]
    },
    {
     "name": "stderr",
     "output_type": "stream",
     "text": [
      "\r",
      "Analyzing Sentiment:  99%|██████████████████████████████████████████████████████████▏| 404/410 [00:54<00:00,  6.38it/s]"
     ]
    },
    {
     "name": "stdout",
     "output_type": "stream",
     "text": [
      "46D8lVv.txt: 1 (score: 0.9501304030418396)\n",
      "Warning: Empty translation for 44xvzPG.txt\n",
      "Warning: Empty translation for 4w8ArRg1.txt\n",
      "Warning: Empty translation for 9vPWkp4.txt\n",
      "Warning: Empty translation for 4W9Qv8Q.txt\n",
      "Warning: Empty translation for 97R9dXa.txt\n"
     ]
    },
    {
     "name": "stderr",
     "output_type": "stream",
     "text": [
      "Analyzing Sentiment: 100%|███████████████████████████████████████████████████████████| 410/410 [00:54<00:00,  7.47it/s]\n"
     ]
    },
    {
     "name": "stdout",
     "output_type": "stream",
     "text": [
      "4DEpMW1.txt: 0 (score: 0.2791975438594818)\n",
      "Analyzing Folder: sharechat_scraper/updated_tesseract/Hindi/VO6ZVy_Hindi/\n"
     ]
    },
    {
     "name": "stderr",
     "output_type": "stream",
     "text": [
      "Analyzing Sentiment:   2%|█                                                             | 1/62 [00:00<00:19,  3.15it/s]"
     ]
    },
    {
     "name": "stdout",
     "output_type": "stream",
     "text": [
      "9b8ql9y.txt: -1 (score: 0.010110653936862946)\n",
      "Warning: Empty translation for 9ldOr74.txt\n"
     ]
    },
    {
     "name": "stderr",
     "output_type": "stream",
     "text": [
      "\r",
      "Analyzing Sentiment:   5%|███                                                           | 3/62 [00:00<00:11,  4.94it/s]"
     ]
    },
    {
     "name": "stdout",
     "output_type": "stream",
     "text": [
      "9zEnV3X.txt: -1 (score: 0.005977190099656582)\n",
      "Warning: Empty translation for 4wwZmKOa.txt\n",
      "Warning: Empty translation for 9NrrEqN.txt\n"
     ]
    },
    {
     "name": "stderr",
     "output_type": "stream",
     "text": [
      "\r",
      "Analyzing Sentiment:  10%|██████                                                        | 6/62 [00:00<00:08,  6.77it/s]"
     ]
    },
    {
     "name": "stdout",
     "output_type": "stream",
     "text": [
      "9dABPma.txt: 1 (score: 0.9739538431167603)\n"
     ]
    },
    {
     "name": "stderr",
     "output_type": "stream",
     "text": [
      "\r",
      "Analyzing Sentiment:  11%|███████                                                       | 7/62 [00:01<00:10,  5.37it/s]"
     ]
    },
    {
     "name": "stdout",
     "output_type": "stream",
     "text": [
      "9dkPGn0.txt: -1 (score: 0.00626260694116354)\n"
     ]
    },
    {
     "name": "stderr",
     "output_type": "stream",
     "text": [
      "\r",
      "Analyzing Sentiment:  13%|████████                                                      | 8/62 [00:01<00:11,  4.54it/s]"
     ]
    },
    {
     "name": "stdout",
     "output_type": "stream",
     "text": [
      "9rX8OZQ.txt: 1 (score: 0.8123248219490051)\n",
      "Warning: Empty translation for 9NRkg6X.txt\n"
     ]
    },
    {
     "name": "stderr",
     "output_type": "stream",
     "text": [
      "\r",
      "Analyzing Sentiment:  16%|█████████▊                                                   | 10/62 [00:01<00:10,  5.00it/s]"
     ]
    },
    {
     "name": "stdout",
     "output_type": "stream",
     "text": [
      "gmvb0JA.txt: -1 (score: 0.002699675038456917)\n"
     ]
    },
    {
     "name": "stderr",
     "output_type": "stream",
     "text": [
      "\r",
      "Analyzing Sentiment:  18%|██████████▊                                                  | 11/62 [00:02<00:11,  4.25it/s]"
     ]
    },
    {
     "name": "stdout",
     "output_type": "stream",
     "text": [
      "9Qr8r00.txt: -1 (score: 0.010094479657709599)\n"
     ]
    },
    {
     "name": "stderr",
     "output_type": "stream",
     "text": [
      "\r",
      "Analyzing Sentiment:  19%|███████████▊                                                 | 12/62 [00:02<00:12,  3.87it/s]"
     ]
    },
    {
     "name": "stdout",
     "output_type": "stream",
     "text": [
      "3NOQr5VK.txt: 0 (score: 0.5422519445419312)\n"
     ]
    },
    {
     "name": "stderr",
     "output_type": "stream",
     "text": [
      "\r",
      "Analyzing Sentiment:  21%|████████████▊                                                | 13/62 [00:03<00:13,  3.55it/s]"
     ]
    },
    {
     "name": "stdout",
     "output_type": "stream",
     "text": [
      "933bdKOy.txt: 1 (score: 0.6816015243530273)\n"
     ]
    },
    {
     "name": "stderr",
     "output_type": "stream",
     "text": [
      "\r",
      "Analyzing Sentiment:  23%|█████████████▊                                               | 14/62 [00:03<00:13,  3.49it/s]"
     ]
    },
    {
     "name": "stdout",
     "output_type": "stream",
     "text": [
      "9334MADQ.txt: 1 (score: 0.9350698590278625)\n"
     ]
    },
    {
     "name": "stderr",
     "output_type": "stream",
     "text": [
      "\r",
      "Analyzing Sentiment:  24%|██████████████▊                                              | 15/62 [00:03<00:14,  3.33it/s]"
     ]
    },
    {
     "name": "stdout",
     "output_type": "stream",
     "text": [
      "9kNwpkz.txt: -1 (score: 0.0013623428530991077)\n",
      "Warning: Empty translation for 9v8p4n0.txt\n"
     ]
    },
    {
     "name": "stderr",
     "output_type": "stream",
     "text": [
      "\r",
      "Analyzing Sentiment:  27%|████████████████▋                                            | 17/62 [00:03<00:11,  4.09it/s]"
     ]
    },
    {
     "name": "stdout",
     "output_type": "stream",
     "text": [
      "gxaWv0e.txt: -1 (score: 0.011921131052076817)\n",
      "Warning: Empty translation for 933a0QQv.txt\n"
     ]
    },
    {
     "name": "stderr",
     "output_type": "stream",
     "text": [
      "\r",
      "Analyzing Sentiment:  31%|██████████████████▋                                          | 19/62 [00:04<00:09,  4.64it/s]"
     ]
    },
    {
     "name": "stdout",
     "output_type": "stream",
     "text": [
      "BzjXbRR.txt: -1 (score: 0.02158220112323761)\n",
      "Warning: Empty translation for 93a0zMyv.txt\n"
     ]
    },
    {
     "name": "stderr",
     "output_type": "stream",
     "text": [
      "\r",
      "Analyzing Sentiment:  34%|████████████████████▋                                        | 21/62 [00:04<00:08,  4.91it/s]"
     ]
    },
    {
     "name": "stdout",
     "output_type": "stream",
     "text": [
      "9eP1j49.txt: 1 (score: 0.9891647696495056)\n"
     ]
    },
    {
     "name": "stderr",
     "output_type": "stream",
     "text": [
      "\r",
      "Analyzing Sentiment:  35%|█████████████████████▋                                       | 22/62 [00:05<00:09,  4.34it/s]"
     ]
    },
    {
     "name": "stdout",
     "output_type": "stream",
     "text": [
      "931QnwzM.txt: -1 (score: 0.018413173034787178)\n"
     ]
    },
    {
     "name": "stderr",
     "output_type": "stream",
     "text": [
      "\r",
      "Analyzing Sentiment:  37%|██████████████████████▋                                      | 23/62 [00:05<00:10,  3.90it/s]"
     ]
    },
    {
     "name": "stdout",
     "output_type": "stream",
     "text": [
      "9NMApry.txt: 1 (score: 0.9479639530181885)\n"
     ]
    },
    {
     "name": "stderr",
     "output_type": "stream",
     "text": [
      "\r",
      "Analyzing Sentiment:  39%|███████████████████████▌                                     | 24/62 [00:05<00:10,  3.78it/s]"
     ]
    },
    {
     "name": "stdout",
     "output_type": "stream",
     "text": [
      "93a9p87M.txt: -1 (score: 0.006142520811408758)\n"
     ]
    },
    {
     "name": "stderr",
     "output_type": "stream",
     "text": [
      "\r",
      "Analyzing Sentiment:  40%|████████████████████████▌                                    | 25/62 [00:05<00:10,  3.62it/s]"
     ]
    },
    {
     "name": "stdout",
     "output_type": "stream",
     "text": [
      "93wlp5QN.txt: 1 (score: 0.9941322207450867)\n",
      "Warning: Empty translation for 9kXQyQa.txt\n"
     ]
    },
    {
     "name": "stderr",
     "output_type": "stream",
     "text": [
      "\r",
      "Analyzing Sentiment:  44%|██████████████████████████▌                                  | 27/62 [00:06<00:08,  4.28it/s]"
     ]
    },
    {
     "name": "stdout",
     "output_type": "stream",
     "text": [
      "4wGERwxv.txt: -1 (score: 0.13867123425006866)\n"
     ]
    },
    {
     "name": "stderr",
     "output_type": "stream",
     "text": [
      "\r",
      "Analyzing Sentiment:  45%|███████████████████████████▌                                 | 28/62 [00:06<00:08,  3.84it/s]"
     ]
    },
    {
     "name": "stdout",
     "output_type": "stream",
     "text": [
      "NyEZKm74.txt: 0 (score: 0.4837084412574768)\n",
      "Warning: Empty translation for 4pzJ1wa.txt\n"
     ]
    },
    {
     "name": "stderr",
     "output_type": "stream",
     "text": [
      "\r",
      "Analyzing Sentiment:  48%|█████████████████████████████▌                               | 30/62 [00:06<00:06,  4.69it/s]"
     ]
    },
    {
     "name": "stdout",
     "output_type": "stream",
     "text": [
      "9O7eZqM.txt: -1 (score: 0.030267024412751198)\n"
     ]
    },
    {
     "name": "stderr",
     "output_type": "stream",
     "text": [
      "\r",
      "Analyzing Sentiment:  50%|██████████████████████████████▌                              | 31/62 [00:07<00:07,  4.15it/s]"
     ]
    },
    {
     "name": "stdout",
     "output_type": "stream",
     "text": [
      "93DrVOaN.txt: -1 (score: 0.09234800934791565)\n",
      "Warning: Empty translation for 4wz1yp9B.txt\n",
      "Warning: Empty translation for 9x9e9ny.txt\n",
      "Warning: Empty translation for 974lXjN.txt\n"
     ]
    },
    {
     "name": "stderr",
     "output_type": "stream",
     "text": [
      "\r",
      "Analyzing Sentiment:  56%|██████████████████████████████████▍                          | 35/62 [00:07<00:04,  6.47it/s]"
     ]
    },
    {
     "name": "stdout",
     "output_type": "stream",
     "text": [
      "3nw8Okm.txt: 1 (score: 0.9805132746696472)\n",
      "Warning: Empty translation for 4XRlqnQ.txt\n"
     ]
    },
    {
     "name": "stderr",
     "output_type": "stream",
     "text": [
      "\r",
      "Analyzing Sentiment:  60%|████████████████████████████████████▍                        | 37/62 [00:08<00:04,  6.17it/s]"
     ]
    },
    {
     "name": "stdout",
     "output_type": "stream",
     "text": [
      "931yJAdN.txt: -1 (score: 0.010097366757690907)\n",
      "Warning: Empty translation for 9eay5av.txt\n",
      "Warning: Empty translation for 9v7dRjz.txt\n"
     ]
    },
    {
     "name": "stderr",
     "output_type": "stream",
     "text": [
      "\r",
      "Analyzing Sentiment:  65%|███████████████████████████████████████▎                     | 40/62 [00:08<00:03,  6.95it/s]"
     ]
    },
    {
     "name": "stdout",
     "output_type": "stream",
     "text": [
      "9xp4OrN.txt: 1 (score: 0.9979937076568604)\n"
     ]
    },
    {
     "name": "stderr",
     "output_type": "stream",
     "text": [
      "\r",
      "Analyzing Sentiment:  66%|████████████████████████████████████████▎                    | 41/62 [00:08<00:03,  5.80it/s]"
     ]
    },
    {
     "name": "stdout",
     "output_type": "stream",
     "text": [
      "9xRNm3z.txt: -1 (score: 0.005225637927651405)\n",
      "Warning: Empty translation for 9lJg774.txt\n"
     ]
    },
    {
     "name": "stderr",
     "output_type": "stream",
     "text": [
      "\r",
      "Analyzing Sentiment:  69%|██████████████████████████████████████████▎                  | 43/62 [00:09<00:03,  5.66it/s]"
     ]
    },
    {
     "name": "stdout",
     "output_type": "stream",
     "text": [
      "93a5eBJy.txt: -1 (score: 0.000952292000874877)\n",
      "Warning: Empty translation for 93NWazGz.txt\n"
     ]
    },
    {
     "name": "stderr",
     "output_type": "stream",
     "text": [
      "\r",
      "Analyzing Sentiment:  73%|████████████████████████████████████████████▎                | 45/62 [00:09<00:02,  5.71it/s]"
     ]
    },
    {
     "name": "stdout",
     "output_type": "stream",
     "text": [
      "9z0Zer0.txt: 0 (score: 0.3096116781234741)\n",
      "Warning: Empty translation for 91p5gQ4.txt\n"
     ]
    },
    {
     "name": "stderr",
     "output_type": "stream",
     "text": [
      "\r",
      "Analyzing Sentiment:  76%|██████████████████████████████████████████████▏              | 47/62 [00:09<00:02,  5.59it/s]"
     ]
    },
    {
     "name": "stdout",
     "output_type": "stream",
     "text": [
      "9gqnZz9.txt: -1 (score: 0.048634808510541916)\n"
     ]
    },
    {
     "name": "stderr",
     "output_type": "stream",
     "text": [
      "\r",
      "Analyzing Sentiment:  77%|███████████████████████████████████████████████▏             | 48/62 [00:10<00:02,  4.81it/s]"
     ]
    },
    {
     "name": "stdout",
     "output_type": "stream",
     "text": [
      "933WEaqM.txt: 1 (score: 0.6816015243530273)\n"
     ]
    },
    {
     "name": "stderr",
     "output_type": "stream",
     "text": [
      "\r",
      "Analyzing Sentiment:  79%|████████████████████████████████████████████████▏            | 49/62 [00:10<00:03,  4.27it/s]"
     ]
    },
    {
     "name": "stdout",
     "output_type": "stream",
     "text": [
      "93wGwwAM.txt: -1 (score: 0.0005873711197637022)\n"
     ]
    },
    {
     "name": "stderr",
     "output_type": "stream",
     "text": [
      "\r",
      "Analyzing Sentiment:  81%|█████████████████████████████████████████████████▏           | 50/62 [00:10<00:03,  3.87it/s]"
     ]
    },
    {
     "name": "stdout",
     "output_type": "stream",
     "text": [
      "3NOGXgw3.txt: -1 (score: 0.016761841252446175)\n"
     ]
    },
    {
     "name": "stderr",
     "output_type": "stream",
     "text": [
      "\r",
      "Analyzing Sentiment:  82%|██████████████████████████████████████████████████▏          | 51/62 [00:11<00:03,  3.62it/s]"
     ]
    },
    {
     "name": "stdout",
     "output_type": "stream",
     "text": [
      "93ZA1OXM.txt: 1 (score: 0.9990843534469604)\n"
     ]
    },
    {
     "name": "stderr",
     "output_type": "stream",
     "text": [
      "\r",
      "Analyzing Sentiment:  84%|███████████████████████████████████████████████████▏         | 52/62 [00:11<00:02,  3.44it/s]"
     ]
    },
    {
     "name": "stdout",
     "output_type": "stream",
     "text": [
      "9V8PPV4.txt: 1 (score: 0.9326690435409546)\n"
     ]
    },
    {
     "name": "stderr",
     "output_type": "stream",
     "text": [
      "\r",
      "Analyzing Sentiment:  85%|████████████████████████████████████████████████████▏        | 53/62 [00:11<00:02,  3.32it/s]"
     ]
    },
    {
     "name": "stdout",
     "output_type": "stream",
     "text": [
      "9d9mQr4.txt: -1 (score: 0.04813288152217865)\n",
      "Warning: Empty translation for 9780aW4.txt\n"
     ]
    },
    {
     "name": "stderr",
     "output_type": "stream",
     "text": [
      "\r",
      "Analyzing Sentiment:  89%|██████████████████████████████████████████████████████       | 55/62 [00:12<00:01,  4.19it/s]"
     ]
    },
    {
     "name": "stdout",
     "output_type": "stream",
     "text": [
      "93DDElby.txt: -1 (score: 0.05989409238100052)\n",
      "Warning: Empty translation for 9bjr4XX.txt\n"
     ]
    },
    {
     "name": "stderr",
     "output_type": "stream",
     "text": [
      "\r",
      "Analyzing Sentiment:  92%|████████████████████████████████████████████████████████     | 57/62 [00:12<00:01,  4.69it/s]"
     ]
    },
    {
     "name": "stdout",
     "output_type": "stream",
     "text": [
      "93wrr9Oy.txt: -1 (score: 0.08650748431682587)\n"
     ]
    },
    {
     "name": "stderr",
     "output_type": "stream",
     "text": [
      "\r",
      "Analyzing Sentiment:  94%|█████████████████████████████████████████████████████████    | 58/62 [00:12<00:00,  4.14it/s]"
     ]
    },
    {
     "name": "stdout",
     "output_type": "stream",
     "text": [
      "KGEdJaw.txt: 1 (score: 0.9391196370124817)\n"
     ]
    },
    {
     "name": "stderr",
     "output_type": "stream",
     "text": [
      "\r",
      "Analyzing Sentiment:  95%|██████████████████████████████████████████████████████████   | 59/62 [00:13<00:00,  3.78it/s]"
     ]
    },
    {
     "name": "stdout",
     "output_type": "stream",
     "text": [
      "3NZ1b4Om.txt: -1 (score: 0.023371169343590736)\n"
     ]
    },
    {
     "name": "stderr",
     "output_type": "stream",
     "text": [
      "\r",
      "Analyzing Sentiment:  97%|███████████████████████████████████████████████████████████  | 60/62 [00:13<00:00,  3.55it/s]"
     ]
    },
    {
     "name": "stdout",
     "output_type": "stream",
     "text": [
      "3NDlnKb5.txt: -1 (score: 0.013165765441954136)\n"
     ]
    },
    {
     "name": "stderr",
     "output_type": "stream",
     "text": [
      "\r",
      "Analyzing Sentiment:  98%|████████████████████████████████████████████████████████████ | 61/62 [00:13<00:00,  3.37it/s]"
     ]
    },
    {
     "name": "stdout",
     "output_type": "stream",
     "text": [
      "93mg3AP0.txt: -1 (score: 0.0007875401643104851)\n"
     ]
    },
    {
     "name": "stderr",
     "output_type": "stream",
     "text": [
      "Analyzing Sentiment: 100%|█████████████████████████████████████████████████████████████| 62/62 [00:14<00:00,  4.40it/s]\n"
     ]
    },
    {
     "name": "stdout",
     "output_type": "stream",
     "text": [
      "9eV5k1z.txt: -1 (score: 0.00244165793992579)\n",
      "\n",
      "Making csv for actual label insertion....\n",
      "Actual label csv successfully saved!\n",
      "\n",
      "\n",
      "Getting sentiments for language: Bengali\n",
      "\n",
      "Analyzing Folder: sharechat_scraper/updated_tesseract/Bengali/5ZEBpp_Bengali/\n"
     ]
    },
    {
     "name": "stderr",
     "output_type": "stream",
     "text": [
      "Analyzing Sentiment:   2%|█▏                                                            | 1/52 [00:00<00:16,  3.11it/s]"
     ]
    },
    {
     "name": "stdout",
     "output_type": "stream",
     "text": [
      "35k0yrw.txt: -1 (score: 0.04995190352201462)\n"
     ]
    },
    {
     "name": "stderr",
     "output_type": "stream",
     "text": [
      "\r",
      "Analyzing Sentiment:   4%|██▍                                                           | 2/52 [00:00<00:17,  2.91it/s]"
     ]
    },
    {
     "name": "stdout",
     "output_type": "stream",
     "text": [
      "3vpzwb5.txt: -1 (score: 0.002820865949615836)\n"
     ]
    },
    {
     "name": "stderr",
     "output_type": "stream",
     "text": [
      "\r",
      "Analyzing Sentiment:   6%|███▌                                                          | 3/52 [00:01<00:17,  2.87it/s]"
     ]
    },
    {
     "name": "stdout",
     "output_type": "stream",
     "text": [
      "b1blz6Q.txt: -1 (score: 0.0111770611256361)\n"
     ]
    },
    {
     "name": "stderr",
     "output_type": "stream",
     "text": [
      "\r",
      "Analyzing Sentiment:   8%|████▊                                                         | 4/52 [00:01<00:17,  2.81it/s]"
     ]
    },
    {
     "name": "stdout",
     "output_type": "stream",
     "text": [
      "b1B3bvJ.txt: -1 (score: 0.017350615933537483)\n",
      "Warning: Empty translation for dxEJv1y.txt\n"
     ]
    },
    {
     "name": "stderr",
     "output_type": "stream",
     "text": [
      "\r",
      "Analyzing Sentiment:  12%|███████▏                                                      | 6/52 [00:01<00:12,  3.83it/s]"
     ]
    },
    {
     "name": "stdout",
     "output_type": "stream",
     "text": [
      "3jj9l7j.txt: -1 (score: 0.002685625571757555)\n"
     ]
    },
    {
     "name": "stderr",
     "output_type": "stream",
     "text": [
      "\r",
      "Analyzing Sentiment:  13%|████████▎                                                     | 7/52 [00:02<00:12,  3.48it/s]"
     ]
    },
    {
     "name": "stdout",
     "output_type": "stream",
     "text": [
      "3XkRkA3.txt: -1 (score: 0.07184497267007828)\n"
     ]
    },
    {
     "name": "stderr",
     "output_type": "stream",
     "text": [
      "\r",
      "Analyzing Sentiment:  15%|█████████▌                                                    | 8/52 [00:02<00:13,  3.27it/s]"
     ]
    },
    {
     "name": "stdout",
     "output_type": "stream",
     "text": [
      "bvQeN7DO.txt: -1 (score: 0.0008746542735025287)\n"
     ]
    },
    {
     "name": "stderr",
     "output_type": "stream",
     "text": [
      "\r",
      "Analyzing Sentiment:  17%|██████████▋                                                   | 9/52 [00:02<00:13,  3.16it/s]"
     ]
    },
    {
     "name": "stdout",
     "output_type": "stream",
     "text": [
      "rj3E3K5.txt: -1 (score: 0.04041561484336853)\n"
     ]
    },
    {
     "name": "stderr",
     "output_type": "stream",
     "text": [
      "\r",
      "Analyzing Sentiment:  19%|███████████▋                                                 | 10/52 [00:03<00:13,  3.11it/s]"
     ]
    },
    {
     "name": "stdout",
     "output_type": "stream",
     "text": [
      "rJ5xl37.txt: -1 (score: 0.008495306596159935)\n"
     ]
    },
    {
     "name": "stderr",
     "output_type": "stream",
     "text": [
      "\r",
      "Analyzing Sentiment:  21%|████████████▉                                                | 11/52 [00:03<00:12,  3.22it/s]"
     ]
    },
    {
     "name": "stdout",
     "output_type": "stream",
     "text": [
      "rvaxyX3.txt: 0 (score: 0.49397513270378113)\n",
      "Warning: Empty translation for rRRVmz1.txt\n"
     ]
    },
    {
     "name": "stderr",
     "output_type": "stream",
     "text": [
      "\r",
      "Analyzing Sentiment:  25%|███████████████▎                                             | 13/52 [00:03<00:09,  3.96it/s]"
     ]
    },
    {
     "name": "stdout",
     "output_type": "stream",
     "text": [
      "be1BBzy.txt: 1 (score: 0.8663136959075928)\n"
     ]
    },
    {
     "name": "stderr",
     "output_type": "stream",
     "text": [
      "\r",
      "Analyzing Sentiment:  27%|████████████████▍                                            | 14/52 [00:04<00:10,  3.54it/s]"
     ]
    },
    {
     "name": "stdout",
     "output_type": "stream",
     "text": [
      "rBzlwD3.txt: 1 (score: 0.9986391663551331)\n"
     ]
    },
    {
     "name": "stderr",
     "output_type": "stream",
     "text": [
      "\r",
      "Analyzing Sentiment:  29%|█████████████████▌                                           | 15/52 [00:04<00:11,  3.33it/s]"
     ]
    },
    {
     "name": "stdout",
     "output_type": "stream",
     "text": [
      "bjOnXkO.txt: 1 (score: 0.9946170449256897)\n"
     ]
    },
    {
     "name": "stderr",
     "output_type": "stream",
     "text": [
      "\r",
      "Analyzing Sentiment:  31%|██████████████████▊                                          | 16/52 [00:04<00:11,  3.16it/s]"
     ]
    },
    {
     "name": "stdout",
     "output_type": "stream",
     "text": [
      "3j4KWMX.txt: -1 (score: 0.017243487760424614)\n",
      "Warning: Empty translation for dWbB67N.txt\n"
     ]
    },
    {
     "name": "stderr",
     "output_type": "stream",
     "text": [
      "\r",
      "Analyzing Sentiment:  35%|█████████████████████                                        | 18/52 [00:05<00:08,  3.90it/s]"
     ]
    },
    {
     "name": "stdout",
     "output_type": "stream",
     "text": [
      "3a3x9bK.txt: -1 (score: 0.009034911170601845)\n"
     ]
    },
    {
     "name": "stderr",
     "output_type": "stream",
     "text": [
      "\r",
      "Analyzing Sentiment:  37%|██████████████████████▎                                      | 19/52 [00:05<00:09,  3.58it/s]"
     ]
    },
    {
     "name": "stdout",
     "output_type": "stream",
     "text": [
      "gRpvk7M.txt: -1 (score: 0.07082626968622208)\n"
     ]
    },
    {
     "name": "stderr",
     "output_type": "stream",
     "text": [
      "\r",
      "Analyzing Sentiment:  38%|███████████████████████▍                                     | 20/52 [00:05<00:09,  3.30it/s]"
     ]
    },
    {
     "name": "stdout",
     "output_type": "stream",
     "text": [
      "bB4BpwQ.txt: -1 (score: 0.00046216766349971294)\n"
     ]
    },
    {
     "name": "stderr",
     "output_type": "stream",
     "text": [
      "\r",
      "Analyzing Sentiment:  40%|████████████████████████▋                                    | 21/52 [00:06<00:09,  3.17it/s]"
     ]
    },
    {
     "name": "stdout",
     "output_type": "stream",
     "text": [
      "bBpBENP.txt: 1 (score: 0.9983190894126892)\n"
     ]
    },
    {
     "name": "stderr",
     "output_type": "stream",
     "text": [
      "\r",
      "Analyzing Sentiment:  42%|█████████████████████████▊                                   | 22/52 [00:06<00:09,  3.06it/s]"
     ]
    },
    {
     "name": "stdout",
     "output_type": "stream",
     "text": [
      "bOwlZxP.txt: -1 (score: 0.0702495127916336)\n"
     ]
    },
    {
     "name": "stderr",
     "output_type": "stream",
     "text": [
      "\r",
      "Analyzing Sentiment:  44%|██████████████████████████▉                                  | 23/52 [00:07<00:09,  2.99it/s]"
     ]
    },
    {
     "name": "stdout",
     "output_type": "stream",
     "text": [
      "3kJpXmm.txt: -1 (score: 0.00647095637395978)\n"
     ]
    },
    {
     "name": "stderr",
     "output_type": "stream",
     "text": [
      "\r",
      "Analyzing Sentiment:  46%|████████████████████████████▏                                | 24/52 [00:07<00:09,  2.91it/s]"
     ]
    },
    {
     "name": "stdout",
     "output_type": "stream",
     "text": [
      "bBrdvWO.txt: 1 (score: 0.9993392825126648)\n"
     ]
    },
    {
     "name": "stderr",
     "output_type": "stream",
     "text": [
      "\r",
      "Analyzing Sentiment:  48%|█████████████████████████████▎                               | 25/52 [00:07<00:09,  2.91it/s]"
     ]
    },
    {
     "name": "stdout",
     "output_type": "stream",
     "text": [
      "bgnnVnP.txt: -1 (score: 0.02319333888590336)\n"
     ]
    },
    {
     "name": "stderr",
     "output_type": "stream",
     "text": [
      "\r",
      "Analyzing Sentiment:  50%|██████████████████████████████▌                              | 26/52 [00:08<00:09,  2.89it/s]"
     ]
    },
    {
     "name": "stdout",
     "output_type": "stream",
     "text": [
      "bgj1ZB3.txt: -1 (score: 0.1388804018497467)\n"
     ]
    },
    {
     "name": "stderr",
     "output_type": "stream",
     "text": [
      "\r",
      "Analyzing Sentiment:  52%|███████████████████████████████▋                             | 27/52 [00:08<00:08,  2.81it/s]"
     ]
    },
    {
     "name": "stdout",
     "output_type": "stream",
     "text": [
      "bxJaQ6D.txt: -1 (score: 0.1793033927679062)\n"
     ]
    },
    {
     "name": "stderr",
     "output_type": "stream",
     "text": [
      "\r",
      "Analyzing Sentiment:  54%|████████████████████████████████▊                            | 28/52 [00:08<00:08,  2.83it/s]"
     ]
    },
    {
     "name": "stdout",
     "output_type": "stream",
     "text": [
      "bm4AqyD.txt: -1 (score: 0.13003604114055634)\n"
     ]
    },
    {
     "name": "stderr",
     "output_type": "stream",
     "text": [
      "\r",
      "Analyzing Sentiment:  56%|██████████████████████████████████                           | 29/52 [00:09<00:07,  3.06it/s]"
     ]
    },
    {
     "name": "stdout",
     "output_type": "stream",
     "text": [
      "bPdNeJQ.txt: -1 (score: 0.014671041630208492)\n",
      "Warning: Empty translation for grGlb991.txt\n"
     ]
    },
    {
     "name": "stderr",
     "output_type": "stream",
     "text": [
      "\r",
      "Analyzing Sentiment:  60%|████████████████████████████████████▎                        | 31/52 [00:09<00:05,  3.83it/s]"
     ]
    },
    {
     "name": "stdout",
     "output_type": "stream",
     "text": [
      "rJD4Xl5.txt: 1 (score: 0.9987179040908813)\n"
     ]
    },
    {
     "name": "stderr",
     "output_type": "stream",
     "text": [
      "\r",
      "Analyzing Sentiment:  62%|█████████████████████████████████████▌                       | 32/52 [00:09<00:05,  3.46it/s]"
     ]
    },
    {
     "name": "stdout",
     "output_type": "stream",
     "text": [
      "bOMpNM3.txt: -1 (score: 0.017855025827884674)\n"
     ]
    },
    {
     "name": "stderr",
     "output_type": "stream",
     "text": [
      "\r",
      "Analyzing Sentiment:  63%|██████████████████████████████████████▋                      | 33/52 [00:10<00:05,  3.32it/s]"
     ]
    },
    {
     "name": "stdout",
     "output_type": "stream",
     "text": [
      "3j86WBX.txt: -1 (score: 0.01219413336366415)\n"
     ]
    },
    {
     "name": "stderr",
     "output_type": "stream",
     "text": [
      "\r",
      "Analyzing Sentiment:  65%|███████████████████████████████████████▉                     | 34/52 [00:10<00:05,  3.13it/s]"
     ]
    },
    {
     "name": "stdout",
     "output_type": "stream",
     "text": [
      "grrMp43q.txt: -1 (score: 0.0002072891074931249)\n"
     ]
    },
    {
     "name": "stderr",
     "output_type": "stream",
     "text": [
      "\r",
      "Analyzing Sentiment:  67%|█████████████████████████████████████████                    | 35/52 [00:10<00:05,  3.02it/s]"
     ]
    },
    {
     "name": "stdout",
     "output_type": "stream",
     "text": [
      "rKXV1ww.txt: -1 (score: 0.011977599002420902)\n",
      "Warning: Empty translation for rGdKAQd.txt\n"
     ]
    },
    {
     "name": "stderr",
     "output_type": "stream",
     "text": [
      "\r",
      "Analyzing Sentiment:  71%|███████████████████████████████████████████▍                 | 37/52 [00:11<00:03,  3.77it/s]"
     ]
    },
    {
     "name": "stdout",
     "output_type": "stream",
     "text": [
      "rJmN6Md.txt: -1 (score: 0.23688267171382904)\n"
     ]
    },
    {
     "name": "stderr",
     "output_type": "stream",
     "text": [
      "\r",
      "Analyzing Sentiment:  73%|████████████████████████████████████████████▌                | 38/52 [00:11<00:04,  3.44it/s]"
     ]
    },
    {
     "name": "stdout",
     "output_type": "stream",
     "text": [
      "brxk3Vy.txt: 1 (score: 0.9997032284736633)\n"
     ]
    },
    {
     "name": "stderr",
     "output_type": "stream",
     "text": [
      "\r",
      "Analyzing Sentiment:  75%|█████████████████████████████████████████████▊               | 39/52 [00:11<00:03,  3.57it/s]"
     ]
    },
    {
     "name": "stdout",
     "output_type": "stream",
     "text": [
      "3ggjaly.txt: -1 (score: 0.0009598141186870635)\n"
     ]
    },
    {
     "name": "stderr",
     "output_type": "stream",
     "text": [
      "\r",
      "Analyzing Sentiment:  77%|██████████████████████████████████████████████▉              | 40/52 [00:12<00:03,  3.30it/s]"
     ]
    },
    {
     "name": "stdout",
     "output_type": "stream",
     "text": [
      "bjRrMq3.txt: 1 (score: 0.9977266192436218)\n"
     ]
    },
    {
     "name": "stderr",
     "output_type": "stream",
     "text": [
      "\r",
      "Analyzing Sentiment:  79%|████████████████████████████████████████████████             | 41/52 [00:12<00:03,  3.20it/s]"
     ]
    },
    {
     "name": "stdout",
     "output_type": "stream",
     "text": [
      "brlebQn.txt: 1 (score: 0.9827598333358765)\n"
     ]
    },
    {
     "name": "stderr",
     "output_type": "stream",
     "text": [
      "\r",
      "Analyzing Sentiment:  81%|█████████████████████████████████████████████████▎           | 42/52 [00:12<00:03,  3.09it/s]"
     ]
    },
    {
     "name": "stdout",
     "output_type": "stream",
     "text": [
      "bnxWKO3.txt: -1 (score: 0.013269666582345963)\n",
      "Warning: Empty translation for 3PAnKam.txt\n"
     ]
    },
    {
     "name": "stderr",
     "output_type": "stream",
     "text": [
      "\r",
      "Analyzing Sentiment:  85%|███████████████████████████████████████████████████▌         | 44/52 [00:13<00:02,  3.94it/s]"
     ]
    },
    {
     "name": "stdout",
     "output_type": "stream",
     "text": [
      "3vBZkQZ.txt: 1 (score: 0.8907873034477234)\n"
     ]
    },
    {
     "name": "stderr",
     "output_type": "stream",
     "text": [
      "\r",
      "Analyzing Sentiment:  87%|████████████████████████████████████████████████████▊        | 45/52 [00:13<00:01,  3.63it/s]"
     ]
    },
    {
     "name": "stdout",
     "output_type": "stream",
     "text": [
      "beAy6Ga.txt: -1 (score: 0.009163234382867813)\n"
     ]
    },
    {
     "name": "stderr",
     "output_type": "stream",
     "text": [
      "Analyzing Sentiment:  90%|███████████████████████████████████████████████████████▏     | 47/52 [00:14<00:01,  3.76it/s]"
     ]
    },
    {
     "name": "stdout",
     "output_type": "stream",
     "text": [
      "bVv6wVD.txt: -1 (score: 0.010561197064816952)\n",
      "38ZdRBX.txt: -1 (score: 0.00688191270455718)\n"
     ]
    },
    {
     "name": "stderr",
     "output_type": "stream",
     "text": [
      "\r",
      "Analyzing Sentiment:  92%|████████████████████████████████████████████████████████▎    | 48/52 [00:14<00:01,  3.55it/s]"
     ]
    },
    {
     "name": "stdout",
     "output_type": "stream",
     "text": [
      "3A4BAO3.txt: -1 (score: 0.006791520398110151)\n"
     ]
    },
    {
     "name": "stderr",
     "output_type": "stream",
     "text": [
      "\r",
      "Analyzing Sentiment:  94%|█████████████████████████████████████████████████████████▍   | 49/52 [00:14<00:00,  3.41it/s]"
     ]
    },
    {
     "name": "stdout",
     "output_type": "stream",
     "text": [
      "3g80E1y.txt: 1 (score: 0.6533691883087158)\n"
     ]
    },
    {
     "name": "stderr",
     "output_type": "stream",
     "text": [
      "\r",
      "Analyzing Sentiment:  96%|██████████████████████████████████████████████████████████▋  | 50/52 [00:15<00:00,  3.23it/s]"
     ]
    },
    {
     "name": "stdout",
     "output_type": "stream",
     "text": [
      "3QxwD03.txt: 1 (score: 0.7025443911552429)\n",
      "Warning: Empty translation for bne7bVn.txt\n"
     ]
    },
    {
     "name": "stderr",
     "output_type": "stream",
     "text": [
      "Analyzing Sentiment: 100%|█████████████████████████████████████████████████████████████| 52/52 [00:15<00:00,  3.38it/s]\n"
     ]
    },
    {
     "name": "stdout",
     "output_type": "stream",
     "text": [
      "bR1PepD.txt: 1 (score: 0.9658485651016235)\n",
      "Analyzing Folder: sharechat_scraper/updated_tesseract/Bengali/lew5Am_Bengali/\n"
     ]
    },
    {
     "name": "stderr",
     "output_type": "stream",
     "text": [
      "Analyzing Sentiment:   1%|▍                                                            | 1/130 [00:00<00:46,  2.77it/s]"
     ]
    },
    {
     "name": "stdout",
     "output_type": "stream",
     "text": [
      "bvvvakmn.txt: 0 (score: 0.30294403433799744)\n"
     ]
    },
    {
     "name": "stderr",
     "output_type": "stream",
     "text": [
      "\r",
      "Analyzing Sentiment:   2%|▉                                                            | 2/130 [00:00<00:37,  3.37it/s]"
     ]
    },
    {
     "name": "stdout",
     "output_type": "stream",
     "text": [
      "gaXB35z.txt: -1 (score: 0.0052603804506361485)\n",
      "Warning: Empty translation for 3Nw3J0am.txt\n",
      "Warning: Empty translation for RO0eaGa.txt\n"
     ]
    },
    {
     "name": "stderr",
     "output_type": "stream",
     "text": [
      "\r",
      "Analyzing Sentiment:   4%|██▎                                                          | 5/130 [00:00<00:20,  6.05it/s]"
     ]
    },
    {
     "name": "stdout",
     "output_type": "stream",
     "text": [
      "gryWgX5q.txt: -1 (score: 0.0003817439719568938)\n"
     ]
    },
    {
     "name": "stderr",
     "output_type": "stream",
     "text": [
      "\r",
      "Analyzing Sentiment:   5%|██▊                                                          | 6/130 [00:01<00:24,  5.04it/s]"
     ]
    },
    {
     "name": "stdout",
     "output_type": "stream",
     "text": [
      "gJM9O57.txt: -1 (score: 0.07237271964550018)\n",
      "Warning: Empty translation for bvvZgdrO.txt\n"
     ]
    },
    {
     "name": "stderr",
     "output_type": "stream",
     "text": [
      "\r",
      "Analyzing Sentiment:   6%|███▊                                                         | 8/130 [00:01<00:23,  5.28it/s]"
     ]
    },
    {
     "name": "stdout",
     "output_type": "stream",
     "text": [
      "bvORnplD.txt: 1 (score: 0.9998181462287903)\n",
      "Warning: Empty translation for bvmRk0lO.txt\n"
     ]
    },
    {
     "name": "stderr",
     "output_type": "stream",
     "text": [
      "\r",
      "Analyzing Sentiment:   8%|████▌                                                       | 10/130 [00:01<00:20,  5.88it/s]"
     ]
    },
    {
     "name": "stdout",
     "output_type": "stream",
     "text": [
      "gxzRr31.txt: -1 (score: 0.0019008648814633489)\n",
      "Warning: Empty translation for r16nexG5.txt\n"
     ]
    },
    {
     "name": "stderr",
     "output_type": "stream",
     "text": [
      "\r",
      "Analyzing Sentiment:   9%|█████▌                                                      | 12/130 [00:02<00:17,  6.56it/s]"
     ]
    },
    {
     "name": "stdout",
     "output_type": "stream",
     "text": [
      "grOEbA9e.txt: -1 (score: 0.01591099053621292)\n",
      "Warning: Empty translation for ba4KdXO.txt\n"
     ]
    },
    {
     "name": "stderr",
     "output_type": "stream",
     "text": [
      "\r",
      "Analyzing Sentiment:  11%|██████▍                                                     | 14/130 [00:02<00:16,  6.91it/s]"
     ]
    },
    {
     "name": "stdout",
     "output_type": "stream",
     "text": [
      "grGz7lb7.txt: -1 (score: 0.02870667167007923)\n"
     ]
    },
    {
     "name": "stderr",
     "output_type": "stream",
     "text": [
      "\r",
      "Analyzing Sentiment:  12%|██████▉                                                     | 15/130 [00:02<00:18,  6.13it/s]"
     ]
    },
    {
     "name": "stdout",
     "output_type": "stream",
     "text": [
      "grrqnGq7.txt: -1 (score: 0.05238603055477142)\n",
      "Warning: Empty translation for bvOprA3Q.txt\n",
      "Warning: Empty translation for bv7Pg5A1.txt\n"
     ]
    },
    {
     "name": "stderr",
     "output_type": "stream",
     "text": [
      "\r",
      "Analyzing Sentiment:  14%|████████▎                                                   | 18/130 [00:02<00:15,  7.12it/s]"
     ]
    },
    {
     "name": "stdout",
     "output_type": "stream",
     "text": [
      "bvGA3dmQ.txt: 1 (score: 0.9993265867233276)\n"
     ]
    },
    {
     "name": "stderr",
     "output_type": "stream",
     "text": [
      "\r",
      "Analyzing Sentiment:  15%|████████▊                                                   | 19/130 [00:03<00:19,  5.68it/s]"
     ]
    },
    {
     "name": "stdout",
     "output_type": "stream",
     "text": [
      "grrrXnJQ.txt: 1 (score: 0.8484159111976624)\n",
      "Warning: Empty translation for bvvkEQZD.txt\n",
      "Warning: Empty translation for bvQPvlrX.txt\n"
     ]
    },
    {
     "name": "stderr",
     "output_type": "stream",
     "text": [
      "\r",
      "Analyzing Sentiment:  17%|██████████▏                                                 | 22/130 [00:03<00:15,  6.78it/s]"
     ]
    },
    {
     "name": "stdout",
     "output_type": "stream",
     "text": [
      "grbw05M1.txt: -1 (score: 0.0014147917972877622)\n",
      "Warning: Empty translation for bz01QVX.txt\n",
      "Warning: Empty translation for r144MrE1.txt\n"
     ]
    },
    {
     "name": "stderr",
     "output_type": "stream",
     "text": [
      "\r",
      "Analyzing Sentiment:  19%|███████████▌                                                | 25/130 [00:03<00:14,  7.44it/s]"
     ]
    },
    {
     "name": "stdout",
     "output_type": "stream",
     "text": [
      "r1Vx67bw.txt: -1 (score: 0.027608726173639297)\n"
     ]
    },
    {
     "name": "stderr",
     "output_type": "stream",
     "text": [
      "\r",
      "Analyzing Sentiment:  20%|████████████                                                | 26/130 [00:04<00:17,  5.94it/s]"
     ]
    },
    {
     "name": "stdout",
     "output_type": "stream",
     "text": [
      "gRMOPKq.txt: -1 (score: 0.05884501338005066)\n"
     ]
    },
    {
     "name": "stderr",
     "output_type": "stream",
     "text": [
      "\r",
      "Analyzing Sentiment:  21%|████████████▍                                               | 27/130 [00:04<00:20,  5.07it/s]"
     ]
    },
    {
     "name": "stdout",
     "output_type": "stream",
     "text": [
      "gaBzR9J.txt: -1 (score: 0.06484192609786987)\n"
     ]
    },
    {
     "name": "stderr",
     "output_type": "stream",
     "text": [
      "\r",
      "Analyzing Sentiment:  22%|████████████▉                                               | 28/130 [00:04<00:23,  4.38it/s]"
     ]
    },
    {
     "name": "stdout",
     "output_type": "stream",
     "text": [
      "r1Www1ld.txt: 1 (score: 0.9686673879623413)\n"
     ]
    },
    {
     "name": "stderr",
     "output_type": "stream",
     "text": [
      "\r",
      "Analyzing Sentiment:  22%|█████████████▍                                              | 29/130 [00:05<00:23,  4.33it/s]"
     ]
    },
    {
     "name": "stdout",
     "output_type": "stream",
     "text": [
      "g4Bxl1e.txt: -1 (score: 0.006346465088427067)\n",
      "Warning: Empty translation for bvQjQ4KX.txt\n"
     ]
    },
    {
     "name": "stderr",
     "output_type": "stream",
     "text": [
      "\r",
      "Analyzing Sentiment:  24%|██████████████▎                                             | 31/130 [00:05<00:20,  4.76it/s]"
     ]
    },
    {
     "name": "stdout",
     "output_type": "stream",
     "text": [
      "gryD4nWq.txt: 1 (score: 0.6229794025421143)\n",
      "Warning: Empty translation for g9r0997.txt\n",
      "Warning: Empty translation for bXGx7OQ.txt\n",
      "Warning: Empty translation for RPPPkbWA.txt\n",
      "Warning: Empty translation for 1r8bvNQ.txt\n"
     ]
    },
    {
     "name": "stderr",
     "output_type": "stream",
     "text": [
      "\r",
      "Analyzing Sentiment:  28%|████████████████▌                                           | 36/130 [00:05<00:10,  8.75it/s]"
     ]
    },
    {
     "name": "stdout",
     "output_type": "stream",
     "text": [
      "grebq4je.txt: -1 (score: 0.020582614466547966)\n"
     ]
    },
    {
     "name": "stderr",
     "output_type": "stream",
     "text": [
      "\r",
      "Analyzing Sentiment:  28%|█████████████████                                           | 37/130 [00:06<00:12,  7.18it/s]"
     ]
    },
    {
     "name": "stdout",
     "output_type": "stream",
     "text": [
      "bvNQw6ea.txt: -1 (score: 0.006617492996156216)\n",
      "Warning: Empty translation for bK3RWwJ.txt\n"
     ]
    },
    {
     "name": "stderr",
     "output_type": "stream",
     "text": [
      "\r",
      "Analyzing Sentiment:  30%|██████████████████                                          | 39/130 [00:06<00:13,  6.52it/s]"
     ]
    },
    {
     "name": "stdout",
     "output_type": "stream",
     "text": [
      "grlEy7q7.txt: 1 (score: 0.9864376783370972)\n"
     ]
    },
    {
     "name": "stderr",
     "output_type": "stream",
     "text": [
      "\r",
      "Analyzing Sentiment:  31%|██████████████████▍                                         | 40/130 [00:06<00:16,  5.36it/s]"
     ]
    },
    {
     "name": "stdout",
     "output_type": "stream",
     "text": [
      "gRNaMOb.txt: 1 (score: 0.6852738857269287)\n",
      "Warning: Empty translation for bk86jrX.txt\n"
     ]
    },
    {
     "name": "stderr",
     "output_type": "stream",
     "text": [
      "\r",
      "Analyzing Sentiment:  32%|███████████████████▍                                        | 42/130 [00:07<00:14,  6.15it/s]"
     ]
    },
    {
     "name": "stdout",
     "output_type": "stream",
     "text": [
      "grGzRZDQ.txt: -1 (score: 0.015820009633898735)\n"
     ]
    },
    {
     "name": "stderr",
     "output_type": "stream",
     "text": [
      "\r",
      "Analyzing Sentiment:  33%|███████████████████▊                                        | 43/130 [00:07<00:17,  5.05it/s]"
     ]
    },
    {
     "name": "stdout",
     "output_type": "stream",
     "text": [
      "grGl8kbM.txt: -1 (score: 0.002302005421370268)\n"
     ]
    },
    {
     "name": "stderr",
     "output_type": "stream",
     "text": [
      "\r",
      "Analyzing Sentiment:  34%|████████████████████▎                                       | 44/130 [00:07<00:20,  4.29it/s]"
     ]
    },
    {
     "name": "stdout",
     "output_type": "stream",
     "text": [
      "r1WAMq4B.txt: 1 (score: 0.9948961138725281)\n",
      "Warning: Empty translation for grzx4KMA.txt\n"
     ]
    },
    {
     "name": "stderr",
     "output_type": "stream",
     "text": [
      "\r",
      "Analyzing Sentiment:  35%|█████████████████████▏                                      | 46/130 [00:08<00:17,  4.68it/s]"
     ]
    },
    {
     "name": "stdout",
     "output_type": "stream",
     "text": [
      "bvm51AQD.txt: -1 (score: 0.007620225660502911)\n"
     ]
    },
    {
     "name": "stderr",
     "output_type": "stream",
     "text": [
      "\r",
      "Analyzing Sentiment:  36%|█████████████████████▋                                      | 47/130 [00:08<00:20,  4.13it/s]"
     ]
    },
    {
     "name": "stdout",
     "output_type": "stream",
     "text": [
      "33Aa5Qn.txt: -1 (score: 0.04552455246448517)\n",
      "Warning: Empty translation for bvy9yvpP.txt\n",
      "Warning: Empty translation for bvGBBQ71.txt\n"
     ]
    },
    {
     "name": "stderr",
     "output_type": "stream",
     "text": [
      "\r",
      "Analyzing Sentiment:  38%|███████████████████████                                     | 50/130 [00:08<00:14,  5.40it/s]"
     ]
    },
    {
     "name": "stdout",
     "output_type": "stream",
     "text": [
      "gRNklXM.txt: 1 (score: 0.99089115858078)\n"
     ]
    },
    {
     "name": "stderr",
     "output_type": "stream",
     "text": [
      "\r",
      "Analyzing Sentiment:  39%|███████████████████████▌                                    | 51/130 [00:09<00:17,  4.64it/s]"
     ]
    },
    {
     "name": "stdout",
     "output_type": "stream",
     "text": [
      "gO0OJzJ.txt: -1 (score: 0.008625793270766735)\n",
      "Warning: Empty translation for bv7jDXvX.txt\n"
     ]
    },
    {
     "name": "stderr",
     "output_type": "stream",
     "text": [
      "\r",
      "Analyzing Sentiment:  41%|████████████████████████▍                                   | 53/130 [00:09<00:15,  4.99it/s]"
     ]
    },
    {
     "name": "stdout",
     "output_type": "stream",
     "text": [
      "bDXlPgP.txt: 1 (score: 0.9945532083511353)\n",
      "Warning: Empty translation for rXbQk8D.txt\n"
     ]
    },
    {
     "name": "stderr",
     "output_type": "stream",
     "text": [
      "\r",
      "Analyzing Sentiment:  42%|█████████████████████████▍                                  | 55/130 [00:09<00:14,  5.15it/s]"
     ]
    },
    {
     "name": "stdout",
     "output_type": "stream",
     "text": [
      "bvyGW9GJ.txt: 1 (score: 0.9990866184234619)\n"
     ]
    },
    {
     "name": "stderr",
     "output_type": "stream",
     "text": [
      "\r",
      "Analyzing Sentiment:  43%|█████████████████████████▊                                  | 56/130 [00:10<00:16,  4.44it/s]"
     ]
    },
    {
     "name": "stdout",
     "output_type": "stream",
     "text": [
      "gOxRmAb.txt: -1 (score: 0.039492566138505936)\n"
     ]
    },
    {
     "name": "stderr",
     "output_type": "stream",
     "text": [
      "\r",
      "Analyzing Sentiment:  44%|██████████████████████████▎                                 | 57/130 [00:10<00:18,  3.93it/s]"
     ]
    },
    {
     "name": "stdout",
     "output_type": "stream",
     "text": [
      "bvNDym1a.txt: 1 (score: 0.9992291927337646)\n",
      "Warning: Empty translation for bvQ5qJx1.txt\n"
     ]
    },
    {
     "name": "stderr",
     "output_type": "stream",
     "text": [
      "\r",
      "Analyzing Sentiment:  45%|███████████████████████████▏                                | 59/130 [00:10<00:16,  4.39it/s]"
     ]
    },
    {
     "name": "stdout",
     "output_type": "stream",
     "text": [
      "grNwla8e.txt: 1 (score: 0.9829997420310974)\n"
     ]
    },
    {
     "name": "stderr",
     "output_type": "stream",
     "text": [
      "\r",
      "Analyzing Sentiment:  46%|███████████████████████████▋                                | 60/130 [00:11<00:17,  3.93it/s]"
     ]
    },
    {
     "name": "stdout",
     "output_type": "stream",
     "text": [
      "bvmWQ911.txt: -1 (score: 0.017867254093289375)\n",
      "Warning: Empty translation for bv98b79n.txt\n"
     ]
    },
    {
     "name": "stderr",
     "output_type": "stream",
     "text": [
      "\r",
      "Analyzing Sentiment:  48%|████████████████████████████▌                               | 62/130 [00:11<00:15,  4.39it/s]"
     ]
    },
    {
     "name": "stdout",
     "output_type": "stream",
     "text": [
      "3NNdwPy3.txt: -1 (score: 0.011014770716428757)\n",
      "Warning: Empty translation for grkBJd6M.txt\n",
      "Warning: Empty translation for bXqawrO.txt\n"
     ]
    },
    {
     "name": "stderr",
     "output_type": "stream",
     "text": [
      "\r",
      "Analyzing Sentiment:  50%|██████████████████████████████                              | 65/130 [00:12<00:11,  5.65it/s]"
     ]
    },
    {
     "name": "stdout",
     "output_type": "stream",
     "text": [
      "bKpDMB3.txt: 1 (score: 0.9872069954872131)\n"
     ]
    },
    {
     "name": "stderr",
     "output_type": "stream",
     "text": [
      "\r",
      "Analyzing Sentiment:  51%|██████████████████████████████▍                             | 66/130 [00:12<00:13,  4.92it/s]"
     ]
    },
    {
     "name": "stdout",
     "output_type": "stream",
     "text": [
      "r170y967.txt: 1 (score: 0.9900464415550232)\n"
     ]
    },
    {
     "name": "stderr",
     "output_type": "stream",
     "text": [
      "\r",
      "Analyzing Sentiment:  52%|██████████████████████████████▉                             | 67/130 [00:12<00:14,  4.24it/s]"
     ]
    },
    {
     "name": "stdout",
     "output_type": "stream",
     "text": [
      "gDyPyP1.txt: 1 (score: 0.9822481870651245)\n"
     ]
    },
    {
     "name": "stderr",
     "output_type": "stream",
     "text": [
      "\r",
      "Analyzing Sentiment:  52%|███████████████████████████████▍                            | 68/130 [00:13<00:15,  3.89it/s]"
     ]
    },
    {
     "name": "stdout",
     "output_type": "stream",
     "text": [
      "grAJ94zz.txt: -1 (score: 0.003975155297666788)\n"
     ]
    },
    {
     "name": "stderr",
     "output_type": "stream",
     "text": [
      "\r",
      "Analyzing Sentiment:  53%|███████████████████████████████▊                            | 69/130 [00:13<00:17,  3.56it/s]"
     ]
    },
    {
     "name": "stdout",
     "output_type": "stream",
     "text": [
      "bz64lqP.txt: -1 (score: 0.017114443704485893)\n"
     ]
    },
    {
     "name": "stderr",
     "output_type": "stream",
     "text": [
      "\r",
      "Analyzing Sentiment:  54%|████████████████████████████████▎                           | 70/130 [00:13<00:17,  3.40it/s]"
     ]
    },
    {
     "name": "stdout",
     "output_type": "stream",
     "text": [
      "rayd1yE.txt: 1 (score: 0.9988206028938293)\n"
     ]
    },
    {
     "name": "stderr",
     "output_type": "stream",
     "text": [
      "\r",
      "Analyzing Sentiment:  55%|████████████████████████████████▊                           | 71/130 [00:14<00:16,  3.52it/s]"
     ]
    },
    {
     "name": "stdout",
     "output_type": "stream",
     "text": [
      "grkEQ8bA.txt: -1 (score: 0.021790802478790283)\n"
     ]
    },
    {
     "name": "stderr",
     "output_type": "stream",
     "text": [
      "\r",
      "Analyzing Sentiment:  55%|█████████████████████████████████▏                          | 72/130 [00:14<00:16,  3.44it/s]"
     ]
    },
    {
     "name": "stdout",
     "output_type": "stream",
     "text": [
      "grAg5dA6.txt: 1 (score: 0.9766115546226501)\n"
     ]
    },
    {
     "name": "stderr",
     "output_type": "stream",
     "text": [
      "\r",
      "Analyzing Sentiment:  56%|█████████████████████████████████▋                          | 73/130 [00:14<00:17,  3.27it/s]"
     ]
    },
    {
     "name": "stdout",
     "output_type": "stream",
     "text": [
      "bvQW8PNP.txt: 0 (score: 0.5307609438896179)\n"
     ]
    },
    {
     "name": "stderr",
     "output_type": "stream",
     "text": [
      "\r",
      "Analyzing Sentiment:  57%|██████████████████████████████████▏                         | 74/130 [00:15<00:17,  3.22it/s]"
     ]
    },
    {
     "name": "stdout",
     "output_type": "stream",
     "text": [
      "r1GXE3X1.txt: -1 (score: 0.0006007524207234383)\n",
      "Warning: Empty translation for bvOnlgk1.txt\n"
     ]
    },
    {
     "name": "stderr",
     "output_type": "stream",
     "text": [
      "\r",
      "Analyzing Sentiment:  58%|███████████████████████████████████                         | 76/130 [00:15<00:13,  3.93it/s]"
     ]
    },
    {
     "name": "stdout",
     "output_type": "stream",
     "text": [
      "bZpzQ8a.txt: 1 (score: 0.9862159490585327)\n"
     ]
    },
    {
     "name": "stderr",
     "output_type": "stream",
     "text": [
      "\r",
      "Analyzing Sentiment:  59%|███████████████████████████████████▌                        | 77/130 [00:15<00:13,  3.99it/s]"
     ]
    },
    {
     "name": "stdout",
     "output_type": "stream",
     "text": [
      "gxbA8g1.txt: -1 (score: 0.003522340441122651)\n",
      "Warning: Empty translation for bvyOKeDQ.txt\n"
     ]
    },
    {
     "name": "stderr",
     "output_type": "stream",
     "text": [
      "\r",
      "Analyzing Sentiment:  61%|████████████████████████████████████▍                       | 79/130 [00:15<00:11,  4.60it/s]"
     ]
    },
    {
     "name": "stdout",
     "output_type": "stream",
     "text": [
      "bvyzOKja.txt: -1 (score: 0.0050776065327227116)\n",
      "Warning: Empty translation for bZjv0yQ.txt\n",
      "Warning: Empty translation for bvNGm8lX.txt\n"
     ]
    },
    {
     "name": "stderr",
     "output_type": "stream",
     "text": [
      "\r",
      "Analyzing Sentiment:  63%|█████████████████████████████████████▊                      | 82/130 [00:16<00:07,  6.17it/s]"
     ]
    },
    {
     "name": "stdout",
     "output_type": "stream",
     "text": [
      "grlenryJ.txt: -1 (score: 0.004465799313038588)\n"
     ]
    },
    {
     "name": "stderr",
     "output_type": "stream",
     "text": [
      "\r",
      "Analyzing Sentiment:  64%|██████████████████████████████████████▎                     | 83/130 [00:16<00:09,  5.03it/s]"
     ]
    },
    {
     "name": "stdout",
     "output_type": "stream",
     "text": [
      "ra1001B.txt: 1 (score: 0.993202269077301)\n",
      "Warning: Empty translation for bv7aakXQ.txt\n",
      "Warning: Empty translation for bvvNwPeO.txt\n"
     ]
    },
    {
     "name": "stderr",
     "output_type": "stream",
     "text": [
      "\r",
      "Analyzing Sentiment:  66%|███████████████████████████████████████▋                    | 86/130 [00:16<00:07,  6.02it/s]"
     ]
    },
    {
     "name": "stdout",
     "output_type": "stream",
     "text": [
      "37DqMWn.txt: 1 (score: 0.9995111227035522)\n",
      "Warning: Empty translation for r11lWNZB.txt\n",
      "Warning: Empty translation for bX58l9Q.txt\n"
     ]
    },
    {
     "name": "stderr",
     "output_type": "stream",
     "text": [
      "\r",
      "Analyzing Sentiment:  68%|█████████████████████████████████████████                   | 89/130 [00:17<00:06,  6.66it/s]"
     ]
    },
    {
     "name": "stdout",
     "output_type": "stream",
     "text": [
      "r80kpbb.txt: 1 (score: 0.9936996698379517)\n"
     ]
    },
    {
     "name": "stderr",
     "output_type": "stream",
     "text": [
      "\r",
      "Analyzing Sentiment:  69%|█████████████████████████████████████████▌                  | 90/130 [00:17<00:07,  5.41it/s]"
     ]
    },
    {
     "name": "stdout",
     "output_type": "stream",
     "text": [
      "r1JrzJW3.txt: 1 (score: 0.9997488856315613)\n"
     ]
    },
    {
     "name": "stderr",
     "output_type": "stream",
     "text": [
      "\r",
      "Analyzing Sentiment:  70%|██████████████████████████████████████████                  | 91/130 [00:18<00:08,  4.57it/s]"
     ]
    },
    {
     "name": "stdout",
     "output_type": "stream",
     "text": [
      "bZrlw11.txt: 0 (score: 0.32497328519821167)\n",
      "Warning: Empty translation for bvvd60xJ.txt\n",
      "Warning: Empty translation for bvQjmnAa.txt\n",
      "Warning: Empty translation for bvy667ry.txt\n"
     ]
    },
    {
     "name": "stderr",
     "output_type": "stream",
     "text": [
      "\r",
      "Analyzing Sentiment:  73%|███████████████████████████████████████████▊                | 95/130 [00:18<00:05,  6.42it/s]"
     ]
    },
    {
     "name": "stdout",
     "output_type": "stream",
     "text": [
      "rabxQED.txt: 1 (score: 0.6912295818328857)\n",
      "Warning: Empty translation for bDDygMn.txt\n",
      "Warning: Empty translation for bvNVNj41.txt\n",
      "Warning: Empty translation for bD9mWda.txt\n",
      "Warning: Empty translation for bvmy3n0O.txt\n",
      "Warning: Empty translation for r1GP77r1.txt\n",
      "Warning: Empty translation for bvNBrGxJ.txt\n"
     ]
    },
    {
     "name": "stderr",
     "output_type": "stream",
     "text": [
      "\r",
      "Analyzing Sentiment:  78%|██████████████████████████████████████████████▎            | 102/130 [00:18<00:02, 10.21it/s]"
     ]
    },
    {
     "name": "stdout",
     "output_type": "stream",
     "text": [
      "grOpnvn1.txt: 1 (score: 0.9909138679504395)\n"
     ]
    },
    {
     "name": "stderr",
     "output_type": "stream",
     "text": [
      "\r",
      "Analyzing Sentiment:  80%|███████████████████████████████████████████████▏           | 104/130 [00:19<00:02,  8.78it/s]"
     ]
    },
    {
     "name": "stdout",
     "output_type": "stream",
     "text": [
      "gX3vQWA.txt: -1 (score: 0.00021620611369144171)\n",
      "Warning: Empty translation for gre0V4kb.txt\n",
      "Warning: Empty translation for bvGV85kD.txt\n",
      "Warning: Empty translation for 3NwW5d35.txt\n",
      "Warning: Empty translation for bvWVy5g1.txt\n"
     ]
    },
    {
     "name": "stderr",
     "output_type": "stream",
     "text": [
      "\r",
      "Analyzing Sentiment:  83%|█████████████████████████████████████████████████          | 108/130 [00:19<00:02,  9.40it/s]"
     ]
    },
    {
     "name": "stdout",
     "output_type": "stream",
     "text": [
      "bvWJrEzn.txt: 1 (score: 0.987550675868988)\n",
      "Warning: Empty translation for bv7vJVaJ.txt\n",
      "Warning: Empty translation for bq1p3Da.txt\n",
      "Warning: Empty translation for bv7Adz9Q.txt\n",
      "Warning: Empty translation for bZQJQey.txt\n",
      "Warning: Empty translation for bvynOBKa.txt\n",
      "Warning: Empty translation for bDxAe0n.txt\n"
     ]
    },
    {
     "name": "stderr",
     "output_type": "stream",
     "text": [
      "\r",
      "Analyzing Sentiment:  88%|████████████████████████████████████████████████████▏      | 115/130 [00:19<00:01, 12.29it/s]"
     ]
    },
    {
     "name": "stdout",
     "output_type": "stream",
     "text": [
      "grkl6bXz.txt: -1 (score: 0.024587849155068398)\n",
      "bvyX5bXX.txt: -1 (score: 0.005981960333883762)\n"
     ]
    },
    {
     "name": "stderr",
     "output_type": "stream",
     "text": [
      "\r",
      "Analyzing Sentiment:  90%|█████████████████████████████████████████████████████      | 117/130 [00:20<00:01,  7.93it/s]"
     ]
    },
    {
     "name": "stdout",
     "output_type": "stream",
     "text": [
      "gryqNjlb.txt: -1 (score: 0.02240060642361641)\n"
     ]
    },
    {
     "name": "stderr",
     "output_type": "stream",
     "text": [
      "\r",
      "Analyzing Sentiment:  91%|█████████████████████████████████████████████████████▌     | 118/130 [00:21<00:01,  6.63it/s]"
     ]
    },
    {
     "name": "stdout",
     "output_type": "stream",
     "text": [
      "rnndvgd.txt: 1 (score: 0.9466307163238525)\n",
      "Warning: Empty translation for bZxd0P1.txt\n"
     ]
    },
    {
     "name": "stderr",
     "output_type": "stream",
     "text": [
      "\r",
      "Analyzing Sentiment:  92%|██████████████████████████████████████████████████████▍    | 120/130 [00:21<00:01,  6.55it/s]"
     ]
    },
    {
     "name": "stdout",
     "output_type": "stream",
     "text": [
      "bvvyaJrJ.txt: -1 (score: 0.0017419278156012297)\n",
      "Warning: Empty translation for bRJXdx1.txt\n",
      "Warning: Empty translation for bvmVpma1.txt\n"
     ]
    },
    {
     "name": "stderr",
     "output_type": "stream",
     "text": [
      "\r",
      "Analyzing Sentiment:  95%|███████████████████████████████████████████████████████▊   | 123/130 [00:21<00:01,  6.96it/s]"
     ]
    },
    {
     "name": "stdout",
     "output_type": "stream",
     "text": [
      "bkZlxa1.txt: -1 (score: 0.04923137649893761)\n"
     ]
    },
    {
     "name": "stderr",
     "output_type": "stream",
     "text": [
      "\r",
      "Analyzing Sentiment:  95%|████████████████████████████████████████████████████████▎  | 124/130 [00:22<00:01,  5.75it/s]"
     ]
    },
    {
     "name": "stdout",
     "output_type": "stream",
     "text": [
      "bvvjjdnn.txt: -1 (score: 0.006439256016165018)\n"
     ]
    },
    {
     "name": "stderr",
     "output_type": "stream",
     "text": [
      "\r",
      "Analyzing Sentiment:  96%|████████████████████████████████████████████████████████▋  | 125/130 [00:22<00:00,  5.00it/s]"
     ]
    },
    {
     "name": "stdout",
     "output_type": "stream",
     "text": [
      "bvOjDdmy.txt: 1 (score: 0.9986566305160522)\n"
     ]
    },
    {
     "name": "stderr",
     "output_type": "stream",
     "text": [
      "\r",
      "Analyzing Sentiment:  97%|█████████████████████████████████████████████████████████▏ | 126/130 [00:22<00:00,  4.30it/s]"
     ]
    },
    {
     "name": "stdout",
     "output_type": "stream",
     "text": [
      "bvQvPnkP.txt: 1 (score: 0.7449946999549866)\n"
     ]
    },
    {
     "name": "stderr",
     "output_type": "stream",
     "text": [
      "Analyzing Sentiment: 100%|███████████████████████████████████████████████████████████| 130/130 [00:23<00:00,  5.60it/s]\n"
     ]
    },
    {
     "name": "stdout",
     "output_type": "stream",
     "text": [
      "grl3Z9bQ.txt: 1 (score: 0.9972883462905884)\n",
      "Warning: Empty translation for bvQZNa03.txt\n",
      "Warning: Empty translation for bDp5n0P.txt\n",
      "Warning: Empty translation for bvvzKxl3.txt\n",
      "Analyzing Folder: sharechat_scraper/updated_tesseract/Bengali/m6d09W_Bengali/\n"
     ]
    },
    {
     "name": "stderr",
     "output_type": "stream",
     "text": [
      "Analyzing Sentiment:   1%|▋                                                             | 1/94 [00:00<00:34,  2.70it/s]"
     ]
    },
    {
     "name": "stdout",
     "output_type": "stream",
     "text": [
      "g00VXzq.txt: 1 (score: 0.9387274980545044)\n"
     ]
    },
    {
     "name": "stderr",
     "output_type": "stream",
     "text": [
      "\r",
      "Analyzing Sentiment:   2%|█▎                                                            | 2/94 [00:00<00:32,  2.84it/s]"
     ]
    },
    {
     "name": "stdout",
     "output_type": "stream",
     "text": [
      "grzaNp0A.txt: -1 (score: 0.009787802584469318)\n"
     ]
    },
    {
     "name": "stderr",
     "output_type": "stream",
     "text": [
      "\r",
      "Analyzing Sentiment:   3%|█▉                                                            | 3/94 [00:01<00:31,  2.90it/s]"
     ]
    },
    {
     "name": "stdout",
     "output_type": "stream",
     "text": [
      "gmxag8q.txt: 1 (score: 0.994391143321991)\n"
     ]
    },
    {
     "name": "stderr",
     "output_type": "stream",
     "text": [
      "\r",
      "Analyzing Sentiment:   4%|██▋                                                           | 4/94 [00:01<00:31,  2.86it/s]"
     ]
    },
    {
     "name": "stdout",
     "output_type": "stream",
     "text": [
      "gWKgn6z.txt: -1 (score: 0.11079152673482895)\n",
      "Warning: Empty translation for g9Eq316.txt\n"
     ]
    },
    {
     "name": "stderr",
     "output_type": "stream",
     "text": [
      "\r",
      "Analyzing Sentiment:   6%|███▉                                                          | 6/94 [00:01<00:21,  4.07it/s]"
     ]
    },
    {
     "name": "stdout",
     "output_type": "stream",
     "text": [
      "gWn3K61.txt: -1 (score: 0.11262737214565277)\n"
     ]
    },
    {
     "name": "stderr",
     "output_type": "stream",
     "text": [
      "\r",
      "Analyzing Sentiment:   7%|████▌                                                         | 7/94 [00:02<00:22,  3.79it/s]"
     ]
    },
    {
     "name": "stdout",
     "output_type": "stream",
     "text": [
      "grAJM1X1.txt: -1 (score: 0.006350965239107609)\n"
     ]
    },
    {
     "name": "stderr",
     "output_type": "stream",
     "text": [
      "\r",
      "Analyzing Sentiment:   9%|█████▎                                                        | 8/94 [00:02<00:23,  3.62it/s]"
     ]
    },
    {
     "name": "stdout",
     "output_type": "stream",
     "text": [
      "grNygeNz.txt: -1 (score: 0.008508840575814247)\n",
      "Warning: Empty translation for grrGD14J.txt\n"
     ]
    },
    {
     "name": "stderr",
     "output_type": "stream",
     "text": [
      "\r",
      "Analyzing Sentiment:  11%|██████▍                                                      | 10/94 [00:02<00:19,  4.39it/s]"
     ]
    },
    {
     "name": "stdout",
     "output_type": "stream",
     "text": [
      "gXXJzG1.txt: 0 (score: 0.3844864070415497)\n"
     ]
    },
    {
     "name": "stderr",
     "output_type": "stream",
     "text": [
      "\r",
      "Analyzing Sentiment:  12%|███████▏                                                     | 11/94 [00:02<00:20,  4.04it/s]"
     ]
    },
    {
     "name": "stdout",
     "output_type": "stream",
     "text": [
      "grk0Vl37.txt: 1 (score: 0.8467831611633301)\n"
     ]
    },
    {
     "name": "stderr",
     "output_type": "stream",
     "text": [
      "\r",
      "Analyzing Sentiment:  13%|███████▊                                                     | 12/94 [00:03<00:22,  3.70it/s]"
     ]
    },
    {
     "name": "stdout",
     "output_type": "stream",
     "text": [
      "grbky0DM.txt: -1 (score: 0.018769539892673492)\n"
     ]
    },
    {
     "name": "stderr",
     "output_type": "stream",
     "text": [
      "\r",
      "Analyzing Sentiment:  14%|████████▍                                                    | 13/94 [00:03<00:23,  3.46it/s]"
     ]
    },
    {
     "name": "stdout",
     "output_type": "stream",
     "text": [
      "grrwvN7z.txt: -1 (score: 0.0008216206915676594)\n"
     ]
    },
    {
     "name": "stderr",
     "output_type": "stream",
     "text": [
      "\r",
      "Analyzing Sentiment:  15%|█████████                                                    | 14/94 [00:03<00:22,  3.63it/s]"
     ]
    },
    {
     "name": "stdout",
     "output_type": "stream",
     "text": [
      "gDvx5O7.txt: -1 (score: 0.0026791223790496588)\n"
     ]
    },
    {
     "name": "stderr",
     "output_type": "stream",
     "text": [
      "\r",
      "Analyzing Sentiment:  16%|█████████▋                                                   | 15/94 [00:04<00:22,  3.44it/s]"
     ]
    },
    {
     "name": "stdout",
     "output_type": "stream",
     "text": [
      "g9ApGdA.txt: 0 (score: 0.3844864070415497)\n"
     ]
    },
    {
     "name": "stderr",
     "output_type": "stream",
     "text": [
      "\r",
      "Analyzing Sentiment:  17%|██████████▍                                                  | 16/94 [00:04<00:23,  3.30it/s]"
     ]
    },
    {
     "name": "stdout",
     "output_type": "stream",
     "text": [
      "gry1OqOq.txt: 1 (score: 0.9865146279335022)\n"
     ]
    },
    {
     "name": "stderr",
     "output_type": "stream",
     "text": [
      "\r",
      "Analyzing Sentiment:  18%|███████████                                                  | 17/94 [00:04<00:23,  3.28it/s]"
     ]
    },
    {
     "name": "stdout",
     "output_type": "stream",
     "text": [
      "grAbvBve.txt: 0 (score: 0.38374269008636475)\n"
     ]
    },
    {
     "name": "stderr",
     "output_type": "stream",
     "text": [
      "\r",
      "Analyzing Sentiment:  19%|███████████▋                                                 | 18/94 [00:05<00:22,  3.41it/s]"
     ]
    },
    {
     "name": "stdout",
     "output_type": "stream",
     "text": [
      "gxRX1eb.txt: -1 (score: 0.001523998100310564)\n"
     ]
    },
    {
     "name": "stderr",
     "output_type": "stream",
     "text": [
      "\r",
      "Analyzing Sentiment:  20%|████████████▎                                                | 19/94 [00:05<00:20,  3.69it/s]"
     ]
    },
    {
     "name": "stdout",
     "output_type": "stream",
     "text": [
      "grlZMJWJ.txt: -1 (score: 0.01067689061164856)\n"
     ]
    },
    {
     "name": "stderr",
     "output_type": "stream",
     "text": [
      "\r",
      "Analyzing Sentiment:  21%|████████████▉                                                | 20/94 [00:05<00:21,  3.41it/s]"
     ]
    },
    {
     "name": "stdout",
     "output_type": "stream",
     "text": [
      "grrPjqeJ.txt: 0 (score: 0.30294403433799744)\n"
     ]
    },
    {
     "name": "stderr",
     "output_type": "stream",
     "text": [
      "\r",
      "Analyzing Sentiment:  22%|█████████████▋                                               | 21/94 [00:06<00:23,  3.17it/s]"
     ]
    },
    {
     "name": "stdout",
     "output_type": "stream",
     "text": [
      "gmAZQ0q.txt: -1 (score: 0.0022310675121843815)\n"
     ]
    },
    {
     "name": "stderr",
     "output_type": "stream",
     "text": [
      "\r",
      "Analyzing Sentiment:  23%|██████████████▎                                              | 22/94 [00:06<00:23,  3.05it/s]"
     ]
    },
    {
     "name": "stdout",
     "output_type": "stream",
     "text": [
      "grrnppXe.txt: 1 (score: 0.6941933035850525)\n"
     ]
    },
    {
     "name": "stderr",
     "output_type": "stream",
     "text": [
      "\r",
      "Analyzing Sentiment:  24%|██████████████▉                                              | 23/94 [00:06<00:23,  3.06it/s]"
     ]
    },
    {
     "name": "stdout",
     "output_type": "stream",
     "text": [
      "gJKvPBJ.txt: 1 (score: 0.999593198299408)\n"
     ]
    },
    {
     "name": "stderr",
     "output_type": "stream",
     "text": [
      "\r",
      "Analyzing Sentiment:  26%|███████████████▌                                             | 24/94 [00:07<00:22,  3.06it/s]"
     ]
    },
    {
     "name": "stdout",
     "output_type": "stream",
     "text": [
      "grlDZGQz.txt: -1 (score: 0.033340007066726685)\n"
     ]
    },
    {
     "name": "stderr",
     "output_type": "stream",
     "text": [
      "\r",
      "Analyzing Sentiment:  27%|████████████████▏                                            | 25/94 [00:07<00:22,  3.11it/s]"
     ]
    },
    {
     "name": "stdout",
     "output_type": "stream",
     "text": [
      "gznMDGb.txt: 0 (score: 0.3394589424133301)\n",
      "Warning: Empty translation for gJngGgz.txt\n"
     ]
    },
    {
     "name": "stderr",
     "output_type": "stream",
     "text": [
      "\r",
      "Analyzing Sentiment:  29%|█████████████████▌                                           | 27/94 [00:07<00:17,  3.94it/s]"
     ]
    },
    {
     "name": "stdout",
     "output_type": "stream",
     "text": [
      "g4O16r6.txt: 0 (score: 0.3407059609889984)\n"
     ]
    },
    {
     "name": "stderr",
     "output_type": "stream",
     "text": [
      "Analyzing Sentiment:  32%|███████████████████▍                                         | 30/94 [00:08<00:12,  4.99it/s]"
     ]
    },
    {
     "name": "stdout",
     "output_type": "stream",
     "text": [
      "gJWDwwQ.txt: 1 (score: 0.9998383522033691)\n",
      "Warning: Empty translation for grA6QwAA.txt\n",
      "gdrP4wJ.txt: -1 (score: 0.020435769110918045)\n"
     ]
    },
    {
     "name": "stderr",
     "output_type": "stream",
     "text": [
      "\r",
      "Analyzing Sentiment:  33%|████████████████████                                         | 31/94 [00:08<00:14,  4.38it/s]"
     ]
    },
    {
     "name": "stdout",
     "output_type": "stream",
     "text": [
      "gr0XjVOb.txt: 1 (score: 0.9993348717689514)\n",
      "Warning: Empty translation for gr0aWJdQ.txt\n"
     ]
    },
    {
     "name": "stderr",
     "output_type": "stream",
     "text": [
      "\r",
      "Analyzing Sentiment:  35%|█████████████████████▍                                       | 33/94 [00:08<00:12,  4.93it/s]"
     ]
    },
    {
     "name": "stdout",
     "output_type": "stream",
     "text": [
      "grynXbN1.txt: -1 (score: 0.008782558143138885)\n",
      "Warning: Empty translation for gW59Mxe.txt\n"
     ]
    },
    {
     "name": "stderr",
     "output_type": "stream",
     "text": [
      "\r",
      "Analyzing Sentiment:  37%|██████████████████████▋                                      | 35/94 [00:09<00:10,  5.39it/s]"
     ]
    },
    {
     "name": "stdout",
     "output_type": "stream",
     "text": [
      "gRxp441.txt: -1 (score: 0.0022310675121843815)\n"
     ]
    },
    {
     "name": "stderr",
     "output_type": "stream",
     "text": [
      "\r",
      "Analyzing Sentiment:  38%|███████████████████████▎                                     | 36/94 [00:09<00:11,  5.12it/s]"
     ]
    },
    {
     "name": "stdout",
     "output_type": "stream",
     "text": [
      "gmxxmne.txt: -1 (score: 0.0035185329616069794)\n"
     ]
    },
    {
     "name": "stderr",
     "output_type": "stream",
     "text": [
      "\r",
      "Analyzing Sentiment:  39%|████████████████████████                                     | 37/94 [00:09<00:12,  4.56it/s]"
     ]
    },
    {
     "name": "stdout",
     "output_type": "stream",
     "text": [
      "grla89le.txt: 1 (score: 0.9995402097702026)\n"
     ]
    },
    {
     "name": "stderr",
     "output_type": "stream",
     "text": [
      "\r",
      "Analyzing Sentiment:  40%|████████████████████████▋                                    | 38/94 [00:10<00:13,  4.04it/s]"
     ]
    },
    {
     "name": "stdout",
     "output_type": "stream",
     "text": [
      "g7p85De.txt: -1 (score: 0.01252641063183546)\n"
     ]
    },
    {
     "name": "stderr",
     "output_type": "stream",
     "text": [
      "\r",
      "Analyzing Sentiment:  41%|█████████████████████████▎                                   | 39/94 [00:10<00:14,  3.85it/s]"
     ]
    },
    {
     "name": "stdout",
     "output_type": "stream",
     "text": [
      "g4pZrEq.txt: -1 (score: 0.0017140605486929417)\n"
     ]
    },
    {
     "name": "stderr",
     "output_type": "stream",
     "text": [
      "\r",
      "Analyzing Sentiment:  43%|█████████████████████████▉                                   | 40/94 [00:10<00:14,  3.61it/s]"
     ]
    },
    {
     "name": "stdout",
     "output_type": "stream",
     "text": [
      "g4VMDG1.txt: -1 (score: 0.044694796204566956)\n"
     ]
    },
    {
     "name": "stderr",
     "output_type": "stream",
     "text": [
      "\r",
      "Analyzing Sentiment:  44%|██████████████████████████▌                                  | 41/94 [00:11<00:15,  3.47it/s]"
     ]
    },
    {
     "name": "stdout",
     "output_type": "stream",
     "text": [
      "grr6vkZA.txt: 1 (score: 0.9736324548721313)\n"
     ]
    },
    {
     "name": "stderr",
     "output_type": "stream",
     "text": [
      "\r",
      "Analyzing Sentiment:  45%|███████████████████████████▎                                 | 42/94 [00:11<00:15,  3.44it/s]"
     ]
    },
    {
     "name": "stdout",
     "output_type": "stream",
     "text": [
      "grA4Zzez.txt: -1 (score: 0.010237487964332104)\n"
     ]
    },
    {
     "name": "stderr",
     "output_type": "stream",
     "text": [
      "\r",
      "Analyzing Sentiment:  46%|███████████████████████████▉                                 | 43/94 [00:11<00:15,  3.34it/s]"
     ]
    },
    {
     "name": "stdout",
     "output_type": "stream",
     "text": [
      "gpwNEkM.txt: 1 (score: 0.9296831488609314)\n",
      "Warning: Empty translation for g11qP66.txt\n"
     ]
    },
    {
     "name": "stderr",
     "output_type": "stream",
     "text": [
      "\r",
      "Analyzing Sentiment:  48%|█████████████████████████████▏                               | 45/94 [00:11<00:11,  4.17it/s]"
     ]
    },
    {
     "name": "stdout",
     "output_type": "stream",
     "text": [
      "grG9XJlA.txt: 1 (score: 0.9990589022636414)\n"
     ]
    },
    {
     "name": "stderr",
     "output_type": "stream",
     "text": [
      "\r",
      "Analyzing Sentiment:  49%|█████████████████████████████▊                               | 46/94 [00:12<00:12,  3.70it/s]"
     ]
    },
    {
     "name": "stdout",
     "output_type": "stream",
     "text": [
      "gxXWZNM.txt: 1 (score: 0.9990297555923462)\n"
     ]
    },
    {
     "name": "stderr",
     "output_type": "stream",
     "text": [
      "\r",
      "Analyzing Sentiment:  50%|██████████████████████████████▌                              | 47/94 [00:12<00:12,  3.77it/s]"
     ]
    },
    {
     "name": "stdout",
     "output_type": "stream",
     "text": [
      "gRPWyeM.txt: -1 (score: 0.14542658627033234)\n"
     ]
    },
    {
     "name": "stderr",
     "output_type": "stream",
     "text": [
      "\r",
      "Analyzing Sentiment:  51%|███████████████████████████████▏                             | 48/94 [00:12<00:11,  3.92it/s]"
     ]
    },
    {
     "name": "stdout",
     "output_type": "stream",
     "text": [
      "gxvxmXM.txt: -1 (score: 0.007732611149549484)\n"
     ]
    },
    {
     "name": "stderr",
     "output_type": "stream",
     "text": [
      "\r",
      "Analyzing Sentiment:  52%|███████████████████████████████▊                             | 49/94 [00:13<00:11,  4.01it/s]"
     ]
    },
    {
     "name": "stdout",
     "output_type": "stream",
     "text": [
      "gB5rPM7.txt: 0 (score: 0.4273717999458313)\n"
     ]
    },
    {
     "name": "stderr",
     "output_type": "stream",
     "text": [
      "\r",
      "Analyzing Sentiment:  53%|████████████████████████████████▍                            | 50/94 [00:13<00:12,  3.61it/s]"
     ]
    },
    {
     "name": "stdout",
     "output_type": "stream",
     "text": [
      "ggXkpW7.txt: -1 (score: 0.0036715844180434942)\n"
     ]
    },
    {
     "name": "stderr",
     "output_type": "stream",
     "text": [
      "\r",
      "Analyzing Sentiment:  54%|█████████████████████████████████                            | 51/94 [00:13<00:12,  3.31it/s]"
     ]
    },
    {
     "name": "stdout",
     "output_type": "stream",
     "text": [
      "g0jXV9A.txt: 1 (score: 0.8525294065475464)\n"
     ]
    },
    {
     "name": "stderr",
     "output_type": "stream",
     "text": [
      "\r",
      "Analyzing Sentiment:  55%|█████████████████████████████████▋                           | 52/94 [00:14<00:13,  3.21it/s]"
     ]
    },
    {
     "name": "stdout",
     "output_type": "stream",
     "text": [
      "ggKdb1b.txt: 1 (score: 0.995119571685791)\n"
     ]
    },
    {
     "name": "stderr",
     "output_type": "stream",
     "text": [
      "\r",
      "Analyzing Sentiment:  56%|██████████████████████████████████▍                          | 53/94 [00:14<00:13,  3.07it/s]"
     ]
    },
    {
     "name": "stdout",
     "output_type": "stream",
     "text": [
      "grr7bjRJ.txt: 0 (score: 0.31722962856292725)\n"
     ]
    },
    {
     "name": "stderr",
     "output_type": "stream",
     "text": [
      "\r",
      "Analyzing Sentiment:  57%|███████████████████████████████████                          | 54/94 [00:14<00:13,  3.06it/s]"
     ]
    },
    {
     "name": "stdout",
     "output_type": "stream",
     "text": [
      "greGz3zJ.txt: 1 (score: 0.9920333027839661)\n"
     ]
    },
    {
     "name": "stderr",
     "output_type": "stream",
     "text": [
      "\r",
      "Analyzing Sentiment:  59%|███████████████████████████████████▋                         | 55/94 [00:15<00:12,  3.00it/s]"
     ]
    },
    {
     "name": "stdout",
     "output_type": "stream",
     "text": [
      "g0x4E4z.txt: -1 (score: 0.005312063731253147)\n"
     ]
    },
    {
     "name": "stderr",
     "output_type": "stream",
     "text": [
      "\r",
      "Analyzing Sentiment:  60%|████████████████████████████████████▎                        | 56/94 [00:15<00:12,  3.02it/s]"
     ]
    },
    {
     "name": "stdout",
     "output_type": "stream",
     "text": [
      "grl3nKwb.txt: -1 (score: 0.08149603754281998)\n"
     ]
    },
    {
     "name": "stderr",
     "output_type": "stream",
     "text": [
      "\r",
      "Analyzing Sentiment:  61%|████████████████████████████████████▉                        | 57/94 [00:15<00:12,  3.06it/s]"
     ]
    },
    {
     "name": "stdout",
     "output_type": "stream",
     "text": [
      "grAREQWQ.txt: -1 (score: 0.0010868883691728115)\n"
     ]
    },
    {
     "name": "stderr",
     "output_type": "stream",
     "text": [
      "\r",
      "Analyzing Sentiment:  62%|█████████████████████████████████████▋                       | 58/94 [00:16<00:12,  2.99it/s]"
     ]
    },
    {
     "name": "stdout",
     "output_type": "stream",
     "text": [
      "grk033Q6.txt: -1 (score: 0.032789211720228195)\n"
     ]
    },
    {
     "name": "stderr",
     "output_type": "stream",
     "text": [
      "\r",
      "Analyzing Sentiment:  63%|██████████████████████████████████████▎                      | 59/94 [00:16<00:11,  2.95it/s]"
     ]
    },
    {
     "name": "stdout",
     "output_type": "stream",
     "text": [
      "grNEO7lA.txt: -1 (score: 0.07619686424732208)\n",
      "Warning: Empty translation for grOZ0qDA.txt\n"
     ]
    },
    {
     "name": "stderr",
     "output_type": "stream",
     "text": [
      "\r",
      "Analyzing Sentiment:  65%|███████████████████████████████████████▌                     | 61/94 [00:16<00:08,  3.77it/s]"
     ]
    },
    {
     "name": "stdout",
     "output_type": "stream",
     "text": [
      "grGOlQVJ.txt: -1 (score: 0.06266807019710541)\n",
      "Warning: Empty translation for gaEb3Az.txt\n"
     ]
    },
    {
     "name": "stderr",
     "output_type": "stream",
     "text": [
      "\r",
      "Analyzing Sentiment:  67%|████████████████████████████████████████▉                    | 63/94 [00:17<00:06,  4.53it/s]"
     ]
    },
    {
     "name": "stdout",
     "output_type": "stream",
     "text": [
      "g7wkZaA.txt: 0 (score: 0.42598068714141846)\n"
     ]
    },
    {
     "name": "stderr",
     "output_type": "stream",
     "text": [
      "\r",
      "Analyzing Sentiment:  68%|█████████████████████████████████████████▌                   | 64/94 [00:17<00:06,  4.47it/s]"
     ]
    },
    {
     "name": "stdout",
     "output_type": "stream",
     "text": [
      "grAkXq16.txt: 1 (score: 0.9314603209495544)\n"
     ]
    },
    {
     "name": "stderr",
     "output_type": "stream",
     "text": [
      "\r",
      "Analyzing Sentiment:  69%|██████████████████████████████████████████▏                  | 65/94 [00:17<00:07,  3.99it/s]"
     ]
    },
    {
     "name": "stdout",
     "output_type": "stream",
     "text": [
      "grOZzEqq.txt: 1 (score: 0.8887526392936707)\n"
     ]
    },
    {
     "name": "stderr",
     "output_type": "stream",
     "text": [
      "\r",
      "Analyzing Sentiment:  70%|██████████████████████████████████████████▊                  | 66/94 [00:18<00:07,  3.64it/s]"
     ]
    },
    {
     "name": "stdout",
     "output_type": "stream",
     "text": [
      "gaqa9k1.txt: 1 (score: 0.9387274980545044)\n"
     ]
    },
    {
     "name": "stderr",
     "output_type": "stream",
     "text": [
      "\r",
      "Analyzing Sentiment:  71%|███████████████████████████████████████████▍                 | 67/94 [00:18<00:07,  3.38it/s]"
     ]
    },
    {
     "name": "stdout",
     "output_type": "stream",
     "text": [
      "gB9npXe.txt: 1 (score: 0.6217039823532104)\n"
     ]
    },
    {
     "name": "stderr",
     "output_type": "stream",
     "text": [
      "\r",
      "Analyzing Sentiment:  72%|████████████████████████████████████████████▏                | 68/94 [00:18<00:08,  3.24it/s]"
     ]
    },
    {
     "name": "stdout",
     "output_type": "stream",
     "text": [
      "gPG3ylQ.txt: -1 (score: 0.18516851961612701)\n"
     ]
    },
    {
     "name": "stderr",
     "output_type": "stream",
     "text": [
      "\r",
      "Analyzing Sentiment:  73%|████████████████████████████████████████████▊                | 69/94 [00:18<00:07,  3.48it/s]"
     ]
    },
    {
     "name": "stdout",
     "output_type": "stream",
     "text": [
      "ggXegq7.txt: -1 (score: 0.021331526339054108)\n",
      "Warning: Empty translation for gX0r7KA.txt\n"
     ]
    },
    {
     "name": "stderr",
     "output_type": "stream",
     "text": [
      "\r",
      "Analyzing Sentiment:  76%|██████████████████████████████████████████████               | 71/94 [00:19<00:05,  4.35it/s]"
     ]
    },
    {
     "name": "stdout",
     "output_type": "stream",
     "text": [
      "gRGO767.txt: 1 (score: 0.9887181520462036)\n"
     ]
    },
    {
     "name": "stderr",
     "output_type": "stream",
     "text": [
      "\r",
      "Analyzing Sentiment:  77%|██████████████████████████████████████████████▋              | 72/94 [00:19<00:05,  3.89it/s]"
     ]
    },
    {
     "name": "stdout",
     "output_type": "stream",
     "text": [
      "grbBkkg6.txt: 1 (score: 0.9848006963729858)\n"
     ]
    },
    {
     "name": "stderr",
     "output_type": "stream",
     "text": [
      "\r",
      "Analyzing Sentiment:  78%|███████████████████████████████████████████████▎             | 73/94 [00:19<00:05,  4.01it/s]"
     ]
    },
    {
     "name": "stdout",
     "output_type": "stream",
     "text": [
      "grbzERrq.txt: -1 (score: 0.0015428485348820686)\n"
     ]
    },
    {
     "name": "stderr",
     "output_type": "stream",
     "text": [
      "\r",
      "Analyzing Sentiment:  79%|████████████████████████████████████████████████             | 74/94 [00:20<00:04,  4.17it/s]"
     ]
    },
    {
     "name": "stdout",
     "output_type": "stream",
     "text": [
      "gpxaZRz.txt: -1 (score: 0.07317464798688889)\n"
     ]
    },
    {
     "name": "stderr",
     "output_type": "stream",
     "text": [
      "\r",
      "Analyzing Sentiment:  80%|████████████████████████████████████████████████▋            | 75/94 [00:20<00:05,  3.72it/s]"
     ]
    },
    {
     "name": "stdout",
     "output_type": "stream",
     "text": [
      "ggpddWQ.txt: -1 (score: 0.011969249695539474)\n"
     ]
    },
    {
     "name": "stderr",
     "output_type": "stream",
     "text": [
      "\r",
      "Analyzing Sentiment:  81%|█████████████████████████████████████████████████▎           | 76/94 [00:20<00:04,  3.85it/s]"
     ]
    },
    {
     "name": "stdout",
     "output_type": "stream",
     "text": [
      "grO78lQ6.txt: -1 (score: 0.002128051361069083)\n",
      "Warning: Empty translation for grzy1x7z.txt\n"
     ]
    },
    {
     "name": "stderr",
     "output_type": "stream",
     "text": [
      "\r",
      "Analyzing Sentiment:  83%|██████████████████████████████████████████████████▌          | 78/94 [00:21<00:03,  4.57it/s]"
     ]
    },
    {
     "name": "stdout",
     "output_type": "stream",
     "text": [
      "g9BAqE1.txt: -1 (score: 0.0035152730997651815)\n"
     ]
    },
    {
     "name": "stderr",
     "output_type": "stream",
     "text": [
      "\r",
      "Analyzing Sentiment:  84%|███████████████████████████████████████████████████▎         | 79/94 [00:21<00:03,  4.06it/s]"
     ]
    },
    {
     "name": "stdout",
     "output_type": "stream",
     "text": [
      "g4gOjXz.txt: 1 (score: 0.9977647066116333)\n",
      "Warning: Empty translation for grGmOb7b.txt\n"
     ]
    },
    {
     "name": "stderr",
     "output_type": "stream",
     "text": [
      "Analyzing Sentiment:  87%|█████████████████████████████████████████████████████▏       | 82/94 [00:21<00:02,  4.63it/s]"
     ]
    },
    {
     "name": "stdout",
     "output_type": "stream",
     "text": [
      "gqlBBr7.txt: 1 (score: 0.9994792342185974)\n",
      "gJAy776.txt: -1 (score: 0.0047683110460639)\n"
     ]
    },
    {
     "name": "stderr",
     "output_type": "stream",
     "text": [
      "\r",
      "Analyzing Sentiment:  88%|█████████████████████████████████████████████████████▊       | 83/94 [00:22<00:02,  4.44it/s]"
     ]
    },
    {
     "name": "stdout",
     "output_type": "stream",
     "text": [
      "gxP03nJ.txt: -1 (score: 0.002467369195073843)\n"
     ]
    },
    {
     "name": "stderr",
     "output_type": "stream",
     "text": [
      "\r",
      "Analyzing Sentiment:  89%|██████████████████████████████████████████████████████▌      | 84/94 [00:22<00:02,  3.85it/s]"
     ]
    },
    {
     "name": "stdout",
     "output_type": "stream",
     "text": [
      "gr085r9e.txt: -1 (score: 0.01600657030940056)\n"
     ]
    },
    {
     "name": "stderr",
     "output_type": "stream",
     "text": [
      "\r",
      "Analyzing Sentiment:  90%|███████████████████████████████████████████████████████▏     | 85/94 [00:22<00:02,  3.51it/s]"
     ]
    },
    {
     "name": "stdout",
     "output_type": "stream",
     "text": [
      "gdlrwk1.txt: -1 (score: 0.016977064311504364)\n"
     ]
    },
    {
     "name": "stderr",
     "output_type": "stream",
     "text": [
      "\r",
      "Analyzing Sentiment:  91%|███████████████████████████████████████████████████████▊     | 86/94 [00:23<00:02,  3.34it/s]"
     ]
    },
    {
     "name": "stdout",
     "output_type": "stream",
     "text": [
      "gO4Aam1.txt: 1 (score: 0.9387274980545044)\n"
     ]
    },
    {
     "name": "stderr",
     "output_type": "stream",
     "text": [
      "\r",
      "Analyzing Sentiment:  93%|████████████████████████████████████████████████████████▍    | 87/94 [00:23<00:02,  3.25it/s]"
     ]
    },
    {
     "name": "stdout",
     "output_type": "stream",
     "text": [
      "gdzJWdJ.txt: -1 (score: 0.06521350890398026)\n"
     ]
    },
    {
     "name": "stderr",
     "output_type": "stream",
     "text": [
      "\r",
      "Analyzing Sentiment:  94%|█████████████████████████████████████████████████████████    | 88/94 [00:23<00:01,  3.11it/s]"
     ]
    },
    {
     "name": "stdout",
     "output_type": "stream",
     "text": [
      "ga0rNR6.txt: -1 (score: 0.05367857590317726)\n"
     ]
    },
    {
     "name": "stderr",
     "output_type": "stream",
     "text": [
      "\r",
      "Analyzing Sentiment:  95%|█████████████████████████████████████████████████████████▊   | 89/94 [00:24<00:01,  3.13it/s]"
     ]
    },
    {
     "name": "stdout",
     "output_type": "stream",
     "text": [
      "g4d1DZz.txt: 1 (score: 0.9863656759262085)\n"
     ]
    },
    {
     "name": "stderr",
     "output_type": "stream",
     "text": [
      "\r",
      "Analyzing Sentiment:  96%|██████████████████████████████████████████████████████████▍  | 90/94 [00:24<00:01,  3.22it/s]"
     ]
    },
    {
     "name": "stdout",
     "output_type": "stream",
     "text": [
      "grzgndVM.txt: 1 (score: 0.9668375253677368)\n",
      "Warning: Empty translation for g009wl1.txt\n",
      "Warning: Empty translation for g7JeMGM.txt\n",
      "Warning: Empty translation for gMblb4A.txt\n"
     ]
    },
    {
     "name": "stderr",
     "output_type": "stream",
     "text": [
      "Analyzing Sentiment: 100%|█████████████████████████████████████████████████████████████| 94/94 [00:24<00:00,  3.78it/s]\n"
     ]
    },
    {
     "name": "stdout",
     "output_type": "stream",
     "text": [
      "gjbdwdM.txt: -1 (score: 0.09616824239492416)\n",
      "Analyzing Folder: sharechat_scraper/updated_tesseract/Bengali/VO6Zjy_Bengali/\n"
     ]
    },
    {
     "name": "stderr",
     "output_type": "stream",
     "text": [
      "\r",
      "Analyzing Sentiment:   0%|                                                                     | 0/232 [00:00<?, ?it/s]"
     ]
    },
    {
     "name": "stdout",
     "output_type": "stream",
     "text": [
      "Warning: Empty translation for BXrDDRO.txt\n"
     ]
    },
    {
     "name": "stderr",
     "output_type": "stream",
     "text": [
      "\r",
      "Analyzing Sentiment:   1%|▌                                                            | 2/232 [00:00<00:38,  6.05it/s]"
     ]
    },
    {
     "name": "stdout",
     "output_type": "stream",
     "text": [
      "4wAzE7Va.txt: -1 (score: 0.20819999277591705)\n",
      "Warning: Empty translation for 4awRV8G.txt\n",
      "Warning: Empty translation for 93Zx4Knz.txt\n",
      "Warning: Empty translation for 4w1AxRDQ.txt\n"
     ]
    },
    {
     "name": "stderr",
     "output_type": "stream",
     "text": [
      "Analyzing Sentiment:   3%|██                                                           | 8/232 [00:00<00:21, 10.21it/s]"
     ]
    },
    {
     "name": "stdout",
     "output_type": "stream",
     "text": [
      "B6EX5wR.txt: 0 (score: 0.5178428292274475)\n",
      "Warning: Empty translation for 3kGr9Xy.txt\n",
      "g0ZDZdb.txt: -1 (score: 0.005968611687421799)\n"
     ]
    },
    {
     "name": "stderr",
     "output_type": "stream",
     "text": [
      "\r",
      "Analyzing Sentiment:   4%|██▌                                                         | 10/232 [00:01<00:26,  8.27it/s]"
     ]
    },
    {
     "name": "stdout",
     "output_type": "stream",
     "text": [
      "44NPlJQ.txt: 1 (score: 0.9941866397857666)\n",
      "Warning: Empty translation for 931RjDP4.txt\n"
     ]
    },
    {
     "name": "stderr",
     "output_type": "stream",
     "text": [
      "\r",
      "Analyzing Sentiment:   5%|██▊                                                         | 11/232 [00:01<00:36,  6.05it/s]"
     ]
    },
    {
     "name": "stdout",
     "output_type": "stream",
     "text": [
      "5JqNpAB.txt: -1 (score: 0.007919983007013798)\n"
     ]
    },
    {
     "name": "stderr",
     "output_type": "stream",
     "text": [
      "\r",
      "Analyzing Sentiment:   5%|███                                                         | 12/232 [00:01<00:44,  4.91it/s]"
     ]
    },
    {
     "name": "stdout",
     "output_type": "stream",
     "text": [
      "Br6rRrR.txt: 1 (score: 0.9333189129829407)\n",
      "Warning: Empty translation for 4Xy5lN7.txt\n",
      "Warning: Empty translation for 9vKr9z0.txt\n"
     ]
    },
    {
     "name": "stderr",
     "output_type": "stream",
     "text": [
      "\r",
      "Analyzing Sentiment:   6%|███▉                                                        | 15/232 [00:02<00:34,  6.22it/s]"
     ]
    },
    {
     "name": "stdout",
     "output_type": "stream",
     "text": [
      "40KB951.txt: 0 (score: 0.5178428292274475)\n",
      "Warning: Empty translation for 9QrgMl9.txt\n",
      "Warning: Empty translation for 9QnWaez.txt\n",
      "Warning: Empty translation for 9yPkgGM.txt\n"
     ]
    },
    {
     "name": "stderr",
     "output_type": "stream",
     "text": [
      "\r",
      "Analyzing Sentiment:   8%|████▉                                                       | 19/232 [00:02<00:26,  8.04it/s]"
     ]
    },
    {
     "name": "stdout",
     "output_type": "stream",
     "text": [
      "939naO39.txt: 1 (score: 0.996091902256012)\n",
      "Warning: Empty translation for 45JlRQ1.txt\n"
     ]
    },
    {
     "name": "stderr",
     "output_type": "stream",
     "text": [
      "Analyzing Sentiment:   9%|█████▋                                                      | 22/232 [00:03<00:30,  6.80it/s]"
     ]
    },
    {
     "name": "stdout",
     "output_type": "stream",
     "text": [
      "4BwX8a1.txt: 1 (score: 0.9909051656723022)\n",
      "gj69b86.txt: -1 (score: 0.0023578426335006952)\n"
     ]
    },
    {
     "name": "stderr",
     "output_type": "stream",
     "text": [
      "\r",
      "Analyzing Sentiment:  10%|█████▉                                                      | 23/232 [00:03<00:37,  5.58it/s]"
     ]
    },
    {
     "name": "stdout",
     "output_type": "stream",
     "text": [
      "4XRqMAG.txt: -1 (score: 0.06825370341539383)\n",
      "Warning: Empty translation for B0QAE0KJ.txt\n",
      "Warning: Empty translation for 1Jvr886.txt\n"
     ]
    },
    {
     "name": "stderr",
     "output_type": "stream",
     "text": [
      "\r",
      "Analyzing Sentiment:  11%|██████▋                                                     | 26/232 [00:03<00:30,  6.69it/s]"
     ]
    },
    {
     "name": "stdout",
     "output_type": "stream",
     "text": [
      "4Dx7NXB.txt: 0 (score: 0.44549354910850525)\n",
      "Warning: Empty translation for 9rmxe74.txt\n",
      "Warning: Empty translation for 4XGkqpG.txt\n",
      "Warning: Empty translation for 44EdNNG.txt\n"
     ]
    },
    {
     "name": "stderr",
     "output_type": "stream",
     "text": [
      "\r",
      "Analyzing Sentiment:  13%|███████▊                                                    | 30/232 [00:04<00:24,  8.37it/s]"
     ]
    },
    {
     "name": "stdout",
     "output_type": "stream",
     "text": [
      "4Ndedn8.txt: -1 (score: 0.002868748502805829)\n",
      "Warning: Empty translation for 4w70j9kv.txt\n",
      "Warning: Empty translation for 5aQ8BadK.txt\n"
     ]
    },
    {
     "name": "stderr",
     "output_type": "stream",
     "text": [
      "\r",
      "Analyzing Sentiment:  14%|████████▌                                                   | 33/232 [00:04<00:22,  8.76it/s]"
     ]
    },
    {
     "name": "stdout",
     "output_type": "stream",
     "text": [
      "9ZE77QM.txt: -1 (score: 0.0065008350647985935)\n"
     ]
    },
    {
     "name": "stderr",
     "output_type": "stream",
     "text": [
      "\r",
      "Analyzing Sentiment:  15%|████████▊                                                   | 34/232 [00:04<00:29,  6.79it/s]"
     ]
    },
    {
     "name": "stdout",
     "output_type": "stream",
     "text": [
      "Ny9J6mAp.txt: -1 (score: 0.0015235570026561618)\n",
      "Warning: Empty translation for 9Xk4vjM.txt\n",
      "Warning: Empty translation for B47E8xV.txt\n",
      "Warning: Empty translation for 4WPRrbG.txt\n",
      "Warning: Empty translation for JqEqa6Z.txt\n"
     ]
    },
    {
     "name": "stderr",
     "output_type": "stream",
     "text": [
      "\r",
      "Analyzing Sentiment:  17%|██████████                                                  | 39/232 [00:05<00:21,  9.10it/s]"
     ]
    },
    {
     "name": "stdout",
     "output_type": "stream",
     "text": [
      "5KaeRAJ.txt: -1 (score: 0.009072205983102322)\n"
     ]
    },
    {
     "name": "stderr",
     "output_type": "stream",
     "text": [
      "\r",
      "Analyzing Sentiment:  17%|██████████▎                                                 | 40/232 [00:05<00:26,  7.30it/s]"
     ]
    },
    {
     "name": "stdout",
     "output_type": "stream",
     "text": [
      "9e5ZPwQ.txt: 1 (score: 0.7011464238166809)\n",
      "Warning: Empty translation for 4wR8MWW7.txt\n"
     ]
    },
    {
     "name": "stderr",
     "output_type": "stream",
     "text": [
      "\r",
      "Analyzing Sentiment:  18%|██████████▊                                                 | 42/232 [00:05<00:27,  6.91it/s]"
     ]
    },
    {
     "name": "stdout",
     "output_type": "stream",
     "text": [
      "4Djbrd1.txt: -1 (score: 0.005709636025130749)\n",
      "Warning: Empty translation for BPPva1O.txt\n",
      "Warning: Empty translation for 4BmzmBG.txt\n"
     ]
    },
    {
     "name": "stderr",
     "output_type": "stream",
     "text": [
      "\r",
      "Analyzing Sentiment:  19%|███████████▋                                                | 45/232 [00:06<00:25,  7.41it/s]"
     ]
    },
    {
     "name": "stdout",
     "output_type": "stream",
     "text": [
      "4wqxpXxa.txt: 1 (score: 0.9833534955978394)\n",
      "Warning: Empty translation for 4Nxkx5V.txt\n",
      "Warning: Empty translation for 4VQe4B3.txt\n"
     ]
    },
    {
     "name": "stderr",
     "output_type": "stream",
     "text": [
      "\r",
      "Analyzing Sentiment:  21%|████████████▍                                               | 48/232 [00:06<00:23,  7.77it/s]"
     ]
    },
    {
     "name": "stdout",
     "output_type": "stream",
     "text": [
      "4w8An7VB.txt: -1 (score: 0.005503823980689049)\n",
      "Warning: Empty translation for dJXnRnb.txt\n",
      "Warning: Empty translation for 93Zp9a5X.txt\n",
      "Warning: Empty translation for 46PBbJD.txt\n"
     ]
    },
    {
     "name": "stderr",
     "output_type": "stream",
     "text": [
      "\r",
      "Analyzing Sentiment:  22%|█████████████▍                                              | 52/232 [00:06<00:20,  8.85it/s]"
     ]
    },
    {
     "name": "stdout",
     "output_type": "stream",
     "text": [
      "5aqElxEN.txt: -1 (score: 0.034310974180698395)\n"
     ]
    },
    {
     "name": "stderr",
     "output_type": "stream",
     "text": [
      "\r",
      "Analyzing Sentiment:  23%|█████████████▋                                              | 53/232 [00:07<00:25,  7.02it/s]"
     ]
    },
    {
     "name": "stdout",
     "output_type": "stream",
     "text": [
      "grzVG0mq.txt: -1 (score: 0.11912452429533005)\n",
      "Warning: Empty translation for 5xkbJ7K.txt\n",
      "Warning: Empty translation for 4pqz1K8.txt\n",
      "Warning: Empty translation for 98yw990.txt\n"
     ]
    },
    {
     "name": "stderr",
     "output_type": "stream",
     "text": [
      "\r",
      "Analyzing Sentiment:  25%|██████████████▋                                             | 57/232 [00:07<00:21,  8.25it/s]"
     ]
    },
    {
     "name": "stdout",
     "output_type": "stream",
     "text": [
      "4DW1b3v.txt: -1 (score: 0.002797055523842573)\n",
      "Warning: Empty translation for BmbyQde.txt\n",
      "Warning: Empty translation for 9KWvgM9.txt\n"
     ]
    },
    {
     "name": "stderr",
     "output_type": "stream",
     "text": [
      "\r",
      "Analyzing Sentiment:  26%|███████████████▌                                            | 60/232 [00:07<00:21,  8.10it/s]"
     ]
    },
    {
     "name": "stdout",
     "output_type": "stream",
     "text": [
      "4kGm6r7.txt: 1 (score: 0.9996334314346313)\n",
      "Warning: Empty translation for 4w8zR01a.txt\n",
      "Warning: Empty translation for 9g06MX0.txt\n",
      "Warning: Empty translation for JJW7aMV.txt\n"
     ]
    },
    {
     "name": "stderr",
     "output_type": "stream",
     "text": [
      "\r",
      "Analyzing Sentiment:  28%|████████████████▌                                           | 64/232 [00:08<00:16, 10.19it/s]"
     ]
    },
    {
     "name": "stdout",
     "output_type": "stream",
     "text": [
      "46w9aja.txt: -1 (score: 0.0026594740338623524)\n",
      "Warning: Empty translation for B4PnOnM.txt\n"
     ]
    },
    {
     "name": "stderr",
     "output_type": "stream",
     "text": [
      "\r",
      "Analyzing Sentiment:  28%|█████████████████                                           | 66/232 [00:08<00:19,  8.61it/s]"
     ]
    },
    {
     "name": "stdout",
     "output_type": "stream",
     "text": [
      "9Jd4KeX.txt: -1 (score: 0.01856299489736557)\n",
      "Warning: Empty translation for 4wqJAgZ8.txt\n"
     ]
    },
    {
     "name": "stderr",
     "output_type": "stream",
     "text": [
      "\r",
      "Analyzing Sentiment:  29%|█████████████████▌                                          | 68/232 [00:08<00:21,  7.79it/s]"
     ]
    },
    {
     "name": "stdout",
     "output_type": "stream",
     "text": [
      "9xQrv1N.txt: 1 (score: 0.992360532283783)\n",
      "Warning: Empty translation for 46k9WX1.txt\n",
      "Warning: Empty translation for 44PREla.txt\n",
      "Warning: Empty translation for 9QXE5wv.txt\n"
     ]
    },
    {
     "name": "stderr",
     "output_type": "stream",
     "text": [
      "\r",
      "Analyzing Sentiment:  31%|██████████████████▌                                         | 72/232 [00:09<00:17,  8.91it/s]"
     ]
    },
    {
     "name": "stdout",
     "output_type": "stream",
     "text": [
      "4byd4V1.txt: -1 (score: 0.024812912568449974)\n",
      "Warning: Empty translation for 4wzOmNQ1.txt\n",
      "Warning: Empty translation for 4zPDQZD.txt\n"
     ]
    },
    {
     "name": "stderr",
     "output_type": "stream",
     "text": [
      "\r",
      "Analyzing Sentiment:  32%|███████████████████▍                                        | 75/232 [00:09<00:18,  8.71it/s]"
     ]
    },
    {
     "name": "stdout",
     "output_type": "stream",
     "text": [
      "9b7Om4X.txt: 1 (score: 0.9939098358154297)\n",
      "Warning: Empty translation for 93w9r9DQ.txt\n"
     ]
    },
    {
     "name": "stderr",
     "output_type": "stream",
     "text": [
      "\r",
      "Analyzing Sentiment:  33%|███████████████████▉                                        | 77/232 [00:09<00:19,  7.91it/s]"
     ]
    },
    {
     "name": "stdout",
     "output_type": "stream",
     "text": [
      "939mJB1a.txt: -1 (score: 0.020810455083847046)\n",
      "Warning: Empty translation for 4wAKKVeD.txt\n"
     ]
    },
    {
     "name": "stderr",
     "output_type": "stream",
     "text": [
      "\r",
      "Analyzing Sentiment:  34%|████████████████████▍                                       | 79/232 [00:10<00:21,  7.09it/s]"
     ]
    },
    {
     "name": "stdout",
     "output_type": "stream",
     "text": [
      "4zKgqA1.txt: -1 (score: 0.11381123214960098)\n",
      "Warning: Empty translation for 9bmAp4v.txt\n",
      "Warning: Empty translation for 9v44bR0.txt\n"
     ]
    },
    {
     "name": "stderr",
     "output_type": "stream",
     "text": [
      "\r",
      "Analyzing Sentiment:  35%|█████████████████████▏                                      | 82/232 [00:10<00:17,  8.40it/s]"
     ]
    },
    {
     "name": "stdout",
     "output_type": "stream",
     "text": [
      "gJQBeA7.txt: -1 (score: 0.003262260463088751)\n",
      "Warning: Empty translation for B3xBjdO.txt\n"
     ]
    },
    {
     "name": "stderr",
     "output_type": "stream",
     "text": [
      "\r",
      "Analyzing Sentiment:  36%|█████████████████████▋                                      | 84/232 [00:10<00:19,  7.51it/s]"
     ]
    },
    {
     "name": "stdout",
     "output_type": "stream",
     "text": [
      "9v05lj0.txt: 1 (score: 0.9981718063354492)\n"
     ]
    },
    {
     "name": "stderr",
     "output_type": "stream",
     "text": [
      "\r",
      "Analyzing Sentiment:  37%|█████████████████████▉                                      | 85/232 [00:11<00:24,  6.08it/s]"
     ]
    },
    {
     "name": "stdout",
     "output_type": "stream",
     "text": [
      "4wz6Pav7.txt: -1 (score: 0.008842932060360909)\n",
      "Warning: Empty translation for 4kjEbZ7.txt\n"
     ]
    },
    {
     "name": "stderr",
     "output_type": "stream",
     "text": [
      "\r",
      "Analyzing Sentiment:  38%|██████████████████████▌                                     | 87/232 [00:11<00:25,  5.79it/s]"
     ]
    },
    {
     "name": "stdout",
     "output_type": "stream",
     "text": [
      "4w8KX7Q8.txt: -1 (score: 0.004179274197667837)\n",
      "Warning: Empty translation for NyZmXGOD.txt\n",
      "Warning: Empty translation for 5JEEVVM.txt\n",
      "Warning: Empty translation for 98pzjpy.txt\n"
     ]
    },
    {
     "name": "stderr",
     "output_type": "stream",
     "text": [
      "\r",
      "Analyzing Sentiment:  39%|███████████████████████▌                                    | 91/232 [00:11<00:18,  7.60it/s]"
     ]
    },
    {
     "name": "stdout",
     "output_type": "stream",
     "text": [
      "4VDB06Q.txt: -1 (score: 0.009492569603025913)\n",
      "Warning: Empty translation for B9kGpJN.txt\n"
     ]
    },
    {
     "name": "stderr",
     "output_type": "stream",
     "text": [
      "\r",
      "Analyzing Sentiment:  40%|████████████████████████                                    | 93/232 [00:12<00:17,  7.87it/s]"
     ]
    },
    {
     "name": "stdout",
     "output_type": "stream",
     "text": [
      "9b8vnJz.txt: 1 (score: 0.9747715592384338)\n",
      "Warning: Empty translation for 5rl1kkk.txt\n",
      "Warning: Empty translation for AbPzeAJW.txt\n"
     ]
    },
    {
     "name": "stderr",
     "output_type": "stream",
     "text": [
      "\r",
      "Analyzing Sentiment:  41%|████████████████████████▊                                   | 96/232 [00:12<00:16,  8.33it/s]"
     ]
    },
    {
     "name": "stdout",
     "output_type": "stream",
     "text": [
      "93GmaK0a.txt: 1 (score: 0.9891374707221985)\n",
      "Warning: Empty translation for 4Bnkz33.txt\n",
      "Warning: Empty translation for 9vappNz.txt\n",
      "Warning: Empty translation for 9Krb88X.txt\n"
     ]
    },
    {
     "name": "stderr",
     "output_type": "stream",
     "text": [
      "\r",
      "Analyzing Sentiment:  43%|█████████████████████████▍                                 | 100/232 [00:12<00:14,  9.15it/s]"
     ]
    },
    {
     "name": "stdout",
     "output_type": "stream",
     "text": [
      "grGnk356.txt: -1 (score: 0.0789683610200882)\n"
     ]
    },
    {
     "name": "stderr",
     "output_type": "stream",
     "text": [
      "\r",
      "Analyzing Sentiment:  44%|█████████████████████████▋                                 | 101/232 [00:13<00:18,  7.12it/s]"
     ]
    },
    {
     "name": "stdout",
     "output_type": "stream",
     "text": [
      "4ByPNy8.txt: 1 (score: 0.9748238921165466)\n",
      "Warning: Empty translation for 4w7bWxP1.txt\n"
     ]
    },
    {
     "name": "stderr",
     "output_type": "stream",
     "text": [
      "\r",
      "Analyzing Sentiment:  44%|██████████████████████████▏                                | 103/232 [00:13<00:18,  6.88it/s]"
     ]
    },
    {
     "name": "stdout",
     "output_type": "stream",
     "text": [
      "grenGOJ6.txt: 0 (score: 0.33682048320770264)\n",
      "Warning: Empty translation for 4wqAQvAv.txt\n",
      "Warning: Empty translation for BPlepwd.txt\n",
      "Warning: Empty translation for 93GqZgN4.txt\n",
      "Warning: Empty translation for 44VWP8Q.txt\n",
      "Warning: Empty translation for 4Ov9M6D.txt\n",
      "Warning: Empty translation for 4NwElQ7.txt\n",
      "Warning: Empty translation for ma7zkJ1.txt\n",
      "Warning: Empty translation for 4w1x94lQ.txt\n",
      "Warning: Empty translation for 5Ra46Ak.txt\n",
      "Warning: Empty translation for 9bRqGkN.txt\n"
     ]
    },
    {
     "name": "stderr",
     "output_type": "stream",
     "text": [
      "\r",
      "Analyzing Sentiment:  49%|████████████████████████████▉                              | 114/232 [00:13<00:08, 14.08it/s]"
     ]
    },
    {
     "name": "stdout",
     "output_type": "stream",
     "text": [
      "dM0wPgD.txt: -1 (score: 0.0011405172990635037)\n",
      "Warning: Empty translation for 9XjkMGv.txt\n",
      "Warning: Empty translation for BdmnPOR.txt\n"
     ]
    },
    {
     "name": "stderr",
     "output_type": "stream",
     "text": [
      "\r",
      "Analyzing Sentiment:  50%|█████████████████████████████▊                             | 117/232 [00:14<00:09, 12.42it/s]"
     ]
    },
    {
     "name": "stdout",
     "output_type": "stream",
     "text": [
      "4zG4Dqa.txt: 1 (score: 0.9923344254493713)\n",
      "Warning: Empty translation for JERdqPm.txt\n",
      "Warning: Empty translation for JZ4MMwX6.txt\n",
      "Warning: Empty translation for GkvNgr5.txt\n"
     ]
    },
    {
     "name": "stderr",
     "output_type": "stream",
     "text": [
      "\r",
      "Analyzing Sentiment:  52%|██████████████████████████████▊                            | 121/232 [00:14<00:09, 12.13it/s]"
     ]
    },
    {
     "name": "stdout",
     "output_type": "stream",
     "text": [
      "4wNdmNl3.txt: -1 (score: 0.20819999277591705)\n",
      "Warning: Empty translation for 4wReJvQ3.txt\n"
     ]
    },
    {
     "name": "stderr",
     "output_type": "stream",
     "text": [
      "\r",
      "Analyzing Sentiment:  53%|███████████████████████████████▎                           | 123/232 [00:14<00:10, 10.06it/s]"
     ]
    },
    {
     "name": "stdout",
     "output_type": "stream",
     "text": [
      "9VblBKy.txt: 0 (score: 0.5624455213546753)\n",
      "Warning: Empty translation for 978W0jX.txt\n",
      "Warning: Empty translation for 4wZd1n71.txt\n",
      "Warning: Empty translation for wKV3GnwX.txt\n"
     ]
    },
    {
     "name": "stderr",
     "output_type": "stream",
     "text": [
      "\r",
      "Analyzing Sentiment:  55%|████████████████████████████████▎                          | 127/232 [00:15<00:09, 10.58it/s]"
     ]
    },
    {
     "name": "stdout",
     "output_type": "stream",
     "text": [
      "97Nyw4a.txt: 1 (score: 0.9995723366737366)\n"
     ]
    },
    {
     "name": "stderr",
     "output_type": "stream",
     "text": [
      "\r",
      "Analyzing Sentiment:  56%|████████████████████████████████▊                          | 129/232 [00:15<00:11,  9.01it/s]"
     ]
    },
    {
     "name": "stdout",
     "output_type": "stream",
     "text": [
      "93DnJzWN.txt: -1 (score: 0.0397225059568882)\n",
      "Warning: Empty translation for BneWwNd.txt\n",
      "Warning: Empty translation for 9Xpmvm9.txt\n",
      "Warning: Empty translation for 4Oj1a88.txt\n"
     ]
    },
    {
     "name": "stderr",
     "output_type": "stream",
     "text": [
      "\r",
      "Analyzing Sentiment:  57%|█████████████████████████████████▌                         | 132/232 [00:16<00:11,  8.78it/s]"
     ]
    },
    {
     "name": "stdout",
     "output_type": "stream",
     "text": [
      "97jgPka.txt: 1 (score: 0.9511094093322754)\n",
      "Warning: Empty translation for 4wRplPZD.txt\n"
     ]
    },
    {
     "name": "stderr",
     "output_type": "stream",
     "text": [
      "\r",
      "Analyzing Sentiment:  58%|██████████████████████████████████                         | 134/232 [00:16<00:12,  8.00it/s]"
     ]
    },
    {
     "name": "stdout",
     "output_type": "stream",
     "text": [
      "4xMeB3v.txt: -1 (score: 0.0024033822119235992)\n",
      "Warning: Empty translation for 44pRkKG.txt\n",
      "Warning: Empty translation for 4D59bgG.txt\n",
      "Warning: Empty translation for 4w7NzJjD.txt\n"
     ]
    },
    {
     "name": "stderr",
     "output_type": "stream",
     "text": [
      "\r",
      "Analyzing Sentiment:  59%|███████████████████████████████████                        | 138/232 [00:16<00:09,  9.58it/s]"
     ]
    },
    {
     "name": "stdout",
     "output_type": "stream",
     "text": [
      "4aJxJjG.txt: -1 (score: 0.013550346717238426)\n",
      "Warning: Empty translation for 44rG6yB.txt\n",
      "Warning: Empty translation for BMeEDNN.txt\n",
      "Warning: Empty translation for 4wz1W7bD.txt\n",
      "Warning: Empty translation for 9O3xWey.txt\n",
      "Warning: Empty translation for 4Wxnwk3.txt\n",
      "Warning: Empty translation for 9Nn3lk9.txt\n"
     ]
    },
    {
     "name": "stderr",
     "output_type": "stream",
     "text": [
      "\r",
      "Analyzing Sentiment:  62%|████████████████████████████████████▉                      | 145/232 [00:17<00:07, 12.27it/s]"
     ]
    },
    {
     "name": "stdout",
     "output_type": "stream",
     "text": [
      "4B1RjlV.txt: 1 (score: 0.9930310845375061)\n",
      "Warning: Empty translation for 4wqwn68G.txt\n"
     ]
    },
    {
     "name": "stderr",
     "output_type": "stream",
     "text": [
      "\r",
      "Analyzing Sentiment:  63%|█████████████████████████████████████▍                     | 147/232 [00:17<00:08, 10.44it/s]"
     ]
    },
    {
     "name": "stdout",
     "output_type": "stream",
     "text": [
      "GJG0njb.txt: -1 (score: 0.010540478862822056)\n"
     ]
    },
    {
     "name": "stderr",
     "output_type": "stream",
     "text": [
      "\r",
      "Analyzing Sentiment:  64%|█████████████████████████████████████▉                     | 149/232 [00:17<00:09,  8.98it/s]"
     ]
    },
    {
     "name": "stdout",
     "output_type": "stream",
     "text": [
      "gXBJxAQ.txt: 1 (score: 0.9929755926132202)\n",
      "Warning: Empty translation for 4OV3mwG.txt\n",
      "Warning: Empty translation for 9xPW1Rz.txt\n",
      "Warning: Empty translation for wMPvb9P.txt\n",
      "Warning: Empty translation for 4wAKwMw3.txt\n",
      "Warning: Empty translation for B0JRa9pO.txt\n"
     ]
    },
    {
     "name": "stderr",
     "output_type": "stream",
     "text": [
      "\r",
      "Analyzing Sentiment:  66%|███████████████████████████████████████▏                   | 154/232 [00:18<00:07, 10.61it/s]"
     ]
    },
    {
     "name": "stdout",
     "output_type": "stream",
     "text": [
      "9eQ0VE4.txt: 1 (score: 0.9845512509346008)\n",
      "Warning: Empty translation for 939pd3nX.txt\n",
      "Warning: Empty translation for 4B1KnlB.txt\n",
      "Warning: Empty translation for 93m7lwr9.txt\n",
      "Warning: Empty translation for 4benpRQ.txt\n"
     ]
    },
    {
     "name": "stderr",
     "output_type": "stream",
     "text": [
      "\r",
      "Analyzing Sentiment:  69%|████████████████████████████████████████▍                  | 159/232 [00:18<00:06, 11.61it/s]"
     ]
    },
    {
     "name": "stdout",
     "output_type": "stream",
     "text": [
      "4wGeK8N1.txt: 0 (score: 0.30294403433799744)\n",
      "Warning: Empty translation for 4bzjbKB.txt\n",
      "Warning: Empty translation for 4V1bERv.txt\n"
     ]
    },
    {
     "name": "stderr",
     "output_type": "stream",
     "text": [
      "\r",
      "Analyzing Sentiment:  70%|█████████████████████████████████████████▏                 | 162/232 [00:18<00:06, 10.91it/s]"
     ]
    },
    {
     "name": "stdout",
     "output_type": "stream",
     "text": [
      "9e3DxEv.txt: -1 (score: 0.0010860974434763193)\n",
      "4NXeElG.txt: -1 (score: 0.09171466529369354)\n"
     ]
    },
    {
     "name": "stderr",
     "output_type": "stream",
     "text": [
      "\r",
      "Analyzing Sentiment:  71%|█████████████████████████████████████████▋                 | 164/232 [00:19<00:09,  7.24it/s]"
     ]
    },
    {
     "name": "stdout",
     "output_type": "stream",
     "text": [
      "4prxZ6B.txt: 1 (score: 0.9926919341087341)\n"
     ]
    },
    {
     "name": "stderr",
     "output_type": "stream",
     "text": [
      "\r",
      "Analyzing Sentiment:  71%|█████████████████████████████████████████▉                 | 165/232 [00:19<00:11,  6.03it/s]"
     ]
    },
    {
     "name": "stdout",
     "output_type": "stream",
     "text": [
      "4zDX6nv.txt: -1 (score: 0.18041010200977325)\n"
     ]
    },
    {
     "name": "stderr",
     "output_type": "stream",
     "text": [
      "\r",
      "Analyzing Sentiment:  72%|██████████████████████████████████████████▏                | 166/232 [00:20<00:12,  5.18it/s]"
     ]
    },
    {
     "name": "stdout",
     "output_type": "stream",
     "text": [
      "44Ad8yQ.txt: -1 (score: 0.011097579263150692)\n",
      "Warning: Empty translation for 4w8AQ8av.txt\n",
      "Warning: Empty translation for 4zebe0Q.txt\n",
      "Warning: Empty translation for 4pPvbRB.txt\n",
      "Warning: Empty translation for 4DDjxDa.txt\n",
      "Warning: Empty translation for 4wZ30Wq3.txt\n"
     ]
    },
    {
     "name": "stderr",
     "output_type": "stream",
     "text": [
      "\r",
      "Analyzing Sentiment:  74%|███████████████████████████████████████████▋               | 172/232 [00:20<00:07,  8.40it/s]"
     ]
    },
    {
     "name": "stdout",
     "output_type": "stream",
     "text": [
      "9bXyZQ9.txt: 1 (score: 0.9991204142570496)\n",
      "Warning: Empty translation for 97Mvl3y.txt\n",
      "Warning: Empty translation for 93ZNNGnN.txt\n",
      "Warning: Empty translation for 4mOBBm8.txt\n",
      "Warning: Empty translation for N4B9q6E.txt\n",
      "Warning: Empty translation for 98WRyDa.txt\n"
     ]
    },
    {
     "name": "stderr",
     "output_type": "stream",
     "text": [
      "\r",
      "Analyzing Sentiment:  77%|█████████████████████████████████████████████▎             | 178/232 [00:20<00:05, 10.76it/s]"
     ]
    },
    {
     "name": "stdout",
     "output_type": "stream",
     "text": [
      "93mGxdnX.txt: 1 (score: 0.8832859396934509)\n",
      "Warning: Empty translation for KdZkbEJ.txt\n",
      "Warning: Empty translation for 4wGekmj8.txt\n",
      "Warning: Empty translation for 93mbeqna.txt\n"
     ]
    },
    {
     "name": "stderr",
     "output_type": "stream",
     "text": [
      "\r",
      "Analyzing Sentiment:  78%|██████████████████████████████████████████████▎            | 182/232 [00:21<00:04, 10.73it/s]"
     ]
    },
    {
     "name": "stdout",
     "output_type": "stream",
     "text": [
      "4NGNAa1.txt: -1 (score: 0.010857452638447285)\n",
      "Warning: Empty translation for 4apOqeV.txt\n",
      "Warning: Empty translation for AJQKZjW.txt\n",
      "Warning: Empty translation for 4wl1RlpV.txt\n",
      "Warning: Empty translation for JOP6RrZ.txt\n",
      "Warning: Empty translation for BOmRwaM.txt\n",
      "Warning: Empty translation for 93DzVdry.txt\n",
      "Warning: Empty translation for 4w74ejKa.txt\n"
     ]
    },
    {
     "name": "stderr",
     "output_type": "stream",
     "text": [
      "\r",
      "Analyzing Sentiment:  82%|████████████████████████████████████████████████▎          | 190/232 [00:21<00:02, 14.61it/s]"
     ]
    },
    {
     "name": "stdout",
     "output_type": "stream",
     "text": [
      "g4vbMDe.txt: -1 (score: 0.007696361280977726)\n"
     ]
    },
    {
     "name": "stderr",
     "output_type": "stream",
     "text": [
      "\r",
      "Analyzing Sentiment:  83%|████████████████████████████████████████████████▊          | 192/232 [00:22<00:03, 11.47it/s]"
     ]
    },
    {
     "name": "stdout",
     "output_type": "stream",
     "text": [
      "5aNqpgyp.txt: 1 (score: 0.9935258626937866)\n",
      "Warning: Empty translation for 4VVd1w1.txt\n"
     ]
    },
    {
     "name": "stderr",
     "output_type": "stream",
     "text": [
      "\r",
      "Analyzing Sentiment:  84%|█████████████████████████████████████████████████▎         | 194/232 [00:22<00:03,  9.86it/s]"
     ]
    },
    {
     "name": "stdout",
     "output_type": "stream",
     "text": [
      "9ZeaxMQ.txt: 1 (score: 0.954016923904419)\n",
      "Warning: Empty translation for B0DzWJnJ.txt\n"
     ]
    },
    {
     "name": "stderr",
     "output_type": "stream",
     "text": [
      "\r",
      "Analyzing Sentiment:  84%|█████████████████████████████████████████████████▊         | 196/232 [00:22<00:04,  8.91it/s]"
     ]
    },
    {
     "name": "stdout",
     "output_type": "stream",
     "text": [
      "9ylggRv.txt: -1 (score: 0.03477119281888008)\n",
      "Warning: Empty translation for 4BlrzD8.txt\n"
     ]
    },
    {
     "name": "stderr",
     "output_type": "stream",
     "text": [
      "\r",
      "Analyzing Sentiment:  85%|██████████████████████████████████████████████████         | 197/232 [00:23<00:05,  6.94it/s]"
     ]
    },
    {
     "name": "stdout",
     "output_type": "stream",
     "text": [
      "5aN79vW7.txt: -1 (score: 0.004110115114599466)\n",
      "Warning: Empty translation for 4jB9WVV.txt\n"
     ]
    },
    {
     "name": "stderr",
     "output_type": "stream",
     "text": [
      "\r",
      "Analyzing Sentiment:  86%|██████████████████████████████████████████████████▌        | 199/232 [00:23<00:04,  7.09it/s]"
     ]
    },
    {
     "name": "stdout",
     "output_type": "stream",
     "text": [
      "gjwdxmJ.txt: -1 (score: 0.010462419129908085)\n"
     ]
    },
    {
     "name": "stderr",
     "output_type": "stream",
     "text": [
      "\r",
      "Analyzing Sentiment:  86%|██████████████████████████████████████████████████▊        | 200/232 [00:23<00:05,  5.63it/s]"
     ]
    },
    {
     "name": "stdout",
     "output_type": "stream",
     "text": [
      "4wwX5gVQ.txt: -1 (score: 0.01867331936955452)\n",
      "Warning: Empty translation for 9gNP0Jz.txt\n",
      "Warning: Empty translation for 9X3rrRv.txt\n"
     ]
    },
    {
     "name": "stderr",
     "output_type": "stream",
     "text": [
      "\r",
      "Analyzing Sentiment:  88%|███████████████████████████████████████████████████▋       | 203/232 [00:23<00:04,  6.75it/s]"
     ]
    },
    {
     "name": "stdout",
     "output_type": "stream",
     "text": [
      "gmNXAVb.txt: 1 (score: 0.9555401802062988)\n"
     ]
    },
    {
     "name": "stderr",
     "output_type": "stream",
     "text": [
      "\r",
      "Analyzing Sentiment:  88%|███████████████████████████████████████████████████▉       | 204/232 [00:24<00:05,  5.57it/s]"
     ]
    },
    {
     "name": "stdout",
     "output_type": "stream",
     "text": [
      "40vQeqD.txt: 1 (score: 0.7839849591255188)\n",
      "Warning: Empty translation for 9gDGXn4.txt\n",
      "Warning: Empty translation for 4BjVe3D.txt\n"
     ]
    },
    {
     "name": "stderr",
     "output_type": "stream",
     "text": [
      "\r",
      "Analyzing Sentiment:  89%|████████████████████████████████████████████████████▋      | 207/232 [00:24<00:03,  6.53it/s]"
     ]
    },
    {
     "name": "stdout",
     "output_type": "stream",
     "text": [
      "93mq6KV9.txt: 1 (score: 0.9843777418136597)\n",
      "Warning: Empty translation for B0R1z80d.txt\n"
     ]
    },
    {
     "name": "stderr",
     "output_type": "stream",
     "text": [
      "\r",
      "Analyzing Sentiment:  90%|█████████████████████████████████████████████████████▏     | 209/232 [00:24<00:03,  6.58it/s]"
     ]
    },
    {
     "name": "stdout",
     "output_type": "stream",
     "text": [
      "KyEROR3g.txt: 1 (score: 0.9801857471466064)\n",
      "Warning: Empty translation for 98QXjEz.txt\n"
     ]
    },
    {
     "name": "stderr",
     "output_type": "stream",
     "text": [
      "\r",
      "Analyzing Sentiment:  91%|█████████████████████████████████████████████████████▋     | 211/232 [00:25<00:03,  6.43it/s]"
     ]
    },
    {
     "name": "stdout",
     "output_type": "stream",
     "text": [
      "4wlxg1QB.txt: -1 (score: 0.0020253402180969715)\n"
     ]
    },
    {
     "name": "stderr",
     "output_type": "stream",
     "text": [
      "\r",
      "Analyzing Sentiment:  91%|█████████████████████████████████████████████████████▉     | 212/232 [00:25<00:03,  5.32it/s]"
     ]
    },
    {
     "name": "stdout",
     "output_type": "stream",
     "text": [
      "By48GBV.txt: -1 (score: 0.0013366948114708066)\n",
      "Warning: Empty translation for daz0568.txt\n"
     ]
    },
    {
     "name": "stderr",
     "output_type": "stream",
     "text": [
      "\r",
      "Analyzing Sentiment:  92%|██████████████████████████████████████████████████████▍    | 214/232 [00:25<00:03,  5.88it/s]"
     ]
    },
    {
     "name": "stdout",
     "output_type": "stream",
     "text": [
      "g9lKlZe.txt: -1 (score: 0.0013448853278532624)\n"
     ]
    },
    {
     "name": "stderr",
     "output_type": "stream",
     "text": [
      "\r",
      "Analyzing Sentiment:  93%|██████████████████████████████████████████████████████▋    | 215/232 [00:26<00:03,  5.23it/s]"
     ]
    },
    {
     "name": "stdout",
     "output_type": "stream",
     "text": [
      "93meaWrX.txt: -1 (score: 0.02383556216955185)\n"
     ]
    },
    {
     "name": "stderr",
     "output_type": "stream",
     "text": [
      "\r",
      "Analyzing Sentiment:  93%|██████████████████████████████████████████████████████▉    | 216/232 [00:26<00:03,  4.99it/s]"
     ]
    },
    {
     "name": "stdout",
     "output_type": "stream",
     "text": [
      "gDzyPAA.txt: -1 (score: 0.048575691878795624)\n",
      "Warning: Empty translation for 4wAEDGX7.txt\n",
      "Warning: Empty translation for Nyym9agD.txt\n",
      "Warning: Empty translation for 4zQJW08.txt\n"
     ]
    },
    {
     "name": "stderr",
     "output_type": "stream",
     "text": [
      "\r",
      "Analyzing Sentiment:  95%|███████████████████████████████████████████████████████▉   | 220/232 [00:26<00:01,  7.48it/s]"
     ]
    },
    {
     "name": "stdout",
     "output_type": "stream",
     "text": [
      "93wkN0DM.txt: 0 (score: 0.30294403433799744)\n",
      "Warning: Empty translation for 9l9Mary.txt\n",
      "Warning: Empty translation for BBqXV4w.txt\n",
      "Warning: Empty translation for 9d8E0GX.txt\n",
      "Warning: Empty translation for 98GOde0.txt\n",
      "Warning: Empty translation for 4wl7d9ya.txt\n",
      "Warning: Empty translation for 4wl37P68.txt\n",
      "Warning: Empty translation for 4ww8nrMB.txt\n"
     ]
    },
    {
     "name": "stderr",
     "output_type": "stream",
     "text": [
      "Analyzing Sentiment: 100%|███████████████████████████████████████████████████████████| 232/232 [00:27<00:00,  8.58it/s]\n"
     ]
    },
    {
     "name": "stdout",
     "output_type": "stream",
     "text": [
      "45V7JXQ.txt: -1 (score: 0.014650322496891022)\n",
      "Warning: Empty translation for 44xvzPG.txt\n",
      "Warning: Empty translation for 9vPWkp4.txt\n",
      "Warning: Empty translation for 4W9Qv8Q.txt\n",
      "Warning: Empty translation for 97R9dXa.txt\n",
      "Analyzing Folder: sharechat_scraper/updated_tesseract/Bengali/VO6ZVy_Bengali/\n"
     ]
    },
    {
     "name": "stderr",
     "output_type": "stream",
     "text": [
      "Analyzing Sentiment:   2%|█                                                             | 1/62 [00:00<00:20,  3.02it/s]"
     ]
    },
    {
     "name": "stdout",
     "output_type": "stream",
     "text": [
      "9b8ql9y.txt: -1 (score: 0.010110653936862946)\n",
      "Warning: Empty translation for 9ldOr74.txt\n"
     ]
    },
    {
     "name": "stderr",
     "output_type": "stream",
     "text": [
      "\r",
      "Analyzing Sentiment:   5%|███                                                           | 3/62 [00:00<00:11,  4.95it/s]"
     ]
    },
    {
     "name": "stdout",
     "output_type": "stream",
     "text": [
      "9zEnV3X.txt: -1 (score: 0.005977190099656582)\n",
      "Warning: Empty translation for 4wwZmKOa.txt\n",
      "Warning: Empty translation for 9NrrEqN.txt\n"
     ]
    },
    {
     "name": "stderr",
     "output_type": "stream",
     "text": [
      "\r",
      "Analyzing Sentiment:  10%|██████                                                        | 6/62 [00:00<00:08,  6.87it/s]"
     ]
    },
    {
     "name": "stdout",
     "output_type": "stream",
     "text": [
      "9dABPma.txt: 1 (score: 0.9739538431167603)\n"
     ]
    },
    {
     "name": "stderr",
     "output_type": "stream",
     "text": [
      "\r",
      "Analyzing Sentiment:  11%|███████                                                       | 7/62 [00:01<00:09,  5.56it/s]"
     ]
    },
    {
     "name": "stdout",
     "output_type": "stream",
     "text": [
      "9dkPGn0.txt: -1 (score: 0.00626260694116354)\n"
     ]
    },
    {
     "name": "stderr",
     "output_type": "stream",
     "text": [
      "\r",
      "Analyzing Sentiment:  13%|████████                                                      | 8/62 [00:01<00:11,  4.70it/s]"
     ]
    },
    {
     "name": "stdout",
     "output_type": "stream",
     "text": [
      "9rX8OZQ.txt: 1 (score: 0.8123248219490051)\n",
      "Warning: Empty translation for 9NRkg6X.txt\n"
     ]
    },
    {
     "name": "stderr",
     "output_type": "stream",
     "text": [
      "\r",
      "Analyzing Sentiment:  16%|█████████▊                                                   | 10/62 [00:01<00:10,  5.01it/s]"
     ]
    },
    {
     "name": "stdout",
     "output_type": "stream",
     "text": [
      "gmvb0JA.txt: -1 (score: 0.002699675038456917)\n"
     ]
    },
    {
     "name": "stderr",
     "output_type": "stream",
     "text": [
      "\r",
      "Analyzing Sentiment:  18%|██████████▊                                                  | 11/62 [00:02<00:11,  4.51it/s]"
     ]
    },
    {
     "name": "stdout",
     "output_type": "stream",
     "text": [
      "9Qr8r00.txt: -1 (score: 0.010094479657709599)\n"
     ]
    },
    {
     "name": "stderr",
     "output_type": "stream",
     "text": [
      "\r",
      "Analyzing Sentiment:  19%|███████████▊                                                 | 12/62 [00:02<00:12,  3.85it/s]"
     ]
    },
    {
     "name": "stdout",
     "output_type": "stream",
     "text": [
      "3NOQr5VK.txt: 0 (score: 0.5422519445419312)\n"
     ]
    },
    {
     "name": "stderr",
     "output_type": "stream",
     "text": [
      "\r",
      "Analyzing Sentiment:  21%|████████████▊                                                | 13/62 [00:02<00:13,  3.65it/s]"
     ]
    },
    {
     "name": "stdout",
     "output_type": "stream",
     "text": [
      "933bdKOy.txt: 1 (score: 0.6816015243530273)\n"
     ]
    },
    {
     "name": "stderr",
     "output_type": "stream",
     "text": [
      "\r",
      "Analyzing Sentiment:  23%|█████████████▊                                               | 14/62 [00:03<00:13,  3.51it/s]"
     ]
    },
    {
     "name": "stdout",
     "output_type": "stream",
     "text": [
      "9334MADQ.txt: -1 (score: 0.06733162701129913)\n"
     ]
    },
    {
     "name": "stderr",
     "output_type": "stream",
     "text": [
      "\r",
      "Analyzing Sentiment:  24%|██████████████▊                                              | 15/62 [00:03<00:13,  3.42it/s]"
     ]
    },
    {
     "name": "stdout",
     "output_type": "stream",
     "text": [
      "9kNwpkz.txt: -1 (score: 0.0013623428530991077)\n",
      "Warning: Empty translation for 9v8p4n0.txt\n"
     ]
    },
    {
     "name": "stderr",
     "output_type": "stream",
     "text": [
      "\r",
      "Analyzing Sentiment:  27%|████████████████▋                                            | 17/62 [00:03<00:10,  4.30it/s]"
     ]
    },
    {
     "name": "stdout",
     "output_type": "stream",
     "text": [
      "gxaWv0e.txt: -1 (score: 0.02117697149515152)\n",
      "Warning: Empty translation for 933a0QQv.txt\n"
     ]
    },
    {
     "name": "stderr",
     "output_type": "stream",
     "text": [
      "\r",
      "Analyzing Sentiment:  31%|██████████████████▋                                          | 19/62 [00:04<00:09,  4.71it/s]"
     ]
    },
    {
     "name": "stdout",
     "output_type": "stream",
     "text": [
      "BzjXbRR.txt: -1 (score: 0.02158220112323761)\n",
      "Warning: Empty translation for 93a0zMyv.txt\n"
     ]
    },
    {
     "name": "stderr",
     "output_type": "stream",
     "text": [
      "\r",
      "Analyzing Sentiment:  34%|████████████████████▋                                        | 21/62 [00:04<00:07,  5.19it/s]"
     ]
    },
    {
     "name": "stdout",
     "output_type": "stream",
     "text": [
      "9eP1j49.txt: 1 (score: 0.9891647696495056)\n"
     ]
    },
    {
     "name": "stderr",
     "output_type": "stream",
     "text": [
      "\r",
      "Analyzing Sentiment:  35%|█████████████████████▋                                       | 22/62 [00:04<00:08,  4.53it/s]"
     ]
    },
    {
     "name": "stdout",
     "output_type": "stream",
     "text": [
      "931QnwzM.txt: -1 (score: 0.20720244944095612)\n"
     ]
    },
    {
     "name": "stderr",
     "output_type": "stream",
     "text": [
      "\r",
      "Analyzing Sentiment:  37%|██████████████████████▋                                      | 23/62 [00:05<00:09,  4.14it/s]"
     ]
    },
    {
     "name": "stdout",
     "output_type": "stream",
     "text": [
      "9NMApry.txt: 1 (score: 0.9812361001968384)\n"
     ]
    },
    {
     "name": "stderr",
     "output_type": "stream",
     "text": [
      "\r",
      "Analyzing Sentiment:  39%|███████████████████████▌                                     | 24/62 [00:05<00:09,  3.90it/s]"
     ]
    },
    {
     "name": "stdout",
     "output_type": "stream",
     "text": [
      "93a9p87M.txt: -1 (score: 0.006142520811408758)\n"
     ]
    },
    {
     "name": "stderr",
     "output_type": "stream",
     "text": [
      "\r",
      "Analyzing Sentiment:  40%|████████████████████████▌                                    | 25/62 [00:05<00:10,  3.65it/s]"
     ]
    },
    {
     "name": "stdout",
     "output_type": "stream",
     "text": [
      "93wlp5QN.txt: 1 (score: 0.9941322207450867)\n",
      "Warning: Empty translation for 9kXQyQa.txt\n"
     ]
    },
    {
     "name": "stderr",
     "output_type": "stream",
     "text": [
      "\r",
      "Analyzing Sentiment:  44%|██████████████████████████▌                                  | 27/62 [00:06<00:08,  4.23it/s]"
     ]
    },
    {
     "name": "stdout",
     "output_type": "stream",
     "text": [
      "4wGERwxv.txt: -1 (score: 0.13867123425006866)\n"
     ]
    },
    {
     "name": "stderr",
     "output_type": "stream",
     "text": [
      "\r",
      "Analyzing Sentiment:  45%|███████████████████████████▌                                 | 28/62 [00:06<00:08,  3.81it/s]"
     ]
    },
    {
     "name": "stdout",
     "output_type": "stream",
     "text": [
      "NyEZKm74.txt: 0 (score: 0.4837084412574768)\n",
      "Warning: Empty translation for 4pzJ1wa.txt\n"
     ]
    },
    {
     "name": "stderr",
     "output_type": "stream",
     "text": [
      "\r",
      "Analyzing Sentiment:  48%|█████████████████████████████▌                               | 30/62 [00:06<00:07,  4.54it/s]"
     ]
    },
    {
     "name": "stdout",
     "output_type": "stream",
     "text": [
      "9O7eZqM.txt: -1 (score: 0.03939853608608246)\n"
     ]
    },
    {
     "name": "stderr",
     "output_type": "stream",
     "text": [
      "\r",
      "Analyzing Sentiment:  50%|██████████████████████████████▌                              | 31/62 [00:07<00:07,  4.09it/s]"
     ]
    },
    {
     "name": "stdout",
     "output_type": "stream",
     "text": [
      "93DrVOaN.txt: -1 (score: 0.09234800934791565)\n",
      "Warning: Empty translation for 4wz1yp9B.txt\n",
      "Warning: Empty translation for 9x9e9ny.txt\n",
      "Warning: Empty translation for 974lXjN.txt\n"
     ]
    },
    {
     "name": "stderr",
     "output_type": "stream",
     "text": [
      "\r",
      "Analyzing Sentiment:  56%|██████████████████████████████████▍                          | 35/62 [00:07<00:04,  6.32it/s]"
     ]
    },
    {
     "name": "stdout",
     "output_type": "stream",
     "text": [
      "3nw8Okm.txt: 1 (score: 0.9059146046638489)\n",
      "Warning: Empty translation for 4XRlqnQ.txt\n"
     ]
    },
    {
     "name": "stderr",
     "output_type": "stream",
     "text": [
      "\r",
      "Analyzing Sentiment:  60%|████████████████████████████████████▍                        | 37/62 [00:07<00:04,  6.25it/s]"
     ]
    },
    {
     "name": "stdout",
     "output_type": "stream",
     "text": [
      "931yJAdN.txt: -1 (score: 0.010097366757690907)\n",
      "Warning: Empty translation for 9eay5av.txt\n",
      "Warning: Empty translation for 9v7dRjz.txt\n"
     ]
    },
    {
     "name": "stderr",
     "output_type": "stream",
     "text": [
      "\r",
      "Analyzing Sentiment:  65%|███████████████████████████████████████▎                     | 40/62 [00:08<00:03,  7.00it/s]"
     ]
    },
    {
     "name": "stdout",
     "output_type": "stream",
     "text": [
      "9xp4OrN.txt: 1 (score: 0.9984596967697144)\n"
     ]
    },
    {
     "name": "stderr",
     "output_type": "stream",
     "text": [
      "\r",
      "Analyzing Sentiment:  66%|████████████████████████████████████████▎                    | 41/62 [00:08<00:03,  5.75it/s]"
     ]
    },
    {
     "name": "stdout",
     "output_type": "stream",
     "text": [
      "9xRNm3z.txt: -1 (score: 0.005225637927651405)\n",
      "Warning: Empty translation for 9lJg774.txt\n"
     ]
    },
    {
     "name": "stderr",
     "output_type": "stream",
     "text": [
      "\r",
      "Analyzing Sentiment:  69%|██████████████████████████████████████████▎                  | 43/62 [00:08<00:03,  5.76it/s]"
     ]
    },
    {
     "name": "stdout",
     "output_type": "stream",
     "text": [
      "93a5eBJy.txt: -1 (score: 0.000952292000874877)\n",
      "Warning: Empty translation for 93NWazGz.txt\n"
     ]
    },
    {
     "name": "stderr",
     "output_type": "stream",
     "text": [
      "\r",
      "Analyzing Sentiment:  73%|████████████████████████████████████████████▎                | 45/62 [00:09<00:02,  5.69it/s]"
     ]
    },
    {
     "name": "stdout",
     "output_type": "stream",
     "text": [
      "9z0Zer0.txt: 0 (score: 0.3096116781234741)\n",
      "Warning: Empty translation for 91p5gQ4.txt\n"
     ]
    },
    {
     "name": "stderr",
     "output_type": "stream",
     "text": [
      "\r",
      "Analyzing Sentiment:  76%|██████████████████████████████████████████████▏              | 47/62 [00:09<00:02,  5.80it/s]"
     ]
    },
    {
     "name": "stdout",
     "output_type": "stream",
     "text": [
      "9gqnZz9.txt: -1 (score: 0.048634808510541916)\n"
     ]
    },
    {
     "name": "stderr",
     "output_type": "stream",
     "text": [
      "\r",
      "Analyzing Sentiment:  77%|███████████████████████████████████████████████▏             | 48/62 [00:09<00:02,  4.93it/s]"
     ]
    },
    {
     "name": "stdout",
     "output_type": "stream",
     "text": [
      "933WEaqM.txt: 1 (score: 0.6816015243530273)\n"
     ]
    },
    {
     "name": "stderr",
     "output_type": "stream",
     "text": [
      "\r",
      "Analyzing Sentiment:  79%|████████████████████████████████████████████████▏            | 49/62 [00:10<00:02,  4.50it/s]"
     ]
    },
    {
     "name": "stdout",
     "output_type": "stream",
     "text": [
      "93wGwwAM.txt: -1 (score: 0.0005873711197637022)\n"
     ]
    },
    {
     "name": "stderr",
     "output_type": "stream",
     "text": [
      "\r",
      "Analyzing Sentiment:  81%|█████████████████████████████████████████████████▏           | 50/62 [00:10<00:02,  4.12it/s]"
     ]
    },
    {
     "name": "stdout",
     "output_type": "stream",
     "text": [
      "3NOGXgw3.txt: -1 (score: 0.016761841252446175)\n"
     ]
    },
    {
     "name": "stderr",
     "output_type": "stream",
     "text": [
      "\r",
      "Analyzing Sentiment:  82%|██████████████████████████████████████████████████▏          | 51/62 [00:10<00:02,  3.74it/s]"
     ]
    },
    {
     "name": "stdout",
     "output_type": "stream",
     "text": [
      "93ZA1OXM.txt: 1 (score: 0.9993780851364136)\n"
     ]
    },
    {
     "name": "stderr",
     "output_type": "stream",
     "text": [
      "\r",
      "Analyzing Sentiment:  84%|███████████████████████████████████████████████████▏         | 52/62 [00:11<00:02,  3.48it/s]"
     ]
    },
    {
     "name": "stdout",
     "output_type": "stream",
     "text": [
      "9V8PPV4.txt: 1 (score: 0.9326690435409546)\n"
     ]
    },
    {
     "name": "stderr",
     "output_type": "stream",
     "text": [
      "\r",
      "Analyzing Sentiment:  85%|████████████████████████████████████████████████████▏        | 53/62 [00:11<00:02,  3.40it/s]"
     ]
    },
    {
     "name": "stdout",
     "output_type": "stream",
     "text": [
      "9d9mQr4.txt: -1 (score: 0.04813288152217865)\n",
      "Warning: Empty translation for 9780aW4.txt\n"
     ]
    },
    {
     "name": "stderr",
     "output_type": "stream",
     "text": [
      "\r",
      "Analyzing Sentiment:  89%|██████████████████████████████████████████████████████       | 55/62 [00:11<00:01,  4.26it/s]"
     ]
    },
    {
     "name": "stdout",
     "output_type": "stream",
     "text": [
      "93DDElby.txt: -1 (score: 0.0443134605884552)\n",
      "Warning: Empty translation for 9bjr4XX.txt\n"
     ]
    },
    {
     "name": "stderr",
     "output_type": "stream",
     "text": [
      "\r",
      "Analyzing Sentiment:  92%|████████████████████████████████████████████████████████     | 57/62 [00:12<00:01,  4.88it/s]"
     ]
    },
    {
     "name": "stdout",
     "output_type": "stream",
     "text": [
      "93wrr9Oy.txt: -1 (score: 0.08650748431682587)\n"
     ]
    },
    {
     "name": "stderr",
     "output_type": "stream",
     "text": [
      "\r",
      "Analyzing Sentiment:  94%|█████████████████████████████████████████████████████████    | 58/62 [00:12<00:00,  4.31it/s]"
     ]
    },
    {
     "name": "stdout",
     "output_type": "stream",
     "text": [
      "KGEdJaw.txt: 1 (score: 0.9391196370124817)\n"
     ]
    },
    {
     "name": "stderr",
     "output_type": "stream",
     "text": [
      "\r",
      "Analyzing Sentiment:  95%|██████████████████████████████████████████████████████████   | 59/62 [00:12<00:00,  3.92it/s]"
     ]
    },
    {
     "name": "stdout",
     "output_type": "stream",
     "text": [
      "3NZ1b4Om.txt: -1 (score: 0.023371169343590736)\n"
     ]
    },
    {
     "name": "stderr",
     "output_type": "stream",
     "text": [
      "\r",
      "Analyzing Sentiment:  97%|███████████████████████████████████████████████████████████  | 60/62 [00:13<00:00,  3.71it/s]"
     ]
    },
    {
     "name": "stdout",
     "output_type": "stream",
     "text": [
      "3NDlnKb5.txt: -1 (score: 0.013165765441954136)\n"
     ]
    },
    {
     "name": "stderr",
     "output_type": "stream",
     "text": [
      "\r",
      "Analyzing Sentiment:  98%|████████████████████████████████████████████████████████████ | 61/62 [00:13<00:00,  3.56it/s]"
     ]
    },
    {
     "name": "stdout",
     "output_type": "stream",
     "text": [
      "93mg3AP0.txt: -1 (score: 0.0007875401643104851)\n"
     ]
    },
    {
     "name": "stderr",
     "output_type": "stream",
     "text": [
      "Analyzing Sentiment: 100%|█████████████████████████████████████████████████████████████| 62/62 [00:13<00:00,  4.51it/s]\n"
     ]
    },
    {
     "name": "stdout",
     "output_type": "stream",
     "text": [
      "9eV5k1z.txt: -1 (score: 0.0034475550055503845)\n",
      "\n",
      "Making csv for actual label insertion....\n",
      "Actual label csv successfully saved!\n",
      "\n",
      "\n",
      "Getting sentiments for language: Punjabi\n",
      "\n",
      "Analyzing Folder: sharechat_scraper/updated_tesseract/Punjabi/5ZEBpp_Punjabi/\n"
     ]
    },
    {
     "name": "stderr",
     "output_type": "stream",
     "text": [
      "Analyzing Sentiment:   2%|█▏                                                            | 1/52 [00:00<00:15,  3.20it/s]"
     ]
    },
    {
     "name": "stdout",
     "output_type": "stream",
     "text": [
      "35k0yrw.txt: -1 (score: 0.14744296669960022)\n"
     ]
    },
    {
     "name": "stderr",
     "output_type": "stream",
     "text": [
      "\r",
      "Analyzing Sentiment:   4%|██▍                                                           | 2/52 [00:00<00:16,  3.01it/s]"
     ]
    },
    {
     "name": "stdout",
     "output_type": "stream",
     "text": [
      "3vpzwb5.txt: 1 (score: 0.7849969267845154)\n"
     ]
    },
    {
     "name": "stderr",
     "output_type": "stream",
     "text": [
      "\r",
      "Analyzing Sentiment:   6%|███▌                                                          | 3/52 [00:00<00:15,  3.08it/s]"
     ]
    },
    {
     "name": "stdout",
     "output_type": "stream",
     "text": [
      "b1blz6Q.txt: -1 (score: 0.015845725312829018)\n"
     ]
    },
    {
     "name": "stderr",
     "output_type": "stream",
     "text": [
      "\r",
      "Analyzing Sentiment:   8%|████▊                                                         | 4/52 [00:01<00:15,  3.01it/s]"
     ]
    },
    {
     "name": "stdout",
     "output_type": "stream",
     "text": [
      "b1B3bvJ.txt: 1 (score: 0.9206153154373169)\n",
      "Warning: Empty translation for dxEJv1y.txt\n"
     ]
    },
    {
     "name": "stderr",
     "output_type": "stream",
     "text": [
      "\r",
      "Analyzing Sentiment:  12%|███████▏                                                      | 6/52 [00:01<00:11,  4.11it/s]"
     ]
    },
    {
     "name": "stdout",
     "output_type": "stream",
     "text": [
      "3jj9l7j.txt: -1 (score: 0.004814316984266043)\n"
     ]
    },
    {
     "name": "stderr",
     "output_type": "stream",
     "text": [
      "\r",
      "Analyzing Sentiment:  13%|████████▎                                                     | 7/52 [00:01<00:12,  3.68it/s]"
     ]
    },
    {
     "name": "stdout",
     "output_type": "stream",
     "text": [
      "3XkRkA3.txt: -1 (score: 0.011678675189614296)\n"
     ]
    },
    {
     "name": "stderr",
     "output_type": "stream",
     "text": [
      "\r",
      "Analyzing Sentiment:  15%|█████████▌                                                    | 8/52 [00:02<00:13,  3.37it/s]"
     ]
    },
    {
     "name": "stdout",
     "output_type": "stream",
     "text": [
      "bvQeN7DO.txt: -1 (score: 0.00022682224516756833)\n"
     ]
    },
    {
     "name": "stderr",
     "output_type": "stream",
     "text": [
      "\r",
      "Analyzing Sentiment:  17%|██████████▋                                                   | 9/52 [00:02<00:13,  3.26it/s]"
     ]
    },
    {
     "name": "stdout",
     "output_type": "stream",
     "text": [
      "rj3E3K5.txt: -1 (score: 0.015251191332936287)\n"
     ]
    },
    {
     "name": "stderr",
     "output_type": "stream",
     "text": [
      "\r",
      "Analyzing Sentiment:  19%|███████████▋                                                 | 10/52 [00:03<00:13,  3.15it/s]"
     ]
    },
    {
     "name": "stdout",
     "output_type": "stream",
     "text": [
      "rJ5xl37.txt: -1 (score: 0.006612047087401152)\n"
     ]
    },
    {
     "name": "stderr",
     "output_type": "stream",
     "text": [
      "\r",
      "Analyzing Sentiment:  21%|████████████▉                                                | 11/52 [00:03<00:12,  3.36it/s]"
     ]
    },
    {
     "name": "stdout",
     "output_type": "stream",
     "text": [
      "rvaxyX3.txt: 1 (score: 0.746933102607727)\n",
      "Warning: Empty translation for rRRVmz1.txt\n"
     ]
    },
    {
     "name": "stderr",
     "output_type": "stream",
     "text": [
      "\r",
      "Analyzing Sentiment:  25%|███████████████▎                                             | 13/52 [00:03<00:09,  4.09it/s]"
     ]
    },
    {
     "name": "stdout",
     "output_type": "stream",
     "text": [
      "be1BBzy.txt: 1 (score: 0.8663136959075928)\n"
     ]
    },
    {
     "name": "stderr",
     "output_type": "stream",
     "text": [
      "\r",
      "Analyzing Sentiment:  27%|████████████████▍                                            | 14/52 [00:03<00:10,  3.76it/s]"
     ]
    },
    {
     "name": "stdout",
     "output_type": "stream",
     "text": [
      "rBzlwD3.txt: 1 (score: 0.9990590214729309)\n"
     ]
    },
    {
     "name": "stderr",
     "output_type": "stream",
     "text": [
      "\r",
      "Analyzing Sentiment:  29%|█████████████████▌                                           | 15/52 [00:04<00:10,  3.44it/s]"
     ]
    },
    {
     "name": "stdout",
     "output_type": "stream",
     "text": [
      "bjOnXkO.txt: -1 (score: 0.0014870953746140003)\n"
     ]
    },
    {
     "name": "stderr",
     "output_type": "stream",
     "text": [
      "\r",
      "Analyzing Sentiment:  31%|██████████████████▊                                          | 16/52 [00:04<00:11,  3.23it/s]"
     ]
    },
    {
     "name": "stdout",
     "output_type": "stream",
     "text": [
      "3j4KWMX.txt: -1 (score: 0.0025449974928051233)\n",
      "Warning: Empty translation for dWbB67N.txt\n"
     ]
    },
    {
     "name": "stderr",
     "output_type": "stream",
     "text": [
      "\r",
      "Analyzing Sentiment:  35%|█████████████████████                                        | 18/52 [00:05<00:08,  3.99it/s]"
     ]
    },
    {
     "name": "stdout",
     "output_type": "stream",
     "text": [
      "3a3x9bK.txt: -1 (score: 0.008733070455491543)\n"
     ]
    },
    {
     "name": "stderr",
     "output_type": "stream",
     "text": [
      "\r",
      "Analyzing Sentiment:  37%|██████████████████████▎                                      | 19/52 [00:05<00:09,  3.66it/s]"
     ]
    },
    {
     "name": "stdout",
     "output_type": "stream",
     "text": [
      "gRpvk7M.txt: 1 (score: 0.9962743520736694)\n"
     ]
    },
    {
     "name": "stderr",
     "output_type": "stream",
     "text": [
      "\r",
      "Analyzing Sentiment:  38%|███████████████████████▍                                     | 20/52 [00:05<00:09,  3.48it/s]"
     ]
    },
    {
     "name": "stdout",
     "output_type": "stream",
     "text": [
      "bB4BpwQ.txt: 1 (score: 0.6219068765640259)\n"
     ]
    },
    {
     "name": "stderr",
     "output_type": "stream",
     "text": [
      "\r",
      "Analyzing Sentiment:  40%|████████████████████████▋                                    | 21/52 [00:06<00:09,  3.35it/s]"
     ]
    },
    {
     "name": "stdout",
     "output_type": "stream",
     "text": [
      "bBpBENP.txt: 1 (score: 0.9928684830665588)\n"
     ]
    },
    {
     "name": "stderr",
     "output_type": "stream",
     "text": [
      "\r",
      "Analyzing Sentiment:  42%|█████████████████████████▊                                   | 22/52 [00:06<00:09,  3.21it/s]"
     ]
    },
    {
     "name": "stdout",
     "output_type": "stream",
     "text": [
      "bOwlZxP.txt: 1 (score: 0.6183954477310181)\n"
     ]
    },
    {
     "name": "stderr",
     "output_type": "stream",
     "text": [
      "\r",
      "Analyzing Sentiment:  44%|██████████████████████████▉                                  | 23/52 [00:06<00:09,  3.16it/s]"
     ]
    },
    {
     "name": "stdout",
     "output_type": "stream",
     "text": [
      "3kJpXmm.txt: -1 (score: 0.001116046099923551)\n"
     ]
    },
    {
     "name": "stderr",
     "output_type": "stream",
     "text": [
      "\r",
      "Analyzing Sentiment:  46%|████████████████████████████▏                                | 24/52 [00:07<00:09,  3.04it/s]"
     ]
    },
    {
     "name": "stdout",
     "output_type": "stream",
     "text": [
      "bBrdvWO.txt: 1 (score: 0.9982892870903015)\n"
     ]
    },
    {
     "name": "stderr",
     "output_type": "stream",
     "text": [
      "\r",
      "Analyzing Sentiment:  48%|█████████████████████████████▎                               | 25/52 [00:07<00:08,  3.08it/s]"
     ]
    },
    {
     "name": "stdout",
     "output_type": "stream",
     "text": [
      "bgnnVnP.txt: -1 (score: 0.001546418177895248)\n"
     ]
    },
    {
     "name": "stderr",
     "output_type": "stream",
     "text": [
      "\r",
      "Analyzing Sentiment:  50%|██████████████████████████████▌                              | 26/52 [00:07<00:08,  3.06it/s]"
     ]
    },
    {
     "name": "stdout",
     "output_type": "stream",
     "text": [
      "bgj1ZB3.txt: -1 (score: 0.009508607909083366)\n"
     ]
    },
    {
     "name": "stderr",
     "output_type": "stream",
     "text": [
      "\r",
      "Analyzing Sentiment:  52%|███████████████████████████████▋                             | 27/52 [00:08<00:08,  3.01it/s]"
     ]
    },
    {
     "name": "stdout",
     "output_type": "stream",
     "text": [
      "bxJaQ6D.txt: 0 (score: 0.5727156400680542)\n",
      "Warning: Empty translation for bm4AqyD.txt\n"
     ]
    },
    {
     "name": "stderr",
     "output_type": "stream",
     "text": [
      "\r",
      "Analyzing Sentiment:  56%|██████████████████████████████████                           | 29/52 [00:08<00:05,  4.41it/s]"
     ]
    },
    {
     "name": "stdout",
     "output_type": "stream",
     "text": [
      "bPdNeJQ.txt: -1 (score: 0.006295954808592796)\n",
      "Warning: Empty translation for grGlb991.txt\n"
     ]
    },
    {
     "name": "stderr",
     "output_type": "stream",
     "text": [
      "\r",
      "Analyzing Sentiment:  60%|████████████████████████████████████▎                        | 31/52 [00:08<00:04,  4.87it/s]"
     ]
    },
    {
     "name": "stdout",
     "output_type": "stream",
     "text": [
      "rJD4Xl5.txt: 1 (score: 0.9945494532585144)\n"
     ]
    },
    {
     "name": "stderr",
     "output_type": "stream",
     "text": [
      "\r",
      "Analyzing Sentiment:  62%|█████████████████████████████████████▌                       | 32/52 [00:08<00:04,  4.23it/s]"
     ]
    },
    {
     "name": "stdout",
     "output_type": "stream",
     "text": [
      "bOMpNM3.txt: 1 (score: 0.9533165693283081)\n"
     ]
    },
    {
     "name": "stderr",
     "output_type": "stream",
     "text": [
      "\r",
      "Analyzing Sentiment:  63%|██████████████████████████████████████▋                      | 33/52 [00:09<00:04,  3.87it/s]"
     ]
    },
    {
     "name": "stdout",
     "output_type": "stream",
     "text": [
      "3j86WBX.txt: -1 (score: 0.05761922895908356)\n"
     ]
    },
    {
     "name": "stderr",
     "output_type": "stream",
     "text": [
      "\r",
      "Analyzing Sentiment:  65%|███████████████████████████████████████▉                     | 34/52 [00:09<00:05,  3.46it/s]"
     ]
    },
    {
     "name": "stdout",
     "output_type": "stream",
     "text": [
      "grrMp43q.txt: -1 (score: 0.0002072891074931249)\n"
     ]
    },
    {
     "name": "stderr",
     "output_type": "stream",
     "text": [
      "\r",
      "Analyzing Sentiment:  67%|█████████████████████████████████████████                    | 35/52 [00:10<00:05,  3.34it/s]"
     ]
    },
    {
     "name": "stdout",
     "output_type": "stream",
     "text": [
      "rKXV1ww.txt: -1 (score: 0.06623503565788269)\n",
      "Warning: Empty translation for rGdKAQd.txt\n"
     ]
    },
    {
     "name": "stderr",
     "output_type": "stream",
     "text": [
      "\r",
      "Analyzing Sentiment:  71%|███████████████████████████████████████████▍                 | 37/52 [00:10<00:03,  4.21it/s]"
     ]
    },
    {
     "name": "stdout",
     "output_type": "stream",
     "text": [
      "rJmN6Md.txt: -1 (score: 0.01460217498242855)\n"
     ]
    },
    {
     "name": "stderr",
     "output_type": "stream",
     "text": [
      "\r",
      "Analyzing Sentiment:  73%|████████████████████████████████████████████▌                | 38/52 [00:10<00:03,  3.81it/s]"
     ]
    },
    {
     "name": "stdout",
     "output_type": "stream",
     "text": [
      "brxk3Vy.txt: 1 (score: 0.9997032284736633)\n"
     ]
    },
    {
     "name": "stderr",
     "output_type": "stream",
     "text": [
      "\r",
      "Analyzing Sentiment:  75%|█████████████████████████████████████████████▊               | 39/52 [00:10<00:03,  3.79it/s]"
     ]
    },
    {
     "name": "stdout",
     "output_type": "stream",
     "text": [
      "3ggjaly.txt: -1 (score: 0.0014607537304982543)\n",
      "Warning: Empty translation for bjRrMq3.txt\n"
     ]
    },
    {
     "name": "stderr",
     "output_type": "stream",
     "text": [
      "\r",
      "Analyzing Sentiment:  79%|████████████████████████████████████████████████             | 41/52 [00:11<00:02,  4.50it/s]"
     ]
    },
    {
     "name": "stdout",
     "output_type": "stream",
     "text": [
      "brlebQn.txt: 1 (score: 0.9964683055877686)\n"
     ]
    },
    {
     "name": "stderr",
     "output_type": "stream",
     "text": [
      "\r",
      "Analyzing Sentiment:  81%|█████████████████████████████████████████████████▎           | 42/52 [00:11<00:02,  4.10it/s]"
     ]
    },
    {
     "name": "stdout",
     "output_type": "stream",
     "text": [
      "bnxWKO3.txt: -1 (score: 0.009733778424561024)\n",
      "Warning: Empty translation for 3PAnKam.txt\n"
     ]
    },
    {
     "name": "stderr",
     "output_type": "stream",
     "text": [
      "\r",
      "Analyzing Sentiment:  85%|███████████████████████████████████████████████████▌         | 44/52 [00:11<00:01,  4.58it/s]"
     ]
    },
    {
     "name": "stdout",
     "output_type": "stream",
     "text": [
      "3vBZkQZ.txt: 1 (score: 0.9957056641578674)\n"
     ]
    },
    {
     "name": "stderr",
     "output_type": "stream",
     "text": [
      "\r",
      "Analyzing Sentiment:  87%|████████████████████████████████████████████████████▊        | 45/52 [00:12<00:01,  4.12it/s]"
     ]
    },
    {
     "name": "stdout",
     "output_type": "stream",
     "text": [
      "beAy6Ga.txt: -1 (score: 0.008916296064853668)\n"
     ]
    },
    {
     "name": "stderr",
     "output_type": "stream",
     "text": [
      "\r",
      "Analyzing Sentiment:  88%|█████████████████████████████████████████████████████▉       | 46/52 [00:12<00:01,  3.74it/s]"
     ]
    },
    {
     "name": "stdout",
     "output_type": "stream",
     "text": [
      "bVv6wVD.txt: -1 (score: 0.03155474737286568)\n"
     ]
    },
    {
     "name": "stderr",
     "output_type": "stream",
     "text": [
      "\r",
      "Analyzing Sentiment:  90%|███████████████████████████████████████████████████████▏     | 47/52 [00:12<00:01,  3.86it/s]"
     ]
    },
    {
     "name": "stdout",
     "output_type": "stream",
     "text": [
      "38ZdRBX.txt: -1 (score: 0.008102819323539734)\n"
     ]
    },
    {
     "name": "stderr",
     "output_type": "stream",
     "text": [
      "\r",
      "Analyzing Sentiment:  92%|████████████████████████████████████████████████████████▎    | 48/52 [00:13<00:01,  3.55it/s]"
     ]
    },
    {
     "name": "stdout",
     "output_type": "stream",
     "text": [
      "3A4BAO3.txt: -1 (score: 0.0093619916588068)\n"
     ]
    },
    {
     "name": "stderr",
     "output_type": "stream",
     "text": [
      "\r",
      "Analyzing Sentiment:  94%|█████████████████████████████████████████████████████████▍   | 49/52 [00:13<00:00,  3.44it/s]"
     ]
    },
    {
     "name": "stdout",
     "output_type": "stream",
     "text": [
      "3g80E1y.txt: -1 (score: 0.0031869688536971807)\n"
     ]
    },
    {
     "name": "stderr",
     "output_type": "stream",
     "text": [
      "\r",
      "Analyzing Sentiment:  96%|██████████████████████████████████████████████████████████▋  | 50/52 [00:13<00:00,  3.23it/s]"
     ]
    },
    {
     "name": "stdout",
     "output_type": "stream",
     "text": [
      "3QxwD03.txt: 1 (score: 0.9754300713539124)\n",
      "Warning: Empty translation for bne7bVn.txt\n"
     ]
    },
    {
     "name": "stderr",
     "output_type": "stream",
     "text": [
      "Analyzing Sentiment: 100%|█████████████████████████████████████████████████████████████| 52/52 [00:14<00:00,  3.69it/s]\n"
     ]
    },
    {
     "name": "stdout",
     "output_type": "stream",
     "text": [
      "bR1PepD.txt: 1 (score: 0.9871279001235962)\n",
      "Analyzing Folder: sharechat_scraper/updated_tesseract/Punjabi/lew5Am_Punjabi/\n"
     ]
    },
    {
     "name": "stderr",
     "output_type": "stream",
     "text": [
      "\r",
      "Analyzing Sentiment:   0%|                                                                      | 0/54 [00:00<?, ?it/s]"
     ]
    },
    {
     "name": "stdout",
     "output_type": "stream",
     "text": [
      "Warning: Empty translation for gryaE6RM.txt\n"
     ]
    },
    {
     "name": "stderr",
     "output_type": "stream",
     "text": [
      "\r",
      "Analyzing Sentiment:   4%|██▎                                                           | 2/54 [00:00<00:07,  7.10it/s]"
     ]
    },
    {
     "name": "stdout",
     "output_type": "stream",
     "text": [
      "gryQ7lk6.txt: -1 (score: 0.009455608204007149)\n"
     ]
    },
    {
     "name": "stderr",
     "output_type": "stream",
     "text": [
      "\r",
      "Analyzing Sentiment:   6%|███▍                                                          | 3/54 [00:00<00:11,  4.55it/s]"
     ]
    },
    {
     "name": "stdout",
     "output_type": "stream",
     "text": [
      "gM70Wbb.txt: 1 (score: 0.9994576573371887)\n"
     ]
    },
    {
     "name": "stderr",
     "output_type": "stream",
     "text": [
      "\r",
      "Analyzing Sentiment:   7%|████▌                                                         | 4/54 [00:00<00:13,  3.83it/s]"
     ]
    },
    {
     "name": "stdout",
     "output_type": "stream",
     "text": [
      "gdMBAb7.txt: -1 (score: 0.009204315952956676)\n"
     ]
    },
    {
     "name": "stderr",
     "output_type": "stream",
     "text": [
      "\r",
      "Analyzing Sentiment:   9%|█████▋                                                        | 5/54 [00:01<00:12,  3.80it/s]"
     ]
    },
    {
     "name": "stdout",
     "output_type": "stream",
     "text": [
      "gJM9O57.txt: -1 (score: 0.05470547080039978)\n"
     ]
    },
    {
     "name": "stderr",
     "output_type": "stream",
     "text": [
      "\r",
      "Analyzing Sentiment:  11%|██████▉                                                       | 6/54 [00:01<00:13,  3.64it/s]"
     ]
    },
    {
     "name": "stdout",
     "output_type": "stream",
     "text": [
      "gxzRr31.txt: -1 (score: 0.00197431817650795)\n",
      "Warning: Empty translation for grO613zJ.txt\n"
     ]
    },
    {
     "name": "stderr",
     "output_type": "stream",
     "text": [
      "\r",
      "Analyzing Sentiment:  15%|█████████▏                                                    | 8/54 [00:01<00:09,  4.60it/s]"
     ]
    },
    {
     "name": "stdout",
     "output_type": "stream",
     "text": [
      "gryAxjzq.txt: -1 (score: 0.04343011602759361)\n"
     ]
    },
    {
     "name": "stderr",
     "output_type": "stream",
     "text": [
      "\r",
      "Analyzing Sentiment:  17%|██████████▎                                                   | 9/54 [00:02<00:11,  4.06it/s]"
     ]
    },
    {
     "name": "stdout",
     "output_type": "stream",
     "text": [
      "gryaBXaA.txt: 1 (score: 0.9786885976791382)\n"
     ]
    },
    {
     "name": "stderr",
     "output_type": "stream",
     "text": [
      "\r",
      "Analyzing Sentiment:  19%|███████████▎                                                 | 10/54 [00:02<00:11,  3.72it/s]"
     ]
    },
    {
     "name": "stdout",
     "output_type": "stream",
     "text": [
      "gBgvB06.txt: 1 (score: 0.9949316382408142)\n"
     ]
    },
    {
     "name": "stderr",
     "output_type": "stream",
     "text": [
      "\r",
      "Analyzing Sentiment:  20%|████████████▍                                                | 11/54 [00:02<00:12,  3.56it/s]"
     ]
    },
    {
     "name": "stdout",
     "output_type": "stream",
     "text": [
      "gB0qQlA.txt: -1 (score: 0.0006527981604449451)\n",
      "Warning: Empty translation for gg9PGDQ.txt\n"
     ]
    },
    {
     "name": "stderr",
     "output_type": "stream",
     "text": [
      "\r",
      "Analyzing Sentiment:  24%|██████████████▋                                              | 13/54 [00:03<00:09,  4.22it/s]"
     ]
    },
    {
     "name": "stdout",
     "output_type": "stream",
     "text": [
      "gBKXqkJ.txt: 0 (score: 0.5593938231468201)\n"
     ]
    },
    {
     "name": "stderr",
     "output_type": "stream",
     "text": [
      "\r",
      "Analyzing Sentiment:  26%|███████████████▊                                             | 14/54 [00:03<00:10,  3.86it/s]"
     ]
    },
    {
     "name": "stdout",
     "output_type": "stream",
     "text": [
      "grbw05M1.txt: 1 (score: 0.9508383870124817)\n"
     ]
    },
    {
     "name": "stderr",
     "output_type": "stream",
     "text": [
      "Analyzing Sentiment:  30%|██████████████████                                           | 16/54 [00:04<00:09,  3.93it/s]"
     ]
    },
    {
     "name": "stdout",
     "output_type": "stream",
     "text": [
      "gRMOPKq.txt: -1 (score: 0.04717566817998886)\n",
      "g4Bxl1e.txt: -1 (score: 0.00568045862019062)\n"
     ]
    },
    {
     "name": "stderr",
     "output_type": "stream",
     "text": [
      "\r",
      "Analyzing Sentiment:  31%|███████████████████▏                                         | 17/54 [00:04<00:10,  3.63it/s]"
     ]
    },
    {
     "name": "stdout",
     "output_type": "stream",
     "text": [
      "gre7xOPz.txt: -1 (score: 0.0210019052028656)\n"
     ]
    },
    {
     "name": "stderr",
     "output_type": "stream",
     "text": [
      "\r",
      "Analyzing Sentiment:  33%|████████████████████▎                                        | 18/54 [00:04<00:10,  3.50it/s]"
     ]
    },
    {
     "name": "stdout",
     "output_type": "stream",
     "text": [
      "gWJE3ke.txt: 1 (score: 0.7883294820785522)\n",
      "Warning: Empty translation for 1r8bvNQ.txt\n"
     ]
    },
    {
     "name": "stderr",
     "output_type": "stream",
     "text": [
      "\r",
      "Analyzing Sentiment:  37%|██████████████████████▌                                      | 20/54 [00:04<00:07,  4.52it/s]"
     ]
    },
    {
     "name": "stdout",
     "output_type": "stream",
     "text": [
      "gxDQDEb.txt: -1 (score: 0.047927308827638626)\n"
     ]
    },
    {
     "name": "stderr",
     "output_type": "stream",
     "text": [
      "\r",
      "Analyzing Sentiment:  39%|███████████████████████▋                                     | 21/54 [00:05<00:08,  3.92it/s]"
     ]
    },
    {
     "name": "stdout",
     "output_type": "stream",
     "text": [
      "grGl8kbM.txt: -1 (score: 0.034736573696136475)\n"
     ]
    },
    {
     "name": "stderr",
     "output_type": "stream",
     "text": [
      "\r",
      "Analyzing Sentiment:  41%|████████████████████████▊                                    | 22/54 [00:05<00:08,  3.59it/s]"
     ]
    },
    {
     "name": "stdout",
     "output_type": "stream",
     "text": [
      "gzbDyPQ.txt: 1 (score: 0.7726730108261108)\n"
     ]
    },
    {
     "name": "stderr",
     "output_type": "stream",
     "text": [
      "\r",
      "Analyzing Sentiment:  43%|█████████████████████████▉                                   | 23/54 [00:05<00:08,  3.69it/s]"
     ]
    },
    {
     "name": "stdout",
     "output_type": "stream",
     "text": [
      "gjNKgA1.txt: -1 (score: 0.00349157745949924)\n"
     ]
    },
    {
     "name": "stderr",
     "output_type": "stream",
     "text": [
      "\r",
      "Analyzing Sentiment:  44%|███████████████████████████                                  | 24/54 [00:06<00:08,  3.43it/s]"
     ]
    },
    {
     "name": "stdout",
     "output_type": "stream",
     "text": [
      "g0wp4dQ.txt: 0 (score: 0.4205223619937897)\n"
     ]
    },
    {
     "name": "stderr",
     "output_type": "stream",
     "text": [
      "\r",
      "Analyzing Sentiment:  46%|████████████████████████████▏                                | 25/54 [00:06<00:08,  3.36it/s]"
     ]
    },
    {
     "name": "stdout",
     "output_type": "stream",
     "text": [
      "gr0qM4gz.txt: 1 (score: 0.9949316382408142)\n",
      "Warning: Empty translation for g4pXXnM.txt\n"
     ]
    },
    {
     "name": "stderr",
     "output_type": "stream",
     "text": [
      "\r",
      "Analyzing Sentiment:  50%|██████████████████████████████▌                              | 27/54 [00:06<00:06,  4.13it/s]"
     ]
    },
    {
     "name": "stdout",
     "output_type": "stream",
     "text": [
      "gaM48P6.txt: -1 (score: 0.01275994349271059)\n"
     ]
    },
    {
     "name": "stderr",
     "output_type": "stream",
     "text": [
      "\r",
      "Analyzing Sentiment:  52%|███████████████████████████████▋                             | 28/54 [00:07<00:06,  3.75it/s]"
     ]
    },
    {
     "name": "stdout",
     "output_type": "stream",
     "text": [
      "gOxRmAb.txt: -1 (score: 0.001504884916357696)\n",
      "Warning: Empty translation for grkBJd6M.txt\n"
     ]
    },
    {
     "name": "stderr",
     "output_type": "stream",
     "text": [
      "\r",
      "Analyzing Sentiment:  56%|█████████████████████████████████▉                           | 30/54 [00:07<00:05,  4.38it/s]"
     ]
    },
    {
     "name": "stdout",
     "output_type": "stream",
     "text": [
      "gWnzDBz.txt: -1 (score: 0.1736508309841156)\n"
     ]
    },
    {
     "name": "stderr",
     "output_type": "stream",
     "text": [
      "\r",
      "Analyzing Sentiment:  57%|███████████████████████████████████                          | 31/54 [00:07<00:05,  3.88it/s]"
     ]
    },
    {
     "name": "stdout",
     "output_type": "stream",
     "text": [
      "gg999x7.txt: 0 (score: 0.5017789006233215)\n"
     ]
    },
    {
     "name": "stderr",
     "output_type": "stream",
     "text": [
      "\r",
      "Analyzing Sentiment:  59%|████████████████████████████████████▏                        | 32/54 [00:08<00:05,  3.68it/s]"
     ]
    },
    {
     "name": "stdout",
     "output_type": "stream",
     "text": [
      "gxnGd6q.txt: -1 (score: 0.12825222313404083)\n"
     ]
    },
    {
     "name": "stderr",
     "output_type": "stream",
     "text": [
      "\r",
      "Analyzing Sentiment:  61%|█████████████████████████████████████▎                       | 33/54 [00:08<00:05,  3.88it/s]"
     ]
    },
    {
     "name": "stdout",
     "output_type": "stream",
     "text": [
      "gxbA8g1.txt: -1 (score: 0.02227081172168255)\n"
     ]
    },
    {
     "name": "stderr",
     "output_type": "stream",
     "text": [
      "\r",
      "Analyzing Sentiment:  63%|██████████████████████████████████████▍                      | 34/54 [00:08<00:05,  3.66it/s]"
     ]
    },
    {
     "name": "stdout",
     "output_type": "stream",
     "text": [
      "grNq6ayz.txt: -1 (score: 0.004199208226054907)\n"
     ]
    },
    {
     "name": "stderr",
     "output_type": "stream",
     "text": [
      "\r",
      "Analyzing Sentiment:  65%|███████████████████████████████████████▌                     | 35/54 [00:09<00:05,  3.35it/s]"
     ]
    },
    {
     "name": "stdout",
     "output_type": "stream",
     "text": [
      "greMEmae.txt: -1 (score: 0.11362758278846741)\n",
      "Warning: Empty translation for g06egEb.txt\n"
     ]
    },
    {
     "name": "stderr",
     "output_type": "stream",
     "text": [
      "\r",
      "Analyzing Sentiment:  69%|█████████████████████████████████████████▊                   | 37/54 [00:09<00:04,  4.25it/s]"
     ]
    },
    {
     "name": "stdout",
     "output_type": "stream",
     "text": [
      "gq0gVa1.txt: -1 (score: 0.07185608148574829)\n"
     ]
    },
    {
     "name": "stderr",
     "output_type": "stream",
     "text": [
      "\r",
      "Analyzing Sentiment:  70%|██████████████████████████████████████████▉                  | 38/54 [00:09<00:04,  3.88it/s]"
     ]
    },
    {
     "name": "stdout",
     "output_type": "stream",
     "text": [
      "grlenryJ.txt: -1 (score: 0.05183543264865875)\n",
      "Warning: Empty translation for gjbpbZJ.txt\n",
      "Warning: Empty translation for bvQjmnAa.txt\n",
      "Warning: Empty translation for gBNkQWQ.txt\n"
     ]
    },
    {
     "name": "stderr",
     "output_type": "stream",
     "text": [
      "\r",
      "Analyzing Sentiment:  78%|███████████████████████████████████████████████▍             | 42/54 [00:10<00:01,  7.12it/s]"
     ]
    },
    {
     "name": "stdout",
     "output_type": "stream",
     "text": [
      "grNJvrNe.txt: 1 (score: 0.9266682863235474)\n",
      "Warning: Empty translation for gOKQr47.txt\n",
      "Warning: Empty translation for gDyqOAA.txt\n"
     ]
    },
    {
     "name": "stderr",
     "output_type": "stream",
     "text": [
      "\r",
      "Analyzing Sentiment:  83%|██████████████████████████████████████████████████▊          | 45/54 [00:10<00:01,  7.65it/s]"
     ]
    },
    {
     "name": "stdout",
     "output_type": "stream",
     "text": [
      "grkeEwD7.txt: 1 (score: 0.9077496528625488)\n"
     ]
    },
    {
     "name": "stderr",
     "output_type": "stream",
     "text": [
      "\r",
      "Analyzing Sentiment:  85%|███████████████████████████████████████████████████▉         | 46/54 [00:10<00:01,  6.02it/s]"
     ]
    },
    {
     "name": "stdout",
     "output_type": "stream",
     "text": [
      "gdD4Wk6.txt: 0 (score: 0.47713926434516907)\n"
     ]
    },
    {
     "name": "stderr",
     "output_type": "stream",
     "text": [
      "\r",
      "Analyzing Sentiment:  87%|█████████████████████████████████████████████████████        | 47/54 [00:11<00:01,  5.05it/s]"
     ]
    },
    {
     "name": "stdout",
     "output_type": "stream",
     "text": [
      "gryy917b.txt: -1 (score: 0.006108999252319336)\n",
      "Warning: Empty translation for grN7lrpQ.txt\n"
     ]
    },
    {
     "name": "stderr",
     "output_type": "stream",
     "text": [
      "\r",
      "Analyzing Sentiment:  91%|███████████████████████████████████████████████████████▎     | 49/54 [00:11<00:00,  5.36it/s]"
     ]
    },
    {
     "name": "stdout",
     "output_type": "stream",
     "text": [
      "grOxVyWe.txt: 1 (score: 0.8078019618988037)\n"
     ]
    },
    {
     "name": "stderr",
     "output_type": "stream",
     "text": [
      "\r",
      "Analyzing Sentiment:  93%|████████████████████████████████████████████████████████▍    | 50/54 [00:11<00:00,  4.60it/s]"
     ]
    },
    {
     "name": "stdout",
     "output_type": "stream",
     "text": [
      "gjxz6mz.txt: 0 (score: 0.3167994022369385)\n",
      "Warning: Empty translation for grl3Z9bQ.txt\n"
     ]
    },
    {
     "name": "stderr",
     "output_type": "stream",
     "text": [
      "\r",
      "Analyzing Sentiment:  96%|██████████████████████████████████████████████████████████▋  | 52/54 [00:12<00:00,  5.11it/s]"
     ]
    },
    {
     "name": "stdout",
     "output_type": "stream",
     "text": [
      "gO40rWA.txt: 1 (score: 0.8370500206947327)\n"
     ]
    },
    {
     "name": "stderr",
     "output_type": "stream",
     "text": [
      "\r",
      "Analyzing Sentiment:  98%|███████████████████████████████████████████████████████████▊ | 53/54 [00:12<00:00,  4.36it/s]"
     ]
    },
    {
     "name": "stdout",
     "output_type": "stream",
     "text": [
      "gr03z9lz.txt: 1 (score: 0.95843505859375)\n"
     ]
    },
    {
     "name": "stderr",
     "output_type": "stream",
     "text": [
      "Analyzing Sentiment: 100%|█████████████████████████████████████████████████████████████| 54/54 [00:12<00:00,  4.24it/s]\n"
     ]
    },
    {
     "name": "stdout",
     "output_type": "stream",
     "text": [
      "grzbl8Nz.txt: -1 (score: 0.0013822588371112943)\n",
      "Analyzing Folder: sharechat_scraper/updated_tesseract/Punjabi/m6d09W_Punjabi/\n"
     ]
    },
    {
     "name": "stderr",
     "output_type": "stream",
     "text": [
      "Analyzing Sentiment:   1%|▉                                                            | 2/139 [00:00<00:12, 10.65it/s]"
     ]
    },
    {
     "name": "stdout",
     "output_type": "stream",
     "text": [
      "Warning: Empty translation for g00VXzq.txt\n",
      "gWRmeyM.txt: -1 (score: 0.006287130992859602)\n",
      "Warning: Empty translation for 3N157l5w.txt\n"
     ]
    },
    {
     "name": "stderr",
     "output_type": "stream",
     "text": [
      "\r",
      "Analyzing Sentiment:   3%|█▊                                                           | 4/139 [00:00<00:19,  6.93it/s]"
     ]
    },
    {
     "name": "stdout",
     "output_type": "stream",
     "text": [
      "gryBbK3M.txt: -1 (score: 0.0004726737388409674)\n"
     ]
    },
    {
     "name": "stderr",
     "output_type": "stream",
     "text": [
      "\r",
      "Analyzing Sentiment:   4%|██▏                                                          | 5/139 [00:00<00:24,  5.40it/s]"
     ]
    },
    {
     "name": "stdout",
     "output_type": "stream",
     "text": [
      "gX6GXW6.txt: -1 (score: 0.027167120948433876)\n"
     ]
    },
    {
     "name": "stderr",
     "output_type": "stream",
     "text": [
      "\r",
      "Analyzing Sentiment:   4%|██▋                                                          | 6/139 [00:01<00:26,  5.11it/s]"
     ]
    },
    {
     "name": "stdout",
     "output_type": "stream",
     "text": [
      "grb709Rz.txt: 1 (score: 0.9964593052864075)\n",
      "Warning: Empty translation for grOApm3b.txt\n"
     ]
    },
    {
     "name": "stderr",
     "output_type": "stream",
     "text": [
      "\r",
      "Analyzing Sentiment:   6%|███▌                                                         | 8/139 [00:01<00:19,  6.56it/s]"
     ]
    },
    {
     "name": "stdout",
     "output_type": "stream",
     "text": [
      "3NNOA1OZ.txt: 0 (score: 0.43823638558387756)\n",
      "Warning: Empty translation for grrGD14J.txt\n"
     ]
    },
    {
     "name": "stderr",
     "output_type": "stream",
     "text": [
      "\r",
      "Analyzing Sentiment:   7%|████▎                                                       | 10/139 [00:01<00:21,  6.11it/s]"
     ]
    },
    {
     "name": "stdout",
     "output_type": "stream",
     "text": [
      "gXXJzG1.txt: 1 (score: 0.994788408279419)\n"
     ]
    },
    {
     "name": "stderr",
     "output_type": "stream",
     "text": [
      "\r",
      "Analyzing Sentiment:   8%|████▋                                                       | 11/139 [00:01<00:22,  5.62it/s]"
     ]
    },
    {
     "name": "stdout",
     "output_type": "stream",
     "text": [
      "grGQJPne.txt: -1 (score: 0.009891738183796406)\n",
      "Warning: Empty translation for grk0Vl37.txt\n"
     ]
    },
    {
     "name": "stderr",
     "output_type": "stream",
     "text": [
      "\r",
      "Analyzing Sentiment:   9%|█████▌                                                      | 13/139 [00:02<00:19,  6.57it/s]"
     ]
    },
    {
     "name": "stdout",
     "output_type": "stream",
     "text": [
      "grO4xNve.txt: -1 (score: 0.04814784973859787)\n"
     ]
    },
    {
     "name": "stderr",
     "output_type": "stream",
     "text": [
      "\r",
      "Analyzing Sentiment:  10%|██████                                                      | 14/139 [00:02<00:24,  5.10it/s]"
     ]
    },
    {
     "name": "stdout",
     "output_type": "stream",
     "text": [
      "g77nzqJ.txt: 1 (score: 0.9980452060699463)\n"
     ]
    },
    {
     "name": "stderr",
     "output_type": "stream",
     "text": [
      "\r",
      "Analyzing Sentiment:  11%|██████▍                                                     | 15/139 [00:02<00:28,  4.32it/s]"
     ]
    },
    {
     "name": "stdout",
     "output_type": "stream",
     "text": [
      "3Q971El.txt: -1 (score: 0.0030002836138010025)\n"
     ]
    },
    {
     "name": "stderr",
     "output_type": "stream",
     "text": [
      "\r",
      "Analyzing Sentiment:  12%|██████▉                                                     | 16/139 [00:03<00:29,  4.17it/s]"
     ]
    },
    {
     "name": "stdout",
     "output_type": "stream",
     "text": [
      "gxD5Mb1.txt: -1 (score: 0.04575289040803909)\n"
     ]
    },
    {
     "name": "stderr",
     "output_type": "stream",
     "text": [
      "\r",
      "Analyzing Sentiment:  12%|███████▎                                                    | 17/139 [00:03<00:31,  3.87it/s]"
     ]
    },
    {
     "name": "stdout",
     "output_type": "stream",
     "text": [
      "rMe4DaE.txt: -1 (score: 0.06439823657274246)\n"
     ]
    },
    {
     "name": "stderr",
     "output_type": "stream",
     "text": [
      "\r",
      "Analyzing Sentiment:  13%|███████▊                                                    | 18/139 [00:03<00:34,  3.53it/s]"
     ]
    },
    {
     "name": "stdout",
     "output_type": "stream",
     "text": [
      "gRGgZrb.txt: 1 (score: 0.9708179831504822)\n",
      "Warning: Empty translation for grzlE9Qe.txt\n"
     ]
    },
    {
     "name": "stderr",
     "output_type": "stream",
     "text": [
      "\r",
      "Analyzing Sentiment:  14%|████████▋                                                   | 20/139 [00:04<00:27,  4.26it/s]"
     ]
    },
    {
     "name": "stdout",
     "output_type": "stream",
     "text": [
      "gJbk8G6.txt: -1 (score: 0.0030881003476679325)\n",
      "Warning: Empty translation for gxQOK4z.txt\n"
     ]
    },
    {
     "name": "stderr",
     "output_type": "stream",
     "text": [
      "\r",
      "Analyzing Sentiment:  16%|█████████▍                                                  | 22/139 [00:04<00:24,  4.80it/s]"
     ]
    },
    {
     "name": "stdout",
     "output_type": "stream",
     "text": [
      "gDvx5O7.txt: -1 (score: 0.005001045763492584)\n"
     ]
    },
    {
     "name": "stderr",
     "output_type": "stream",
     "text": [
      "\r",
      "Analyzing Sentiment:  17%|█████████▉                                                  | 23/139 [00:04<00:28,  4.08it/s]"
     ]
    },
    {
     "name": "stdout",
     "output_type": "stream",
     "text": [
      "g9ApGdA.txt: 1 (score: 0.994788408279419)\n"
     ]
    },
    {
     "name": "stderr",
     "output_type": "stream",
     "text": [
      "\r",
      "Analyzing Sentiment:  17%|██████████▎                                                 | 24/139 [00:05<00:30,  3.72it/s]"
     ]
    },
    {
     "name": "stdout",
     "output_type": "stream",
     "text": [
      "gry1OqOq.txt: 1 (score: 0.9865146279335022)\n"
     ]
    },
    {
     "name": "stderr",
     "output_type": "stream",
     "text": [
      "\r",
      "Analyzing Sentiment:  18%|██████████▊                                                 | 25/139 [00:05<00:30,  3.73it/s]"
     ]
    },
    {
     "name": "stdout",
     "output_type": "stream",
     "text": [
      "gxRX1eb.txt: -1 (score: 0.0017319608014076948)\n"
     ]
    },
    {
     "name": "stderr",
     "output_type": "stream",
     "text": [
      "\r",
      "Analyzing Sentiment:  19%|███████████▏                                                | 26/139 [00:05<00:32,  3.46it/s]"
     ]
    },
    {
     "name": "stdout",
     "output_type": "stream",
     "text": [
      "g91kly1.txt: -1 (score: 0.03692968189716339)\n"
     ]
    },
    {
     "name": "stderr",
     "output_type": "stream",
     "text": [
      "\r",
      "Analyzing Sentiment:  19%|███████████▋                                                | 27/139 [00:05<00:30,  3.65it/s]"
     ]
    },
    {
     "name": "stdout",
     "output_type": "stream",
     "text": [
      "g7kKOg7.txt: 0 (score: 0.5672272443771362)\n"
     ]
    },
    {
     "name": "stderr",
     "output_type": "stream",
     "text": [
      "\r",
      "Analyzing Sentiment:  20%|████████████                                                | 28/139 [00:06<00:29,  3.80it/s]"
     ]
    },
    {
     "name": "stdout",
     "output_type": "stream",
     "text": [
      "grlZMJWJ.txt: -1 (score: 0.14156889915466309)\n"
     ]
    },
    {
     "name": "stderr",
     "output_type": "stream",
     "text": [
      "\r",
      "Analyzing Sentiment:  21%|████████████▌                                               | 29/139 [00:06<00:31,  3.48it/s]"
     ]
    },
    {
     "name": "stdout",
     "output_type": "stream",
     "text": [
      "grywav1M.txt: 1 (score: 0.9939257502555847)\n"
     ]
    },
    {
     "name": "stderr",
     "output_type": "stream",
     "text": [
      "\r",
      "Analyzing Sentiment:  22%|████████████▉                                               | 30/139 [00:06<00:29,  3.68it/s]"
     ]
    },
    {
     "name": "stdout",
     "output_type": "stream",
     "text": [
      "grGO4RdA.txt: 0 (score: 0.2984415590763092)\n"
     ]
    },
    {
     "name": "stderr",
     "output_type": "stream",
     "text": [
      "\r",
      "Analyzing Sentiment:  22%|█████████████▍                                              | 31/139 [00:06<00:27,  3.90it/s]"
     ]
    },
    {
     "name": "stdout",
     "output_type": "stream",
     "text": [
      "3NDj4N8m.txt: 1 (score: 0.9363744854927063)\n",
      "Warning: Empty translation for gPX84x6.txt\n"
     ]
    },
    {
     "name": "stderr",
     "output_type": "stream",
     "text": [
      "\r",
      "Analyzing Sentiment:  24%|██████████████▏                                             | 33/139 [00:07<00:23,  4.50it/s]"
     ]
    },
    {
     "name": "stdout",
     "output_type": "stream",
     "text": [
      "grlDZGQz.txt: -1 (score: 0.15290440618991852)\n"
     ]
    },
    {
     "name": "stderr",
     "output_type": "stream",
     "text": [
      "\r",
      "Analyzing Sentiment:  24%|██████████████▋                                             | 34/139 [00:07<00:23,  4.51it/s]"
     ]
    },
    {
     "name": "stdout",
     "output_type": "stream",
     "text": [
      "grG6w1G7.txt: -1 (score: 0.13817080855369568)\n"
     ]
    },
    {
     "name": "stderr",
     "output_type": "stream",
     "text": [
      "\r",
      "Analyzing Sentiment:  25%|███████████████                                             | 35/139 [00:07<00:26,  3.87it/s]"
     ]
    },
    {
     "name": "stdout",
     "output_type": "stream",
     "text": [
      "gznMDGb.txt: -1 (score: 0.06430163234472275)\n"
     ]
    },
    {
     "name": "stderr",
     "output_type": "stream",
     "text": [
      "\r",
      "Analyzing Sentiment:  26%|███████████████▌                                            | 36/139 [00:08<00:26,  3.90it/s]"
     ]
    },
    {
     "name": "stdout",
     "output_type": "stream",
     "text": [
      "ggvZGbq.txt: -1 (score: 0.004185402765870094)\n"
     ]
    },
    {
     "name": "stderr",
     "output_type": "stream",
     "text": [
      "\r",
      "Analyzing Sentiment:  27%|███████████████▉                                            | 37/139 [00:08<00:25,  4.07it/s]"
     ]
    },
    {
     "name": "stdout",
     "output_type": "stream",
     "text": [
      "3NNpeE75.txt: 1 (score: 0.672574520111084)\n"
     ]
    },
    {
     "name": "stderr",
     "output_type": "stream",
     "text": [
      "\r",
      "Analyzing Sentiment:  27%|████████████████▍                                           | 38/139 [00:08<00:24,  4.11it/s]"
     ]
    },
    {
     "name": "stdout",
     "output_type": "stream",
     "text": [
      "grrRvZwz.txt: -1 (score: 0.018401270732283592)\n"
     ]
    },
    {
     "name": "stderr",
     "output_type": "stream",
     "text": [
      "\r",
      "Analyzing Sentiment:  28%|████████████████▊                                           | 39/139 [00:08<00:24,  4.15it/s]"
     ]
    },
    {
     "name": "stdout",
     "output_type": "stream",
     "text": [
      "gP6glEb.txt: -1 (score: 0.09006833285093307)\n"
     ]
    },
    {
     "name": "stderr",
     "output_type": "stream",
     "text": [
      "\r",
      "Analyzing Sentiment:  29%|█████████████████▎                                          | 40/139 [00:09<00:26,  3.68it/s]"
     ]
    },
    {
     "name": "stdout",
     "output_type": "stream",
     "text": [
      "gWpg69Q.txt: 1 (score: 0.9926579594612122)\n"
     ]
    },
    {
     "name": "stderr",
     "output_type": "stream",
     "text": [
      "\r",
      "Analyzing Sentiment:  29%|█████████████████▋                                          | 41/139 [00:09<00:29,  3.36it/s]"
     ]
    },
    {
     "name": "stdout",
     "output_type": "stream",
     "text": [
      "g1rM9yA.txt: -1 (score: 0.038179319351911545)\n",
      "Warning: Empty translation for gr0aWJdQ.txt\n"
     ]
    },
    {
     "name": "stderr",
     "output_type": "stream",
     "text": [
      "\r",
      "Analyzing Sentiment:  31%|██████████████████▌                                         | 43/139 [00:09<00:21,  4.49it/s]"
     ]
    },
    {
     "name": "stdout",
     "output_type": "stream",
     "text": [
      "gJ5dk5z.txt: 1 (score: 0.9978423118591309)\n"
     ]
    },
    {
     "name": "stderr",
     "output_type": "stream",
     "text": [
      "\r",
      "Analyzing Sentiment:  32%|██████████████████▉                                         | 44/139 [00:10<00:21,  4.43it/s]"
     ]
    },
    {
     "name": "stdout",
     "output_type": "stream",
     "text": [
      "gr01ONZe.txt: -1 (score: 0.02271021530032158)\n"
     ]
    },
    {
     "name": "stderr",
     "output_type": "stream",
     "text": [
      "\r",
      "Analyzing Sentiment:  32%|███████████████████▍                                        | 45/139 [00:10<00:21,  4.45it/s]"
     ]
    },
    {
     "name": "stdout",
     "output_type": "stream",
     "text": [
      "gBEbVR1.txt: -1 (score: 0.038074471056461334)\n"
     ]
    },
    {
     "name": "stderr",
     "output_type": "stream",
     "text": [
      "\r",
      "Analyzing Sentiment:  33%|███████████████████▊                                        | 46/139 [00:10<00:21,  4.40it/s]"
     ]
    },
    {
     "name": "stdout",
     "output_type": "stream",
     "text": [
      "grrmmvgM.txt: -1 (score: 0.006011363584548235)\n",
      "Warning: Empty translation for gp6EXx6.txt\n"
     ]
    },
    {
     "name": "stderr",
     "output_type": "stream",
     "text": [
      "\r",
      "Analyzing Sentiment:  35%|████████████████████▋                                       | 48/139 [00:10<00:19,  4.75it/s]"
     ]
    },
    {
     "name": "stdout",
     "output_type": "stream",
     "text": [
      "gPQnNnb.txt: 1 (score: 0.9623138308525085)\n"
     ]
    },
    {
     "name": "stderr",
     "output_type": "stream",
     "text": [
      "\r",
      "Analyzing Sentiment:  35%|█████████████████████▏                                      | 49/139 [00:11<00:19,  4.62it/s]"
     ]
    },
    {
     "name": "stdout",
     "output_type": "stream",
     "text": [
      "gmxxmne.txt: -1 (score: 0.0082427728921175)\n"
     ]
    },
    {
     "name": "stderr",
     "output_type": "stream",
     "text": [
      "\r",
      "Analyzing Sentiment:  36%|█████████████████████▌                                      | 50/139 [00:11<00:22,  4.02it/s]"
     ]
    },
    {
     "name": "stdout",
     "output_type": "stream",
     "text": [
      "g7p85De.txt: -1 (score: 0.007883883081376553)\n"
     ]
    },
    {
     "name": "stderr",
     "output_type": "stream",
     "text": [
      "\r",
      "Analyzing Sentiment:  37%|██████████████████████                                      | 51/139 [00:11<00:21,  4.14it/s]"
     ]
    },
    {
     "name": "stdout",
     "output_type": "stream",
     "text": [
      "grybEJ97.txt: -1 (score: 0.10229172557592392)\n"
     ]
    },
    {
     "name": "stderr",
     "output_type": "stream",
     "text": [
      "\r",
      "Analyzing Sentiment:  37%|██████████████████████▍                                     | 52/139 [00:11<00:20,  4.17it/s]"
     ]
    },
    {
     "name": "stdout",
     "output_type": "stream",
     "text": [
      "gOr5V8z.txt: -1 (score: 0.01844608783721924)\n"
     ]
    },
    {
     "name": "stderr",
     "output_type": "stream",
     "text": [
      "\r",
      "Analyzing Sentiment:  38%|██████████████████████▉                                     | 53/139 [00:12<00:23,  3.64it/s]"
     ]
    },
    {
     "name": "stdout",
     "output_type": "stream",
     "text": [
      "bRQD8ja.txt: 1 (score: 0.9603212475776672)\n"
     ]
    },
    {
     "name": "stderr",
     "output_type": "stream",
     "text": [
      "\r",
      "Analyzing Sentiment:  39%|███████████████████████▎                                    | 54/139 [00:12<00:25,  3.39it/s]"
     ]
    },
    {
     "name": "stdout",
     "output_type": "stream",
     "text": [
      "g4pZrEq.txt: -1 (score: 0.0017140605486929417)\n",
      "Warning: Empty translation for grkx5PO6.txt\n",
      "Warning: Empty translation for gj0rElq.txt\n",
      "Warning: Empty translation for bRrymmP.txt\n"
     ]
    },
    {
     "name": "stderr",
     "output_type": "stream",
     "text": [
      "\r",
      "Analyzing Sentiment:  42%|█████████████████████████                                   | 58/139 [00:12<00:13,  6.06it/s]"
     ]
    },
    {
     "name": "stdout",
     "output_type": "stream",
     "text": [
      "grr6vkZA.txt: 1 (score: 0.9991950392723083)\n"
     ]
    },
    {
     "name": "stderr",
     "output_type": "stream",
     "text": [
      "\r",
      "Analyzing Sentiment:  42%|█████████████████████████▍                                  | 59/139 [00:13<00:15,  5.06it/s]"
     ]
    },
    {
     "name": "stdout",
     "output_type": "stream",
     "text": [
      "gagJzn7.txt: 1 (score: 0.9981523156166077)\n",
      "Warning: Empty translation for g11qP66.txt\n"
     ]
    },
    {
     "name": "stderr",
     "output_type": "stream",
     "text": [
      "\r",
      "Analyzing Sentiment:  44%|██████████████████████████▎                                 | 61/139 [00:13<00:13,  5.79it/s]"
     ]
    },
    {
     "name": "stdout",
     "output_type": "stream",
     "text": [
      "grkXMVnM.txt: 0 (score: 0.4420040547847748)\n",
      "Warning: Empty translation for grNrmkqQ.txt\n"
     ]
    },
    {
     "name": "stderr",
     "output_type": "stream",
     "text": [
      "\r",
      "Analyzing Sentiment:  45%|███████████████████████████▏                                | 63/139 [00:13<00:11,  6.68it/s]"
     ]
    },
    {
     "name": "stdout",
     "output_type": "stream",
     "text": [
      "gxvxmXM.txt: -1 (score: 0.0018740124069154263)\n"
     ]
    },
    {
     "name": "stderr",
     "output_type": "stream",
     "text": [
      "\r",
      "Analyzing Sentiment:  46%|███████████████████████████▋                                | 64/139 [00:14<00:12,  6.03it/s]"
     ]
    },
    {
     "name": "stdout",
     "output_type": "stream",
     "text": [
      "grGA3Gbq.txt: -1 (score: 0.0036245156079530716)\n"
     ]
    },
    {
     "name": "stderr",
     "output_type": "stream",
     "text": [
      "\r",
      "Analyzing Sentiment:  47%|████████████████████████████                                | 65/139 [00:14<00:13,  5.64it/s]"
     ]
    },
    {
     "name": "stdout",
     "output_type": "stream",
     "text": [
      "gPn7bBA.txt: -1 (score: 0.20438843965530396)\n"
     ]
    },
    {
     "name": "stderr",
     "output_type": "stream",
     "text": [
      "\r",
      "Analyzing Sentiment:  47%|████████████████████████████▍                               | 66/139 [00:14<00:14,  5.14it/s]"
     ]
    },
    {
     "name": "stdout",
     "output_type": "stream",
     "text": [
      "gB5rPM7.txt: 1 (score: 0.6672353148460388)\n"
     ]
    },
    {
     "name": "stderr",
     "output_type": "stream",
     "text": [
      "\r",
      "Analyzing Sentiment:  48%|████████████████████████████▉                               | 67/139 [00:14<00:16,  4.30it/s]"
     ]
    },
    {
     "name": "stdout",
     "output_type": "stream",
     "text": [
      "gJ9q1nz.txt: 1 (score: 0.999702513217926)\n"
     ]
    },
    {
     "name": "stderr",
     "output_type": "stream",
     "text": [
      "\r",
      "Analyzing Sentiment:  49%|█████████████████████████████▎                              | 68/139 [00:15<00:18,  3.76it/s]"
     ]
    },
    {
     "name": "stdout",
     "output_type": "stream",
     "text": [
      "grNxmmZ1.txt: -1 (score: 0.020054595544934273)\n"
     ]
    },
    {
     "name": "stderr",
     "output_type": "stream",
     "text": [
      "\r",
      "Analyzing Sentiment:  50%|█████████████████████████████▊                              | 69/139 [00:15<00:18,  3.75it/s]"
     ]
    },
    {
     "name": "stdout",
     "output_type": "stream",
     "text": [
      "3v9p1qX.txt: -1 (score: 0.015260627493262291)\n",
      "Warning: Empty translation for g11KaP7.txt\n"
     ]
    },
    {
     "name": "stderr",
     "output_type": "stream",
     "text": [
      "\r",
      "Analyzing Sentiment:  51%|██████████████████████████████▋                             | 71/139 [00:15<00:13,  4.88it/s]"
     ]
    },
    {
     "name": "stdout",
     "output_type": "stream",
     "text": [
      "grNQjqqA.txt: -1 (score: 0.007223614025861025)\n"
     ]
    },
    {
     "name": "stderr",
     "output_type": "stream",
     "text": [
      "\r",
      "Analyzing Sentiment:  52%|███████████████████████████████                             | 72/139 [00:16<00:15,  4.19it/s]"
     ]
    },
    {
     "name": "stdout",
     "output_type": "stream",
     "text": [
      "33vbBd3.txt: 1 (score: 0.9216212034225464)\n"
     ]
    },
    {
     "name": "stderr",
     "output_type": "stream",
     "text": [
      "\r",
      "Analyzing Sentiment:  53%|███████████████████████████████▌                            | 73/139 [00:16<00:15,  4.20it/s]"
     ]
    },
    {
     "name": "stdout",
     "output_type": "stream",
     "text": [
      "grzrOw0A.txt: -1 (score: 0.0039612106047570705)\n"
     ]
    },
    {
     "name": "stderr",
     "output_type": "stream",
     "text": [
      "\r",
      "Analyzing Sentiment:  53%|███████████████████████████████▉                            | 74/139 [00:16<00:15,  4.14it/s]"
     ]
    },
    {
     "name": "stdout",
     "output_type": "stream",
     "text": [
      "3eny4nX.txt: 1 (score: 0.9851276278495789)\n"
     ]
    },
    {
     "name": "stderr",
     "output_type": "stream",
     "text": [
      "\r",
      "Analyzing Sentiment:  54%|████████████████████████████████▎                           | 75/139 [00:16<00:15,  4.01it/s]"
     ]
    },
    {
     "name": "stdout",
     "output_type": "stream",
     "text": [
      "grrdmkkq.txt: 1 (score: 0.9920748472213745)\n",
      "Warning: Empty translation for grzDWea6.txt\n"
     ]
    },
    {
     "name": "stderr",
     "output_type": "stream",
     "text": [
      "\r",
      "Analyzing Sentiment:  55%|█████████████████████████████████▏                          | 77/139 [00:17<00:12,  4.96it/s]"
     ]
    },
    {
     "name": "stdout",
     "output_type": "stream",
     "text": [
      "grAdWGk7.txt: -1 (score: 0.11011011153459549)\n",
      "Warning: Empty translation for grr7bjRJ.txt\n"
     ]
    },
    {
     "name": "stderr",
     "output_type": "stream",
     "text": [
      "\r",
      "Analyzing Sentiment:  57%|██████████████████████████████████                          | 79/139 [00:17<00:11,  5.10it/s]"
     ]
    },
    {
     "name": "stdout",
     "output_type": "stream",
     "text": [
      "greGz3zJ.txt: 1 (score: 0.9953149557113647)\n"
     ]
    },
    {
     "name": "stderr",
     "output_type": "stream",
     "text": [
      "\r",
      "Analyzing Sentiment:  58%|██████████████████████████████████▌                         | 80/139 [00:17<00:12,  4.81it/s]"
     ]
    },
    {
     "name": "stdout",
     "output_type": "stream",
     "text": [
      "3gEzEJ5.txt: -1 (score: 0.013549300841987133)\n"
     ]
    },
    {
     "name": "stderr",
     "output_type": "stream",
     "text": [
      "\r",
      "Analyzing Sentiment:  58%|██████████████████████████████████▉                         | 81/139 [00:18<00:14,  4.10it/s]"
     ]
    },
    {
     "name": "stdout",
     "output_type": "stream",
     "text": [
      "gdEAQv1.txt: -1 (score: 0.006226504221558571)\n"
     ]
    },
    {
     "name": "stderr",
     "output_type": "stream",
     "text": [
      "\r",
      "Analyzing Sentiment:  59%|███████████████████████████████████▍                        | 82/139 [00:18<00:13,  4.13it/s]"
     ]
    },
    {
     "name": "stdout",
     "output_type": "stream",
     "text": [
      "g735KWz.txt: -1 (score: 0.0028734649531543255)\n"
     ]
    },
    {
     "name": "stderr",
     "output_type": "stream",
     "text": [
      "\r",
      "Analyzing Sentiment:  60%|███████████████████████████████████▊                        | 83/139 [00:18<00:12,  4.31it/s]"
     ]
    },
    {
     "name": "stdout",
     "output_type": "stream",
     "text": [
      "gPRzR9A.txt: -1 (score: 0.09768342971801758)\n"
     ]
    },
    {
     "name": "stderr",
     "output_type": "stream",
     "text": [
      "\r",
      "Analyzing Sentiment:  60%|████████████████████████████████████▎                       | 84/139 [00:18<00:12,  4.37it/s]"
     ]
    },
    {
     "name": "stdout",
     "output_type": "stream",
     "text": [
      "gpXN6kJ.txt: -1 (score: 0.007203994784504175)\n",
      "Warning: Empty translation for grOZ0qDA.txt\n"
     ]
    },
    {
     "name": "stderr",
     "output_type": "stream",
     "text": [
      "\r",
      "Analyzing Sentiment:  62%|█████████████████████████████████████                       | 86/139 [00:19<00:10,  4.99it/s]"
     ]
    },
    {
     "name": "stdout",
     "output_type": "stream",
     "text": [
      "grGOlQVJ.txt: -1 (score: 0.06266807019710541)\n"
     ]
    },
    {
     "name": "stderr",
     "output_type": "stream",
     "text": [
      "\r",
      "Analyzing Sentiment:  63%|█████████████████████████████████████▌                      | 87/139 [00:19<00:12,  4.19it/s]"
     ]
    },
    {
     "name": "stdout",
     "output_type": "stream",
     "text": [
      "bRy5J8a.txt: -1 (score: 0.01032860018312931)\n",
      "Warning: Empty translation for gaEb3Az.txt\n"
     ]
    },
    {
     "name": "stderr",
     "output_type": "stream",
     "text": [
      "\r",
      "Analyzing Sentiment:  64%|██████████████████████████████████████▍                     | 89/139 [00:19<00:10,  4.94it/s]"
     ]
    },
    {
     "name": "stdout",
     "output_type": "stream",
     "text": [
      "gryvkJ0e.txt: 1 (score: 0.9678551554679871)\n"
     ]
    },
    {
     "name": "stderr",
     "output_type": "stream",
     "text": [
      "\r",
      "Analyzing Sentiment:  65%|██████████████████████████████████████▊                     | 90/139 [00:20<00:11,  4.32it/s]"
     ]
    },
    {
     "name": "stdout",
     "output_type": "stream",
     "text": [
      "g7AlGvJ.txt: -1 (score: 0.003812202950939536)\n"
     ]
    },
    {
     "name": "stderr",
     "output_type": "stream",
     "text": [
      "\r",
      "Analyzing Sentiment:  65%|███████████████████████████████████████▎                    | 91/139 [00:20<00:12,  3.86it/s]"
     ]
    },
    {
     "name": "stdout",
     "output_type": "stream",
     "text": [
      "gJpE997.txt: -1 (score: 0.1140219122171402)\n"
     ]
    },
    {
     "name": "stderr",
     "output_type": "stream",
     "text": [
      "\r",
      "Analyzing Sentiment:  66%|███████████████████████████████████████▋                    | 92/139 [00:20<00:13,  3.50it/s]"
     ]
    },
    {
     "name": "stdout",
     "output_type": "stream",
     "text": [
      "3m4aZDm.txt: 1 (score: 0.9193395972251892)\n"
     ]
    },
    {
     "name": "stderr",
     "output_type": "stream",
     "text": [
      "\r",
      "Analyzing Sentiment:  67%|████████████████████████████████████████▏                   | 93/139 [00:21<00:12,  3.73it/s]"
     ]
    },
    {
     "name": "stdout",
     "output_type": "stream",
     "text": [
      "gplBGbA.txt: -1 (score: 0.004197527188807726)\n",
      "Warning: Empty translation for gaqa9k1.txt\n"
     ]
    },
    {
     "name": "stderr",
     "output_type": "stream",
     "text": [
      "\r",
      "Analyzing Sentiment:  68%|█████████████████████████████████████████                   | 95/139 [00:21<00:09,  4.70it/s]"
     ]
    },
    {
     "name": "stdout",
     "output_type": "stream",
     "text": [
      "3NQmy36K.txt: -1 (score: 0.03720806911587715)\n"
     ]
    },
    {
     "name": "stderr",
     "output_type": "stream",
     "text": [
      "\r",
      "Analyzing Sentiment:  69%|█████████████████████████████████████████▍                  | 96/139 [00:21<00:09,  4.75it/s]"
     ]
    },
    {
     "name": "stdout",
     "output_type": "stream",
     "text": [
      "g0VbzKe.txt: -1 (score: 0.007292335387319326)\n"
     ]
    },
    {
     "name": "stderr",
     "output_type": "stream",
     "text": [
      "\r",
      "Analyzing Sentiment:  70%|█████████████████████████████████████████▊                  | 97/139 [00:21<00:10,  4.09it/s]"
     ]
    },
    {
     "name": "stdout",
     "output_type": "stream",
     "text": [
      "g05wW0z.txt: 1 (score: 0.9992548823356628)\n"
     ]
    },
    {
     "name": "stderr",
     "output_type": "stream",
     "text": [
      "\r",
      "Analyzing Sentiment:  71%|██████████████████████████████████████████▎                 | 98/139 [00:22<00:10,  4.06it/s]"
     ]
    },
    {
     "name": "stdout",
     "output_type": "stream",
     "text": [
      "g9MOVqb.txt: -1 (score: 0.013668357394635677)\n"
     ]
    },
    {
     "name": "stderr",
     "output_type": "stream",
     "text": [
      "\r",
      "Analyzing Sentiment:  71%|██████████████████████████████████████████▋                 | 99/139 [00:22<00:09,  4.19it/s]"
     ]
    },
    {
     "name": "stdout",
     "output_type": "stream",
     "text": [
      "ggXegq7.txt: -1 (score: 0.057323575019836426)\n",
      "Warning: Empty translation for grz9AxbQ.txt\n"
     ]
    },
    {
     "name": "stderr",
     "output_type": "stream",
     "text": [
      "\r",
      "Analyzing Sentiment:  73%|██████████████████████████████████████████▊                | 101/139 [00:22<00:07,  4.77it/s]"
     ]
    },
    {
     "name": "stdout",
     "output_type": "stream",
     "text": [
      "bRG9MmD.txt: 1 (score: 0.9989925026893616)\n",
      "Warning: Empty translation for gX0r7KA.txt\n"
     ]
    },
    {
     "name": "stderr",
     "output_type": "stream",
     "text": [
      "\r",
      "Analyzing Sentiment:  74%|███████████████████████████████████████████▋               | 103/139 [00:22<00:06,  5.84it/s]"
     ]
    },
    {
     "name": "stdout",
     "output_type": "stream",
     "text": [
      "gO710e1.txt: -1 (score: 0.011028679087758064)\n"
     ]
    },
    {
     "name": "stderr",
     "output_type": "stream",
     "text": [
      "\r",
      "Analyzing Sentiment:  75%|████████████████████████████████████████████▏              | 104/139 [00:23<00:07,  4.78it/s]"
     ]
    },
    {
     "name": "stdout",
     "output_type": "stream",
     "text": [
      "grlKN9V7.txt: 0 (score: 0.2614249587059021)\n"
     ]
    },
    {
     "name": "stderr",
     "output_type": "stream",
     "text": [
      "\r",
      "Analyzing Sentiment:  76%|████████████████████████████████████████████▌              | 105/139 [00:23<00:08,  4.09it/s]"
     ]
    },
    {
     "name": "stdout",
     "output_type": "stream",
     "text": [
      "gRGO767.txt: -1 (score: 0.07867462933063507)\n"
     ]
    },
    {
     "name": "stderr",
     "output_type": "stream",
     "text": [
      "\r",
      "Analyzing Sentiment:  76%|████████████████████████████████████████████▉              | 106/139 [00:23<00:08,  4.00it/s]"
     ]
    },
    {
     "name": "stdout",
     "output_type": "stream",
     "text": [
      "gOyR9MA.txt: -1 (score: 0.049171771854162216)\n"
     ]
    },
    {
     "name": "stderr",
     "output_type": "stream",
     "text": [
      "\r",
      "Analyzing Sentiment:  77%|█████████████████████████████████████████████▍             | 107/139 [00:24<00:07,  4.21it/s]"
     ]
    },
    {
     "name": "stdout",
     "output_type": "stream",
     "text": [
      "grbzERrq.txt: -1 (score: 0.002340656938031316)\n"
     ]
    },
    {
     "name": "stderr",
     "output_type": "stream",
     "text": [
      "\r",
      "Analyzing Sentiment:  78%|█████████████████████████████████████████████▊             | 108/139 [00:24<00:08,  3.74it/s]"
     ]
    },
    {
     "name": "stdout",
     "output_type": "stream",
     "text": [
      "gppRVl1.txt: 1 (score: 0.9984851479530334)\n"
     ]
    },
    {
     "name": "stderr",
     "output_type": "stream",
     "text": [
      "\r",
      "Analyzing Sentiment:  78%|██████████████████████████████████████████████▎            | 109/139 [00:24<00:07,  4.01it/s]"
     ]
    },
    {
     "name": "stdout",
     "output_type": "stream",
     "text": [
      "gpxaZRz.txt: -1 (score: 0.008164840750396252)\n",
      "Warning: Empty translation for gWmgNQ1.txt\n"
     ]
    },
    {
     "name": "stderr",
     "output_type": "stream",
     "text": [
      "\r",
      "Analyzing Sentiment:  80%|███████████████████████████████████████████████            | 111/139 [00:24<00:06,  4.65it/s]"
     ]
    },
    {
     "name": "stdout",
     "output_type": "stream",
     "text": [
      "gWKgZn6.txt: 1 (score: 0.9838932752609253)\n"
     ]
    },
    {
     "name": "stderr",
     "output_type": "stream",
     "text": [
      "\r",
      "Analyzing Sentiment:  81%|███████████████████████████████████████████████▌           | 112/139 [00:25<00:06,  4.12it/s]"
     ]
    },
    {
     "name": "stdout",
     "output_type": "stream",
     "text": [
      "gDQzbOq.txt: 1 (score: 0.9899067282676697)\n"
     ]
    },
    {
     "name": "stderr",
     "output_type": "stream",
     "text": [
      "\r",
      "Analyzing Sentiment:  81%|███████████████████████████████████████████████▉           | 113/139 [00:25<00:06,  4.15it/s]"
     ]
    },
    {
     "name": "stdout",
     "output_type": "stream",
     "text": [
      "gO68axq.txt: -1 (score: 0.0018188910325989127)\n"
     ]
    },
    {
     "name": "stderr",
     "output_type": "stream",
     "text": [
      "\r",
      "Analyzing Sentiment:  82%|████████████████████████████████████████████████▍          | 114/139 [00:25<00:05,  4.33it/s]"
     ]
    },
    {
     "name": "stdout",
     "output_type": "stream",
     "text": [
      "grO78lQ6.txt: -1 (score: 0.004645657259970903)\n",
      "Warning: Empty translation for grzy1x7z.txt\n"
     ]
    },
    {
     "name": "stderr",
     "output_type": "stream",
     "text": [
      "\r",
      "Analyzing Sentiment:  83%|█████████████████████████████████████████████████▏         | 116/139 [00:25<00:04,  5.60it/s]"
     ]
    },
    {
     "name": "stdout",
     "output_type": "stream",
     "text": [
      "grAab8Kb.txt: -1 (score: 0.002983796177431941)\n"
     ]
    },
    {
     "name": "stderr",
     "output_type": "stream",
     "text": [
      "\r",
      "Analyzing Sentiment:  84%|█████████████████████████████████████████████████▋         | 117/139 [00:26<00:04,  4.67it/s]"
     ]
    },
    {
     "name": "stdout",
     "output_type": "stream",
     "text": [
      "g4gOjXz.txt: 1 (score: 0.9985887408256531)\n"
     ]
    },
    {
     "name": "stderr",
     "output_type": "stream",
     "text": [
      "\r",
      "Analyzing Sentiment:  85%|██████████████████████████████████████████████████         | 118/139 [00:26<00:05,  4.11it/s]"
     ]
    },
    {
     "name": "stdout",
     "output_type": "stream",
     "text": [
      "g0drzBb.txt: -1 (score: 0.021044086664915085)\n",
      "Warning: Empty translation for gmVWywb.txt\n"
     ]
    },
    {
     "name": "stderr",
     "output_type": "stream",
     "text": [
      "\r",
      "Analyzing Sentiment:  86%|██████████████████████████████████████████████████▉        | 120/139 [00:26<00:03,  5.35it/s]"
     ]
    },
    {
     "name": "stdout",
     "output_type": "stream",
     "text": [
      "gJAy776.txt: -1 (score: 0.0067994315177202225)\n"
     ]
    },
    {
     "name": "stderr",
     "output_type": "stream",
     "text": [
      "\r",
      "Analyzing Sentiment:  87%|███████████████████████████████████████████████████▎       | 121/139 [00:27<00:03,  5.05it/s]"
     ]
    },
    {
     "name": "stdout",
     "output_type": "stream",
     "text": [
      "gxP03nJ.txt: -1 (score: 0.003886757418513298)\n"
     ]
    },
    {
     "name": "stderr",
     "output_type": "stream",
     "text": [
      "\r",
      "Analyzing Sentiment:  88%|███████████████████████████████████████████████████▊       | 122/139 [00:27<00:03,  4.34it/s]"
     ]
    },
    {
     "name": "stdout",
     "output_type": "stream",
     "text": [
      "3NjdJ6nj.txt: 1 (score: 0.9639383554458618)\n"
     ]
    },
    {
     "name": "stderr",
     "output_type": "stream",
     "text": [
      "\r",
      "Analyzing Sentiment:  88%|████████████████████████████████████████████████████▏      | 123/139 [00:27<00:03,  4.10it/s]"
     ]
    },
    {
     "name": "stdout",
     "output_type": "stream",
     "text": [
      "gX9wDjA.txt: -1 (score: 0.040468115359544754)\n"
     ]
    },
    {
     "name": "stderr",
     "output_type": "stream",
     "text": [
      "\r",
      "Analyzing Sentiment:  89%|████████████████████████████████████████████████████▋      | 124/139 [00:27<00:03,  4.07it/s]"
     ]
    },
    {
     "name": "stdout",
     "output_type": "stream",
     "text": [
      "gPvxKkb.txt: 1 (score: 0.9851974844932556)\n"
     ]
    },
    {
     "name": "stderr",
     "output_type": "stream",
     "text": [
      "\r",
      "Analyzing Sentiment:  90%|█████████████████████████████████████████████████████      | 125/139 [00:28<00:03,  4.27it/s]"
     ]
    },
    {
     "name": "stdout",
     "output_type": "stream",
     "text": [
      "g47GrEA.txt: -1 (score: 0.01626068726181984)\n"
     ]
    },
    {
     "name": "stderr",
     "output_type": "stream",
     "text": [
      "\r",
      "Analyzing Sentiment:  91%|█████████████████████████████████████████████████████▍     | 126/139 [00:28<00:03,  3.76it/s]"
     ]
    },
    {
     "name": "stdout",
     "output_type": "stream",
     "text": [
      "bR9ya13.txt: -1 (score: 0.0024676602333784103)\n",
      "Warning: Empty translation for gdzJWdJ.txt\n",
      "Warning: Empty translation for 3PdpPOm.txt\n"
     ]
    },
    {
     "name": "stderr",
     "output_type": "stream",
     "text": [
      "\r",
      "Analyzing Sentiment:  93%|██████████████████████████████████████████████████████▊    | 129/139 [00:28<00:01,  5.65it/s]"
     ]
    },
    {
     "name": "stdout",
     "output_type": "stream",
     "text": [
      "gan0bv1.txt: 1 (score: 0.9991484880447388)\n"
     ]
    },
    {
     "name": "stderr",
     "output_type": "stream",
     "text": [
      "\r",
      "Analyzing Sentiment:  94%|███████████████████████████████████████████████████████▏   | 130/139 [00:29<00:01,  4.80it/s]"
     ]
    },
    {
     "name": "stdout",
     "output_type": "stream",
     "text": [
      "g4d1DZz.txt: 1 (score: 0.9828774929046631)\n"
     ]
    },
    {
     "name": "stderr",
     "output_type": "stream",
     "text": [
      "\r",
      "Analyzing Sentiment:  94%|███████████████████████████████████████████████████████▌   | 131/139 [00:29<00:01,  4.51it/s]"
     ]
    },
    {
     "name": "stdout",
     "output_type": "stream",
     "text": [
      "grzgndVM.txt: 1 (score: 0.9980521202087402)\n"
     ]
    },
    {
     "name": "stderr",
     "output_type": "stream",
     "text": [
      "Analyzing Sentiment:  96%|████████████████████████████████████████████████████████▍  | 133/139 [00:29<00:01,  4.77it/s]"
     ]
    },
    {
     "name": "stdout",
     "output_type": "stream",
     "text": [
      "gRyx7Ve.txt: -1 (score: 0.005849716253578663)\n",
      "3Q3lDEw.txt: 0 (score: 0.568073034286499)\n"
     ]
    },
    {
     "name": "stderr",
     "output_type": "stream",
     "text": [
      "\r",
      "Analyzing Sentiment:  96%|████████████████████████████████████████████████████████▉  | 134/139 [00:30<00:01,  4.06it/s]"
     ]
    },
    {
     "name": "stdout",
     "output_type": "stream",
     "text": [
      "gadbxWq.txt: -1 (score: 0.0009676043409854174)\n",
      "Warning: Empty translation for g7JeMGM.txt\n",
      "Warning: Empty translation for g0gPQnq.txt\n"
     ]
    },
    {
     "name": "stderr",
     "output_type": "stream",
     "text": [
      "Analyzing Sentiment: 100%|███████████████████████████████████████████████████████████| 139/139 [00:30<00:00,  4.57it/s]\n"
     ]
    },
    {
     "name": "stdout",
     "output_type": "stream",
     "text": [
      "grOekykb.txt: 1 (score: 0.8265916109085083)\n",
      "Warning: Empty translation for gMblb4A.txt\n",
      "Warning: Empty translation for gjbdwdM.txt\n",
      "Analyzing Folder: sharechat_scraper/updated_tesseract/Punjabi/VO6Zjy_Punjabi/\n"
     ]
    },
    {
     "name": "stderr",
     "output_type": "stream",
     "text": [
      "\r",
      "Analyzing Sentiment:   0%|                                                                     | 0/232 [00:00<?, ?it/s]"
     ]
    },
    {
     "name": "stdout",
     "output_type": "stream",
     "text": [
      "Warning: Empty translation for BXrDDRO.txt\n",
      "Warning: Empty translation for 4wAzE7Va.txt\n",
      "Warning: Empty translation for 4awRV8G.txt\n",
      "Warning: Empty translation for 93Zx4Knz.txt\n",
      "Warning: Empty translation for 4w1AxRDQ.txt\n",
      "Warning: Empty translation for B6EX5wR.txt\n",
      "Warning: Empty translation for 3kGr9Xy.txt\n"
     ]
    },
    {
     "name": "stderr",
     "output_type": "stream",
     "text": [
      "\r",
      "Analyzing Sentiment:   3%|██                                                           | 8/232 [00:00<00:05, 39.31it/s]"
     ]
    },
    {
     "name": "stdout",
     "output_type": "stream",
     "text": [
      "g0ZDZdb.txt: -1 (score: 0.006242519244551659)\n",
      "44NPlJQ.txt: 1 (score: 0.9986383318901062)\n",
      "Warning: Empty translation for 931RjDP4.txt\n",
      "5JqNpAB.txt: -1 (score: 0.0038342734333127737)\n"
     ]
    },
    {
     "name": "stderr",
     "output_type": "stream",
     "text": [
      "\r",
      "Analyzing Sentiment:   5%|███                                                         | 12/232 [00:01<00:27,  8.03it/s]"
     ]
    },
    {
     "name": "stdout",
     "output_type": "stream",
     "text": [
      "Br6rRrR.txt: 1 (score: 0.9959063529968262)\n",
      "Warning: Empty translation for 4Xy5lN7.txt\n",
      "Warning: Empty translation for 9vKr9z0.txt\n",
      "Warning: Empty translation for 40KB951.txt\n",
      "Warning: Empty translation for 9QrgMl9.txt\n",
      "Warning: Empty translation for 9QnWaez.txt\n",
      "Warning: Empty translation for 9yPkgGM.txt\n"
     ]
    },
    {
     "name": "stderr",
     "output_type": "stream",
     "text": [
      "\r",
      "Analyzing Sentiment:   8%|████▉                                                       | 19/232 [00:01<00:18, 11.60it/s]"
     ]
    },
    {
     "name": "stdout",
     "output_type": "stream",
     "text": [
      "939naO39.txt: 1 (score: 0.9894120097160339)\n",
      "Warning: Empty translation for 45JlRQ1.txt\n",
      "Warning: Empty translation for 4BwX8a1.txt\n"
     ]
    },
    {
     "name": "stderr",
     "output_type": "stream",
     "text": [
      "\r",
      "Analyzing Sentiment:   9%|█████▋                                                      | 22/232 [00:01<00:19, 10.89it/s]"
     ]
    },
    {
     "name": "stdout",
     "output_type": "stream",
     "text": [
      "4XRqMAG.txt: -1 (score: 0.018905766308307648)\n",
      "Warning: Empty translation for B0QAE0KJ.txt\n",
      "Warning: Empty translation for 1Jvr886.txt\n",
      "Warning: Empty translation for 4Dx7NXB.txt\n",
      "Warning: Empty translation for 9rmxe74.txt\n",
      "Warning: Empty translation for 4XGkqpG.txt\n",
      "Warning: Empty translation for 44EdNNG.txt\n"
     ]
    },
    {
     "name": "stderr",
     "output_type": "stream",
     "text": [
      "\r",
      "Analyzing Sentiment:  12%|███████▌                                                    | 29/232 [00:02<00:14, 13.62it/s]"
     ]
    },
    {
     "name": "stdout",
     "output_type": "stream",
     "text": [
      "4Ndedn8.txt: 1 (score: 0.8880622982978821)\n",
      "Warning: Empty translation for 4w70j9kv.txt\n",
      "Warning: Empty translation for 5aQ8BadK.txt\n"
     ]
    },
    {
     "name": "stderr",
     "output_type": "stream",
     "text": [
      "\r",
      "Analyzing Sentiment:  14%|████████▎                                                   | 32/232 [00:02<00:16, 12.22it/s]"
     ]
    },
    {
     "name": "stdout",
     "output_type": "stream",
     "text": [
      "9ZE77QM.txt: -1 (score: 0.04690657928586006)\n"
     ]
    },
    {
     "name": "stderr",
     "output_type": "stream",
     "text": [
      "\r",
      "Analyzing Sentiment:  15%|████████▊                                                   | 34/232 [00:02<00:19, 10.28it/s]"
     ]
    },
    {
     "name": "stdout",
     "output_type": "stream",
     "text": [
      "Ny9J6mAp.txt: -1 (score: 0.010350723750889301)\n",
      "Warning: Empty translation for 9Xk4vjM.txt\n",
      "Warning: Empty translation for B47E8xV.txt\n",
      "Warning: Empty translation for 4WPRrbG.txt\n",
      "Warning: Empty translation for JqEqa6Z.txt\n"
     ]
    },
    {
     "name": "stderr",
     "output_type": "stream",
     "text": [
      "\r",
      "Analyzing Sentiment:  16%|█████████▊                                                  | 38/232 [00:03<00:18, 10.67it/s]"
     ]
    },
    {
     "name": "stdout",
     "output_type": "stream",
     "text": [
      "5KaeRAJ.txt: -1 (score: 0.011437570676207542)\n"
     ]
    },
    {
     "name": "stderr",
     "output_type": "stream",
     "text": [
      "\r",
      "Analyzing Sentiment:  17%|██████████▎                                                 | 40/232 [00:03<00:21,  9.07it/s]"
     ]
    },
    {
     "name": "stdout",
     "output_type": "stream",
     "text": [
      "9e5ZPwQ.txt: -1 (score: 0.00043169918353669345)\n",
      "Warning: Empty translation for 4wR8MWW7.txt\n"
     ]
    },
    {
     "name": "stderr",
     "output_type": "stream",
     "text": [
      "\r",
      "Analyzing Sentiment:  18%|██████████▌                                                 | 41/232 [00:04<00:26,  7.14it/s]"
     ]
    },
    {
     "name": "stdout",
     "output_type": "stream",
     "text": [
      "4Djbrd1.txt: -1 (score: 0.0009916957933455706)\n",
      "Warning: Empty translation for BPPva1O.txt\n",
      "Warning: Empty translation for 4BmzmBG.txt\n"
     ]
    },
    {
     "name": "stderr",
     "output_type": "stream",
     "text": [
      "\r",
      "Analyzing Sentiment:  19%|███████████▍                                                | 44/232 [00:04<00:25,  7.50it/s]"
     ]
    },
    {
     "name": "stdout",
     "output_type": "stream",
     "text": [
      "4wqxpXxa.txt: 1 (score: 0.9095445871353149)\n",
      "Warning: Empty translation for 4Nxkx5V.txt\n",
      "Warning: Empty translation for 4VQe4B3.txt\n",
      "Warning: Empty translation for 4w8An7VB.txt\n",
      "Warning: Empty translation for dJXnRnb.txt\n",
      "Warning: Empty translation for 93Zp9a5X.txt\n",
      "Warning: Empty translation for 46PBbJD.txt\n"
     ]
    },
    {
     "name": "stderr",
     "output_type": "stream",
     "text": [
      "\r",
      "Analyzing Sentiment:  22%|█████████████▏                                              | 51/232 [00:04<00:16, 11.10it/s]"
     ]
    },
    {
     "name": "stdout",
     "output_type": "stream",
     "text": [
      "5aqElxEN.txt: -1 (score: 0.06319527328014374)\n"
     ]
    },
    {
     "name": "stderr",
     "output_type": "stream",
     "text": [
      "\r",
      "Analyzing Sentiment:  23%|█████████████▋                                              | 53/232 [00:05<00:18,  9.43it/s]"
     ]
    },
    {
     "name": "stdout",
     "output_type": "stream",
     "text": [
      "grzVG0mq.txt: -1 (score: 0.041085753589868546)\n",
      "Warning: Empty translation for 5xkbJ7K.txt\n",
      "Warning: Empty translation for 4pqz1K8.txt\n",
      "Warning: Empty translation for 98yw990.txt\n"
     ]
    },
    {
     "name": "stderr",
     "output_type": "stream",
     "text": [
      "\r",
      "Analyzing Sentiment:  24%|██████████████▍                                             | 56/232 [00:05<00:19,  9.22it/s]"
     ]
    },
    {
     "name": "stdout",
     "output_type": "stream",
     "text": [
      "4DW1b3v.txt: -1 (score: 0.020621810108423233)\n",
      "Warning: Empty translation for BmbyQde.txt\n",
      "Warning: Empty translation for 9KWvgM9.txt\n"
     ]
    },
    {
     "name": "stderr",
     "output_type": "stream",
     "text": [
      "\r",
      "Analyzing Sentiment:  25%|███████████████▎                                            | 59/232 [00:05<00:19,  8.86it/s]"
     ]
    },
    {
     "name": "stdout",
     "output_type": "stream",
     "text": [
      "4kGm6r7.txt: 1 (score: 0.9937971830368042)\n",
      "Warning: Empty translation for 4w8zR01a.txt\n",
      "Warning: Empty translation for 9g06MX0.txt\n",
      "Warning: Empty translation for JJW7aMV.txt\n"
     ]
    },
    {
     "name": "stderr",
     "output_type": "stream",
     "text": [
      "\r",
      "Analyzing Sentiment:  27%|████████████████▎                                           | 63/232 [00:06<00:16, 10.49it/s]"
     ]
    },
    {
     "name": "stdout",
     "output_type": "stream",
     "text": [
      "46w9aja.txt: -1 (score: 0.0026518558152019978)\n",
      "Warning: Empty translation for B4PnOnM.txt\n",
      "Warning: Empty translation for 9Jd4KeX.txt\n",
      "Warning: Empty translation for 4wqJAgZ8.txt\n"
     ]
    },
    {
     "name": "stderr",
     "output_type": "stream",
     "text": [
      "\r",
      "Analyzing Sentiment:  29%|█████████████████▎                                          | 67/232 [00:06<00:15, 10.80it/s]"
     ]
    },
    {
     "name": "stdout",
     "output_type": "stream",
     "text": [
      "9xQrv1N.txt: 1 (score: 0.993374764919281)\n",
      "Warning: Empty translation for 46k9WX1.txt\n",
      "Warning: Empty translation for 44PREla.txt\n",
      "Warning: Empty translation for 9QXE5wv.txt\n"
     ]
    },
    {
     "name": "stderr",
     "output_type": "stream",
     "text": [
      "\r",
      "Analyzing Sentiment:  31%|██████████████████▎                                         | 71/232 [00:06<00:14, 10.94it/s]"
     ]
    },
    {
     "name": "stdout",
     "output_type": "stream",
     "text": [
      "4byd4V1.txt: 1 (score: 0.9708179831504822)\n",
      "Warning: Empty translation for 4wzOmNQ1.txt\n",
      "Warning: Empty translation for 4zPDQZD.txt\n",
      "Warning: Empty translation for 9b7Om4X.txt\n",
      "Warning: Empty translation for 93w9r9DQ.txt\n"
     ]
    },
    {
     "name": "stderr",
     "output_type": "stream",
     "text": [
      "\r",
      "Analyzing Sentiment:  33%|███████████████████▋                                        | 76/232 [00:07<00:13, 11.88it/s]"
     ]
    },
    {
     "name": "stdout",
     "output_type": "stream",
     "text": [
      "939mJB1a.txt: 1 (score: 0.9953919649124146)\n",
      "Warning: Empty translation for 4wAKKVeD.txt\n",
      "Warning: Empty translation for 4zKgqA1.txt\n",
      "Warning: Empty translation for 9bmAp4v.txt\n",
      "Warning: Empty translation for 9v44bR0.txt\n"
     ]
    },
    {
     "name": "stderr",
     "output_type": "stream",
     "text": [
      "\r",
      "Analyzing Sentiment:  35%|████████████████████▉                                       | 81/232 [00:07<00:10, 14.02it/s]"
     ]
    },
    {
     "name": "stdout",
     "output_type": "stream",
     "text": [
      "gJQBeA7.txt: -1 (score: 0.01483847200870514)\n",
      "Warning: Empty translation for B3xBjdO.txt\n",
      "Warning: Empty translation for 9v05lj0.txt\n"
     ]
    },
    {
     "name": "stderr",
     "output_type": "stream",
     "text": [
      "\r",
      "Analyzing Sentiment:  36%|█████████████████████▋                                      | 84/232 [00:07<00:12, 12.25it/s]"
     ]
    },
    {
     "name": "stdout",
     "output_type": "stream",
     "text": [
      "4wz6Pav7.txt: -1 (score: 0.0015419555129483342)\n",
      "Warning: Empty translation for 4kjEbZ7.txt\n"
     ]
    },
    {
     "name": "stderr",
     "output_type": "stream",
     "text": [
      "\r",
      "Analyzing Sentiment:  37%|██████████████████████▏                                     | 86/232 [00:08<00:14, 10.07it/s]"
     ]
    },
    {
     "name": "stdout",
     "output_type": "stream",
     "text": [
      "4w8KX7Q8.txt: -1 (score: 0.0010389902163296938)\n",
      "Warning: Empty translation for NyZmXGOD.txt\n",
      "Warning: Empty translation for 5JEEVVM.txt\n",
      "Warning: Empty translation for 98pzjpy.txt\n"
     ]
    },
    {
     "name": "stderr",
     "output_type": "stream",
     "text": [
      "\r",
      "Analyzing Sentiment:  39%|███████████████████████▎                                    | 90/232 [00:08<00:13, 10.34it/s]"
     ]
    },
    {
     "name": "stdout",
     "output_type": "stream",
     "text": [
      "4VDB06Q.txt: 1 (score: 0.7902569770812988)\n",
      "Warning: Empty translation for B9kGpJN.txt\n"
     ]
    },
    {
     "name": "stderr",
     "output_type": "stream",
     "text": [
      "\r",
      "Analyzing Sentiment:  40%|███████████████████████▊                                    | 92/232 [00:08<00:14,  9.97it/s]"
     ]
    },
    {
     "name": "stdout",
     "output_type": "stream",
     "text": [
      "9b8vnJz.txt: 1 (score: 0.9418427348136902)\n",
      "Warning: Empty translation for 5rl1kkk.txt\n",
      "Warning: Empty translation for AbPzeAJW.txt\n"
     ]
    },
    {
     "name": "stderr",
     "output_type": "stream",
     "text": [
      "\r",
      "Analyzing Sentiment:  41%|████████████████████████▌                                   | 95/232 [00:09<00:14,  9.42it/s]"
     ]
    },
    {
     "name": "stdout",
     "output_type": "stream",
     "text": [
      "93GmaK0a.txt: 1 (score: 0.9968067407608032)\n",
      "Warning: Empty translation for 4Bnkz33.txt\n",
      "Warning: Empty translation for 9vappNz.txt\n",
      "Warning: Empty translation for 9Krb88X.txt\n"
     ]
    },
    {
     "name": "stderr",
     "output_type": "stream",
     "text": [
      "\r",
      "Analyzing Sentiment:  43%|█████████████████████████▌                                  | 99/232 [00:09<00:13, 10.09it/s]"
     ]
    },
    {
     "name": "stdout",
     "output_type": "stream",
     "text": [
      "grGnk356.txt: -1 (score: 0.08446340262889862)\n"
     ]
    },
    {
     "name": "stderr",
     "output_type": "stream",
     "text": [
      "\r",
      "Analyzing Sentiment:  44%|█████████████████████████▋                                 | 101/232 [00:09<00:15,  8.51it/s]"
     ]
    },
    {
     "name": "stdout",
     "output_type": "stream",
     "text": [
      "4ByPNy8.txt: 1 (score: 0.9981693029403687)\n",
      "Warning: Empty translation for 4w7bWxP1.txt\n"
     ]
    },
    {
     "name": "stderr",
     "output_type": "stream",
     "text": [
      "\r",
      "Analyzing Sentiment:  44%|█████████████████████████▉                                 | 102/232 [00:10<00:18,  7.00it/s]"
     ]
    },
    {
     "name": "stdout",
     "output_type": "stream",
     "text": [
      "grenGOJ6.txt: 1 (score: 0.8976082801818848)\n",
      "Warning: Empty translation for 4wqAQvAv.txt\n",
      "Warning: Empty translation for BPlepwd.txt\n",
      "Warning: Empty translation for 93GqZgN4.txt\n",
      "Warning: Empty translation for 44VWP8Q.txt\n",
      "Warning: Empty translation for 4Ov9M6D.txt\n",
      "Warning: Empty translation for 4NwElQ7.txt\n",
      "Warning: Empty translation for ma7zkJ1.txt\n",
      "Warning: Empty translation for 4w1x94lQ.txt\n",
      "Warning: Empty translation for 5Ra46Ak.txt\n",
      "Warning: Empty translation for 9bRqGkN.txt\n"
     ]
    },
    {
     "name": "stderr",
     "output_type": "stream",
     "text": [
      "\r",
      "Analyzing Sentiment:  49%|████████████████████████████▋                              | 113/232 [00:10<00:08, 14.33it/s]"
     ]
    },
    {
     "name": "stdout",
     "output_type": "stream",
     "text": [
      "dM0wPgD.txt: -1 (score: 0.0011405172990635037)\n",
      "Warning: Empty translation for 9XjkMGv.txt\n",
      "Warning: Empty translation for BdmnPOR.txt\n"
     ]
    },
    {
     "name": "stderr",
     "output_type": "stream",
     "text": [
      "\r",
      "Analyzing Sentiment:  50%|█████████████████████████████▌                             | 116/232 [00:10<00:09, 12.49it/s]"
     ]
    },
    {
     "name": "stdout",
     "output_type": "stream",
     "text": [
      "4zG4Dqa.txt: 1 (score: 0.9923344254493713)\n",
      "Warning: Empty translation for JERdqPm.txt\n",
      "Warning: Empty translation for JZ4MMwX6.txt\n",
      "Warning: Empty translation for GkvNgr5.txt\n",
      "Warning: Empty translation for 4wNdmNl3.txt\n",
      "Warning: Empty translation for 4wReJvQ3.txt\n"
     ]
    },
    {
     "name": "stderr",
     "output_type": "stream",
     "text": [
      "\r",
      "Analyzing Sentiment:  53%|███████████████████████████████                            | 122/232 [00:11<00:07, 14.00it/s]"
     ]
    },
    {
     "name": "stdout",
     "output_type": "stream",
     "text": [
      "9VblBKy.txt: 1 (score: 0.9372396469116211)\n",
      "Warning: Empty translation for 9yZj05X.txt\n",
      "Warning: Empty translation for 978W0jX.txt\n",
      "Warning: Empty translation for 4wZd1n71.txt\n",
      "Warning: Empty translation for wKV3GnwX.txt\n"
     ]
    },
    {
     "name": "stderr",
     "output_type": "stream",
     "text": [
      "\r",
      "Analyzing Sentiment:  55%|████████████████████████████████▎                          | 127/232 [00:11<00:07, 14.19it/s]"
     ]
    },
    {
     "name": "stdout",
     "output_type": "stream",
     "text": [
      "97Nyw4a.txt: 1 (score: 0.9996509552001953)\n"
     ]
    },
    {
     "name": "stderr",
     "output_type": "stream",
     "text": [
      "\r",
      "Analyzing Sentiment:  56%|████████████████████████████████▊                          | 129/232 [00:11<00:08, 11.90it/s]"
     ]
    },
    {
     "name": "stdout",
     "output_type": "stream",
     "text": [
      "93DnJzWN.txt: -1 (score: 0.02345394156873226)\n",
      "Warning: Empty translation for BneWwNd.txt\n",
      "Warning: Empty translation for 9Xpmvm9.txt\n",
      "Warning: Empty translation for 4Oj1a88.txt\n",
      "Warning: Empty translation for 97jgPka.txt\n",
      "Warning: Empty translation for 4wRplPZD.txt\n"
     ]
    },
    {
     "name": "stderr",
     "output_type": "stream",
     "text": [
      "\r",
      "Analyzing Sentiment:  58%|██████████████████████████████████                         | 134/232 [00:12<00:07, 12.52it/s]"
     ]
    },
    {
     "name": "stdout",
     "output_type": "stream",
     "text": [
      "4xMeB3v.txt: -1 (score: 0.02733072265982628)\n",
      "Warning: Empty translation for 44pRkKG.txt\n",
      "Warning: Empty translation for 939B7lGQ.txt\n",
      "Warning: Empty translation for 4D59bgG.txt\n",
      "Warning: Empty translation for 4w7NzJjD.txt\n"
     ]
    },
    {
     "name": "stderr",
     "output_type": "stream",
     "text": [
      "\r",
      "Analyzing Sentiment:  60%|███████████████████████████████████▎                       | 139/232 [00:12<00:06, 13.45it/s]"
     ]
    },
    {
     "name": "stdout",
     "output_type": "stream",
     "text": [
      "4aJxJjG.txt: -1 (score: 0.019444042816758156)\n",
      "Warning: Empty translation for 44rG6yB.txt\n",
      "Warning: Empty translation for BMeEDNN.txt\n",
      "Warning: Empty translation for 4wz1W7bD.txt\n",
      "Warning: Empty translation for 9O3xWey.txt\n",
      "Warning: Empty translation for 4Wxnwk3.txt\n",
      "Warning: Empty translation for 9Nn3lk9.txt\n",
      "Warning: Empty translation for 4B1RjlV.txt\n",
      "Warning: Empty translation for 4wqwn68G.txt\n"
     ]
    },
    {
     "name": "stderr",
     "output_type": "stream",
     "text": [
      "\r",
      "Analyzing Sentiment:  64%|█████████████████████████████████████▋                     | 148/232 [00:12<00:04, 17.22it/s]"
     ]
    },
    {
     "name": "stdout",
     "output_type": "stream",
     "text": [
      "GJG0njb.txt: -1 (score: 0.001969673903658986)\n"
     ]
    },
    {
     "name": "stderr",
     "output_type": "stream",
     "text": [
      "\r",
      "Analyzing Sentiment:  65%|██████████████████████████████████████▏                    | 150/232 [00:13<00:06, 13.66it/s]"
     ]
    },
    {
     "name": "stdout",
     "output_type": "stream",
     "text": [
      "gXBJxAQ.txt: 1 (score: 0.9917057752609253)\n",
      "Warning: Empty translation for 4OV3mwG.txt\n",
      "Warning: Empty translation for 9xPW1Rz.txt\n",
      "Warning: Empty translation for wMPvb9P.txt\n",
      "Warning: Empty translation for 4wAKwMw3.txt\n",
      "Warning: Empty translation for B0JRa9pO.txt\n",
      "Warning: Empty translation for 9eQ0VE4.txt\n",
      "Warning: Empty translation for 939pd3nX.txt\n",
      "Warning: Empty translation for 4B1KnlB.txt\n",
      "Warning: Empty translation for 93m7lwr9.txt\n",
      "Warning: Empty translation for 4benpRQ.txt\n"
     ]
    },
    {
     "name": "stderr",
     "output_type": "stream",
     "text": [
      "\r",
      "Analyzing Sentiment:  69%|████████████████████████████████████████▋                  | 160/232 [00:13<00:04, 17.67it/s]"
     ]
    },
    {
     "name": "stdout",
     "output_type": "stream",
     "text": [
      "4wGeK8N1.txt: 1 (score: 0.9910564422607422)\n",
      "Warning: Empty translation for 4bzjbKB.txt\n",
      "Warning: Empty translation for 4V1bERv.txt\n",
      "Warning: Empty translation for 9e3DxEv.txt\n"
     ]
    },
    {
     "name": "stderr",
     "output_type": "stream",
     "text": [
      "\r",
      "Analyzing Sentiment:  71%|█████████████████████████████████████████▋                 | 164/232 [00:13<00:04, 16.02it/s]"
     ]
    },
    {
     "name": "stdout",
     "output_type": "stream",
     "text": [
      "4NXeElG.txt: -1 (score: 0.019366329535841942)\n"
     ]
    },
    {
     "name": "stderr",
     "output_type": "stream",
     "text": [
      "\r",
      "Analyzing Sentiment:  72%|██████████████████████████████████████████▏                | 166/232 [00:14<00:05, 12.87it/s]"
     ]
    },
    {
     "name": "stdout",
     "output_type": "stream",
     "text": [
      "4prxZ6B.txt: 1 (score: 0.9979982972145081)\n",
      "Warning: Empty translation for 4zDX6nv.txt\n"
     ]
    },
    {
     "name": "stderr",
     "output_type": "stream",
     "text": [
      "\r",
      "Analyzing Sentiment:  72%|██████████████████████████████████████████▋                | 168/232 [00:14<00:06, 10.65it/s]"
     ]
    },
    {
     "name": "stdout",
     "output_type": "stream",
     "text": [
      "44Ad8yQ.txt: 1 (score: 0.681392252445221)\n",
      "Warning: Empty translation for 4w8AQ8av.txt\n",
      "Warning: Empty translation for 4zebe0Q.txt\n",
      "Warning: Empty translation for 4pPvbRB.txt\n",
      "Warning: Empty translation for 4DDjxDa.txt\n",
      "Warning: Empty translation for 4wZ30Wq3.txt\n"
     ]
    },
    {
     "name": "stderr",
     "output_type": "stream",
     "text": [
      "\r",
      "Analyzing Sentiment:  75%|███████████████████████████████████████████▉               | 173/232 [00:15<00:05, 11.51it/s]"
     ]
    },
    {
     "name": "stdout",
     "output_type": "stream",
     "text": [
      "9bXyZQ9.txt: 1 (score: 0.9998157620429993)\n",
      "Warning: Empty translation for 97Mvl3y.txt\n",
      "Warning: Empty translation for 93ZNNGnN.txt\n",
      "Warning: Empty translation for 4mOBBm8.txt\n",
      "Warning: Empty translation for N4B9q6E.txt\n",
      "Warning: Empty translation for 98WRyDa.txt\n"
     ]
    },
    {
     "name": "stderr",
     "output_type": "stream",
     "text": [
      "\r",
      "Analyzing Sentiment:  77%|█████████████████████████████████████████████▌             | 179/232 [00:15<00:04, 12.87it/s]"
     ]
    },
    {
     "name": "stdout",
     "output_type": "stream",
     "text": [
      "93mGxdnX.txt: 1 (score: 0.7134522795677185)\n",
      "Warning: Empty translation for KdZkbEJ.txt\n",
      "Warning: Empty translation for 4wGekmj8.txt\n",
      "Warning: Empty translation for 93mbeqna.txt\n"
     ]
    },
    {
     "name": "stderr",
     "output_type": "stream",
     "text": [
      "\r",
      "Analyzing Sentiment:  79%|██████████████████████████████████████████████▌            | 183/232 [00:15<00:03, 12.55it/s]"
     ]
    },
    {
     "name": "stdout",
     "output_type": "stream",
     "text": [
      "4NGNAa1.txt: -1 (score: 0.029930640012025833)\n",
      "Warning: Empty translation for 4apOqeV.txt\n",
      "Warning: Empty translation for AJQKZjW.txt\n",
      "Warning: Empty translation for 4wl1RlpV.txt\n",
      "Warning: Empty translation for JOP6RrZ.txt\n",
      "Warning: Empty translation for BOmRwaM.txt\n",
      "Warning: Empty translation for 93DzVdry.txt\n",
      "Warning: Empty translation for 4w74ejKa.txt\n"
     ]
    },
    {
     "name": "stderr",
     "output_type": "stream",
     "text": [
      "\r",
      "Analyzing Sentiment:  82%|████████████████████████████████████████████████▌          | 191/232 [00:16<00:02, 15.75it/s]"
     ]
    },
    {
     "name": "stdout",
     "output_type": "stream",
     "text": [
      "g4vbMDe.txt: -1 (score: 0.007696361280977726)\n",
      "Warning: Empty translation for 5aNqpgyp.txt\n",
      "Warning: Empty translation for 4VVd1w1.txt\n"
     ]
    },
    {
     "name": "stderr",
     "output_type": "stream",
     "text": [
      "\r",
      "Analyzing Sentiment:  84%|█████████████████████████████████████████████████▎         | 194/232 [00:16<00:02, 13.33it/s]"
     ]
    },
    {
     "name": "stdout",
     "output_type": "stream",
     "text": [
      "9ZeaxMQ.txt: -1 (score: 0.050359293818473816)\n",
      "Warning: Empty translation for B0DzWJnJ.txt\n"
     ]
    },
    {
     "name": "stderr",
     "output_type": "stream",
     "text": [
      "\r",
      "Analyzing Sentiment:  84%|█████████████████████████████████████████████████▊         | 196/232 [00:16<00:03, 10.98it/s]"
     ]
    },
    {
     "name": "stdout",
     "output_type": "stream",
     "text": [
      "9ylggRv.txt: -1 (score: 0.015397852286696434)\n",
      "Warning: Empty translation for 4BlrzD8.txt\n",
      "Warning: Empty translation for 5aN79vW7.txt\n",
      "Warning: Empty translation for 4jB9WVV.txt\n"
     ]
    },
    {
     "name": "stderr",
     "output_type": "stream",
     "text": [
      "\r",
      "Analyzing Sentiment:  86%|██████████████████████████████████████████████████▊        | 200/232 [00:17<00:02, 11.61it/s]"
     ]
    },
    {
     "name": "stdout",
     "output_type": "stream",
     "text": [
      "gjwdxmJ.txt: -1 (score: 0.0028071203269064426)\n"
     ]
    },
    {
     "name": "stderr",
     "output_type": "stream",
     "text": [
      "\r",
      "Analyzing Sentiment:  87%|███████████████████████████████████████████████████▎       | 202/232 [00:17<00:03,  9.66it/s]"
     ]
    },
    {
     "name": "stdout",
     "output_type": "stream",
     "text": [
      "4wwX5gVQ.txt: -1 (score: 0.01867331936955452)\n",
      "Warning: Empty translation for 9gNP0Jz.txt\n",
      "Warning: Empty translation for 9X3rrRv.txt\n",
      "Warning: Empty translation for 40vQeqD.txt\n",
      "Warning: Empty translation for 9gDGXn4.txt\n",
      "Warning: Empty translation for 4BjVe3D.txt\n"
     ]
    },
    {
     "name": "stderr",
     "output_type": "stream",
     "text": [
      "\r",
      "Analyzing Sentiment:  89%|████████████████████████████████████████████████████▋      | 207/232 [00:17<00:02, 10.88it/s]"
     ]
    },
    {
     "name": "stdout",
     "output_type": "stream",
     "text": [
      "93mq6KV9.txt: -1 (score: 0.03574962541460991)\n",
      "Warning: Empty translation for B0R1z80d.txt\n"
     ]
    },
    {
     "name": "stderr",
     "output_type": "stream",
     "text": [
      "\r",
      "Analyzing Sentiment:  90%|█████████████████████████████████████████████████████▏     | 209/232 [00:18<00:02,  9.21it/s]"
     ]
    },
    {
     "name": "stdout",
     "output_type": "stream",
     "text": [
      "KyEROR3g.txt: 1 (score: 0.9981404542922974)\n",
      "Warning: Empty translation for 98QXjEz.txt\n"
     ]
    },
    {
     "name": "stderr",
     "output_type": "stream",
     "text": [
      "\r",
      "Analyzing Sentiment:  91%|█████████████████████████████████████████████████████▋     | 211/232 [00:18<00:02,  8.01it/s]"
     ]
    },
    {
     "name": "stdout",
     "output_type": "stream",
     "text": [
      "4wlxg1QB.txt: 1 (score: 0.9986750483512878)\n"
     ]
    },
    {
     "name": "stderr",
     "output_type": "stream",
     "text": [
      "\r",
      "Analyzing Sentiment:  91%|█████████████████████████████████████████████████████▉     | 212/232 [00:18<00:03,  6.48it/s]"
     ]
    },
    {
     "name": "stdout",
     "output_type": "stream",
     "text": [
      "By48GBV.txt: -1 (score: 0.0013368851505219936)\n",
      "Warning: Empty translation for daz0568.txt\n"
     ]
    },
    {
     "name": "stderr",
     "output_type": "stream",
     "text": [
      "\r",
      "Analyzing Sentiment:  92%|██████████████████████████████████████████████████████▍    | 214/232 [00:19<00:02,  6.62it/s]"
     ]
    },
    {
     "name": "stdout",
     "output_type": "stream",
     "text": [
      "g9lKlZe.txt: -1 (score: 0.0013737390981987119)\n"
     ]
    },
    {
     "name": "stderr",
     "output_type": "stream",
     "text": [
      "\r",
      "Analyzing Sentiment:  93%|██████████████████████████████████████████████████████▋    | 215/232 [00:19<00:03,  5.38it/s]"
     ]
    },
    {
     "name": "stdout",
     "output_type": "stream",
     "text": [
      "93meaWrX.txt: 1 (score: 0.9991142153739929)\n"
     ]
    },
    {
     "name": "stderr",
     "output_type": "stream",
     "text": [
      "\r",
      "Analyzing Sentiment:  93%|██████████████████████████████████████████████████████▉    | 216/232 [00:19<00:03,  5.02it/s]"
     ]
    },
    {
     "name": "stdout",
     "output_type": "stream",
     "text": [
      "gDzyPAA.txt: -1 (score: 0.0290524922311306)\n",
      "Warning: Empty translation for 4wAEDGX7.txt\n",
      "Warning: Empty translation for Nyym9agD.txt\n",
      "Warning: Empty translation for 4zQJW08.txt\n",
      "Warning: Empty translation for 93wkN0DM.txt\n",
      "Warning: Empty translation for 9l9Mary.txt\n",
      "Warning: Empty translation for BBqXV4w.txt\n",
      "Warning: Empty translation for 9d8E0GX.txt\n",
      "Warning: Empty translation for 98GOde0.txt\n",
      "Warning: Empty translation for 4wl7d9ya.txt\n",
      "Warning: Empty translation for 4wl37P68.txt\n",
      "Warning: Empty translation for 4ww8nrMB.txt\n"
     ]
    },
    {
     "name": "stderr",
     "output_type": "stream",
     "text": [
      "Analyzing Sentiment: 100%|███████████████████████████████████████████████████████████| 232/232 [00:20<00:00, 11.48it/s]\n"
     ]
    },
    {
     "name": "stdout",
     "output_type": "stream",
     "text": [
      "45V7JXQ.txt: -1 (score: 0.0019867585506290197)\n",
      "Warning: Empty translation for 44xvzPG.txt\n",
      "Warning: Empty translation for 9vPWkp4.txt\n",
      "Warning: Empty translation for 4W9Qv8Q.txt\n",
      "Warning: Empty translation for 97R9dXa.txt\n",
      "Analyzing Folder: sharechat_scraper/updated_tesseract/Punjabi/VO6ZVy_Punjabi/\n"
     ]
    },
    {
     "name": "stderr",
     "output_type": "stream",
     "text": [
      "Analyzing Sentiment:   2%|█                                                             | 1/62 [00:00<00:22,  2.74it/s]"
     ]
    },
    {
     "name": "stdout",
     "output_type": "stream",
     "text": [
      "9b8ql9y.txt: -1 (score: 0.05594254657626152)\n",
      "Warning: Empty translation for 9ldOr74.txt\n"
     ]
    },
    {
     "name": "stderr",
     "output_type": "stream",
     "text": [
      "\r",
      "Analyzing Sentiment:   5%|███                                                           | 3/62 [00:00<00:13,  4.32it/s]"
     ]
    },
    {
     "name": "stdout",
     "output_type": "stream",
     "text": [
      "9zEnV3X.txt: -1 (score: 0.010202060453593731)\n",
      "Warning: Empty translation for 4wwZmKOa.txt\n",
      "Warning: Empty translation for 9NrrEqN.txt\n",
      "Warning: Empty translation for 9dABPma.txt\n"
     ]
    },
    {
     "name": "stderr",
     "output_type": "stream",
     "text": [
      "\r",
      "Analyzing Sentiment:  11%|███████                                                       | 7/62 [00:01<00:07,  7.54it/s]"
     ]
    },
    {
     "name": "stdout",
     "output_type": "stream",
     "text": [
      "9dkPGn0.txt: -1 (score: 0.0026971239130944014)\n"
     ]
    },
    {
     "name": "stderr",
     "output_type": "stream",
     "text": [
      "\r",
      "Analyzing Sentiment:  13%|████████                                                      | 8/62 [00:01<00:09,  5.64it/s]"
     ]
    },
    {
     "name": "stdout",
     "output_type": "stream",
     "text": [
      "9rX8OZQ.txt: -1 (score: 0.08674155175685883)\n",
      "Warning: Empty translation for 9NRkg6X.txt\n"
     ]
    },
    {
     "name": "stderr",
     "output_type": "stream",
     "text": [
      "\r",
      "Analyzing Sentiment:  16%|█████████▊                                                   | 10/62 [00:01<00:09,  5.55it/s]"
     ]
    },
    {
     "name": "stdout",
     "output_type": "stream",
     "text": [
      "gmvb0JA.txt: -1 (score: 0.001702386885881424)\n"
     ]
    },
    {
     "name": "stderr",
     "output_type": "stream",
     "text": [
      "\r",
      "Analyzing Sentiment:  18%|██████████▊                                                  | 11/62 [00:02<00:10,  4.64it/s]"
     ]
    },
    {
     "name": "stdout",
     "output_type": "stream",
     "text": [
      "9Qr8r00.txt: -1 (score: 0.010094479657709599)\n"
     ]
    },
    {
     "name": "stderr",
     "output_type": "stream",
     "text": [
      "\r",
      "Analyzing Sentiment:  19%|███████████▊                                                 | 12/62 [00:02<00:12,  4.03it/s]"
     ]
    },
    {
     "name": "stdout",
     "output_type": "stream",
     "text": [
      "3NOQr5VK.txt: 1 (score: 0.9780430793762207)\n"
     ]
    },
    {
     "name": "stderr",
     "output_type": "stream",
     "text": [
      "\r",
      "Analyzing Sentiment:  21%|████████████▊                                                | 13/62 [00:02<00:13,  3.61it/s]"
     ]
    },
    {
     "name": "stdout",
     "output_type": "stream",
     "text": [
      "933bdKOy.txt: 1 (score: 0.9225605726242065)\n"
     ]
    },
    {
     "name": "stderr",
     "output_type": "stream",
     "text": [
      "\r",
      "Analyzing Sentiment:  23%|█████████████▊                                               | 14/62 [00:03<00:14,  3.39it/s]"
     ]
    },
    {
     "name": "stdout",
     "output_type": "stream",
     "text": [
      "9334MADQ.txt: 1 (score: 0.8577311635017395)\n"
     ]
    },
    {
     "name": "stderr",
     "output_type": "stream",
     "text": [
      "\r",
      "Analyzing Sentiment:  24%|██████████████▊                                              | 15/62 [00:03<00:14,  3.22it/s]"
     ]
    },
    {
     "name": "stdout",
     "output_type": "stream",
     "text": [
      "9kNwpkz.txt: 0 (score: 0.5407610535621643)\n",
      "Warning: Empty translation for 9v8p4n0.txt\n"
     ]
    },
    {
     "name": "stderr",
     "output_type": "stream",
     "text": [
      "\r",
      "Analyzing Sentiment:  27%|████████████████▋                                            | 17/62 [00:03<00:11,  3.98it/s]"
     ]
    },
    {
     "name": "stdout",
     "output_type": "stream",
     "text": [
      "gxaWv0e.txt: -1 (score: 0.014456994831562042)\n",
      "Warning: Empty translation for 933a0QQv.txt\n"
     ]
    },
    {
     "name": "stderr",
     "output_type": "stream",
     "text": [
      "\r",
      "Analyzing Sentiment:  31%|██████████████████▋                                          | 19/62 [00:04<00:09,  4.38it/s]"
     ]
    },
    {
     "name": "stdout",
     "output_type": "stream",
     "text": [
      "BzjXbRR.txt: -1 (score: 0.04732561483979225)\n",
      "Warning: Empty translation for 93a0zMyv.txt\n"
     ]
    },
    {
     "name": "stderr",
     "output_type": "stream",
     "text": [
      "\r",
      "Analyzing Sentiment:  34%|████████████████████▋                                        | 21/62 [00:04<00:08,  4.70it/s]"
     ]
    },
    {
     "name": "stdout",
     "output_type": "stream",
     "text": [
      "9eP1j49.txt: 1 (score: 0.9992223978042603)\n"
     ]
    },
    {
     "name": "stderr",
     "output_type": "stream",
     "text": [
      "\r",
      "Analyzing Sentiment:  35%|█████████████████████▋                                       | 22/62 [00:05<00:09,  4.13it/s]"
     ]
    },
    {
     "name": "stdout",
     "output_type": "stream",
     "text": [
      "931QnwzM.txt: -1 (score: 0.13148236274719238)\n"
     ]
    },
    {
     "name": "stderr",
     "output_type": "stream",
     "text": [
      "\r",
      "Analyzing Sentiment:  37%|██████████████████████▋                                      | 23/62 [00:05<00:10,  3.72it/s]"
     ]
    },
    {
     "name": "stdout",
     "output_type": "stream",
     "text": [
      "9NMApry.txt: 1 (score: 0.9187646508216858)\n"
     ]
    },
    {
     "name": "stderr",
     "output_type": "stream",
     "text": [
      "\r",
      "Analyzing Sentiment:  39%|███████████████████████▌                                     | 24/62 [00:05<00:11,  3.39it/s]"
     ]
    },
    {
     "name": "stdout",
     "output_type": "stream",
     "text": [
      "93a9p87M.txt: -1 (score: 0.0035540370736271143)\n"
     ]
    },
    {
     "name": "stderr",
     "output_type": "stream",
     "text": [
      "\r",
      "Analyzing Sentiment:  40%|████████████████████████▌                                    | 25/62 [00:06<00:11,  3.20it/s]"
     ]
    },
    {
     "name": "stdout",
     "output_type": "stream",
     "text": [
      "93wlp5QN.txt: 1 (score: 0.8514489531517029)\n",
      "Warning: Empty translation for 9kXQyQa.txt\n"
     ]
    },
    {
     "name": "stderr",
     "output_type": "stream",
     "text": [
      "\r",
      "Analyzing Sentiment:  44%|██████████████████████████▌                                  | 27/62 [00:06<00:09,  3.86it/s]"
     ]
    },
    {
     "name": "stdout",
     "output_type": "stream",
     "text": [
      "4wGERwxv.txt: 1 (score: 0.9537950158119202)\n"
     ]
    },
    {
     "name": "stderr",
     "output_type": "stream",
     "text": [
      "\r",
      "Analyzing Sentiment:  45%|███████████████████████████▌                                 | 28/62 [00:06<00:09,  3.50it/s]"
     ]
    },
    {
     "name": "stdout",
     "output_type": "stream",
     "text": [
      "NyEZKm74.txt: 1 (score: 0.8095270395278931)\n",
      "Warning: Empty translation for 4pzJ1wa.txt\n"
     ]
    },
    {
     "name": "stderr",
     "output_type": "stream",
     "text": [
      "\r",
      "Analyzing Sentiment:  48%|█████████████████████████████▌                               | 30/62 [00:07<00:07,  4.05it/s]"
     ]
    },
    {
     "name": "stdout",
     "output_type": "stream",
     "text": [
      "9O7eZqM.txt: -1 (score: 0.007300520781427622)\n",
      "Warning: Empty translation for 93DrVOaN.txt\n",
      "Warning: Empty translation for 4wz1yp9B.txt\n",
      "Warning: Empty translation for 9x9e9ny.txt\n",
      "Warning: Empty translation for 974lXjN.txt\n"
     ]
    },
    {
     "name": "stderr",
     "output_type": "stream",
     "text": [
      "\r",
      "Analyzing Sentiment:  56%|██████████████████████████████████▍                          | 35/62 [00:07<00:03,  6.86it/s]"
     ]
    },
    {
     "name": "stdout",
     "output_type": "stream",
     "text": [
      "3nw8Okm.txt: 1 (score: 0.9857914447784424)\n",
      "Warning: Empty translation for 4XRlqnQ.txt\n"
     ]
    },
    {
     "name": "stderr",
     "output_type": "stream",
     "text": [
      "\r",
      "Analyzing Sentiment:  60%|████████████████████████████████████▍                        | 37/62 [00:08<00:03,  6.47it/s]"
     ]
    },
    {
     "name": "stdout",
     "output_type": "stream",
     "text": [
      "931yJAdN.txt: -1 (score: 0.01145190466195345)\n",
      "Warning: Empty translation for 9eay5av.txt\n",
      "Warning: Empty translation for 9v7dRjz.txt\n"
     ]
    },
    {
     "name": "stderr",
     "output_type": "stream",
     "text": [
      "\r",
      "Analyzing Sentiment:  65%|███████████████████████████████████████▎                     | 40/62 [00:08<00:03,  6.94it/s]"
     ]
    },
    {
     "name": "stdout",
     "output_type": "stream",
     "text": [
      "9xp4OrN.txt: 1 (score: 0.9989989399909973)\n"
     ]
    },
    {
     "name": "stderr",
     "output_type": "stream",
     "text": [
      "\r",
      "Analyzing Sentiment:  66%|████████████████████████████████████████▎                    | 41/62 [00:08<00:03,  5.71it/s]"
     ]
    },
    {
     "name": "stdout",
     "output_type": "stream",
     "text": [
      "9xRNm3z.txt: -1 (score: 0.004986041225492954)\n",
      "Warning: Empty translation for 9lJg774.txt\n"
     ]
    },
    {
     "name": "stderr",
     "output_type": "stream",
     "text": [
      "\r",
      "Analyzing Sentiment:  69%|██████████████████████████████████████████▎                  | 43/62 [00:09<00:03,  5.56it/s]"
     ]
    },
    {
     "name": "stdout",
     "output_type": "stream",
     "text": [
      "93a5eBJy.txt: -1 (score: 0.03408849239349365)\n",
      "Warning: Empty translation for 93NWazGz.txt\n"
     ]
    },
    {
     "name": "stderr",
     "output_type": "stream",
     "text": [
      "\r",
      "Analyzing Sentiment:  73%|████████████████████████████████████████████▎                | 45/62 [00:09<00:03,  5.49it/s]"
     ]
    },
    {
     "name": "stdout",
     "output_type": "stream",
     "text": [
      "9z0Zer0.txt: 1 (score: 0.9235398769378662)\n",
      "Warning: Empty translation for 91p5gQ4.txt\n"
     ]
    },
    {
     "name": "stderr",
     "output_type": "stream",
     "text": [
      "\r",
      "Analyzing Sentiment:  76%|██████████████████████████████████████████████▏              | 47/62 [00:09<00:02,  5.45it/s]"
     ]
    },
    {
     "name": "stdout",
     "output_type": "stream",
     "text": [
      "9gqnZz9.txt: -1 (score: 0.043977994471788406)\n"
     ]
    },
    {
     "name": "stderr",
     "output_type": "stream",
     "text": [
      "\r",
      "Analyzing Sentiment:  77%|███████████████████████████████████████████████▏             | 48/62 [00:10<00:03,  4.66it/s]"
     ]
    },
    {
     "name": "stdout",
     "output_type": "stream",
     "text": [
      "933WEaqM.txt: 1 (score: 0.9924458861351013)\n"
     ]
    },
    {
     "name": "stderr",
     "output_type": "stream",
     "text": [
      "\r",
      "Analyzing Sentiment:  79%|████████████████████████████████████████████████▏            | 49/62 [00:10<00:03,  4.10it/s]"
     ]
    },
    {
     "name": "stdout",
     "output_type": "stream",
     "text": [
      "93wGwwAM.txt: -1 (score: 0.0019444914069026709)\n"
     ]
    },
    {
     "name": "stderr",
     "output_type": "stream",
     "text": [
      "\r",
      "Analyzing Sentiment:  81%|█████████████████████████████████████████████████▏           | 50/62 [00:10<00:03,  3.67it/s]"
     ]
    },
    {
     "name": "stdout",
     "output_type": "stream",
     "text": [
      "3NOGXgw3.txt: -1 (score: 0.022719401866197586)\n"
     ]
    },
    {
     "name": "stderr",
     "output_type": "stream",
     "text": [
      "\r",
      "Analyzing Sentiment:  82%|██████████████████████████████████████████████████▏          | 51/62 [00:11<00:03,  3.36it/s]"
     ]
    },
    {
     "name": "stdout",
     "output_type": "stream",
     "text": [
      "93ZA1OXM.txt: 1 (score: 0.9997907280921936)\n"
     ]
    },
    {
     "name": "stderr",
     "output_type": "stream",
     "text": [
      "\r",
      "Analyzing Sentiment:  84%|███████████████████████████████████████████████████▏         | 52/62 [00:11<00:03,  3.17it/s]"
     ]
    },
    {
     "name": "stdout",
     "output_type": "stream",
     "text": [
      "9V8PPV4.txt: 1 (score: 0.9648634791374207)\n"
     ]
    },
    {
     "name": "stderr",
     "output_type": "stream",
     "text": [
      "\r",
      "Analyzing Sentiment:  85%|████████████████████████████████████████████████████▏        | 53/62 [00:12<00:02,  3.07it/s]"
     ]
    },
    {
     "name": "stdout",
     "output_type": "stream",
     "text": [
      "9d9mQr4.txt: -1 (score: 0.04582136496901512)\n",
      "Warning: Empty translation for 9780aW4.txt\n"
     ]
    },
    {
     "name": "stderr",
     "output_type": "stream",
     "text": [
      "\r",
      "Analyzing Sentiment:  89%|██████████████████████████████████████████████████████       | 55/62 [00:12<00:01,  3.96it/s]"
     ]
    },
    {
     "name": "stdout",
     "output_type": "stream",
     "text": [
      "93DDElby.txt: -1 (score: 0.03410058096051216)\n",
      "Warning: Empty translation for 9bjr4XX.txt\n"
     ]
    },
    {
     "name": "stderr",
     "output_type": "stream",
     "text": [
      "\r",
      "Analyzing Sentiment:  92%|████████████████████████████████████████████████████████     | 57/62 [00:12<00:01,  4.39it/s]"
     ]
    },
    {
     "name": "stdout",
     "output_type": "stream",
     "text": [
      "93wrr9Oy.txt: 1 (score: 0.9539916515350342)\n"
     ]
    },
    {
     "name": "stderr",
     "output_type": "stream",
     "text": [
      "\r",
      "Analyzing Sentiment:  94%|█████████████████████████████████████████████████████████    | 58/62 [00:13<00:01,  3.88it/s]"
     ]
    },
    {
     "name": "stdout",
     "output_type": "stream",
     "text": [
      "KGEdJaw.txt: -1 (score: 0.17230796813964844)\n"
     ]
    },
    {
     "name": "stderr",
     "output_type": "stream",
     "text": [
      "\r",
      "Analyzing Sentiment:  95%|██████████████████████████████████████████████████████████   | 59/62 [00:13<00:00,  3.59it/s]"
     ]
    },
    {
     "name": "stdout",
     "output_type": "stream",
     "text": [
      "3NZ1b4Om.txt: 0 (score: 0.565030038356781)\n"
     ]
    },
    {
     "name": "stderr",
     "output_type": "stream",
     "text": [
      "\r",
      "Analyzing Sentiment:  97%|███████████████████████████████████████████████████████████  | 60/62 [00:13<00:00,  3.41it/s]"
     ]
    },
    {
     "name": "stdout",
     "output_type": "stream",
     "text": [
      "3NDlnKb5.txt: -1 (score: 0.06885211169719696)\n"
     ]
    },
    {
     "name": "stderr",
     "output_type": "stream",
     "text": [
      "\r",
      "Analyzing Sentiment:  98%|████████████████████████████████████████████████████████████ | 61/62 [00:14<00:00,  3.22it/s]"
     ]
    },
    {
     "name": "stdout",
     "output_type": "stream",
     "text": [
      "93mg3AP0.txt: 1 (score: 0.9350361824035645)\n"
     ]
    },
    {
     "name": "stderr",
     "output_type": "stream",
     "text": [
      "Analyzing Sentiment: 100%|█████████████████████████████████████████████████████████████| 62/62 [00:14<00:00,  4.28it/s]"
     ]
    },
    {
     "name": "stdout",
     "output_type": "stream",
     "text": [
      "9eV5k1z.txt: -1 (score: 0.002986729610711336)\n",
      "\n",
      "Making csv for actual label insertion....\n",
      "Actual label csv successfully saved!\n",
      "\n"
     ]
    },
    {
     "name": "stderr",
     "output_type": "stream",
     "text": [
      "\n"
     ]
    }
   ],
   "source": [
    "import os\n",
    "import pickle\n",
    "import pandas as pd\n",
    "from tqdm import tqdm\n",
    "from flair.models import TextClassifier\n",
    "from flair.data import Sentence\n",
    "from transformers import AutoTokenizer, AutoModelForSequenceClassification\n",
    "from constants import languages\n",
    "\n",
    "# Download pre-trained Flair sentiment model\n",
    "flair_sentiment_model = TextClassifier.load('en-sentiment')\n",
    "\n",
    "# Load the pre-trained DistilBERT model and tokenizer\n",
    "model_name = \"distilbert-base-uncased-finetuned-sst-2-english\"\n",
    "tokenizer = AutoTokenizer.from_pretrained(model_name)\n",
    "model = AutoModelForSequenceClassification.from_pretrained(model_name)\n",
    "\n",
    "# Define a function to convert sentiment scores to labels\n",
    "def convert_score_to_label(score):\n",
    "    if score > 0.6:  # Adjust this threshold as needed\n",
    "        return 1  \n",
    "    elif score > 0.25:  # Adjust this threshold as needed\n",
    "        return 0  \n",
    "    else:\n",
    "        return -1 \n",
    "\n",
    "# Define a function to get sentiment scores\n",
    "def get_sentiment_scores(text):\n",
    "    inputs = tokenizer(text, padding=\"max_length\", max_length=512, truncation=True, return_tensors=\"pt\")\n",
    "    outputs = model(**inputs)\n",
    "    sentiment_scores = outputs.logits.softmax(dim=1).tolist()[0]\n",
    "    return sentiment_scores\n",
    "\n",
    "for lang in languages:\n",
    "    print()\n",
    "    print(f\"Getting sentiments for language: {lang}\")\n",
    "    print()\n",
    "\n",
    "    with open(f\"translations/translations_{lang}.pickle\", \"rb\") as file:\n",
    "        translations = pickle.load(file)\n",
    "\n",
    "    new_translations = {}\n",
    "    actual_labels_df = pd.DataFrame(columns=[\"file\", \"text\", \"label\", \"score\"])  # Add \"score\" column\n",
    "    file_locs = []\n",
    "    texts = []\n",
    "\n",
    "    for folder, files in translations.items():\n",
    "        new_translations[folder] = {}\n",
    "        print(f\"Analyzing Folder: {folder}\")\n",
    "\n",
    "        for filename, sentence in tqdm(files.items(), desc=\"Analyzing Sentiment\"):\n",
    "            if sentence[\"translation\"] and sentence[\"translation\"].strip():  # Check for non-empty string\n",
    "                # Analyze sentiment using Flair\n",
    "                text = sentence[\"translation\"]\n",
    "\n",
    "                # Get sentiment scores using DistilBERT\n",
    "                sentiment_scores = get_sentiment_scores(text)\n",
    "\n",
    "                # Check if sentence has labels\n",
    "                if sentiment_scores:\n",
    "                    sentiment_label = convert_score_to_label(sentiment_scores[1])  # Assuming index 1 is positive\n",
    "                    new_translations[folder][filename] = {}\n",
    "                    new_translations[folder][filename][\"sentiment\"] = sentiment_label\n",
    "                    print(f\"{filename}: {sentiment_label} (score: {sentiment_scores[1]})\")\n",
    "\n",
    "                    # Actual labels csv making\n",
    "                    file_locs.append(f\"{folder}{filename}\")\n",
    "                    texts.append(text)\n",
    "\n",
    "                    # Append sentiment score to the DataFrame\n",
    "                    actual_labels_df.loc[len(actual_labels_df)] = [f\"{folder}{filename}\", text, sentiment_label, sentiment_scores[1]]\n",
    "                else:\n",
    "                    print(f\"Warning: No sentiment score found for {filename}\")\n",
    "            else:\n",
    "                print(f\"Warning: Empty translation for {filename}\")\n",
    "\n",
    "    print()\n",
    "    print(f\"Making csv for actual label insertion....\")\n",
    "    actual_labels_df.to_csv(f\"actual_labels/actual_labels_{lang}.csv\", index=False)  # Set index=False\n",
    "    print(f\"Actual label csv successfully saved!\")\n",
    "    print()\n",
    "\n",
    "    with open(f\"sentiments/sentiments_{lang}.pickle\", \"wb\") as file:\n",
    "        pickle.dump(new_translations, file)\n"
   ]
  },
  {
   "cell_type": "code",
   "execution_count": 5,
   "id": "d986b493",
   "metadata": {},
   "outputs": [
    {
     "name": "stdout",
     "output_type": "stream",
     "text": [
      "Collecting flair\n",
      "  Downloading flair-0.13.1-py3-none-any.whl.metadata (12 kB)\n",
      "Collecting boto3>=1.20.27 (from flair)\n",
      "  Downloading boto3-1.34.96-py3-none-any.whl.metadata (6.6 kB)\n",
      "Collecting bpemb>=0.3.2 (from flair)\n",
      "  Downloading bpemb-0.3.5-py3-none-any.whl.metadata (19 kB)\n",
      "Collecting conllu>=4.0 (from flair)\n",
      "  Downloading conllu-4.5.3-py2.py3-none-any.whl.metadata (19 kB)\n",
      "Collecting deprecated>=1.2.13 (from flair)\n",
      "  Downloading Deprecated-1.2.14-py2.py3-none-any.whl.metadata (5.4 kB)\n",
      "Collecting ftfy>=6.1.0 (from flair)\n",
      "  Downloading ftfy-6.2.0-py3-none-any.whl.metadata (7.3 kB)\n",
      "Collecting gdown>=4.4.0 (from flair)\n",
      "  Downloading gdown-5.1.0-py3-none-any.whl.metadata (5.7 kB)\n",
      "Requirement already satisfied: gensim>=4.2.0 in c:\\users\\ankur\\anaconda3\\lib\\site-packages (from flair) (4.3.0)\n",
      "Requirement already satisfied: huggingface-hub>=0.10.0 in c:\\users\\ankur\\anaconda3\\lib\\site-packages (from flair) (0.22.2)\n",
      "Collecting janome>=0.4.2 (from flair)\n",
      "  Downloading Janome-0.5.0-py2.py3-none-any.whl.metadata (2.6 kB)\n",
      "Collecting langdetect>=1.0.9 (from flair)\n",
      "  Downloading langdetect-1.0.9.tar.gz (981 kB)\n",
      "     ---------------------------------------- 0.0/981.5 kB ? eta -:--:--\n",
      "     ---------- --------------------------- 276.5/981.5 kB 8.6 MB/s eta 0:00:01\n",
      "     ------------------ ------------------- 481.3/981.5 kB 7.5 MB/s eta 0:00:01\n",
      "     ---------------------------------- --- 880.6/981.5 kB 7.0 MB/s eta 0:00:01\n",
      "     -------------------------------------- 981.5/981.5 kB 6.9 MB/s eta 0:00:00\n",
      "  Preparing metadata (setup.py): started\n",
      "  Preparing metadata (setup.py): finished with status 'done'\n",
      "Requirement already satisfied: lxml>=4.8.0 in c:\\users\\ankur\\anaconda3\\lib\\site-packages (from flair) (4.9.3)\n",
      "Requirement already satisfied: matplotlib>=2.2.3 in c:\\users\\ankur\\anaconda3\\lib\\site-packages (from flair) (3.7.2)\n",
      "Collecting more-itertools>=8.13.0 (from flair)\n",
      "  Downloading more_itertools-10.2.0-py3-none-any.whl.metadata (34 kB)\n",
      "Collecting mpld3>=0.3 (from flair)\n",
      "  Downloading mpld3-0.5.10-py3-none-any.whl.metadata (5.1 kB)\n",
      "Collecting pptree>=3.1 (from flair)\n",
      "  Downloading pptree-3.1.tar.gz (3.0 kB)\n",
      "  Preparing metadata (setup.py): started\n",
      "  Preparing metadata (setup.py): finished with status 'done'\n",
      "Requirement already satisfied: python-dateutil>=2.8.2 in c:\\users\\ankur\\anaconda3\\lib\\site-packages (from flair) (2.8.2)\n",
      "Collecting pytorch-revgrad>=0.2.0 (from flair)\n",
      "  Downloading pytorch_revgrad-0.2.0-py3-none-any.whl.metadata (1.7 kB)\n",
      "Requirement already satisfied: regex>=2022.1.18 in c:\\users\\ankur\\anaconda3\\lib\\site-packages (from flair) (2022.7.9)\n",
      "Requirement already satisfied: scikit-learn>=1.0.2 in c:\\users\\ankur\\anaconda3\\lib\\site-packages (from flair) (1.3.0)\n",
      "Collecting segtok>=1.5.11 (from flair)\n",
      "  Downloading segtok-1.5.11-py3-none-any.whl.metadata (9.0 kB)\n",
      "Collecting sqlitedict>=2.0.0 (from flair)\n",
      "  Downloading sqlitedict-2.1.0.tar.gz (21 kB)\n",
      "  Preparing metadata (setup.py): started\n",
      "  Preparing metadata (setup.py): finished with status 'done'\n",
      "Requirement already satisfied: tabulate>=0.8.10 in c:\\users\\ankur\\anaconda3\\lib\\site-packages (from flair) (0.8.10)\n",
      "Requirement already satisfied: torch!=1.8,>=1.5.0 in c:\\users\\ankur\\anaconda3\\lib\\site-packages (from flair) (2.2.0)\n",
      "Requirement already satisfied: tqdm>=4.63.0 in c:\\users\\ankur\\anaconda3\\lib\\site-packages (from flair) (4.65.0)\n",
      "Collecting transformer-smaller-training-vocab>=0.2.3 (from flair)\n",
      "  Downloading transformer_smaller_training_vocab-0.4.0-py3-none-any.whl.metadata (8.1 kB)\n",
      "Requirement already satisfied: transformers<5.0.0,>=4.18.0 in c:\\users\\ankur\\anaconda3\\lib\\site-packages (from transformers[sentencepiece]<5.0.0,>=4.18.0->flair) (4.40.0)\n",
      "Requirement already satisfied: urllib3<2.0.0,>=1.0.0 in c:\\users\\ankur\\anaconda3\\lib\\site-packages (from flair) (1.26.16)\n",
      "Collecting wikipedia-api>=0.5.7 (from flair)\n",
      "  Downloading Wikipedia_API-0.6.0-py3-none-any.whl.metadata (22 kB)\n",
      "Collecting semver<4.0.0,>=3.0.0 (from flair)\n",
      "  Downloading semver-3.0.2-py3-none-any.whl.metadata (5.0 kB)\n",
      "Collecting botocore<1.35.0,>=1.34.96 (from boto3>=1.20.27->flair)\n",
      "  Downloading botocore-1.34.96-py3-none-any.whl.metadata (5.7 kB)\n",
      "Requirement already satisfied: jmespath<2.0.0,>=0.7.1 in c:\\users\\ankur\\anaconda3\\lib\\site-packages (from boto3>=1.20.27->flair) (0.10.0)\n",
      "Collecting s3transfer<0.11.0,>=0.10.0 (from boto3>=1.20.27->flair)\n",
      "  Using cached s3transfer-0.10.1-py3-none-any.whl.metadata (1.7 kB)\n",
      "Requirement already satisfied: numpy in c:\\users\\ankur\\anaconda3\\lib\\site-packages (from bpemb>=0.3.2->flair) (1.24.3)\n",
      "Requirement already satisfied: requests in c:\\users\\ankur\\anaconda3\\lib\\site-packages (from bpemb>=0.3.2->flair) (2.31.0)\n",
      "Requirement already satisfied: sentencepiece in c:\\users\\ankur\\anaconda3\\lib\\site-packages (from bpemb>=0.3.2->flair) (0.2.0)\n",
      "Requirement already satisfied: wrapt<2,>=1.10 in c:\\users\\ankur\\anaconda3\\lib\\site-packages (from deprecated>=1.2.13->flair) (1.14.1)\n",
      "Collecting wcwidth<0.3.0,>=0.2.12 (from ftfy>=6.1.0->flair)\n",
      "  Using cached wcwidth-0.2.13-py2.py3-none-any.whl.metadata (14 kB)\n",
      "Requirement already satisfied: beautifulsoup4 in c:\\users\\ankur\\anaconda3\\lib\\site-packages (from gdown>=4.4.0->flair) (4.12.2)\n",
      "Requirement already satisfied: filelock in c:\\users\\ankur\\anaconda3\\lib\\site-packages (from gdown>=4.4.0->flair) (3.9.0)\n",
      "Requirement already satisfied: scipy>=1.7.0 in c:\\users\\ankur\\anaconda3\\lib\\site-packages (from gensim>=4.2.0->flair) (1.11.1)\n",
      "Requirement already satisfied: smart-open>=1.8.1 in c:\\users\\ankur\\anaconda3\\lib\\site-packages (from gensim>=4.2.0->flair) (5.2.1)\n",
      "Collecting FuzzyTM>=0.4.0 (from gensim>=4.2.0->flair)\n",
      "  Downloading FuzzyTM-2.0.9-py3-none-any.whl.metadata (7.9 kB)\n",
      "Requirement already satisfied: fsspec>=2023.5.0 in c:\\users\\ankur\\anaconda3\\lib\\site-packages (from huggingface-hub>=0.10.0->flair) (2024.3.1)\n",
      "Requirement already satisfied: packaging>=20.9 in c:\\users\\ankur\\anaconda3\\lib\\site-packages (from huggingface-hub>=0.10.0->flair) (23.1)\n",
      "Requirement already satisfied: pyyaml>=5.1 in c:\\users\\ankur\\anaconda3\\lib\\site-packages (from huggingface-hub>=0.10.0->flair) (6.0)\n",
      "Requirement already satisfied: typing-extensions>=3.7.4.3 in c:\\users\\ankur\\anaconda3\\lib\\site-packages (from huggingface-hub>=0.10.0->flair) (4.9.0)\n",
      "Requirement already satisfied: six in c:\\users\\ankur\\anaconda3\\lib\\site-packages (from langdetect>=1.0.9->flair) (1.16.0)\n",
      "Requirement already satisfied: contourpy>=1.0.1 in c:\\users\\ankur\\anaconda3\\lib\\site-packages (from matplotlib>=2.2.3->flair) (1.0.5)\n",
      "Requirement already satisfied: cycler>=0.10 in c:\\users\\ankur\\anaconda3\\lib\\site-packages (from matplotlib>=2.2.3->flair) (0.11.0)\n",
      "Requirement already satisfied: fonttools>=4.22.0 in c:\\users\\ankur\\anaconda3\\lib\\site-packages (from matplotlib>=2.2.3->flair) (4.25.0)\n",
      "Requirement already satisfied: kiwisolver>=1.0.1 in c:\\users\\ankur\\anaconda3\\lib\\site-packages (from matplotlib>=2.2.3->flair) (1.4.4)\n",
      "Requirement already satisfied: pillow>=6.2.0 in c:\\users\\ankur\\anaconda3\\lib\\site-packages (from matplotlib>=2.2.3->flair) (9.4.0)\n",
      "Requirement already satisfied: pyparsing<3.1,>=2.3.1 in c:\\users\\ankur\\anaconda3\\lib\\site-packages (from matplotlib>=2.2.3->flair) (3.0.9)\n",
      "Requirement already satisfied: jinja2 in c:\\users\\ankur\\anaconda3\\lib\\site-packages (from mpld3>=0.3->flair) (3.1.2)\n",
      "Requirement already satisfied: joblib>=1.1.1 in c:\\users\\ankur\\anaconda3\\lib\\site-packages (from scikit-learn>=1.0.2->flair) (1.2.0)\n",
      "Requirement already satisfied: threadpoolctl>=2.0.0 in c:\\users\\ankur\\anaconda3\\lib\\site-packages (from scikit-learn>=1.0.2->flair) (2.2.0)\n",
      "Requirement already satisfied: sympy in c:\\users\\ankur\\anaconda3\\lib\\site-packages (from torch!=1.8,>=1.5.0->flair) (1.11.1)\n",
      "Requirement already satisfied: networkx in c:\\users\\ankur\\anaconda3\\lib\\site-packages (from torch!=1.8,>=1.5.0->flair) (3.1)\n",
      "Requirement already satisfied: colorama in c:\\users\\ankur\\anaconda3\\lib\\site-packages (from tqdm>=4.63.0->flair) (0.4.6)\n",
      "Requirement already satisfied: tokenizers<0.20,>=0.19 in c:\\users\\ankur\\anaconda3\\lib\\site-packages (from transformers<5.0.0,>=4.18.0->transformers[sentencepiece]<5.0.0,>=4.18.0->flair) (0.19.1)\n",
      "Requirement already satisfied: safetensors>=0.4.1 in c:\\users\\ankur\\anaconda3\\lib\\site-packages (from transformers<5.0.0,>=4.18.0->transformers[sentencepiece]<5.0.0,>=4.18.0->flair) (0.4.3)\n",
      "Requirement already satisfied: protobuf in c:\\users\\ankur\\anaconda3\\lib\\site-packages (from transformers[sentencepiece]<5.0.0,>=4.18.0->flair) (4.25.2)\n",
      "Requirement already satisfied: pandas in c:\\users\\ankur\\anaconda3\\lib\\site-packages (from FuzzyTM>=0.4.0->gensim>=4.2.0->flair) (2.0.3)\n",
      "Collecting pyfume (from FuzzyTM>=0.4.0->gensim>=4.2.0->flair)\n",
      "  Downloading pyFUME-0.3.1-py3-none-any.whl.metadata (9.7 kB)\n",
      "Requirement already satisfied: accelerate>=0.21.0 in c:\\users\\ankur\\anaconda3\\lib\\site-packages (from transformers[sentencepiece,torch]<5.0,>=4.1->transformer-smaller-training-vocab>=0.2.3->flair) (0.29.3)\n",
      "Requirement already satisfied: soupsieve>1.2 in c:\\users\\ankur\\anaconda3\\lib\\site-packages (from beautifulsoup4->gdown>=4.4.0->flair) (2.4)\n",
      "Requirement already satisfied: MarkupSafe>=2.0 in c:\\users\\ankur\\anaconda3\\lib\\site-packages (from jinja2->mpld3>=0.3->flair) (2.1.1)\n",
      "Requirement already satisfied: charset-normalizer<4,>=2 in c:\\users\\ankur\\anaconda3\\lib\\site-packages (from requests->bpemb>=0.3.2->flair) (2.0.4)\n",
      "Requirement already satisfied: idna<4,>=2.5 in c:\\users\\ankur\\anaconda3\\lib\\site-packages (from requests->bpemb>=0.3.2->flair) (3.4)\n",
      "Requirement already satisfied: certifi>=2017.4.17 in c:\\users\\ankur\\anaconda3\\lib\\site-packages (from requests->bpemb>=0.3.2->flair) (2023.11.17)\n",
      "Requirement already satisfied: PySocks!=1.5.7,>=1.5.6 in c:\\users\\ankur\\anaconda3\\lib\\site-packages (from requests[socks]->gdown>=4.4.0->flair) (1.7.1)\n",
      "Requirement already satisfied: mpmath>=0.19 in c:\\users\\ankur\\anaconda3\\lib\\site-packages (from sympy->torch!=1.8,>=1.5.0->flair) (1.3.0)\n",
      "Requirement already satisfied: psutil in c:\\users\\ankur\\anaconda3\\lib\\site-packages (from accelerate>=0.21.0->transformers[sentencepiece,torch]<5.0,>=4.1->transformer-smaller-training-vocab>=0.2.3->flair) (5.9.0)\n",
      "Requirement already satisfied: pytz>=2020.1 in c:\\users\\ankur\\anaconda3\\lib\\site-packages (from pandas->FuzzyTM>=0.4.0->gensim>=4.2.0->flair) (2023.3.post1)\n",
      "Requirement already satisfied: tzdata>=2022.1 in c:\\users\\ankur\\anaconda3\\lib\\site-packages (from pandas->FuzzyTM>=0.4.0->gensim>=4.2.0->flair) (2023.3)\n",
      "Collecting simpful (from pyfume->FuzzyTM>=0.4.0->gensim>=4.2.0->flair)\n",
      "  Downloading simpful-2.12.0-py3-none-any.whl.metadata (4.8 kB)\n",
      "Collecting fst-pso (from pyfume->FuzzyTM>=0.4.0->gensim>=4.2.0->flair)\n",
      "  Downloading fst-pso-1.8.1.tar.gz (18 kB)\n",
      "  Preparing metadata (setup.py): started\n",
      "  Preparing metadata (setup.py): finished with status 'done'\n",
      "Collecting miniful (from fst-pso->pyfume->FuzzyTM>=0.4.0->gensim>=4.2.0->flair)\n",
      "  Downloading miniful-0.0.6.tar.gz (2.8 kB)\n",
      "  Preparing metadata (setup.py): started\n",
      "  Preparing metadata (setup.py): finished with status 'done'\n",
      "Downloading flair-0.13.1-py3-none-any.whl (388 kB)\n",
      "   ---------------------------------------- 0.0/388.3 kB ? eta -:--:--\n",
      "   -------- ------------------------------- 81.9/388.3 kB ? eta -:--:--\n",
      "   -------- ------------------------------- 81.9/388.3 kB ? eta -:--:--\n",
      "   --------------------------- ------------ 266.2/388.3 kB 2.3 MB/s eta 0:00:01\n",
      "   ---------------------------------------- 388.3/388.3 kB 2.7 MB/s eta 0:00:00\n",
      "Downloading boto3-1.34.96-py3-none-any.whl (139 kB)\n",
      "   ---------------------------------------- 0.0/139.3 kB ? eta -:--:--\n",
      "   ---------------------------------------- 139.3/139.3 kB 8.1 MB/s eta 0:00:00\n",
      "Downloading bpemb-0.3.5-py3-none-any.whl (19 kB)\n",
      "Downloading conllu-4.5.3-py2.py3-none-any.whl (16 kB)\n",
      "Downloading Deprecated-1.2.14-py2.py3-none-any.whl (9.6 kB)\n",
      "Downloading ftfy-6.2.0-py3-none-any.whl (54 kB)\n",
      "   ---------------------------------------- 0.0/54.4 kB ? eta -:--:--\n",
      "   ---------------------------------------- 54.4/54.4 kB ? eta 0:00:00\n",
      "Downloading gdown-5.1.0-py3-none-any.whl (17 kB)\n",
      "Downloading Janome-0.5.0-py2.py3-none-any.whl (19.7 MB)\n",
      "   ---------------------------------------- 0.0/19.7 MB ? eta -:--:--\n",
      "    --------------------------------------- 0.3/19.7 MB 10.2 MB/s eta 0:00:02\n",
      "   - -------------------------------------- 0.9/19.7 MB 9.8 MB/s eta 0:00:02\n",
      "   --- ------------------------------------ 1.5/19.7 MB 11.7 MB/s eta 0:00:02\n",
      "   --- ------------------------------------ 1.9/19.7 MB 10.3 MB/s eta 0:00:02\n",
      "   ----- ---------------------------------- 2.7/19.7 MB 12.3 MB/s eta 0:00:02\n",
      "   ------- -------------------------------- 3.6/19.7 MB 12.7 MB/s eta 0:00:02\n",
      "   -------- ------------------------------- 4.4/19.7 MB 13.3 MB/s eta 0:00:02\n",
      "   ---------- ----------------------------- 5.2/19.7 MB 13.8 MB/s eta 0:00:02\n",
      "   ------------ --------------------------- 6.1/19.7 MB 14.5 MB/s eta 0:00:01\n",
      "   -------------- ------------------------- 7.0/19.7 MB 15.0 MB/s eta 0:00:01\n",
      "   --------------- ------------------------ 7.7/19.7 MB 14.9 MB/s eta 0:00:01\n",
      "   ---------------- ----------------------- 8.2/19.7 MB 14.5 MB/s eta 0:00:01\n",
      "   ------------------ --------------------- 9.1/19.7 MB 14.9 MB/s eta 0:00:01\n",
      "   ------------------- -------------------- 9.8/19.7 MB 15.2 MB/s eta 0:00:01\n",
      "   --------------------- ------------------ 10.7/19.7 MB 16.4 MB/s eta 0:00:01\n",
      "   ----------------------- ---------------- 11.6/19.7 MB 16.8 MB/s eta 0:00:01\n",
      "   ------------------------- -------------- 12.7/19.7 MB 17.7 MB/s eta 0:00:01\n",
      "   -------------------------- ------------- 13.2/19.7 MB 17.2 MB/s eta 0:00:01\n",
      "   ---------------------------- ----------- 14.0/19.7 MB 17.3 MB/s eta 0:00:01\n",
      "   ------------------------------ --------- 14.8/19.7 MB 17.7 MB/s eta 0:00:01\n",
      "   ------------------------------- -------- 15.7/19.7 MB 17.3 MB/s eta 0:00:01\n",
      "   ---------------------------------- ----- 16.9/19.7 MB 17.7 MB/s eta 0:00:01\n",
      "   ---------------------------------- ----- 17.2/19.7 MB 16.8 MB/s eta 0:00:01\n",
      "   ----------------------------------- ---- 17.5/19.7 MB 16.0 MB/s eta 0:00:01\n",
      "   -------------------------------------- - 18.9/19.7 MB 17.2 MB/s eta 0:00:01\n",
      "   ---------------------------------------- 19.7/19.7 MB 17.7 MB/s eta 0:00:00\n",
      "Downloading more_itertools-10.2.0-py3-none-any.whl (57 kB)\n",
      "   ---------------------------------------- 0.0/57.0 kB ? eta -:--:--\n",
      "   ---------------------------------------- 57.0/57.0 kB ? eta 0:00:00\n",
      "Downloading mpld3-0.5.10-py3-none-any.whl (202 kB)\n",
      "   ---------------------------------------- 0.0/202.6 kB ? eta -:--:--\n",
      "   --------------------------------------- 202.6/202.6 kB 12.8 MB/s eta 0:00:00\n",
      "Downloading pytorch_revgrad-0.2.0-py3-none-any.whl (4.6 kB)\n",
      "Downloading segtok-1.5.11-py3-none-any.whl (24 kB)\n",
      "Downloading semver-3.0.2-py3-none-any.whl (17 kB)\n",
      "Downloading transformer_smaller_training_vocab-0.4.0-py3-none-any.whl (14 kB)\n",
      "Downloading Wikipedia_API-0.6.0-py3-none-any.whl (14 kB)\n",
      "Downloading botocore-1.34.96-py3-none-any.whl (12.2 MB)\n",
      "   ---------------------------------------- 0.0/12.2 MB ? eta -:--:--\n",
      "   ---------------------------------------- 0.1/12.2 MB 2.6 MB/s eta 0:00:05\n",
      "   - -------------------------------------- 0.3/12.2 MB 3.2 MB/s eta 0:00:04\n",
      "   -- ------------------------------------- 0.7/12.2 MB 4.4 MB/s eta 0:00:03\n",
      "   ------- -------------------------------- 2.2/12.2 MB 11.6 MB/s eta 0:00:01\n",
      "   ------------ --------------------------- 3.7/12.2 MB 14.7 MB/s eta 0:00:01\n",
      "   -------------------- ------------------- 6.2/12.2 MB 20.8 MB/s eta 0:00:01\n",
      "   ----------------------- ---------------- 7.2/12.2 MB 21.8 MB/s eta 0:00:01\n",
      "   ----------------------- ---------------- 7.2/12.2 MB 21.8 MB/s eta 0:00:01\n",
      "   -------------------------- ------------- 8.2/12.2 MB 19.3 MB/s eta 0:00:01\n",
      "   -------------------------- ------------- 8.2/12.2 MB 19.4 MB/s eta 0:00:01\n",
      "   -------------------------------- ------- 9.9/12.2 MB 19.1 MB/s eta 0:00:01\n",
      "   --------------------------------- ------ 10.2/12.2 MB 19.8 MB/s eta 0:00:01\n",
      "   ------------------------------------ --- 11.0/12.2 MB 22.6 MB/s eta 0:00:01\n",
      "   ------------------------------------- -- 11.5/12.2 MB 22.6 MB/s eta 0:00:01\n",
      "   ---------------------------------------  12.2/12.2 MB 19.8 MB/s eta 0:00:01\n",
      "   ---------------------------------------- 12.2/12.2 MB 19.2 MB/s eta 0:00:00\n",
      "Downloading FuzzyTM-2.0.9-py3-none-any.whl (31 kB)\n",
      "Using cached s3transfer-0.10.1-py3-none-any.whl (82 kB)\n",
      "Using cached wcwidth-0.2.13-py2.py3-none-any.whl (34 kB)\n",
      "Downloading pyFUME-0.3.1-py3-none-any.whl (59 kB)\n",
      "   ---------------------------------------- 0.0/59.6 kB ? eta -:--:--\n",
      "   ---------------------------------------- 59.6/59.6 kB ? eta 0:00:00\n",
      "Downloading simpful-2.12.0-py3-none-any.whl (24 kB)\n",
      "Building wheels for collected packages: langdetect, pptree, sqlitedict, fst-pso, miniful\n",
      "  Building wheel for langdetect (setup.py): started\n",
      "  Building wheel for langdetect (setup.py): finished with status 'done'\n",
      "  Created wheel for langdetect: filename=langdetect-1.0.9-py3-none-any.whl size=993254 sha256=9633855cbd067bfb4860bf1831d985ddaec955bec1e81e3070d53ff224b9c9a8\n",
      "  Stored in directory: c:\\users\\ankur\\appdata\\local\\pip\\cache\\wheels\\0a\\f2\\b2\\e5ca405801e05eb7c8ed5b3b4bcf1fcabcd6272c167640072e\n",
      "  Building wheel for pptree (setup.py): started\n",
      "  Building wheel for pptree (setup.py): finished with status 'done'\n",
      "  Created wheel for pptree: filename=pptree-3.1-py3-none-any.whl size=4612 sha256=a72964ceedc034f138cccfe93ce1cf7799a2b803925be0b34000a44cb584d09d\n",
      "  Stored in directory: c:\\users\\ankur\\appdata\\local\\pip\\cache\\wheels\\68\\8a\\eb\\d683aa6d09dc68ebfde2f37566ddc8807837c4415b4fd2b04c\n",
      "  Building wheel for sqlitedict (setup.py): started\n",
      "  Building wheel for sqlitedict (setup.py): finished with status 'done'\n",
      "  Created wheel for sqlitedict: filename=sqlitedict-2.1.0-py3-none-any.whl size=16902 sha256=6038dc4374ef46a754ef9532288f81258fa39e60a0aa008bff8a162f472d2c10\n",
      "  Stored in directory: c:\\users\\ankur\\appdata\\local\\pip\\cache\\wheels\\73\\63\\89\\7210274f9b7fb033b8f22671f64c0e0b55083d30c3c046a3ff\n",
      "  Building wheel for fst-pso (setup.py): started\n",
      "  Building wheel for fst-pso (setup.py): finished with status 'done'\n",
      "  Created wheel for fst-pso: filename=fst_pso-1.8.1-py3-none-any.whl size=20450 sha256=049d838c61c4a668e5154bf4c50e3e2a046d49fe053d48c85fbe9c37d83be042\n",
      "  Stored in directory: c:\\users\\ankur\\appdata\\local\\pip\\cache\\wheels\\69\\f5\\e5\\18ad53fe1ed6b2af9fad05ec052e4acbac8e92441df44bad2e\n",
      "  Building wheel for miniful (setup.py): started\n",
      "  Building wheel for miniful (setup.py): finished with status 'done'\n",
      "  Created wheel for miniful: filename=miniful-0.0.6-py3-none-any.whl size=3518 sha256=d3483ede9cd2dff37abf99e4f3fd59fe16832342c47884eb49a8efe21d9d1489\n",
      "  Stored in directory: c:\\users\\ankur\\appdata\\local\\pip\\cache\\wheels\\9d\\ff\\2f\\afe4cd56f47de147407705626517d68bea0f3b74eb1fb168e6\n",
      "Successfully built langdetect pptree sqlitedict fst-pso miniful\n",
      "Installing collected packages: wcwidth, sqlitedict, pptree, janome, semver, segtok, more-itertools, langdetect, ftfy, deprecated, conllu, wikipedia-api, simpful, miniful, botocore, s3transfer, pytorch-revgrad, mpld3, gdown, fst-pso, pyfume, boto3, FuzzyTM, transformer-smaller-training-vocab, bpemb, flair\n",
      "  Attempting uninstall: wcwidth\n",
      "    Found existing installation: wcwidth 0.2.5\n",
      "    Uninstalling wcwidth-0.2.5:\n",
      "      Successfully uninstalled wcwidth-0.2.5\n",
      "  Attempting uninstall: more-itertools\n",
      "    Found existing installation: more-itertools 8.12.0\n",
      "    Uninstalling more-itertools-8.12.0:\n",
      "      Successfully uninstalled more-itertools-8.12.0\n",
      "  Attempting uninstall: botocore\n",
      "    Found existing installation: botocore 1.29.76\n",
      "    Uninstalling botocore-1.29.76:\n",
      "      Successfully uninstalled botocore-1.29.76\n",
      "Successfully installed FuzzyTM-2.0.9 boto3-1.34.96 botocore-1.34.96 bpemb-0.3.5 conllu-4.5.3 deprecated-1.2.14 flair-0.13.1 fst-pso-1.8.1 ftfy-6.2.0 gdown-5.1.0 janome-0.5.0 langdetect-1.0.9 miniful-0.0.6 more-itertools-10.2.0 mpld3-0.5.10 pptree-3.1 pyfume-0.3.1 pytorch-revgrad-0.2.0 s3transfer-0.10.1 segtok-1.5.11 semver-3.0.2 simpful-2.12.0 sqlitedict-2.1.0 transformer-smaller-training-vocab-0.4.0 wcwidth-0.2.13 wikipedia-api-0.6.0\n",
      "Note: you may need to restart the kernel to use updated packages.\n"
     ]
    },
    {
     "name": "stderr",
     "output_type": "stream",
     "text": [
      "ERROR: pip's dependency resolver does not currently take into account all the packages that are installed. This behaviour is the source of the following dependency conflicts.\n",
      "aiobotocore 2.5.0 requires botocore<1.29.77,>=1.29.76, but you have botocore 1.34.96 which is incompatible.\n",
      "s3fs 2023.4.0 requires fsspec==2023.4.0, but you have fsspec 2024.3.1 which is incompatible.\n"
     ]
    }
   ],
   "source": [
    "pip install flair\n"
   ]
  },
  {
   "cell_type": "code",
   "execution_count": 5,
   "id": "04b31012",
   "metadata": {},
   "outputs": [
    {
     "name": "stdout",
     "output_type": "stream",
     "text": [
      "\n",
      "Labeling data for language: Hindi\n",
      "\n",
      "\n",
      "Labeling data for language: Bengali\n",
      "\n",
      "\n",
      "Labeling data for language: Punjabi\n",
      "\n",
      "Labeling completed successfully!\n"
     ]
    }
   ],
   "source": [
    "import os\n",
    "import pickle\n",
    "import pandas as pd\n",
    "\n",
    "# Define the labeler function\n",
    "def label_data(sentiments, lang):\n",
    "    labeled_data = []\n",
    "\n",
    "    for folder_path, files in sentiments.items():\n",
    "        for filename, file_data in files.items():\n",
    "            sentiment_label = file_data[\"sentiment\"]\n",
    "            labeled_data.append((os.path.join(folder_path, filename), sentiment_label))\n",
    "\n",
    "    df_labeled = pd.DataFrame(labeled_data, columns=['filepath', 'label'])\n",
    "    df_labeled.to_csv(f'gen_labels/gen_{lang}.csv', index=False)\n",
    "\n",
    "# Iterate over languages\n",
    "for lang in languages:\n",
    "    print()\n",
    "    print(f\"Labeling data for language: {lang}\")\n",
    "    print()\n",
    "\n",
    "    # Load sentiment data\n",
    "    with open(f\"sentiments/sentiments_{lang}.pickle\", \"rb\") as file:\n",
    "        sentiments = pickle.load(file)\n",
    "\n",
    "    # Call labeler function\n",
    "    label_data(sentiments, lang)\n",
    "\n",
    "print(\"Labeling completed successfully!\")\n"
   ]
  },
  {
   "cell_type": "code",
   "execution_count": 21,
   "id": "a401b513",
   "metadata": {},
   "outputs": [
    {
     "name": "stdout",
     "output_type": "stream",
     "text": [
      "dict_keys(['sentiment'])\n",
      "dict_keys(['sentiment'])\n",
      "dict_keys(['sentiment'])\n",
      "dict_keys(['sentiment'])\n",
      "dict_keys(['sentiment'])\n",
      "dict_keys(['sentiment'])\n",
      "dict_keys(['sentiment'])\n",
      "dict_keys(['sentiment'])\n",
      "dict_keys(['sentiment'])\n",
      "dict_keys(['sentiment'])\n",
      "dict_keys(['sentiment'])\n",
      "dict_keys(['sentiment'])\n",
      "dict_keys(['sentiment'])\n",
      "dict_keys(['sentiment'])\n",
      "dict_keys(['sentiment'])\n",
      "dict_keys(['sentiment'])\n",
      "dict_keys(['sentiment'])\n",
      "dict_keys(['sentiment'])\n",
      "dict_keys(['sentiment'])\n",
      "dict_keys(['sentiment'])\n",
      "dict_keys(['sentiment'])\n",
      "dict_keys(['sentiment'])\n",
      "dict_keys(['sentiment'])\n",
      "dict_keys(['sentiment'])\n",
      "dict_keys(['sentiment'])\n",
      "dict_keys(['sentiment'])\n",
      "dict_keys(['sentiment'])\n",
      "dict_keys(['sentiment'])\n",
      "dict_keys(['sentiment'])\n",
      "dict_keys(['sentiment'])\n",
      "dict_keys(['sentiment'])\n",
      "dict_keys(['sentiment'])\n",
      "dict_keys(['sentiment'])\n",
      "dict_keys(['sentiment'])\n",
      "dict_keys(['sentiment'])\n",
      "dict_keys(['sentiment'])\n",
      "dict_keys(['sentiment'])\n",
      "dict_keys(['sentiment'])\n",
      "dict_keys(['sentiment'])\n",
      "dict_keys(['sentiment'])\n",
      "dict_keys(['sentiment'])\n",
      "dict_keys(['sentiment'])\n",
      "dict_keys(['sentiment'])\n",
      "dict_keys(['sentiment'])\n",
      "dict_keys(['sentiment'])\n",
      "dict_keys(['sentiment'])\n",
      "dict_keys(['sentiment'])\n",
      "dict_keys(['sentiment'])\n",
      "dict_keys(['sentiment'])\n",
      "dict_keys(['sentiment'])\n",
      "dict_keys(['sentiment'])\n",
      "dict_keys(['sentiment'])\n",
      "dict_keys(['sentiment'])\n",
      "dict_keys(['sentiment'])\n",
      "dict_keys(['sentiment'])\n",
      "dict_keys(['sentiment'])\n",
      "dict_keys(['sentiment'])\n",
      "dict_keys(['sentiment'])\n",
      "dict_keys(['sentiment'])\n",
      "dict_keys(['sentiment'])\n",
      "dict_keys(['sentiment'])\n",
      "dict_keys(['sentiment'])\n",
      "dict_keys(['sentiment'])\n",
      "dict_keys(['sentiment'])\n",
      "dict_keys(['sentiment'])\n",
      "dict_keys(['sentiment'])\n",
      "dict_keys(['sentiment'])\n",
      "dict_keys(['sentiment'])\n",
      "dict_keys(['sentiment'])\n",
      "dict_keys(['sentiment'])\n",
      "dict_keys(['sentiment'])\n",
      "dict_keys(['sentiment'])\n",
      "dict_keys(['sentiment'])\n",
      "dict_keys(['sentiment'])\n",
      "dict_keys(['sentiment'])\n",
      "dict_keys(['sentiment'])\n",
      "dict_keys(['sentiment'])\n",
      "dict_keys(['sentiment'])\n",
      "dict_keys(['sentiment'])\n",
      "dict_keys(['sentiment'])\n",
      "dict_keys(['sentiment'])\n",
      "dict_keys(['sentiment'])\n",
      "dict_keys(['sentiment'])\n",
      "dict_keys(['sentiment'])\n",
      "dict_keys(['sentiment'])\n",
      "dict_keys(['sentiment'])\n",
      "dict_keys(['sentiment'])\n",
      "dict_keys(['sentiment'])\n",
      "dict_keys(['sentiment'])\n",
      "dict_keys(['sentiment'])\n",
      "dict_keys(['sentiment'])\n",
      "dict_keys(['sentiment'])\n",
      "dict_keys(['sentiment'])\n",
      "dict_keys(['sentiment'])\n",
      "dict_keys(['sentiment'])\n",
      "dict_keys(['sentiment'])\n",
      "dict_keys(['sentiment'])\n",
      "dict_keys(['sentiment'])\n",
      "dict_keys(['sentiment'])\n",
      "dict_keys(['sentiment'])\n",
      "dict_keys(['sentiment'])\n",
      "dict_keys(['sentiment'])\n",
      "dict_keys(['sentiment'])\n",
      "dict_keys(['sentiment'])\n",
      "dict_keys(['sentiment'])\n",
      "dict_keys(['sentiment'])\n",
      "dict_keys(['sentiment'])\n",
      "dict_keys(['sentiment'])\n",
      "dict_keys(['sentiment'])\n",
      "dict_keys(['sentiment'])\n",
      "dict_keys(['sentiment'])\n",
      "dict_keys(['sentiment'])\n",
      "dict_keys(['sentiment'])\n",
      "dict_keys(['sentiment'])\n",
      "dict_keys(['sentiment'])\n",
      "dict_keys(['sentiment'])\n",
      "dict_keys(['sentiment'])\n",
      "dict_keys(['sentiment'])\n",
      "dict_keys(['sentiment'])\n",
      "dict_keys(['sentiment'])\n",
      "dict_keys(['sentiment'])\n",
      "dict_keys(['sentiment'])\n",
      "dict_keys(['sentiment'])\n",
      "dict_keys(['sentiment'])\n",
      "dict_keys(['sentiment'])\n",
      "dict_keys(['sentiment'])\n",
      "dict_keys(['sentiment'])\n",
      "dict_keys(['sentiment'])\n",
      "dict_keys(['sentiment'])\n",
      "dict_keys(['sentiment'])\n",
      "dict_keys(['sentiment'])\n",
      "dict_keys(['sentiment'])\n",
      "dict_keys(['sentiment'])\n",
      "dict_keys(['sentiment'])\n",
      "dict_keys(['sentiment'])\n",
      "dict_keys(['sentiment'])\n",
      "dict_keys(['sentiment'])\n",
      "dict_keys(['sentiment'])\n",
      "dict_keys(['sentiment'])\n",
      "dict_keys(['sentiment'])\n",
      "dict_keys(['sentiment'])\n",
      "dict_keys(['sentiment'])\n",
      "dict_keys(['sentiment'])\n",
      "dict_keys(['sentiment'])\n",
      "dict_keys(['sentiment'])\n",
      "dict_keys(['sentiment'])\n",
      "dict_keys(['sentiment'])\n",
      "dict_keys(['sentiment'])\n",
      "dict_keys(['sentiment'])\n",
      "dict_keys(['sentiment'])\n",
      "dict_keys(['sentiment'])\n",
      "dict_keys(['sentiment'])\n",
      "dict_keys(['sentiment'])\n",
      "dict_keys(['sentiment'])\n",
      "dict_keys(['sentiment'])\n",
      "dict_keys(['sentiment'])\n",
      "dict_keys(['sentiment'])\n",
      "dict_keys(['sentiment'])\n",
      "dict_keys(['sentiment'])\n",
      "dict_keys(['sentiment'])\n",
      "dict_keys(['sentiment'])\n",
      "dict_keys(['sentiment'])\n",
      "dict_keys(['sentiment'])\n",
      "dict_keys(['sentiment'])\n",
      "dict_keys(['sentiment'])\n",
      "dict_keys(['sentiment'])\n",
      "dict_keys(['sentiment'])\n",
      "dict_keys(['sentiment'])\n",
      "dict_keys(['sentiment'])\n",
      "dict_keys(['sentiment'])\n",
      "dict_keys(['sentiment'])\n",
      "dict_keys(['sentiment'])\n",
      "dict_keys(['sentiment'])\n",
      "dict_keys(['sentiment'])\n",
      "dict_keys(['sentiment'])\n",
      "dict_keys(['sentiment'])\n",
      "dict_keys(['sentiment'])\n",
      "dict_keys(['sentiment'])\n",
      "dict_keys(['sentiment'])\n",
      "dict_keys(['sentiment'])\n",
      "dict_keys(['sentiment'])\n",
      "dict_keys(['sentiment'])\n",
      "dict_keys(['sentiment'])\n",
      "dict_keys(['sentiment'])\n",
      "dict_keys(['sentiment'])\n",
      "dict_keys(['sentiment'])\n",
      "dict_keys(['sentiment'])\n",
      "dict_keys(['sentiment'])\n",
      "dict_keys(['sentiment'])\n",
      "dict_keys(['sentiment'])\n",
      "dict_keys(['sentiment'])\n",
      "dict_keys(['sentiment'])\n",
      "dict_keys(['sentiment'])\n",
      "dict_keys(['sentiment'])\n",
      "dict_keys(['sentiment'])\n",
      "dict_keys(['sentiment'])\n",
      "dict_keys(['sentiment'])\n",
      "dict_keys(['sentiment'])\n",
      "dict_keys(['sentiment'])\n",
      "dict_keys(['sentiment'])\n",
      "dict_keys(['sentiment'])\n",
      "dict_keys(['sentiment'])\n",
      "dict_keys(['sentiment'])\n",
      "dict_keys(['sentiment'])\n",
      "dict_keys(['sentiment'])\n",
      "dict_keys(['sentiment'])\n",
      "dict_keys(['sentiment'])\n",
      "dict_keys(['sentiment'])\n",
      "dict_keys(['sentiment'])\n",
      "dict_keys(['sentiment'])\n",
      "dict_keys(['sentiment'])\n",
      "dict_keys(['sentiment'])\n",
      "dict_keys(['sentiment'])\n",
      "dict_keys(['sentiment'])\n",
      "dict_keys(['sentiment'])\n",
      "dict_keys(['sentiment'])\n",
      "dict_keys(['sentiment'])\n",
      "dict_keys(['sentiment'])\n",
      "dict_keys(['sentiment'])\n",
      "dict_keys(['sentiment'])\n",
      "dict_keys(['sentiment'])\n",
      "dict_keys(['sentiment'])\n",
      "dict_keys(['sentiment'])\n",
      "dict_keys(['sentiment'])\n",
      "dict_keys(['sentiment'])\n",
      "dict_keys(['sentiment'])\n",
      "dict_keys(['sentiment'])\n",
      "dict_keys(['sentiment'])\n",
      "dict_keys(['sentiment'])\n",
      "dict_keys(['sentiment'])\n",
      "dict_keys(['sentiment'])\n",
      "dict_keys(['sentiment'])\n",
      "dict_keys(['sentiment'])\n",
      "dict_keys(['sentiment'])\n",
      "dict_keys(['sentiment'])\n",
      "dict_keys(['sentiment'])\n",
      "dict_keys(['sentiment'])\n",
      "dict_keys(['sentiment'])\n",
      "dict_keys(['sentiment'])\n",
      "dict_keys(['sentiment'])\n",
      "dict_keys(['sentiment'])\n",
      "dict_keys(['sentiment'])\n",
      "dict_keys(['sentiment'])\n",
      "dict_keys(['sentiment'])\n",
      "dict_keys(['sentiment'])\n",
      "dict_keys(['sentiment'])\n",
      "dict_keys(['sentiment'])\n",
      "dict_keys(['sentiment'])\n",
      "dict_keys(['sentiment'])\n",
      "dict_keys(['sentiment'])\n",
      "dict_keys(['sentiment'])\n",
      "dict_keys(['sentiment'])\n",
      "dict_keys(['sentiment'])\n",
      "dict_keys(['sentiment'])\n",
      "dict_keys(['sentiment'])\n",
      "dict_keys(['sentiment'])\n",
      "dict_keys(['sentiment'])\n",
      "dict_keys(['sentiment'])\n",
      "dict_keys(['sentiment'])\n",
      "dict_keys(['sentiment'])\n",
      "dict_keys(['sentiment'])\n",
      "dict_keys(['sentiment'])\n",
      "dict_keys(['sentiment'])\n",
      "dict_keys(['sentiment'])\n",
      "dict_keys(['sentiment'])\n",
      "dict_keys(['sentiment'])\n",
      "dict_keys(['sentiment'])\n",
      "dict_keys(['sentiment'])\n",
      "dict_keys(['sentiment'])\n",
      "dict_keys(['sentiment'])\n",
      "dict_keys(['sentiment'])\n",
      "dict_keys(['sentiment'])\n",
      "dict_keys(['sentiment'])\n",
      "dict_keys(['sentiment'])\n",
      "dict_keys(['sentiment'])\n",
      "dict_keys(['sentiment'])\n",
      "dict_keys(['sentiment'])\n",
      "dict_keys(['sentiment'])\n",
      "dict_keys(['sentiment'])\n",
      "dict_keys(['sentiment'])\n",
      "dict_keys(['sentiment'])\n",
      "dict_keys(['sentiment'])\n",
      "dict_keys(['sentiment'])\n",
      "dict_keys(['sentiment'])\n",
      "dict_keys(['sentiment'])\n",
      "dict_keys(['sentiment'])\n",
      "dict_keys(['sentiment'])\n",
      "dict_keys(['sentiment'])\n",
      "dict_keys(['sentiment'])\n",
      "dict_keys(['sentiment'])\n",
      "dict_keys(['sentiment'])\n",
      "dict_keys(['sentiment'])\n",
      "dict_keys(['sentiment'])\n",
      "dict_keys(['sentiment'])\n",
      "dict_keys(['sentiment'])\n",
      "dict_keys(['sentiment'])\n",
      "dict_keys(['sentiment'])\n",
      "dict_keys(['sentiment'])\n",
      "dict_keys(['sentiment'])\n",
      "dict_keys(['sentiment'])\n",
      "dict_keys(['sentiment'])\n",
      "dict_keys(['sentiment'])\n",
      "dict_keys(['sentiment'])\n",
      "dict_keys(['sentiment'])\n",
      "dict_keys(['sentiment'])\n",
      "dict_keys(['sentiment'])\n",
      "dict_keys(['sentiment'])\n",
      "dict_keys(['sentiment'])\n",
      "dict_keys(['sentiment'])\n",
      "dict_keys(['sentiment'])\n",
      "dict_keys(['sentiment'])\n",
      "dict_keys(['sentiment'])\n",
      "dict_keys(['sentiment'])\n",
      "dict_keys(['sentiment'])\n",
      "dict_keys(['sentiment'])\n",
      "dict_keys(['sentiment'])\n",
      "dict_keys(['sentiment'])\n",
      "dict_keys(['sentiment'])\n",
      "dict_keys(['sentiment'])\n",
      "dict_keys(['sentiment'])\n",
      "dict_keys(['sentiment'])\n",
      "dict_keys(['sentiment'])\n",
      "dict_keys(['sentiment'])\n",
      "dict_keys(['sentiment'])\n",
      "dict_keys(['sentiment'])\n",
      "dict_keys(['sentiment'])\n",
      "dict_keys(['sentiment'])\n",
      "dict_keys(['sentiment'])\n",
      "dict_keys(['sentiment'])\n",
      "dict_keys(['sentiment'])\n",
      "dict_keys(['sentiment'])\n",
      "dict_keys(['sentiment'])\n",
      "dict_keys(['sentiment'])\n",
      "dict_keys(['sentiment'])\n",
      "dict_keys(['sentiment'])\n",
      "dict_keys(['sentiment'])\n",
      "dict_keys(['sentiment'])\n",
      "dict_keys(['sentiment'])\n",
      "dict_keys(['sentiment'])\n",
      "dict_keys(['sentiment'])\n"
     ]
    }
   ],
   "source": [
    "for folder_path, files in sentiments.items():\n",
    "    for filename, file_data in files.items():\n",
    "        print(file_data.keys())\n"
   ]
  },
  {
   "cell_type": "code",
   "execution_count": 8,
   "id": "4e9b2da6",
   "metadata": {},
   "outputs": [
    {
     "ename": "TypeError",
     "evalue": "'StackedEmbeddings' object is not iterable",
     "output_type": "error",
     "traceback": [
      "\u001b[1;31m---------------------------------------------------------------------------\u001b[0m",
      "\u001b[1;31mTypeError\u001b[0m                                 Traceback (most recent call last)",
      "Cell \u001b[1;32mIn[8], line 33\u001b[0m\n\u001b[0;32m     30\u001b[0m     \u001b[38;5;28;01mreturn\u001b[39;00m classifier\n\u001b[0;32m     32\u001b[0m \u001b[38;5;66;03m# Initialize the sentiment classifier\u001b[39;00m\n\u001b[1;32m---> 33\u001b[0m sentiment_classifier \u001b[38;5;241m=\u001b[39m initialize_sentiment_classifier()\n\u001b[0;32m     35\u001b[0m \u001b[38;5;28;01mfor\u001b[39;00m lang \u001b[38;5;129;01min\u001b[39;00m languages:\n\u001b[0;32m     36\u001b[0m     \u001b[38;5;28mprint\u001b[39m()\n",
      "Cell \u001b[1;32mIn[8], line 25\u001b[0m, in \u001b[0;36minitialize_sentiment_classifier\u001b[1;34m()\u001b[0m\n\u001b[0;32m     18\u001b[0m stacked_embeddings \u001b[38;5;241m=\u001b[39m StackedEmbeddings(embeddings\u001b[38;5;241m=\u001b[39m[\n\u001b[0;32m     19\u001b[0m     glove_embedding,\n\u001b[0;32m     20\u001b[0m     flair_forward_embedding,\n\u001b[0;32m     21\u001b[0m     flair_backward_embedding\n\u001b[0;32m     22\u001b[0m ])\n\u001b[0;32m     24\u001b[0m \u001b[38;5;66;03m# Initialize Document RNN embeddings\u001b[39;00m\n\u001b[1;32m---> 25\u001b[0m document_embeddings \u001b[38;5;241m=\u001b[39m DocumentRNNEmbeddings(embeddings\u001b[38;5;241m=\u001b[39mstacked_embeddings, hidden_size\u001b[38;5;241m=\u001b[39m\u001b[38;5;241m512\u001b[39m, reproject_words\u001b[38;5;241m=\u001b[39m\u001b[38;5;28;01mTrue\u001b[39;00m, reproject_words_dimension\u001b[38;5;241m=\u001b[39m\u001b[38;5;241m256\u001b[39m)\n\u001b[0;32m     27\u001b[0m \u001b[38;5;66;03m# Initialize text classifier\u001b[39;00m\n\u001b[0;32m     28\u001b[0m classifier \u001b[38;5;241m=\u001b[39m TextClassifier(document_embeddings, label_dictionary\u001b[38;5;241m=\u001b[39m\u001b[38;5;28;01mNone\u001b[39;00m, multi_label\u001b[38;5;241m=\u001b[39m\u001b[38;5;28;01mFalse\u001b[39;00m)\n",
      "File \u001b[1;32m~\\anaconda3\\Lib\\site-packages\\flair\\embeddings\\document.py:264\u001b[0m, in \u001b[0;36mDocumentRNNEmbeddings.__init__\u001b[1;34m(self, embeddings, hidden_size, rnn_layers, reproject_words, reproject_words_dimension, bidirectional, dropout, word_dropout, locked_dropout, rnn_type, fine_tune)\u001b[0m\n\u001b[0;32m    247\u001b[0m \u001b[38;5;250m\u001b[39m\u001b[38;5;124;03m\"\"\"Instantiates an RNN that works upon some token embeddings.\u001b[39;00m\n\u001b[0;32m    248\u001b[0m \n\u001b[0;32m    249\u001b[0m \u001b[38;5;124;03mArgs:\u001b[39;00m\n\u001b[1;32m   (...)\u001b[0m\n\u001b[0;32m    260\u001b[0m \u001b[38;5;124;03m    fine_tune: if True, allow to finetune the embeddings.\u001b[39;00m\n\u001b[0;32m    261\u001b[0m \u001b[38;5;124;03m\"\"\"\u001b[39;00m\n\u001b[0;32m    262\u001b[0m \u001b[38;5;28msuper\u001b[39m()\u001b[38;5;241m.\u001b[39m\u001b[38;5;21m__init__\u001b[39m()\n\u001b[1;32m--> 264\u001b[0m \u001b[38;5;28mself\u001b[39m\u001b[38;5;241m.\u001b[39membeddings: StackedEmbeddings \u001b[38;5;241m=\u001b[39m StackedEmbeddings(embeddings\u001b[38;5;241m=\u001b[39membeddings)\n\u001b[0;32m    266\u001b[0m \u001b[38;5;28mself\u001b[39m\u001b[38;5;241m.\u001b[39mrnn_type \u001b[38;5;241m=\u001b[39m rnn_type\n\u001b[0;32m    268\u001b[0m \u001b[38;5;28mself\u001b[39m\u001b[38;5;241m.\u001b[39mreproject_words \u001b[38;5;241m=\u001b[39m reproject_words\n",
      "File \u001b[1;32m~\\anaconda3\\Lib\\site-packages\\flair\\embeddings\\token.py:77\u001b[0m, in \u001b[0;36mStackedEmbeddings.__init__\u001b[1;34m(self, embeddings, overwrite_names)\u001b[0m\n\u001b[0;32m     74\u001b[0m \u001b[38;5;28mself\u001b[39m\u001b[38;5;241m.\u001b[39membeddings \u001b[38;5;241m=\u001b[39m embeddings\n\u001b[0;32m     76\u001b[0m \u001b[38;5;66;03m# IMPORTANT: add embeddings as torch modules\u001b[39;00m\n\u001b[1;32m---> 77\u001b[0m \u001b[38;5;28;01mfor\u001b[39;00m i, embedding \u001b[38;5;129;01min\u001b[39;00m \u001b[38;5;28menumerate\u001b[39m(embeddings):\n\u001b[0;32m     78\u001b[0m     \u001b[38;5;28;01mif\u001b[39;00m overwrite_names:\n\u001b[0;32m     79\u001b[0m         embedding\u001b[38;5;241m.\u001b[39mname \u001b[38;5;241m=\u001b[39m \u001b[38;5;124mf\u001b[39m\u001b[38;5;124m\"\u001b[39m\u001b[38;5;132;01m{\u001b[39;00mi\u001b[38;5;132;01m!s}\u001b[39;00m\u001b[38;5;124m-\u001b[39m\u001b[38;5;132;01m{\u001b[39;00membedding\u001b[38;5;241m.\u001b[39mname\u001b[38;5;132;01m}\u001b[39;00m\u001b[38;5;124m\"\u001b[39m\n",
      "\u001b[1;31mTypeError\u001b[0m: 'StackedEmbeddings' object is not iterable"
     ]
    }
   ],
   "source": [
    "import os\n",
    "import pickle\n",
    "import pandas as pd\n",
    "from tqdm import tqdm\n",
    "from constants import languages\n",
    "from flair.models import TextClassifier\n",
    "from flair.data import Sentence\n",
    "from flair.embeddings import DocumentRNNEmbeddings, FlairEmbeddings, WordEmbeddings, StackedEmbeddings\n",
    "\n",
    "# Define a function to initialize the Bi-LSTM sentiment classifier\n",
    "def initialize_sentiment_classifier():\n",
    "    # Initialize Flair word embeddings\n",
    "    glove_embedding = WordEmbeddings('glove')\n",
    "    flair_forward_embedding = FlairEmbeddings('news-forward-fast')\n",
    "    flair_backward_embedding = FlairEmbeddings('news-backward-fast')\n",
    "    \n",
    "    # Stack embeddings\n",
    "    stacked_embeddings = StackedEmbeddings(embeddings=[\n",
    "        glove_embedding,\n",
    "        flair_forward_embedding,\n",
    "        flair_backward_embedding\n",
    "    ])\n",
    "    \n",
    "    # Initialize Document RNN embeddings\n",
    "    document_embeddings = DocumentRNNEmbeddings(embeddings=stacked_embeddings, hidden_size=512, reproject_words=True, reproject_words_dimension=256)\n",
    "    \n",
    "    # Initialize text classifier\n",
    "    classifier = TextClassifier(document_embeddings, label_dictionary=None, multi_label=False)\n",
    "    \n",
    "    return classifier\n",
    "\n",
    "# Initialize the sentiment classifier\n",
    "sentiment_classifier = initialize_sentiment_classifier()\n",
    "\n",
    "for lang in languages:\n",
    "    print()\n",
    "    print(f\"Getting sentiments for language: {lang}\")\n",
    "    print()\n",
    "\n",
    "    with open(f\"translations/translations_{lang}.pickle\", \"rb\") as file:\n",
    "        translations = pickle.load(file)\n",
    "\n",
    "    new_translations = {}\n",
    "    actual_labels_df = pd.DataFrame(columns=[\"file\", \"text\", \"label\", \"score\"])  # Add \"score\" column\n",
    "    file_locs = []\n",
    "    texts = []\n",
    "\n",
    "    for folder, files in translations.items():\n",
    "        new_translations[folder] = {}\n",
    "        print(f\"Analyzing Folder: {folder}\")\n",
    "\n",
    "        for filename, sentence in tqdm(files.items(), desc=\"Analyzing Sentiment\"):\n",
    "            if sentence[\"translation\"] and sentence[\"translation\"].strip():  # Check for non-empty string\n",
    "                # Analyze sentiment using Bi-LSTM classifier\n",
    "                text = sentence[\"translation\"]\n",
    "                flair_sentence = Sentence(text)\n",
    "                sentiment_classifier.predict(flair_sentence)\n",
    "                sentiment_label = flair_sentence.labels[0].value\n",
    "                \n",
    "                # Append sentiment label to the DataFrame\n",
    "                file_locs.append(f\"{folder}{filename}\")\n",
    "                texts.append(text)\n",
    "                actual_labels_df.loc[len(actual_labels_df)] = [f\"{folder}{filename}\", text, sentiment_label, None]\n",
    "\n",
    "        print()\n",
    "        print(f\"Making csv for actual label insertion....\")\n",
    "        actual_labels_df.to_csv(f\"actual_labels/actual_labels_{lang}.csv\", index=False)  # Set index=False\n",
    "        print(f\"Actual label csv successfully saved!\")\n",
    "        print()\n",
    "\n",
    "        with open(f\"sentiments/senti_{lang}.pickle\", \"wb\") as file:\n",
    "            pickle.dump(new_translations, file)\n"
   ]
  },
  {
   "cell_type": "code",
   "execution_count": null,
   "id": "38b86c96",
   "metadata": {},
   "outputs": [],
   "source": []
  }
 ],
 "metadata": {
  "kernelspec": {
   "display_name": "Python 3 (ipykernel)",
   "language": "python",
   "name": "python3"
  },
  "language_info": {
   "codemirror_mode": {
    "name": "ipython",
    "version": 3
   },
   "file_extension": ".py",
   "mimetype": "text/x-python",
   "name": "python",
   "nbconvert_exporter": "python",
   "pygments_lexer": "ipython3",
   "version": "3.11.5"
  }
 },
 "nbformat": 4,
 "nbformat_minor": 5
}
