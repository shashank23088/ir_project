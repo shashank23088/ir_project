{
 "cells": [
  {
   "cell_type": "code",
   "execution_count": 95,
   "id": "c1080403-25a7-47d4-a9a1-bc8d0a3bd5b7",
   "metadata": {},
   "outputs": [],
   "source": [
    "text = \"happy, good, nice, useful, beautiful, stunning, great\""
   ]
  },
  {
   "cell_type": "code",
   "execution_count": 96,
   "id": "d05d1bae-1a6e-48b5-8e76-75ce9bc66d2d",
   "metadata": {},
   "outputs": [
    {
     "data": {
      "text/plain": [
       "[0.00011391211592126638, 0.9998860359191895]"
      ]
     },
     "execution_count": 96,
     "metadata": {},
     "output_type": "execute_result"
    }
   ],
   "source": [
    "model_name = \"distilbert-base-uncased-finetuned-sst-2-english\"\n",
    "model = AutoModelForSequenceClassification.from_pretrained(model_name)\n",
    "tokenizer = AutoTokenizer.from_pretrained(model_name)\n",
    "\n",
    "inputs = tokenizer(text, return_tensors=\"pt\")\n",
    "outputs = model(**inputs)\n",
    "sentiment_scores = outputs.logits.softmax(dim=1).tolist()[0]\n",
    "sentiment_scores"
   ]
  },
  {
   "cell_type": "code",
   "execution_count": 97,
   "id": "5aa9774e-53e6-4dba-9906-bc2a5773b71b",
   "metadata": {},
   "outputs": [
    {
     "data": {
      "text/plain": [
       "0.9926915764808655"
      ]
     },
     "execution_count": 97,
     "metadata": {},
     "output_type": "execute_result"
    }
   ],
   "source": [
    "bi_lstm_model = TextClassifier.load(\"en-sentiment\")\n",
    "\n",
    "sentence = Sentence(text)\n",
    "bi_lstm_model.predict(sentence)\n",
    "sentiment_scores = sentence.labels[0].score\n",
    "sentiment_scores"
   ]
  },
  {
   "cell_type": "code",
   "execution_count": 98,
   "id": "fa02867b-323f-4d58-871a-485ff7e10987",
   "metadata": {},
   "outputs": [
    {
     "data": {
      "text/plain": [
       "0.65"
      ]
     },
     "execution_count": 98,
     "metadata": {},
     "output_type": "execute_result"
    }
   ],
   "source": [
    "blob = TextBlob(text)\n",
    "sentiment_scores = blob.sentiment.polarity \n",
    "sentiment_scores"
   ]
  },
  {
   "cell_type": "code",
   "execution_count": 99,
   "id": "587740c2-36c8-4a1c-9870-59a1cd85f165",
   "metadata": {},
   "outputs": [
    {
     "data": {
      "text/plain": [
       "{'neg': 0.0, 'neu': 0.0, 'pos': 1.0, 'compound': 0.9716}"
      ]
     },
     "execution_count": 99,
     "metadata": {},
     "output_type": "execute_result"
    }
   ],
   "source": [
    "sid = SentimentIntensityAnalyzer()\n",
    "sentiment_scores = sid.polarity_scores(text)\n",
    "sentiment_scores"
   ]
  },
  {
   "cell_type": "markdown",
   "id": "b0709aad-bdcd-444e-9f5f-ff868e9e7f22",
   "metadata": {},
   "source": [
    "# Sentiment Analysis"
   ]
  },
  {
   "cell_type": "code",
   "execution_count": 147,
   "id": "23e78e2c-181b-4d53-b3d1-f242fac458bd",
   "metadata": {},
   "outputs": [
    {
     "name": "stderr",
     "output_type": "stream",
     "text": [
      "[nltk_data] Downloading package vader_lexicon to\n",
      "[nltk_data]     /home/shashankgsharma/nltk_data...\n",
      "[nltk_data]   Package vader_lexicon is already up-to-date!\n"
     ]
    }
   ],
   "source": [
    "import os\n",
    "import pickle\n",
    "import pandas as pd\n",
    "from tqdm import tqdm\n",
    "from constants import languages\n",
    "import nltk\n",
    "from nltk.sentiment import SentimentIntensityAnalyzer\n",
    "nltk.download('vader_lexicon')\n",
    "\n",
    "from transformers import AutoModelForSequenceClassification, AutoTokenizer\n",
    "from transformers import BertForSequenceClassification, BertTokenizer\n",
    "from flair.models import TextClassifier\n",
    "from flair.data import Sentence\n",
    "from textblob import TextBlob\n",
    "\n",
    "from sharechat_scraper.constants import languages\n",
    "import pandas as pd\n",
    "import numpy as np \n",
    "import matplotlib.pyplot as plt\n",
    "\n",
    "from sklearn.preprocessing import label_binarize\n",
    "from sklearn.metrics import accuracy_score, precision_score, recall_score, f1_score, roc_auc_score"
   ]
  },
  {
   "cell_type": "code",
   "execution_count": 138,
   "id": "527229b5-6e53-44be-a864-888710b6b0c2",
   "metadata": {},
   "outputs": [],
   "source": [
    "distilbert_model = AutoModelForSequenceClassification.from_pretrained(\"distilbert-base-uncased-finetuned-sst-2-english\")\n",
    "distilbert_tokenizer = AutoTokenizer.from_pretrained(\"distilbert-base-uncased-finetuned-sst-2-english\")\n",
    "bi_lstm_model = TextClassifier.load(\"en-sentiment\")"
   ]
  },
  {
   "cell_type": "code",
   "execution_count": 139,
   "id": "48686065-54b3-42a8-8252-834319a9b323",
   "metadata": {},
   "outputs": [
    {
     "name": "stdout",
     "output_type": "stream",
     "text": [
      "\n",
      "Getting sentiments for language: Hindi\n",
      "\n",
      "Analyzing Folder: sharechat_scraper/updated_tesseract/Hindi/5ZEBpp_Hindi/\n"
     ]
    },
    {
     "name": "stderr",
     "output_type": "stream",
     "text": [
      "Analyzing Sentiment: 100%|███████████████████████████████████████████████████████████████████████████████████████████████████████████████████████████████████████████████████| 85/85 [00:03<00:00, 25.81it/s]\n"
     ]
    },
    {
     "name": "stdout",
     "output_type": "stream",
     "text": [
      "Analyzing Folder: sharechat_scraper/updated_tesseract/Hindi/lew5Am_Hindi/\n"
     ]
    },
    {
     "name": "stderr",
     "output_type": "stream",
     "text": [
      "Analyzing Sentiment: 100%|███████████████████████████████████████████████████████████████████████████████████████████████████████████████████████████████████████████████████| 81/81 [00:03<00:00, 24.61it/s]\n"
     ]
    },
    {
     "name": "stdout",
     "output_type": "stream",
     "text": [
      "Analyzing Folder: sharechat_scraper/updated_tesseract/Hindi/m6d09W_Hindi/\n"
     ]
    },
    {
     "name": "stderr",
     "output_type": "stream",
     "text": [
      "Analyzing Sentiment: 100%|███████████████████████████████████████████████████████████████████████████████████████████████████████████████████████████████████████████████████| 39/39 [00:03<00:00,  9.81it/s]\n"
     ]
    },
    {
     "name": "stdout",
     "output_type": "stream",
     "text": [
      "Analyzing Folder: sharechat_scraper/updated_tesseract/Hindi/VO6Zjy_Hindi/\n"
     ]
    },
    {
     "name": "stderr",
     "output_type": "stream",
     "text": [
      "Analyzing Sentiment: 100%|█████████████████████████████████████████████████████████████████████████████████████████████████████████████████████████████████████████████████| 410/410 [00:08<00:00, 50.08it/s]\n"
     ]
    },
    {
     "name": "stdout",
     "output_type": "stream",
     "text": [
      "Analyzing Folder: sharechat_scraper/updated_tesseract/Hindi/VO6ZVy_Hindi/\n"
     ]
    },
    {
     "name": "stderr",
     "output_type": "stream",
     "text": [
      "Analyzing Sentiment: 100%|███████████████████████████████████████████████████████████████████████████████████████████████████████████████████████████████████████████████████| 62/62 [00:01<00:00, 36.29it/s]\n"
     ]
    },
    {
     "name": "stdout",
     "output_type": "stream",
     "text": [
      "\n",
      "Getting sentiments for language: Bengali\n",
      "\n",
      "Analyzing Folder: sharechat_scraper/updated_tesseract/Bengali/5ZEBpp_Bengali/\n"
     ]
    },
    {
     "name": "stderr",
     "output_type": "stream",
     "text": [
      "Analyzing Sentiment: 100%|███████████████████████████████████████████████████████████████████████████████████████████████████████████████████████████████████████████████████| 52/52 [00:02<00:00, 18.08it/s]\n"
     ]
    },
    {
     "name": "stdout",
     "output_type": "stream",
     "text": [
      "Analyzing Folder: sharechat_scraper/updated_tesseract/Bengali/lew5Am_Bengali/\n"
     ]
    },
    {
     "name": "stderr",
     "output_type": "stream",
     "text": [
      "Analyzing Sentiment: 100%|█████████████████████████████████████████████████████████████████████████████████████████████████████████████████████████████████████████████████| 130/130 [00:04<00:00, 28.88it/s]\n"
     ]
    },
    {
     "name": "stdout",
     "output_type": "stream",
     "text": [
      "Analyzing Folder: sharechat_scraper/updated_tesseract/Bengali/m6d09W_Bengali/\n"
     ]
    },
    {
     "name": "stderr",
     "output_type": "stream",
     "text": [
      "Analyzing Sentiment: 100%|███████████████████████████████████████████████████████████████████████████████████████████████████████████████████████████████████████████████████| 94/94 [00:06<00:00, 14.79it/s]\n"
     ]
    },
    {
     "name": "stdout",
     "output_type": "stream",
     "text": [
      "Analyzing Folder: sharechat_scraper/updated_tesseract/Bengali/VO6Zjy_Bengali/\n"
     ]
    },
    {
     "name": "stderr",
     "output_type": "stream",
     "text": [
      "Analyzing Sentiment: 100%|█████████████████████████████████████████████████████████████████████████████████████████████████████████████████████████████████████████████████| 232/232 [00:04<00:00, 50.34it/s]\n"
     ]
    },
    {
     "name": "stdout",
     "output_type": "stream",
     "text": [
      "Analyzing Folder: sharechat_scraper/updated_tesseract/Bengali/VO6ZVy_Bengali/\n"
     ]
    },
    {
     "name": "stderr",
     "output_type": "stream",
     "text": [
      "Analyzing Sentiment: 100%|███████████████████████████████████████████████████████████████████████████████████████████████████████████████████████████████████████████████████| 62/62 [00:02<00:00, 26.19it/s]\n"
     ]
    },
    {
     "name": "stdout",
     "output_type": "stream",
     "text": [
      "\n",
      "Getting sentiments for language: Punjabi\n",
      "\n",
      "Analyzing Folder: sharechat_scraper/updated_tesseract/Punjabi/5ZEBpp_Punjabi/\n"
     ]
    },
    {
     "name": "stderr",
     "output_type": "stream",
     "text": [
      "Analyzing Sentiment: 100%|███████████████████████████████████████████████████████████████████████████████████████████████████████████████████████████████████████████████████| 52/52 [00:02<00:00, 20.35it/s]\n"
     ]
    },
    {
     "name": "stdout",
     "output_type": "stream",
     "text": [
      "Analyzing Folder: sharechat_scraper/updated_tesseract/Punjabi/lew5Am_Punjabi/\n"
     ]
    },
    {
     "name": "stderr",
     "output_type": "stream",
     "text": [
      "Analyzing Sentiment: 100%|███████████████████████████████████████████████████████████████████████████████████████████████████████████████████████████████████████████████████| 54/54 [00:02<00:00, 22.45it/s]\n"
     ]
    },
    {
     "name": "stdout",
     "output_type": "stream",
     "text": [
      "Analyzing Folder: sharechat_scraper/updated_tesseract/Punjabi/m6d09W_Punjabi/\n"
     ]
    },
    {
     "name": "stderr",
     "output_type": "stream",
     "text": [
      "Analyzing Sentiment: 100%|█████████████████████████████████████████████████████████████████████████████████████████████████████████████████████████████████████████████████| 139/139 [00:13<00:00, 10.26it/s]\n"
     ]
    },
    {
     "name": "stdout",
     "output_type": "stream",
     "text": [
      "Analyzing Folder: sharechat_scraper/updated_tesseract/Punjabi/VO6Zjy_Punjabi/\n"
     ]
    },
    {
     "name": "stderr",
     "output_type": "stream",
     "text": [
      "Analyzing Sentiment: 100%|█████████████████████████████████████████████████████████████████████████████████████████████████████████████████████████████████████████████████| 232/232 [00:03<00:00, 65.31it/s]\n"
     ]
    },
    {
     "name": "stdout",
     "output_type": "stream",
     "text": [
      "Analyzing Folder: sharechat_scraper/updated_tesseract/Punjabi/VO6ZVy_Punjabi/\n"
     ]
    },
    {
     "name": "stderr",
     "output_type": "stream",
     "text": [
      "Analyzing Sentiment: 100%|███████████████████████████████████████████████████████████████████████████████████████████████████████████████████████████████████████████████████| 62/62 [00:01<00:00, 39.56it/s]\n"
     ]
    }
   ],
   "source": [
    "for lang in languages:\n",
    "    print()\n",
    "    print(f\"Getting sentiments for language: {lang}\")\n",
    "    print()\n",
    "\n",
    "    with open(f\"translations/translations_{lang}.pickle\", \"rb\") as file:\n",
    "        translations = pickle.load(file)\n",
    "\n",
    "    new_translations = {}\n",
    "    actual_labels_df = pd.DataFrame(columns=[\"file\", \"text\", \"label\"])\n",
    "    file_locs = []\n",
    "    texts = []\n",
    "\n",
    "    for folder, files in translations.items():\n",
    "        new_translations[folder] = {}\n",
    "        print(f\"Analyzing Folder: {folder}\")\n",
    "\n",
    "        for filename, sentence in tqdm(files.items(), desc=\"Analyzing Sentiment\"):\n",
    "            if sentence[\"translation\"] is not None:\n",
    "                text = sentence[\"translation\"]\n",
    "                if text == '':\n",
    "                    continue\n",
    "\n",
    "                # VADER\n",
    "                sid = SentimentIntensityAnalyzer()\n",
    "                vader_scores = sid.polarity_scores(text)\n",
    "\n",
    "                # Hugging Face Transformers\n",
    "                inputs = distilbert_tokenizer(text, return_tensors=\"pt\", truncation=True, max_length=512)\n",
    "                try:\n",
    "                    outputs = distilbert_model(**inputs)\n",
    "                except:\n",
    "                    continue\n",
    "                distilbert_scores = outputs.logits.softmax(dim=1).tolist()[0]\n",
    "\n",
    "                # Flair Bi-LSTM\n",
    "                flair_sentence = Sentence(text)\n",
    "                try:\n",
    "                    bi_lstm_model.predict(flair_sentence)\n",
    "                except:\n",
    "                    continue\n",
    "                bi_lstm_score = flair_sentence.labels[0].score  # Positive score\n",
    "\n",
    "                # TextBlob\n",
    "                blob = TextBlob(text)\n",
    "                textblob_score = blob.sentiment.polarity  # Between -1 and 1\n",
    "\n",
    "                sentiment_scores = {\n",
    "                    \"vader\": vader_scores,\n",
    "                    \"distilbert\": distilbert_scores,\n",
    "                    \"bi_lstm\": bi_lstm_score,\n",
    "                    \"textblob\": textblob_score\n",
    "                }\n",
    "\n",
    "                new_translations[folder][filename] = {}\n",
    "                new_translations[folder][filename][\"scores\"] = sentiment_scores\n",
    "\n",
    "                # print(f\"{filename}: {sentiment_scores}\")\n",
    "\n",
    "    with open(f\"sentiments/updated_sentiments_{lang}.pickle\", \"wb\") as file:\n",
    "        pickle.dump(new_translations, file)"
   ]
  },
  {
   "cell_type": "markdown",
   "id": "607cddbb-bfdf-41cc-8c78-133882f66a4b",
   "metadata": {},
   "source": [
    "# Sentiment Labelling"
   ]
  },
  {
   "cell_type": "code",
   "execution_count": 140,
   "id": "a28af99e-9ef4-401e-acf8-a680450f2e43",
   "metadata": {},
   "outputs": [],
   "source": [
    "import pandas as pd\n",
    "\n",
    "import os\n",
    "import pickle\n",
    "import json\n",
    "from tqdm import tqdm\n",
    "from math import pow\n",
    "from constants import languages\n",
    "\n",
    "\n",
    "leader_mappings = {\"5ZEBpp\": \"Arvind_Kejrival\", \"lew5Am\": \"Rahul_Gandhi\", \"m6d09W\": \"Narendra_Modi\", \"VO6Zjy\": \"Akhilesh_Yadav\", \"VO6ZVy\": \"Asaduddin_Owaisi\"}\n",
    "\n",
    "\n",
    "def normalize_list(values):\n",
    "\n",
    "    min_val = min(values)\n",
    "    max_val = max(values)\n",
    "    normalized_values = [(val - min_val) / (max_val - min_val) for val in values]\n",
    "    \n",
    "    return normalized_values\n",
    "\n",
    "\n",
    "def convert_to_integral_number(string):\n",
    "    parts = string.split()\n",
    "    numeric_part = parts[0]\n",
    "    suffix = numeric_part[-1]\n",
    "    numeric_part = numeric_part[:-1]\n",
    "    numeric_value = float(numeric_part)\n",
    "\n",
    "    if suffix == 'K':\n",
    "        numeric_value *= 1000\n",
    "    elif suffix == 'M':\n",
    "        numeric_value *= 1000000\n",
    "    elif suffix == 'B':\n",
    "        numeric_value *= 1000000000\n",
    "\n",
    "    integral_number = int(numeric_value)    \n",
    "    return integral_number\n",
    "\n",
    "\n",
    "def read_likes_views(json_file, reqd_post_ph):\n",
    "    with open(json_file, 'r', encoding='utf-8') as file:\n",
    "        data = file.readlines()\n",
    "\n",
    "        for line in data:\n",
    "            post_data = json.loads(line)\n",
    "            post_ph = post_data.get('post_ph')\n",
    "\n",
    "            if reqd_post_ph == post_ph:\n",
    "                likes = post_data.get('likes')\n",
    "                views = post_data.get('number_of_views')\n",
    "                return likes, views\n",
    "            else:\n",
    "                continue\n",
    "\n",
    "\n",
    "def overall_sentiment_not_blob(score):\n",
    "    if score <= 0.25:\n",
    "        return -1, \"NEGATIVE\"\n",
    "    elif score <= 0.60:\n",
    "        return 0, \"NEUTRAL\"\n",
    "    else:\n",
    "        return 1, \"POSITIVE\"\n",
    "\n",
    "def overall_sentiment_blob(score):\n",
    "    if score < 0:\n",
    "        return -1, \"NEGATIVE\"\n",
    "    elif score > 0 and score < 0.25:\n",
    "        return 0, \"NEUTRAL\"\n",
    "    else:\n",
    "        return 1, \"POSITIVE\""
   ]
  },
  {
   "cell_type": "code",
   "execution_count": 141,
   "id": "50e433ab-8033-410c-befa-d8856e5fa505",
   "metadata": {},
   "outputs": [
    {
     "name": "stdout",
     "output_type": "stream",
     "text": [
      "Processing Folder: sharechat_scraper/updated_tesseract/Hindi/5ZEBpp_Hindi/\n"
     ]
    },
    {
     "name": "stderr",
     "output_type": "stream",
     "text": [
      "Calculating Average Sentiment Scores: 100%|████████████████████████████████████████████████████████████████████████████████████████████████████████████████████████████████| 67/67 [00:00<00:00, 2103.18it/s]\n"
     ]
    },
    {
     "name": "stdout",
     "output_type": "stream",
     "text": [
      "\n",
      "Successfully saved leader_sentiment_scores/updated_Arvind_Kejrival_Hindi.csv!\n",
      "\n",
      "***************************************\n",
      "Leader: Arvind_Kejrival\n",
      "Avg. Vader Score: 0.6038721593066261\n",
      "Avg. LSTM Score: 0.15247667103560175\n",
      "Avg. BERT Score: 0.09436771202914229\n",
      "Avg. BLOB Score: 0.3283270844209462\n",
      "\n",
      "Overall Vader Sentiment: POSITIVE\n",
      "Overall Bert Sentiment: NEGATIVE\n",
      "Overall BLOB Sentiment: POSITIVE\n",
      "Overall LSTM Sentiment: NEGATIVE\n",
      "***************************************\n",
      "\n",
      "Processing Folder: sharechat_scraper/updated_tesseract/Hindi/lew5Am_Hindi/\n"
     ]
    },
    {
     "name": "stderr",
     "output_type": "stream",
     "text": [
      "Calculating Average Sentiment Scores: 100%|████████████████████████████████████████████████████████████████████████████████████████████████████████████████████████████████| 42/42 [00:00<00:00, 2598.47it/s]\n"
     ]
    },
    {
     "name": "stdout",
     "output_type": "stream",
     "text": [
      "\n",
      "Successfully saved leader_sentiment_scores/updated_Rahul_Gandhi_Hindi.csv!\n",
      "\n",
      "***************************************\n",
      "Leader: Rahul_Gandhi\n",
      "Avg. Vader Score: 0.8134886129910059\n",
      "Avg. LSTM Score: 0.1567688118224581\n",
      "Avg. BERT Score: 0.10121712368787521\n",
      "Avg. BLOB Score: 0.5345288510185691\n",
      "\n",
      "Overall Vader Sentiment: POSITIVE\n",
      "Overall Bert Sentiment: NEGATIVE\n",
      "Overall BLOB Sentiment: POSITIVE\n",
      "Overall LSTM Sentiment: NEGATIVE\n",
      "***************************************\n",
      "\n",
      "Processing Folder: sharechat_scraper/updated_tesseract/Hindi/m6d09W_Hindi/\n"
     ]
    },
    {
     "name": "stderr",
     "output_type": "stream",
     "text": [
      "Calculating Average Sentiment Scores: 100%|████████████████████████████████████████████████████████████████████████████████████████████████████████████████████████████████| 29/29 [00:00<00:00, 5246.27it/s]\n"
     ]
    },
    {
     "name": "stdout",
     "output_type": "stream",
     "text": [
      "\n",
      "Successfully saved leader_sentiment_scores/updated_Narendra_Modi_Hindi.csv!\n",
      "\n",
      "***************************************\n",
      "Leader: Narendra_Modi\n",
      "Avg. Vader Score: 0.08381353733126995\n",
      "Avg. LSTM Score: 0.046026146160188026\n",
      "Avg. BERT Score: 0.0516861115620806\n",
      "Avg. BLOB Score: 0.049929379272258705\n",
      "\n",
      "Overall Vader Sentiment: NEGATIVE\n",
      "Overall Bert Sentiment: NEGATIVE\n",
      "Overall BLOB Sentiment: NEUTRAL\n",
      "Overall LSTM Sentiment: NEGATIVE\n",
      "***************************************\n",
      "\n",
      "Processing Folder: sharechat_scraper/updated_tesseract/Hindi/VO6Zjy_Hindi/\n"
     ]
    },
    {
     "name": "stderr",
     "output_type": "stream",
     "text": [
      "Calculating Average Sentiment Scores: 100%|██████████████████████████████████████████████████████████████████████████████████████████████████████████████████████████████| 159/159 [00:00<00:00, 1127.80it/s]\n"
     ]
    },
    {
     "name": "stdout",
     "output_type": "stream",
     "text": [
      "\n",
      "Successfully saved leader_sentiment_scores/updated_Akhilesh_Yadav_Hindi.csv!\n",
      "\n",
      "***************************************\n",
      "Leader: Akhilesh_Yadav\n",
      "Avg. Vader Score: 0.5269149500660629\n",
      "Avg. LSTM Score: 0.13979002752620318\n",
      "Avg. BERT Score: 0.11425319767928492\n",
      "Avg. BLOB Score: 0.4260171507779184\n",
      "\n",
      "Overall Vader Sentiment: NEUTRAL\n",
      "Overall Bert Sentiment: NEGATIVE\n",
      "Overall BLOB Sentiment: POSITIVE\n",
      "Overall LSTM Sentiment: NEGATIVE\n",
      "***************************************\n",
      "\n",
      "Processing Folder: sharechat_scraper/updated_tesseract/Hindi/VO6ZVy_Hindi/\n"
     ]
    },
    {
     "name": "stderr",
     "output_type": "stream",
     "text": [
      "Calculating Average Sentiment Scores: 100%|████████████████████████████████████████████████████████████████████████████████████████████████████████████████████████████████| 42/42 [00:00<00:00, 4832.01it/s]\n"
     ]
    },
    {
     "name": "stdout",
     "output_type": "stream",
     "text": [
      "\n",
      "Successfully saved leader_sentiment_scores/updated_Asaduddin_Owaisi_Hindi.csv!\n",
      "\n",
      "***************************************\n",
      "Leader: Asaduddin_Owaisi\n",
      "Avg. Vader Score: 0.33824196329077133\n",
      "Avg. LSTM Score: 0.189699189966758\n",
      "Avg. BERT Score: 0.08992509127100133\n",
      "Avg. BLOB Score: 0.3067384191905508\n",
      "\n",
      "Overall Vader Sentiment: NEUTRAL\n",
      "Overall Bert Sentiment: NEGATIVE\n",
      "Overall BLOB Sentiment: POSITIVE\n",
      "Overall LSTM Sentiment: NEGATIVE\n",
      "***************************************\n",
      "\n",
      "Processing Folder: sharechat_scraper/updated_tesseract/Bengali/5ZEBpp_Bengali/\n"
     ]
    },
    {
     "name": "stderr",
     "output_type": "stream",
     "text": [
      "Calculating Average Sentiment Scores: 100%|████████████████████████████████████████████████████████████████████████████████████████████████████████████████████████████████| 45/45 [00:00<00:00, 1778.44it/s]\n"
     ]
    },
    {
     "name": "stdout",
     "output_type": "stream",
     "text": [
      "\n",
      "Successfully saved leader_sentiment_scores/updated_Arvind_Kejrival_Bengali.csv!\n",
      "\n",
      "***************************************\n",
      "Leader: Arvind_Kejrival\n",
      "Avg. Vader Score: 0.5735315629205829\n",
      "Avg. LSTM Score: 0.19777810709333213\n",
      "Avg. BERT Score: 0.1404623313338584\n",
      "Avg. BLOB Score: 0.4555250073158071\n",
      "\n",
      "Overall Vader Sentiment: NEUTRAL\n",
      "Overall Bert Sentiment: NEGATIVE\n",
      "Overall BLOB Sentiment: POSITIVE\n",
      "Overall LSTM Sentiment: NEGATIVE\n",
      "***************************************\n",
      "\n",
      "Processing Folder: sharechat_scraper/updated_tesseract/Bengali/lew5Am_Bengali/\n"
     ]
    },
    {
     "name": "stderr",
     "output_type": "stream",
     "text": [
      "Calculating Average Sentiment Scores: 100%|████████████████████████████████████████████████████████████████████████████████████████████████████████████████████████████████| 69/69 [00:00<00:00, 1328.29it/s]\n"
     ]
    },
    {
     "name": "stdout",
     "output_type": "stream",
     "text": [
      "\n",
      "Successfully saved leader_sentiment_scores/updated_Rahul_Gandhi_Bengali.csv!\n",
      "\n",
      "***************************************\n",
      "Leader: Rahul_Gandhi\n",
      "Avg. Vader Score: 0.8789778866718118\n",
      "Avg. LSTM Score: 0.11204448134547236\n",
      "Avg. BERT Score: 0.08134684861366828\n",
      "Avg. BLOB Score: 0.5724458891057851\n",
      "\n",
      "Overall Vader Sentiment: POSITIVE\n",
      "Overall Bert Sentiment: NEGATIVE\n",
      "Overall BLOB Sentiment: POSITIVE\n",
      "Overall LSTM Sentiment: NEGATIVE\n",
      "***************************************\n",
      "\n",
      "Processing Folder: sharechat_scraper/updated_tesseract/Bengali/m6d09W_Bengali/\n"
     ]
    },
    {
     "name": "stderr",
     "output_type": "stream",
     "text": [
      "Calculating Average Sentiment Scores: 100%|████████████████████████████████████████████████████████████████████████████████████████████████████████████████████████████████| 75/75 [00:00<00:00, 1678.48it/s]\n"
     ]
    },
    {
     "name": "stdout",
     "output_type": "stream",
     "text": [
      "\n",
      "Successfully saved leader_sentiment_scores/updated_Narendra_Modi_Bengali.csv!\n",
      "\n",
      "***************************************\n",
      "Leader: Narendra_Modi\n",
      "Avg. Vader Score: 0.08097120303273231\n",
      "Avg. LSTM Score: 0.031688045157310614\n",
      "Avg. BERT Score: 0.02550770409033966\n",
      "Avg. BLOB Score: 0.05552042108783674\n",
      "\n",
      "Overall Vader Sentiment: NEGATIVE\n",
      "Overall Bert Sentiment: NEGATIVE\n",
      "Overall BLOB Sentiment: NEUTRAL\n",
      "Overall LSTM Sentiment: NEGATIVE\n",
      "***************************************\n",
      "\n",
      "Processing Folder: sharechat_scraper/updated_tesseract/Bengali/VO6Zjy_Bengali/\n"
     ]
    },
    {
     "name": "stderr",
     "output_type": "stream",
     "text": [
      "Calculating Average Sentiment Scores: 100%|████████████████████████████████████████████████████████████████████████████████████████████████████████████████████████████████| 77/77 [00:00<00:00, 1571.18it/s]\n"
     ]
    },
    {
     "name": "stdout",
     "output_type": "stream",
     "text": [
      "\n",
      "Successfully saved leader_sentiment_scores/updated_Akhilesh_Yadav_Bengali.csv!\n",
      "\n",
      "***************************************\n",
      "Leader: Akhilesh_Yadav\n",
      "Avg. Vader Score: 0.5645992310015531\n",
      "Avg. LSTM Score: 0.17286533322720107\n",
      "Avg. BERT Score: 0.10510759474866023\n",
      "Avg. BLOB Score: 0.5392773382156035\n",
      "\n",
      "Overall Vader Sentiment: NEUTRAL\n",
      "Overall Bert Sentiment: NEGATIVE\n",
      "Overall BLOB Sentiment: POSITIVE\n",
      "Overall LSTM Sentiment: NEGATIVE\n",
      "***************************************\n",
      "\n",
      "Processing Folder: sharechat_scraper/updated_tesseract/Bengali/VO6ZVy_Bengali/\n"
     ]
    },
    {
     "name": "stderr",
     "output_type": "stream",
     "text": [
      "Calculating Average Sentiment Scores: 100%|████████████████████████████████████████████████████████████████████████████████████████████████████████████████████████████████| 42/42 [00:00<00:00, 3852.45it/s]\n"
     ]
    },
    {
     "name": "stdout",
     "output_type": "stream",
     "text": [
      "\n",
      "Successfully saved leader_sentiment_scores/updated_Asaduddin_Owaisi_Bengali.csv!\n",
      "\n",
      "***************************************\n",
      "Leader: Asaduddin_Owaisi\n",
      "Avg. Vader Score: 0.3328918732317972\n",
      "Avg. LSTM Score: 0.19794211913781617\n",
      "Avg. BERT Score: 0.08711668473333874\n",
      "Avg. BLOB Score: 0.3515123282064184\n",
      "\n",
      "Overall Vader Sentiment: NEUTRAL\n",
      "Overall Bert Sentiment: NEGATIVE\n",
      "Overall BLOB Sentiment: POSITIVE\n",
      "Overall LSTM Sentiment: NEGATIVE\n",
      "***************************************\n",
      "\n",
      "Processing Folder: sharechat_scraper/updated_tesseract/Punjabi/5ZEBpp_Punjabi/\n"
     ]
    },
    {
     "name": "stderr",
     "output_type": "stream",
     "text": [
      "Calculating Average Sentiment Scores: 100%|████████████████████████████████████████████████████████████████████████████████████████████████████████████████████████████████| 43/43 [00:00<00:00, 1994.24it/s]\n"
     ]
    },
    {
     "name": "stdout",
     "output_type": "stream",
     "text": [
      "\n",
      "Successfully saved leader_sentiment_scores/updated_Arvind_Kejrival_Punjabi.csv!\n",
      "\n",
      "***************************************\n",
      "Leader: Arvind_Kejrival\n",
      "Avg. Vader Score: 0.6433879115895101\n",
      "Avg. LSTM Score: 0.17104766932446616\n",
      "Avg. BERT Score: 0.1276735599826618\n",
      "Avg. BLOB Score: 0.1812078572032815\n",
      "\n",
      "Overall Vader Sentiment: POSITIVE\n",
      "Overall Bert Sentiment: NEGATIVE\n",
      "Overall BLOB Sentiment: NEUTRAL\n",
      "Overall LSTM Sentiment: NEGATIVE\n",
      "***************************************\n",
      "\n",
      "Processing Folder: sharechat_scraper/updated_tesseract/Punjabi/lew5Am_Punjabi/\n"
     ]
    },
    {
     "name": "stderr",
     "output_type": "stream",
     "text": [
      "Calculating Average Sentiment Scores: 100%|████████████████████████████████████████████████████████████████████████████████████████████████████████████████████████████████| 40/40 [00:00<00:00, 2585.57it/s]\n"
     ]
    },
    {
     "name": "stdout",
     "output_type": "stream",
     "text": [
      "\n",
      "Successfully saved leader_sentiment_scores/updated_Rahul_Gandhi_Punjabi.csv!\n",
      "\n",
      "***************************************\n",
      "Leader: Rahul_Gandhi\n",
      "Avg. Vader Score: 0.47703714175205203\n",
      "Avg. LSTM Score: 0.2517604756105475\n",
      "Avg. BERT Score: 0.21676766472736825\n",
      "Avg. BLOB Score: 0.3384281101466617\n",
      "\n",
      "Overall Vader Sentiment: NEUTRAL\n",
      "Overall Bert Sentiment: NEGATIVE\n",
      "Overall BLOB Sentiment: POSITIVE\n",
      "Overall LSTM Sentiment: NEUTRAL\n",
      "***************************************\n",
      "\n",
      "Processing Folder: sharechat_scraper/updated_tesseract/Punjabi/m6d09W_Punjabi/\n"
     ]
    },
    {
     "name": "stderr",
     "output_type": "stream",
     "text": [
      "Calculating Average Sentiment Scores: 100%|████████████████████████████████████████████████████████████████████████████████████████████████████████████████████████████████| 91/91 [00:00<00:00, 1666.51it/s]\n"
     ]
    },
    {
     "name": "stdout",
     "output_type": "stream",
     "text": [
      "\n",
      "Successfully saved leader_sentiment_scores/updated_Narendra_Modi_Punjabi.csv!\n",
      "\n",
      "***************************************\n",
      "Leader: Narendra_Modi\n",
      "Avg. Vader Score: 0.06999833650933167\n",
      "Avg. LSTM Score: 0.029431187540663328\n",
      "Avg. BERT Score: 0.020954317841425915\n",
      "Avg. BLOB Score: 0.037231485419511615\n",
      "\n",
      "Overall Vader Sentiment: NEGATIVE\n",
      "Overall Bert Sentiment: NEGATIVE\n",
      "Overall BLOB Sentiment: NEUTRAL\n",
      "Overall LSTM Sentiment: NEGATIVE\n",
      "***************************************\n",
      "\n",
      "Processing Folder: sharechat_scraper/updated_tesseract/Punjabi/VO6Zjy_Punjabi/\n"
     ]
    },
    {
     "name": "stderr",
     "output_type": "stream",
     "text": [
      "Calculating Average Sentiment Scores: 100%|████████████████████████████████████████████████████████████████████████████████████████████████████████████████████████████████| 56/56 [00:00<00:00, 1567.49it/s]\n"
     ]
    },
    {
     "name": "stdout",
     "output_type": "stream",
     "text": [
      "\n",
      "Successfully saved leader_sentiment_scores/updated_Akhilesh_Yadav_Punjabi.csv!\n",
      "\n",
      "***************************************\n",
      "Leader: Akhilesh_Yadav\n",
      "Avg. Vader Score: 0.501931639457699\n",
      "Avg. LSTM Score: 0.3408243619976937\n",
      "Avg. BERT Score: 0.25455931348922956\n",
      "Avg. BLOB Score: 0.4899796640971234\n",
      "\n",
      "Overall Vader Sentiment: NEUTRAL\n",
      "Overall Bert Sentiment: NEUTRAL\n",
      "Overall BLOB Sentiment: POSITIVE\n",
      "Overall LSTM Sentiment: NEUTRAL\n",
      "***************************************\n",
      "\n",
      "Processing Folder: sharechat_scraper/updated_tesseract/Punjabi/VO6ZVy_Punjabi/\n"
     ]
    },
    {
     "name": "stderr",
     "output_type": "stream",
     "text": [
      "Calculating Average Sentiment Scores: 100%|████████████████████████████████████████████████████████████████████████████████████████████████████████████████████████████████| 40/40 [00:00<00:00, 3995.72it/s]"
     ]
    },
    {
     "name": "stdout",
     "output_type": "stream",
     "text": [
      "\n",
      "Successfully saved leader_sentiment_scores/updated_Asaduddin_Owaisi_Punjabi.csv!\n",
      "\n",
      "***************************************\n",
      "Leader: Asaduddin_Owaisi\n",
      "Avg. Vader Score: 0.3212575540481779\n",
      "Avg. LSTM Score: 0.20980131544542888\n",
      "Avg. BERT Score: 0.10151502173491807\n",
      "Avg. BLOB Score: 0.2997961109508963\n",
      "\n",
      "Overall Vader Sentiment: NEUTRAL\n",
      "Overall Bert Sentiment: NEGATIVE\n",
      "Overall BLOB Sentiment: POSITIVE\n",
      "Overall LSTM Sentiment: NEGATIVE\n",
      "***************************************\n",
      "\n"
     ]
    },
    {
     "name": "stderr",
     "output_type": "stream",
     "text": [
      "\n"
     ]
    }
   ],
   "source": [
    "for lang in languages:\n",
    "    \n",
    "    bert_labels = []\n",
    "    vader_labels = []\n",
    "    blob_labels = []\n",
    "    lstm_labels = []\n",
    "    \n",
    "    file_paths = []\n",
    "    \n",
    "    final_vader_scores = []\n",
    "    final_blob_scores = []\n",
    "    final_lstm_scores = []\n",
    "    final_bert_scores = []\n",
    "    \n",
    "    with open(f\"sentiments/updated_sentiments_{lang}.pickle\", \"rb\") as file:\n",
    "        sentiments = pickle.load(file)\n",
    "\n",
    "        leader_scores = {}\n",
    "        for folder_path, files in sentiments.items():\n",
    "            print(f\"Processing Folder: {folder_path}\")\n",
    "            leader_hash = folder_path.split('/')[-2][:6]\n",
    "\n",
    "            vader_scores = []\n",
    "            blob_scores = []\n",
    "            lstm_scores = []\n",
    "            bert_scores = []\n",
    "            \n",
    "            likes_lst = []\n",
    "            views_lst = []\n",
    "            for filename, file_data in tqdm(files.items(), desc = \"Calculating Average Sentiment Scores\"):\n",
    "                file_paths.append(folder_path + filename)\n",
    "                likes, views = read_likes_views(f\"sharechat_scraper/jsonl/output_{leader_hash}_{lang}.jsonl\", filename[:-4])\n",
    "                views = convert_to_integral_number(views)\n",
    "\n",
    "                likes_lst.append(likes)\n",
    "                views_lst.append(views)\n",
    "                scaling_factor = int(likes) + pow(10, -4) / int(views) + pow(10, -4)\n",
    "\n",
    "                unscaled_score_bert = file_data[\"scores\"][\"distilbert\"][1]\n",
    "                unscaled_score_lstm = file_data[\"scores\"][\"bi_lstm\"]\n",
    "                unscaled_score_blob = file_data[\"scores\"][\"textblob\"]\n",
    "                unscaled_score_vader = file_data[\"scores\"][\"vader\"][\"compound\"]\n",
    "\n",
    "                scaled_score_bert = scaling_factor * unscaled_score_bert\n",
    "                scaled_score_lstm = scaling_factor * unscaled_score_lstm\n",
    "                scaled_score_blob = scaling_factor * unscaled_score_blob\n",
    "                scaled_score_vader = scaling_factor * unscaled_score_vader\n",
    "\n",
    "                bert_labels.append(overall_sentiment_not_blob(scaled_score_bert)[0])\n",
    "                lstm_labels.append(overall_sentiment_not_blob(scaled_score_lstm)[0])\n",
    "                vader_labels.append(overall_sentiment_not_blob(scaled_score_vader)[0])\n",
    "                blob_labels.append(overall_sentiment_not_blob(scaled_score_blob)[0])\n",
    "\n",
    "                vader_scores.append(scaled_score_vader)\n",
    "                blob_scores.append(scaled_score_blob)\n",
    "                lstm_scores.append(scaled_score_lstm)\n",
    "                bert_scores.append(scaled_score_bert)\n",
    "        \n",
    "            normalized_vader = normalize_list(vader_scores)\n",
    "            normalized_blob = normalize_list(blob_scores)\n",
    "            normalized_lstm = normalize_list(lstm_scores)\n",
    "            normalized_bert = normalize_list(bert_scores)\n",
    "\n",
    "            final_vader_scores.extend(normalized_vader)\n",
    "            final_blob_scores.extend(normalized_blob)\n",
    "            final_lstm_scores.extend(normalized_lstm)\n",
    "            final_bert_scores.extend(normalized_bert)\n",
    "\n",
    "            df = pd.DataFrame(columns = ['bert_score', 'vader_score', 'blob_score', 'lstm_score', 'likes', 'views'])\n",
    "            df['bert_score'] = normalized_bert\n",
    "            df['vader_score'] = normalized_vader\n",
    "            df['lstm_score'] = normalized_lstm\n",
    "            df['blob_score'] = normalized_blob\n",
    "\n",
    "            file_to_save = f'leader_sentiment_scores/updated_{leader_mappings[leader_hash]}_{lang}.csv'\n",
    "            df.to_csv(file_to_save)\n",
    "            print()\n",
    "            print(f'Successfully saved {file_to_save}!')\n",
    "            print()\n",
    "\n",
    "            avg_leader_bert_score = sum(normalized_bert) / len(normalized_bert)\n",
    "            avg_leader_lstm_score = sum(normalized_lstm) / len(normalized_lstm)\n",
    "            avg_leader_blob_score = sum(normalized_blob) / len(normalized_blob)\n",
    "            avg_leader_vader_score = sum(normalized_vader) / len(normalized_vader)\n",
    "\n",
    "            print(\"***************************************\")\n",
    "            print(f\"Leader: {leader_mappings[leader_hash]}\")\n",
    "            print(f\"Avg. Vader Score: {avg_leader_vader_score}\")\n",
    "            print(f\"Avg. LSTM Score: {avg_leader_lstm_score}\")\n",
    "            print(f\"Avg. BERT Score: {avg_leader_bert_score}\")\n",
    "            print(f\"Avg. BLOB Score: {avg_leader_blob_score}\")\n",
    "            print()\n",
    "            print(f\"Overall Vader Sentiment: {overall_sentiment_not_blob(avg_leader_vader_score)[1]}\")\n",
    "            print(f\"Overall Bert Sentiment: {overall_sentiment_not_blob(avg_leader_bert_score)[1]}\")\n",
    "            print(f\"Overall BLOB Sentiment: {overall_sentiment_blob(avg_leader_blob_score)[1]}\")\n",
    "            print(f\"Overall LSTM Sentiment: {overall_sentiment_not_blob(avg_leader_lstm_score)[1]}\")\n",
    "            print(\"***************************************\")\n",
    "            print()\n",
    "\n",
    "            leader_scores[leader_hash] = {\n",
    "                \"avg_vader\": avg_leader_vader_score, \n",
    "                \"avg_lstm\": avg_leader_lstm_score, \n",
    "                \"avg_blob\": avg_leader_blob_score,\n",
    "                \"avg_bert\": avg_leader_bert_score\n",
    "            }\n",
    "\n",
    "            with open(f\"results/results_{lang}.pickle\", \"wb\") as file:\n",
    "                pickle.dump(leader_scores, file)\n",
    "            \n",
    "        df_labels = pd.DataFrame(columns=['file', 'vader_label', 'lstm_label', 'blob_label', 'bert_label'])\n",
    "        df_labels['file'] = file_paths\n",
    "        df_labels['vader_label'] = vader_labels\n",
    "        df_labels['blob_label'] = blob_labels\n",
    "        df_labels['lstm_label'] = lstm_labels\n",
    "        df_labels['bert_label'] = bert_labels\n",
    "        \n",
    "        df_labels.to_csv(f'gen_labels/updated_gen_labels_{lang}.csv')"
   ]
  },
  {
   "cell_type": "markdown",
   "id": "d71db615-584c-47df-a83b-3c5d1d23ed5c",
   "metadata": {},
   "source": [
    "# Evaluation"
   ]
  },
  {
   "cell_type": "code",
   "execution_count": 152,
   "id": "335ba378-678b-4e81-ab0e-f19df4a5f0ad",
   "metadata": {},
   "outputs": [
    {
     "name": "stdout",
     "output_type": "stream",
     "text": [
      "\n",
      "Evaluating for language: Hindi\n",
      "\n",
      "\n",
      "Model: lstm_label\n",
      "Accuracy: 0.3234\n",
      "Precision: 0.1078\n",
      "Recall: 0.3333\n",
      "F1-score: 0.1629\n",
      "ROC AUC: 0.5000\n",
      "\n",
      "Evaluation results saved to 'eval/eval_Hindi_lstm_label.txt'\n",
      "\n",
      "\n",
      "Model: bert_label\n",
      "Accuracy: 0.3027\n",
      "Precision: 0.2995\n",
      "Recall: 0.3848\n",
      "F1-score: 0.2877\n",
      "ROC AUC: 0.4197\n",
      "\n",
      "Evaluation results saved to 'eval/eval_Hindi_bert_label.txt'\n",
      "\n",
      "\n",
      "Model: blob_label\n",
      "Accuracy: 0.2611\n",
      "Precision: 0.3309\n",
      "Recall: 0.3873\n",
      "F1-score: 0.2498\n",
      "ROC AUC: 0.4513\n",
      "\n",
      "Evaluation results saved to 'eval/eval_Hindi_blob_label.txt'\n",
      "\n",
      "\n",
      "Model: vader_label\n",
      "Accuracy: 0.3145\n",
      "Precision: 0.2285\n",
      "Recall: 0.4563\n",
      "F1-score: 0.2857\n",
      "ROC AUC: 0.4032\n",
      "\n",
      "Evaluation results saved to 'eval/eval_Hindi_vader_label.txt'\n",
      "\n",
      "\n",
      "Evaluating for language: Punjabi\n",
      "\n",
      "\n",
      "Model: lstm_label\n",
      "Accuracy: 0.3872\n",
      "Precision: 0.2404\n",
      "Recall: 0.3353\n",
      "F1-score: 0.2008\n",
      "ROC AUC: 0.4986\n",
      "\n",
      "Evaluation results saved to 'eval/eval_Punjabi_lstm_label.txt'\n",
      "\n",
      "\n",
      "Model: bert_label\n",
      "Accuracy: 0.3534\n",
      "Precision: 0.3411\n",
      "Recall: 0.4145\n",
      "F1-score: 0.3287\n",
      "ROC AUC: 0.4114\n",
      "\n",
      "Evaluation results saved to 'eval/eval_Punjabi_bert_label.txt'\n",
      "\n",
      "\n",
      "Model: blob_label\n",
      "Accuracy: 0.3308\n",
      "Precision: 0.3246\n",
      "Recall: 0.4447\n",
      "F1-score: 0.2988\n",
      "ROC AUC: 0.3970\n",
      "\n",
      "Evaluation results saved to 'eval/eval_Punjabi_blob_label.txt'\n",
      "\n",
      "\n",
      "Model: vader_label\n",
      "Accuracy: 0.3571\n",
      "Precision: 0.2428\n",
      "Recall: 0.4429\n",
      "F1-score: 0.2971\n",
      "ROC AUC: 0.4154\n",
      "\n",
      "Evaluation results saved to 'eval/eval_Punjabi_vader_label.txt'\n",
      "\n",
      "\n",
      "Evaluating for language: Bengali\n",
      "\n",
      "\n",
      "Model: lstm_label\n",
      "Accuracy: 0.3849\n",
      "Precision: 0.1283\n",
      "Recall: 0.3333\n",
      "F1-score: 0.1853\n",
      "ROC AUC: 0.5000\n",
      "\n",
      "Evaluation results saved to 'eval/eval_Bengali_lstm_label.txt'\n",
      "\n",
      "\n",
      "Model: bert_label\n",
      "Accuracy: 0.3717\n",
      "Precision: 0.3491\n",
      "Recall: 0.3959\n",
      "F1-score: 0.3264\n",
      "ROC AUC: 0.4341\n",
      "\n",
      "Evaluation results saved to 'eval/eval_Bengali_bert_label.txt'\n",
      "\n",
      "\n",
      "Model: blob_label\n",
      "Accuracy: 0.2993\n",
      "Precision: 0.2853\n",
      "Recall: 0.3727\n",
      "F1-score: 0.2628\n",
      "ROC AUC: 0.4596\n",
      "\n",
      "Evaluation results saved to 'eval/eval_Bengali_blob_label.txt'\n",
      "\n",
      "\n",
      "Model: vader_label\n",
      "Accuracy: 0.3191\n",
      "Precision: 0.5549\n",
      "Recall: 0.3627\n",
      "F1-score: 0.2681\n",
      "ROC AUC: 0.4819\n",
      "\n",
      "Evaluation results saved to 'eval/eval_Bengali_vader_label.txt'\n",
      "\n"
     ]
    },
    {
     "name": "stderr",
     "output_type": "stream",
     "text": [
      "/home/shashankgsharma/anaconda3/envs/ir_pr/lib/python3.11/site-packages/sklearn/metrics/_classification.py:1509: UndefinedMetricWarning: Precision is ill-defined and being set to 0.0 in labels with no predicted samples. Use `zero_division` parameter to control this behavior.\n",
      "  _warn_prf(average, modifier, f\"{metric.capitalize()} is\", len(result))\n",
      "/home/shashankgsharma/anaconda3/envs/ir_pr/lib/python3.11/site-packages/sklearn/metrics/_classification.py:1509: UndefinedMetricWarning: Precision is ill-defined and being set to 0.0 in labels with no predicted samples. Use `zero_division` parameter to control this behavior.\n",
      "  _warn_prf(average, modifier, f\"{metric.capitalize()} is\", len(result))\n",
      "/home/shashankgsharma/anaconda3/envs/ir_pr/lib/python3.11/site-packages/sklearn/metrics/_classification.py:1509: UndefinedMetricWarning: Precision is ill-defined and being set to 0.0 in labels with no predicted samples. Use `zero_division` parameter to control this behavior.\n",
      "  _warn_prf(average, modifier, f\"{metric.capitalize()} is\", len(result))\n"
     ]
    }
   ],
   "source": [
    "import pandas as pd\n",
    "import numpy as np\n",
    "from sklearn.metrics import accuracy_score, precision_score, recall_score, f1_score, roc_auc_score\n",
    "\n",
    "# from constants import languages\n",
    "sentiment_labels = [1, 0, -1]\n",
    "languages = [\"Hindi\", \"Punjabi\", \"Bengali\"]\n",
    "dataframes = {}\n",
    "\n",
    "for lang in languages:\n",
    "    print()\n",
    "    print(f\"Evaluating for language: {lang}\")\n",
    "    print()\n",
    "\n",
    "    gen_labels = pd.read_csv(f'gen_labels/updated_gen_labels_{lang}.csv')\n",
    "    actual_labels = pd.read_csv(f'actual_labels/actual_labels_{lang}.csv')\n",
    "\n",
    "    gen_labels.drop(columns = ['Unnamed: 0'], inplace = True)\n",
    "    actual_labels.drop(columns = ['Unnamed: 0', 'text'], inplace = True)\n",
    "    # actual_labels['label'] = np.random.choice(sentiment_labels, size = len(actual_labels))\n",
    "\n",
    "    merged_df = pd.merge(gen_labels, actual_labels, on='file', how='inner')\n",
    "    # df.rename(columns={'Unnamed: 0_y': 'label_y'}, inplace=True)\n",
    "    y_true = merged_df['label']  # Actual labels\n",
    "\n",
    "    rows = []\n",
    "\n",
    "    # Calculate evaluation metrics for each model\n",
    "    for model_label in ['lstm_label', 'bert_label', 'blob_label', 'vader_label']:\n",
    "        y_pred = merged_df[model_label]  # Predicted labels\n",
    "\n",
    "        # calculating eval metrics\n",
    "        accuracy = accuracy_score(y_true, y_pred)\n",
    "        precision = precision_score(y_true, y_pred, average='macro', labels=sentiment_labels)\n",
    "        recall = recall_score(y_true, y_pred, average='macro', labels=sentiment_labels)\n",
    "        f1 = f1_score(y_true, y_pred, average='macro', labels=sentiment_labels)\n",
    "        roc_auc = roc_auc_score(y_true, label_binarize(y_pred, classes=sentiment_labels), multi_class='ovo')\n",
    "\n",
    "        rows.append({\n",
    "            'Model': model_label,\n",
    "            'Accuracy': accuracy,\n",
    "            'Precision': precision,\n",
    "            'Recall': recall,\n",
    "            'F1-score': f1,\n",
    "            'ROC AUC': roc_auc\n",
    "        })\n",
    "        \n",
    "        # results\n",
    "        print()\n",
    "        print(f\"Model: {model_label}\")\n",
    "        print(f\"Accuracy: {accuracy:.4f}\")\n",
    "        print(f\"Precision: {precision:.4f}\")\n",
    "        print(f\"Recall: {recall:.4f}\")\n",
    "        print(f\"F1-score: {f1:.4f}\")\n",
    "        print(f\"ROC AUC: {roc_auc:.4f}\")\n",
    "        print()\n",
    "\n",
    "        # saving the results\n",
    "        with open(f'eval/eval_{lang}_{model_label}.txt', 'w') as f:\n",
    "            f.write(f\"Accuracy: {accuracy:.4f}\\n\")\n",
    "            f.write(f\"Precision: {precision:.4f}\\n\")\n",
    "            f.write(f\"Recall: {recall:.4f}\\n\")\n",
    "            f.write(f\"F1-score: {f1:.4f}\\n\")\n",
    "            f.write(f\"ROC AUC: {roc_auc:.4f}\\n\")\n",
    "\n",
    "        print(f\"Evaluation results saved to 'eval/eval_{lang}_{model_label}.txt'\")\n",
    "        print()\n",
    "\n",
    "    dataframes[lang] = pd.DataFrame(rows)"
   ]
  },
  {
   "cell_type": "code",
   "execution_count": 153,
   "id": "00f9672a-ad1e-44d1-9126-b2878f9f99f4",
   "metadata": {},
   "outputs": [
    {
     "data": {
      "text/html": [
       "<div>\n",
       "<style scoped>\n",
       "    .dataframe tbody tr th:only-of-type {\n",
       "        vertical-align: middle;\n",
       "    }\n",
       "\n",
       "    .dataframe tbody tr th {\n",
       "        vertical-align: top;\n",
       "    }\n",
       "\n",
       "    .dataframe thead th {\n",
       "        text-align: right;\n",
       "    }\n",
       "</style>\n",
       "<table border=\"1\" class=\"dataframe\">\n",
       "  <thead>\n",
       "    <tr style=\"text-align: right;\">\n",
       "      <th></th>\n",
       "      <th>Model</th>\n",
       "      <th>Accuracy</th>\n",
       "      <th>Precision</th>\n",
       "      <th>Recall</th>\n",
       "      <th>F1-score</th>\n",
       "      <th>ROC AUC</th>\n",
       "    </tr>\n",
       "  </thead>\n",
       "  <tbody>\n",
       "    <tr>\n",
       "      <th>0</th>\n",
       "      <td>lstm_label</td>\n",
       "      <td>0.323442</td>\n",
       "      <td>0.107814</td>\n",
       "      <td>0.333333</td>\n",
       "      <td>0.162930</td>\n",
       "      <td>0.500000</td>\n",
       "    </tr>\n",
       "    <tr>\n",
       "      <th>1</th>\n",
       "      <td>bert_label</td>\n",
       "      <td>0.302671</td>\n",
       "      <td>0.299494</td>\n",
       "      <td>0.384774</td>\n",
       "      <td>0.287725</td>\n",
       "      <td>0.419719</td>\n",
       "    </tr>\n",
       "    <tr>\n",
       "      <th>2</th>\n",
       "      <td>blob_label</td>\n",
       "      <td>0.261128</td>\n",
       "      <td>0.330936</td>\n",
       "      <td>0.387313</td>\n",
       "      <td>0.249817</td>\n",
       "      <td>0.451305</td>\n",
       "    </tr>\n",
       "    <tr>\n",
       "      <th>3</th>\n",
       "      <td>vader_label</td>\n",
       "      <td>0.314540</td>\n",
       "      <td>0.228549</td>\n",
       "      <td>0.456317</td>\n",
       "      <td>0.285686</td>\n",
       "      <td>0.403175</td>\n",
       "    </tr>\n",
       "  </tbody>\n",
       "</table>\n",
       "</div>"
      ],
      "text/plain": [
       "         Model  Accuracy  Precision    Recall  F1-score   ROC AUC\n",
       "0   lstm_label  0.323442   0.107814  0.333333  0.162930  0.500000\n",
       "1   bert_label  0.302671   0.299494  0.384774  0.287725  0.419719\n",
       "2   blob_label  0.261128   0.330936  0.387313  0.249817  0.451305\n",
       "3  vader_label  0.314540   0.228549  0.456317  0.285686  0.403175"
      ]
     },
     "execution_count": 153,
     "metadata": {},
     "output_type": "execute_result"
    }
   ],
   "source": [
    "dataframes['Hindi']"
   ]
  },
  {
   "cell_type": "code",
   "execution_count": 154,
   "id": "f928f66d-7857-40ea-b67c-7f21268ed0a7",
   "metadata": {},
   "outputs": [
    {
     "data": {
      "text/html": [
       "<div>\n",
       "<style scoped>\n",
       "    .dataframe tbody tr th:only-of-type {\n",
       "        vertical-align: middle;\n",
       "    }\n",
       "\n",
       "    .dataframe tbody tr th {\n",
       "        vertical-align: top;\n",
       "    }\n",
       "\n",
       "    .dataframe thead th {\n",
       "        text-align: right;\n",
       "    }\n",
       "</style>\n",
       "<table border=\"1\" class=\"dataframe\">\n",
       "  <thead>\n",
       "    <tr style=\"text-align: right;\">\n",
       "      <th></th>\n",
       "      <th>Model</th>\n",
       "      <th>Accuracy</th>\n",
       "      <th>Precision</th>\n",
       "      <th>Recall</th>\n",
       "      <th>F1-score</th>\n",
       "      <th>ROC AUC</th>\n",
       "    </tr>\n",
       "  </thead>\n",
       "  <tbody>\n",
       "    <tr>\n",
       "      <th>0</th>\n",
       "      <td>lstm_label</td>\n",
       "      <td>0.384868</td>\n",
       "      <td>0.128289</td>\n",
       "      <td>0.333333</td>\n",
       "      <td>0.185273</td>\n",
       "      <td>0.500000</td>\n",
       "    </tr>\n",
       "    <tr>\n",
       "      <th>1</th>\n",
       "      <td>bert_label</td>\n",
       "      <td>0.371711</td>\n",
       "      <td>0.349085</td>\n",
       "      <td>0.395926</td>\n",
       "      <td>0.326433</td>\n",
       "      <td>0.434124</td>\n",
       "    </tr>\n",
       "    <tr>\n",
       "      <th>2</th>\n",
       "      <td>blob_label</td>\n",
       "      <td>0.299342</td>\n",
       "      <td>0.285347</td>\n",
       "      <td>0.372710</td>\n",
       "      <td>0.262789</td>\n",
       "      <td>0.459554</td>\n",
       "    </tr>\n",
       "    <tr>\n",
       "      <th>3</th>\n",
       "      <td>vader_label</td>\n",
       "      <td>0.319079</td>\n",
       "      <td>0.554850</td>\n",
       "      <td>0.362739</td>\n",
       "      <td>0.268088</td>\n",
       "      <td>0.481883</td>\n",
       "    </tr>\n",
       "  </tbody>\n",
       "</table>\n",
       "</div>"
      ],
      "text/plain": [
       "         Model  Accuracy  Precision    Recall  F1-score   ROC AUC\n",
       "0   lstm_label  0.384868   0.128289  0.333333  0.185273  0.500000\n",
       "1   bert_label  0.371711   0.349085  0.395926  0.326433  0.434124\n",
       "2   blob_label  0.299342   0.285347  0.372710  0.262789  0.459554\n",
       "3  vader_label  0.319079   0.554850  0.362739  0.268088  0.481883"
      ]
     },
     "execution_count": 154,
     "metadata": {},
     "output_type": "execute_result"
    }
   ],
   "source": [
    "dataframes['Bengali']"
   ]
  },
  {
   "cell_type": "code",
   "execution_count": 155,
   "id": "975d61b8-89d8-4f7d-bf96-432f24b5f409",
   "metadata": {},
   "outputs": [
    {
     "data": {
      "text/html": [
       "<div>\n",
       "<style scoped>\n",
       "    .dataframe tbody tr th:only-of-type {\n",
       "        vertical-align: middle;\n",
       "    }\n",
       "\n",
       "    .dataframe tbody tr th {\n",
       "        vertical-align: top;\n",
       "    }\n",
       "\n",
       "    .dataframe thead th {\n",
       "        text-align: right;\n",
       "    }\n",
       "</style>\n",
       "<table border=\"1\" class=\"dataframe\">\n",
       "  <thead>\n",
       "    <tr style=\"text-align: right;\">\n",
       "      <th></th>\n",
       "      <th>Model</th>\n",
       "      <th>Accuracy</th>\n",
       "      <th>Precision</th>\n",
       "      <th>Recall</th>\n",
       "      <th>F1-score</th>\n",
       "      <th>ROC AUC</th>\n",
       "    </tr>\n",
       "  </thead>\n",
       "  <tbody>\n",
       "    <tr>\n",
       "      <th>0</th>\n",
       "      <td>lstm_label</td>\n",
       "      <td>0.387218</td>\n",
       "      <td>0.240389</td>\n",
       "      <td>0.335256</td>\n",
       "      <td>0.200790</td>\n",
       "      <td>0.498558</td>\n",
       "    </tr>\n",
       "    <tr>\n",
       "      <th>1</th>\n",
       "      <td>bert_label</td>\n",
       "      <td>0.353383</td>\n",
       "      <td>0.341116</td>\n",
       "      <td>0.414502</td>\n",
       "      <td>0.328720</td>\n",
       "      <td>0.411357</td>\n",
       "    </tr>\n",
       "    <tr>\n",
       "      <th>2</th>\n",
       "      <td>blob_label</td>\n",
       "      <td>0.330827</td>\n",
       "      <td>0.324638</td>\n",
       "      <td>0.444735</td>\n",
       "      <td>0.298836</td>\n",
       "      <td>0.397013</td>\n",
       "    </tr>\n",
       "    <tr>\n",
       "      <th>3</th>\n",
       "      <td>vader_label</td>\n",
       "      <td>0.357143</td>\n",
       "      <td>0.242777</td>\n",
       "      <td>0.442949</td>\n",
       "      <td>0.297097</td>\n",
       "      <td>0.415385</td>\n",
       "    </tr>\n",
       "  </tbody>\n",
       "</table>\n",
       "</div>"
      ],
      "text/plain": [
       "         Model  Accuracy  Precision    Recall  F1-score   ROC AUC\n",
       "0   lstm_label  0.387218   0.240389  0.335256  0.200790  0.498558\n",
       "1   bert_label  0.353383   0.341116  0.414502  0.328720  0.411357\n",
       "2   blob_label  0.330827   0.324638  0.444735  0.298836  0.397013\n",
       "3  vader_label  0.357143   0.242777  0.442949  0.297097  0.415385"
      ]
     },
     "execution_count": 155,
     "metadata": {},
     "output_type": "execute_result"
    }
   ],
   "source": [
    "dataframes['Punjabi']"
   ]
  },
  {
   "cell_type": "code",
   "execution_count": null,
   "id": "296e9501-ad33-4657-9a42-2091cc2c5bee",
   "metadata": {},
   "outputs": [],
   "source": []
  }
 ],
 "metadata": {
  "kernelspec": {
   "display_name": "ir_pr",
   "language": "python",
   "name": "ir_pr"
  },
  "language_info": {
   "codemirror_mode": {
    "name": "ipython",
    "version": 3
   },
   "file_extension": ".py",
   "mimetype": "text/x-python",
   "name": "python",
   "nbconvert_exporter": "python",
   "pygments_lexer": "ipython3",
   "version": "3.11.7"
  }
 },
 "nbformat": 4,
 "nbformat_minor": 5
}
